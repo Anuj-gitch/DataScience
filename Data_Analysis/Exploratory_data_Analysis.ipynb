{
  "nbformat": 4,
  "nbformat_minor": 0,
  "metadata": {
    "colab": {
      "name": "Exploratory_data_Analysis.ipynb",
      "provenance": [],
      "toc_visible": true,
      "mount_file_id": "1fPeceSQWuXNTe-mA4dq16r87yLXGT4jz",
      "authorship_tag": "ABX9TyOVqc9VISDGPIrqh1vKwMMr",
      "include_colab_link": true
    },
    "kernelspec": {
      "name": "python3",
      "display_name": "Python 3"
    }
  },
  "cells": [
    {
      "cell_type": "markdown",
      "metadata": {
        "id": "view-in-github",
        "colab_type": "text"
      },
      "source": [
        "<a href=\"https://colab.research.google.com/github/Anuj-gitch/DataScience/blob/main/Data_Analysis/Exploratory_data_Analysis.ipynb\" target=\"_parent\"><img src=\"https://colab.research.google.com/assets/colab-badge.svg\" alt=\"Open In Colab\"/></a>"
      ]
    },
    {
      "cell_type": "markdown",
      "metadata": {
        "id": "1XD6iR_f7fBY"
      },
      "source": [
        "# Exploratory Data Analysis\n",
        "\n",
        "How do we get from data to answers? Exploratory data analysis is a process for exploring datasets, answering questions, and visualizing results. This course presents the tools you need to clean and validate data, to visualize distributions and relationships between variables, and to use regression models to predict and explain. You'll explore data related to demographics and health, including the National Survey of Family Growth and the General Social Survey. But the methods you learn apply to all areas of science, engineering, and business. You'll use Pandas, a powerful library for working with data, and other core Python libraries including NumPy and SciPy, StatsModels for regression, and Matplotlib for visualization. With these tools and skills, you will be prepared to work with real data, make discoveries, and present compelling results."
      ]
    },
    {
      "cell_type": "markdown",
      "metadata": {
        "id": "SU9oyjq58v2W"
      },
      "source": [
        "## Read, clean, and validate\n",
        "\n",
        "The first step of almost any data project is to read the data, check for errors and special cases, and prepare data for analysis. This is exactly what you'll do in this chapter, while working with a dataset obtained from the National Survey of Family Growth.\n",
        "\n"
      ]
    },
    {
      "cell_type": "markdown",
      "metadata": {
        "id": "TissIDAw9dEQ"
      },
      "source": [
        "### Read the codebook\n",
        "When you work with datasets like the NSFG, it is important to read the documentation carefully. If you interpret a variable incorrectly, you can generate nonsense results and never realize it. So, before we start coding, I want to make sure you are familiar with the NSFG codebook, which describes every variable.\n",
        "\n",
        "CookBook : https://www.icpsr.umich.edu/icpsradmin/nsfg/index?studyNumber=9999\n",
        "\n",
        "* Type \"birthweight\" in the search field, UNSELECT the checkbox that says \"Search variable name only\", and press \"Search\". You should see a list of variables related to birthweight.\n",
        "\n",
        "* Click on \"BIRTHWGT_OZ1\" and read the documentation of this variable. For your convenience, it is also displayed here:"
      ]
    },
    {
      "cell_type": "markdown",
      "metadata": {
        "id": "XTMrChaG94rN"
      },
      "source": [
        "### Exploring the NSFG data\n",
        "To get the number of rows and columns in a DataFrame, you can read its shape attribute.\n",
        "\n",
        "To get the column names, you can read the columns attribute. The result is an Index, which is a Pandas data structure that is similar to a list. Let's begin exploring the NSFG data! It has been pre-loaded for you into a DataFrame called nsfg."
      ]
    },
    {
      "cell_type": "markdown",
      "metadata": {
        "id": "VzponN9L-LsZ"
      },
      "source": [
        "__Calculate the number of rows and columns in the DataFrame nsfg.__"
      ]
    },
    {
      "cell_type": "code",
      "metadata": {
        "id": "wKWTLZlC-Z2W"
      },
      "source": [
        "import pandas as pd\n",
        "import numpy as np"
      ],
      "execution_count": 1,
      "outputs": []
    },
    {
      "cell_type": "code",
      "metadata": {
        "id": "WDUNdLLz-dR7"
      },
      "source": [
        "nsfg = pd.read_hdf(\"/content/drive/My Drive/DataCamp_DataScience/Eploratory Data Analysis/nsfg.hdf5\")"
      ],
      "execution_count": 2,
      "outputs": []
    },
    {
      "cell_type": "code",
      "metadata": {
        "id": "97N23Uum-oqC",
        "colab": {
          "base_uri": "https://localhost:8080/"
        },
        "outputId": "1a25a733-4cc9-458e-de5b-c0c298ace3fa"
      },
      "source": [
        "nsfg.shape"
      ],
      "execution_count": 3,
      "outputs": [
        {
          "output_type": "execute_result",
          "data": {
            "text/plain": [
              "(9358, 10)"
            ]
          },
          "metadata": {
            "tags": []
          },
          "execution_count": 3
        }
      ]
    },
    {
      "cell_type": "markdown",
      "metadata": {
        "id": "rzNooS6r-pbh"
      },
      "source": [
        "__Display the names of the columns in nsfg.__"
      ]
    },
    {
      "cell_type": "code",
      "metadata": {
        "id": "o2Pix1oS_pwS",
        "colab": {
          "base_uri": "https://localhost:8080/"
        },
        "outputId": "fc3f1a59-e995-4ff1-e4ed-3c2fb52d8d3d"
      },
      "source": [
        "nsfg.columns"
      ],
      "execution_count": 4,
      "outputs": [
        {
          "output_type": "execute_result",
          "data": {
            "text/plain": [
              "Index(['caseid', 'outcome', 'birthwgt_lb1', 'birthwgt_oz1', 'prglngth',\n",
              "       'nbrnaliv', 'agecon', 'agepreg', 'hpagelb', 'wgt2013_2015'],\n",
              "      dtype='object')"
            ]
          },
          "metadata": {
            "tags": []
          },
          "execution_count": 4
        }
      ]
    },
    {
      "cell_type": "markdown",
      "metadata": {
        "id": "ezGkKYtH_1ls"
      },
      "source": [
        "__Select the column 'birthwgt_oz1' and assign it to a new variable called ounces.__"
      ]
    },
    {
      "cell_type": "code",
      "metadata": {
        "id": "jBuYeI5xBXhb"
      },
      "source": [
        "ounces = nsfg.birthwgt_oz1"
      ],
      "execution_count": 5,
      "outputs": []
    },
    {
      "cell_type": "markdown",
      "metadata": {
        "id": "G7K5FzOkBbSX"
      },
      "source": [
        "__Display the first 5 elements of ounces.__"
      ]
    },
    {
      "cell_type": "code",
      "metadata": {
        "id": "ZWu3oMbUBfdK",
        "colab": {
          "base_uri": "https://localhost:8080/"
        },
        "outputId": "3d54f5c0-5ce1-4ca2-94b5-07d367e7d180"
      },
      "source": [
        "ounces.head()"
      ],
      "execution_count": 6,
      "outputs": [
        {
          "output_type": "execute_result",
          "data": {
            "text/plain": [
              "0     4.0\n",
              "1    12.0\n",
              "2     4.0\n",
              "3     NaN\n",
              "4    13.0\n",
              "Name: birthwgt_oz1, dtype: float64"
            ]
          },
          "metadata": {
            "tags": []
          },
          "execution_count": 6
        }
      ]
    },
    {
      "cell_type": "markdown",
      "metadata": {
        "id": "ALLlg0xaDN8q"
      },
      "source": [
        "Nice job! Remember these attributes and methods; they are useful when you are exploring a new dataset. It's now time to check for errors and prepare the data for analysis. Keep going!"
      ]
    },
    {
      "cell_type": "markdown",
      "metadata": {
        "id": "GwwBzxTzDRPO"
      },
      "source": [
        "### Validate a variable\n",
        "\n",
        "    In the NSFG dataset, the variable 'outcome' encodes the outcome of each pregnancy as shown below:\n",
        "\n",
        "    value\tlabel\n",
        "    1\tLive birth\n",
        "    2\tInduced abortion\n",
        "    3\tStillbirth\n",
        "    4\tMiscarriage\n",
        "    5\tEctopic pregnancy\n",
        "    6\tCurrent pregnancy\n",
        "    The nsfg DataFrame has been pre-loaded for you. \n",
        "    Explore it in the IPython Shell and use the methods Allen showed you in the video to answer the following question: \n",
        "    How many pregnancies in this dataset ended with a live birth?"
      ]
    },
    {
      "cell_type": "code",
      "metadata": {
        "id": "WpABdGvBDeXR",
        "colab": {
          "base_uri": "https://localhost:8080/"
        },
        "outputId": "abd1c108-266c-44e4-8e26-e9307b391d88"
      },
      "source": [
        "sum(nsfg.outcome == 1)"
      ],
      "execution_count": 7,
      "outputs": [
        {
          "output_type": "execute_result",
          "data": {
            "text/plain": [
              "6489"
            ]
          },
          "metadata": {
            "tags": []
          },
          "execution_count": 7
        }
      ]
    },
    {
      "cell_type": "markdown",
      "metadata": {
        "id": "yh0mptgKECBx"
      },
      "source": [
        "### Clean a variable\n",
        "In the NSFG dataset, the variable 'nbrnaliv' records the number of babies born alive at the end of a pregnancy.\n",
        "\n",
        "If you use .value_counts() to view the responses, you'll see that the value 8 appears once, and if you consult the codebook, you'll see that this value indicates that the respondent refused to answer the question.\n",
        "\n",
        "Your job in this exercise is to replace this value with np.nan. Recall from the video how Allen replaced the values 98 and 99 in the ounces column using the .replace() method:\n",
        "\n",
        "    ounces.replace([98, 99], np.nan, inplace=True)"
      ]
    },
    {
      "cell_type": "code",
      "metadata": {
        "id": "SvrVpbC4EpxV",
        "colab": {
          "base_uri": "https://localhost:8080/"
        },
        "outputId": "5cf4c528-a19d-4ce4-9630-1e22cc44a93c"
      },
      "source": [
        "nsfg.nbrnaliv.value_counts()"
      ],
      "execution_count": 8,
      "outputs": [
        {
          "output_type": "execute_result",
          "data": {
            "text/plain": [
              "1.0    6379\n",
              "2.0     100\n",
              "3.0       5\n",
              "8.0       1\n",
              "Name: nbrnaliv, dtype: int64"
            ]
          },
          "metadata": {
            "tags": []
          },
          "execution_count": 8
        }
      ]
    },
    {
      "cell_type": "markdown",
      "metadata": {
        "id": "RDYeFez3FKjy"
      },
      "source": [
        "* __In the 'nbrnaliv' column, replace the value 8, in place, with the special value NaN.__\n",
        "\n",
        "* __Confirm that the value 8 no longer appears in this column by printing the values and their frequencies.__"
      ]
    },
    {
      "cell_type": "code",
      "metadata": {
        "id": "ZsU47PljFllN"
      },
      "source": [
        "nsfg.nbrnaliv.replace([8],np.nan, inplace = True)"
      ],
      "execution_count": 9,
      "outputs": []
    },
    {
      "cell_type": "code",
      "metadata": {
        "id": "jGLcUuUNGMJv",
        "colab": {
          "base_uri": "https://localhost:8080/"
        },
        "outputId": "498741e8-042b-443b-d9e9-c3220ebce39a"
      },
      "source": [
        "nsfg.nbrnaliv.value_counts()"
      ],
      "execution_count": 10,
      "outputs": [
        {
          "output_type": "execute_result",
          "data": {
            "text/plain": [
              "1.0    6379\n",
              "2.0     100\n",
              "3.0       5\n",
              "Name: nbrnaliv, dtype: int64"
            ]
          },
          "metadata": {
            "tags": []
          },
          "execution_count": 10
        }
      ]
    },
    {
      "cell_type": "markdown",
      "metadata": {
        "id": "YN6v32hXGVTh"
      },
      "source": [
        "Excellent. If you are careful about this kind of cleaning and validation, it will save time (in the long run) and avoid potentially serious errors."
      ]
    },
    {
      "cell_type": "markdown",
      "metadata": {
        "id": "5XRDXPuMGdrv"
      },
      "source": [
        "### Compute a variable\n",
        "\n",
        "For each pregnancy in the NSFG dataset, the variable 'agecon' encodes the respondent's age at conception, and 'agepreg' the respondent's age at the end of the pregnancy.\n",
        "\n",
        "Both variables are recorded as integers with two implicit decimal places, so the value 2575 means that the respondent's age was 25.75."
      ]
    },
    {
      "cell_type": "markdown",
      "metadata": {
        "id": "j8y5EOYmVFlu"
      },
      "source": [
        "__Select 'agecon' and 'agepreg', divide them by 100, and assign them to the local variables agecon and agepreg__"
      ]
    },
    {
      "cell_type": "code",
      "metadata": {
        "id": "djKRklQ7VQOG"
      },
      "source": [
        "agecon = nsfg['agecon'] / 100\n",
        "agepreg = nsfg['agepreg'] / 100"
      ],
      "execution_count": 11,
      "outputs": []
    },
    {
      "cell_type": "code",
      "metadata": {
        "id": "r-vGxGkEVYlj",
        "colab": {
          "base_uri": "https://localhost:8080/"
        },
        "outputId": "dccea966-e508-46cb-94c4-f5462eb21516"
      },
      "source": [
        "agecon"
      ],
      "execution_count": 12,
      "outputs": [
        {
          "output_type": "execute_result",
          "data": {
            "text/plain": [
              "0       20.00\n",
              "1       22.91\n",
              "2       32.41\n",
              "3       36.50\n",
              "4       21.91\n",
              "        ...  \n",
              "9353    17.58\n",
              "9354    17.41\n",
              "9355    20.91\n",
              "9356    34.50\n",
              "9357    36.83\n",
              "Name: agecon, Length: 9358, dtype: float64"
            ]
          },
          "metadata": {
            "tags": []
          },
          "execution_count": 12
        }
      ]
    },
    {
      "cell_type": "code",
      "metadata": {
        "id": "UxllzTX2VZkI",
        "colab": {
          "base_uri": "https://localhost:8080/"
        },
        "outputId": "1a6c6422-26f1-4da9-e94a-e86923272465"
      },
      "source": [
        "agepreg"
      ],
      "execution_count": 13,
      "outputs": [
        {
          "output_type": "execute_result",
          "data": {
            "text/plain": [
              "0       20.75\n",
              "1       23.58\n",
              "2       33.08\n",
              "3         NaN\n",
              "4       22.66\n",
              "        ...  \n",
              "9353    18.25\n",
              "9354    18.16\n",
              "9355    21.58\n",
              "9356    35.25\n",
              "9357    37.58\n",
              "Name: agepreg, Length: 9358, dtype: float64"
            ]
          },
          "metadata": {
            "tags": []
          },
          "execution_count": 13
        }
      ]
    },
    {
      "cell_type": "markdown",
      "metadata": {
        "id": "G_x_HjUyVblT"
      },
      "source": [
        "__Compute the difference, which is an estimate of the duration of the pregnancy. Keep in mind that for each pregnancy, agepreg will be larger than agecon.__"
      ]
    },
    {
      "cell_type": "code",
      "metadata": {
        "id": "AdPx7m5-Wi34"
      },
      "source": [
        "preg_length = agepreg - agecon"
      ],
      "execution_count": 14,
      "outputs": []
    },
    {
      "cell_type": "code",
      "metadata": {
        "id": "GGHhn47cWn11",
        "colab": {
          "base_uri": "https://localhost:8080/"
        },
        "outputId": "7f4c74e1-ed11-46b1-85a2-a0b82359595c"
      },
      "source": [
        "preg_length"
      ],
      "execution_count": 15,
      "outputs": [
        {
          "output_type": "execute_result",
          "data": {
            "text/plain": [
              "0       0.75\n",
              "1       0.67\n",
              "2       0.67\n",
              "3        NaN\n",
              "4       0.75\n",
              "        ... \n",
              "9353    0.67\n",
              "9354    0.75\n",
              "9355    0.67\n",
              "9356    0.75\n",
              "9357    0.75\n",
              "Length: 9358, dtype: float64"
            ]
          },
          "metadata": {
            "tags": []
          },
          "execution_count": 15
        }
      ]
    },
    {
      "cell_type": "code",
      "metadata": {
        "id": "TFg796LNWpHA",
        "colab": {
          "base_uri": "https://localhost:8080/"
        },
        "outputId": "7cde50da-8834-4189-ed08-22955eadbbb4"
      },
      "source": [
        "preg_length.describe()"
      ],
      "execution_count": 16,
      "outputs": [
        {
          "output_type": "execute_result",
          "data": {
            "text/plain": [
              "count    9109.000000\n",
              "mean        0.552069\n",
              "std         0.271479\n",
              "min         0.000000\n",
              "25%         0.250000\n",
              "50%         0.670000\n",
              "75%         0.750000\n",
              "max         0.920000\n",
              "dtype: float64"
            ]
          },
          "metadata": {
            "tags": []
          },
          "execution_count": 16
        }
      ]
    },
    {
      "cell_type": "markdown",
      "metadata": {
        "id": "0gjSzWgmWwQe"
      },
      "source": [
        " A variable that's computed from other variables is sometimes called a 'recode'. "
      ]
    },
    {
      "cell_type": "markdown",
      "metadata": {
        "id": "qNOURFCqXZn2"
      },
      "source": [
        "### Make a histogram\n",
        "Histograms are one of the most useful tools in exploratory data analysis. They quickly give you an overview of the distribution of a variable, that is, what values the variable can have, and how many times each value appears.\n",
        "\n",
        "As we saw in a previous exercise, the NSFG dataset includes a variable 'agecon' that records age at conception for each pregnancy. Here, you're going to plot a histogram of this variable. You'll use the bins parameter that you saw in the video, and also a new parameter - histtype - which you can read more about here in the matplotlib documentation. Learning how to read documentation is an essential skill. If you want to learn more about matplotlib, you can check out DataCamp's Introduction to Matplotlib course."
      ]
    },
    {
      "cell_type": "markdown",
      "metadata": {
        "id": "z7aB432CXx-O"
      },
      "source": [
        "__Plot a histogram of agecon with 20 bins.__"
      ]
    },
    {
      "cell_type": "code",
      "metadata": {
        "id": "mcX5GnytX_XH"
      },
      "source": [
        "import matplotlib.pyplot as plt\n",
        "import seaborn as sns"
      ],
      "execution_count": 17,
      "outputs": []
    },
    {
      "cell_type": "code",
      "metadata": {
        "id": "8F9mT53LYIBU",
        "colab": {
          "base_uri": "https://localhost:8080/",
          "height": 0
        },
        "outputId": "632b536b-d131-40f8-e89e-e75a70a85879"
      },
      "source": [
        "plt.hist(agecon, bins = 20)\n",
        "plt.xlabel('Age of conception')\n",
        "plt.ylabel('Number of pregnancies')\n",
        "plt.show()"
      ],
      "execution_count": 18,
      "outputs": [
        {
          "output_type": "display_data",
          "data": {
            "image/png": "[encoded data removed]",
            "text/plain": [
              "<Figure size 432x288 with 1 Axes>"
            ]
          },
          "metadata": {
            "tags": [],
            "needs_background": "light"
          }
        }
      ]
    },
    {
      "cell_type": "markdown",
      "metadata": {
        "id": "yUCnGY94YSbz"
      },
      "source": [
        "__Adapt your code to make an unfilled histogram by setting the parameter histtype to be 'step'.__"
      ]
    },
    {
      "cell_type": "code",
      "metadata": {
        "id": "2LCTNCd9Ypvd",
        "colab": {
          "base_uri": "https://localhost:8080/",
          "height": 0
        },
        "outputId": "d0d979c7-e21a-4428-f1a8-17c0983b8f21"
      },
      "source": [
        "plt.hist(agecon, bins = 20, histtype= 'step')\n",
        "\n",
        "plt.xlabel('Age of conception')\n",
        "plt.ylabel('Number of pregnancies')\n",
        "\n",
        "plt.show()"
      ],
      "execution_count": 19,
      "outputs": [
        {
          "output_type": "display_data",
          "data": {
            "image/png": "[encoded data removed]",
            "text/plain": [
              "<Figure size 432x288 with 1 Axes>"
            ]
          },
          "metadata": {
            "tags": [],
            "needs_background": "light"
          }
        }
      ]
    },
    {
      "cell_type": "markdown",
      "metadata": {
        "id": "JX22qdqvYvqh"
      },
      "source": [
        "###Compute birth weight\n",
        "    Now let's pull together the steps in this chapter to compute the average birth weight for full-term babies.\n",
        "\n",
        "    I've provided a function, resample_rows_weighted, that takes the NSFG data and resamples it using the sampling weights in wgt2013_2015. \n",
        "    The result is a sample that is representative of the U.S. population.\n",
        "\n",
        "    Then I extract birthwgt_lb1 and birthwgt_oz1, replace special codes with NaN, and compute total birth weight in pounds, birth_weight.\n",
        "\n",
        "    # Resample the data\n",
        "    nsfg = resample_rows_weighted(nsfg, 'wgt2013_2015')\n",
        "\n",
        "    # Clean the weight variables\n",
        "    pounds = nsfg['birthwgt_lb1'].replace([98, 99], np.nan)\n",
        "    ounces = nsfg['birthwgt_oz1'].replace([98, 99], np.nan)\n",
        "\n",
        "    # Compute total birth weight\n",
        "    birth_weight = pounds + ounces/16"
      ]
    },
    {
      "cell_type": "code",
      "metadata": {
        "id": "PwpQ0Cj9Y54L",
        "colab": {
          "base_uri": "https://localhost:8080/",
          "height": 0
        },
        "outputId": "1616e307-3722-45f1-d855-34a3dd840448"
      },
      "source": [
        "nsfg"
      ],
      "execution_count": 20,
      "outputs": [
        {
          "output_type": "execute_result",
          "data": {
            "text/html": [
              "<div>\n",
              "<style scoped>\n",
              "    .dataframe tbody tr th:only-of-type {\n",
              "        vertical-align: middle;\n",
              "    }\n",
              "\n",
              "    .dataframe tbody tr th {\n",
              "        vertical-align: top;\n",
              "    }\n",
              "\n",
              "    .dataframe thead th {\n",
              "        text-align: right;\n",
              "    }\n",
              "</style>\n",
              "<table border=\"1\" class=\"dataframe\">\n",
              "  <thead>\n",
              "    <tr style=\"text-align: right;\">\n",
              "      <th></th>\n",
              "      <th>caseid</th>\n",
              "      <th>outcome</th>\n",
              "      <th>birthwgt_lb1</th>\n",
              "      <th>birthwgt_oz1</th>\n",
              "      <th>prglngth</th>\n",
              "      <th>nbrnaliv</th>\n",
              "      <th>agecon</th>\n",
              "      <th>agepreg</th>\n",
              "      <th>hpagelb</th>\n",
              "      <th>wgt2013_2015</th>\n",
              "    </tr>\n",
              "  </thead>\n",
              "  <tbody>\n",
              "    <tr>\n",
              "      <th>0</th>\n",
              "      <td>60418</td>\n",
              "      <td>1</td>\n",
              "      <td>5.0</td>\n",
              "      <td>4.0</td>\n",
              "      <td>40</td>\n",
              "      <td>1.0</td>\n",
              "      <td>2000</td>\n",
              "      <td>2075.0</td>\n",
              "      <td>22.0</td>\n",
              "      <td>3554.964843</td>\n",
              "    </tr>\n",
              "    <tr>\n",
              "      <th>1</th>\n",
              "      <td>60418</td>\n",
              "      <td>1</td>\n",
              "      <td>4.0</td>\n",
              "      <td>12.0</td>\n",
              "      <td>36</td>\n",
              "      <td>1.0</td>\n",
              "      <td>2291</td>\n",
              "      <td>2358.0</td>\n",
              "      <td>25.0</td>\n",
              "      <td>3554.964843</td>\n",
              "    </tr>\n",
              "    <tr>\n",
              "      <th>2</th>\n",
              "      <td>60418</td>\n",
              "      <td>1</td>\n",
              "      <td>5.0</td>\n",
              "      <td>4.0</td>\n",
              "      <td>36</td>\n",
              "      <td>1.0</td>\n",
              "      <td>3241</td>\n",
              "      <td>3308.0</td>\n",
              "      <td>52.0</td>\n",
              "      <td>3554.964843</td>\n",
              "    </tr>\n",
              "    <tr>\n",
              "      <th>3</th>\n",
              "      <td>60419</td>\n",
              "      <td>6</td>\n",
              "      <td>NaN</td>\n",
              "      <td>NaN</td>\n",
              "      <td>33</td>\n",
              "      <td>NaN</td>\n",
              "      <td>3650</td>\n",
              "      <td>NaN</td>\n",
              "      <td>NaN</td>\n",
              "      <td>2484.535358</td>\n",
              "    </tr>\n",
              "    <tr>\n",
              "      <th>4</th>\n",
              "      <td>60420</td>\n",
              "      <td>1</td>\n",
              "      <td>8.0</td>\n",
              "      <td>13.0</td>\n",
              "      <td>41</td>\n",
              "      <td>1.0</td>\n",
              "      <td>2191</td>\n",
              "      <td>2266.0</td>\n",
              "      <td>24.0</td>\n",
              "      <td>2903.782914</td>\n",
              "    </tr>\n",
              "    <tr>\n",
              "      <th>...</th>\n",
              "      <td>...</td>\n",
              "      <td>...</td>\n",
              "      <td>...</td>\n",
              "      <td>...</td>\n",
              "      <td>...</td>\n",
              "      <td>...</td>\n",
              "      <td>...</td>\n",
              "      <td>...</td>\n",
              "      <td>...</td>\n",
              "      <td>...</td>\n",
              "    </tr>\n",
              "    <tr>\n",
              "      <th>9353</th>\n",
              "      <td>70615</td>\n",
              "      <td>1</td>\n",
              "      <td>4.0</td>\n",
              "      <td>11.0</td>\n",
              "      <td>35</td>\n",
              "      <td>1.0</td>\n",
              "      <td>1758</td>\n",
              "      <td>1825.0</td>\n",
              "      <td>22.0</td>\n",
              "      <td>8117.554461</td>\n",
              "    </tr>\n",
              "    <tr>\n",
              "      <th>9354</th>\n",
              "      <td>70616</td>\n",
              "      <td>1</td>\n",
              "      <td>8.0</td>\n",
              "      <td>7.0</td>\n",
              "      <td>42</td>\n",
              "      <td>1.0</td>\n",
              "      <td>1741</td>\n",
              "      <td>1816.0</td>\n",
              "      <td>18.0</td>\n",
              "      <td>6842.240477</td>\n",
              "    </tr>\n",
              "    <tr>\n",
              "      <th>9355</th>\n",
              "      <td>70616</td>\n",
              "      <td>1</td>\n",
              "      <td>7.0</td>\n",
              "      <td>6.0</td>\n",
              "      <td>36</td>\n",
              "      <td>1.0</td>\n",
              "      <td>2091</td>\n",
              "      <td>2158.0</td>\n",
              "      <td>23.0</td>\n",
              "      <td>6842.240477</td>\n",
              "    </tr>\n",
              "    <tr>\n",
              "      <th>9356</th>\n",
              "      <td>70619</td>\n",
              "      <td>1</td>\n",
              "      <td>8.0</td>\n",
              "      <td>3.0</td>\n",
              "      <td>41</td>\n",
              "      <td>1.0</td>\n",
              "      <td>3450</td>\n",
              "      <td>3525.0</td>\n",
              "      <td>31.0</td>\n",
              "      <td>3856.253532</td>\n",
              "    </tr>\n",
              "    <tr>\n",
              "      <th>9357</th>\n",
              "      <td>70619</td>\n",
              "      <td>1</td>\n",
              "      <td>8.0</td>\n",
              "      <td>5.0</td>\n",
              "      <td>40</td>\n",
              "      <td>1.0</td>\n",
              "      <td>3683</td>\n",
              "      <td>3758.0</td>\n",
              "      <td>34.0</td>\n",
              "      <td>3856.253532</td>\n",
              "    </tr>\n",
              "  </tbody>\n",
              "</table>\n",
              "<p>9358 rows × 10 columns</p>\n",
              "</div>"
            ],
            "text/plain": [
              "      caseid  outcome  birthwgt_lb1  ...  agepreg  hpagelb  wgt2013_2015\n",
              "0      60418        1           5.0  ...   2075.0     22.0   3554.964843\n",
              "1      60418        1           4.0  ...   2358.0     25.0   3554.964843\n",
              "2      60418        1           5.0  ...   3308.0     52.0   3554.964843\n",
              "3      60419        6           NaN  ...      NaN      NaN   2484.535358\n",
              "4      60420        1           8.0  ...   2266.0     24.0   2903.782914\n",
              "...      ...      ...           ...  ...      ...      ...           ...\n",
              "9353   70615        1           4.0  ...   1825.0     22.0   8117.554461\n",
              "9354   70616        1           8.0  ...   1816.0     18.0   6842.240477\n",
              "9355   70616        1           7.0  ...   2158.0     23.0   6842.240477\n",
              "9356   70619        1           8.0  ...   3525.0     31.0   3856.253532\n",
              "9357   70619        1           8.0  ...   3758.0     34.0   3856.253532\n",
              "\n",
              "[9358 rows x 10 columns]"
            ]
          },
          "metadata": {
            "tags": []
          },
          "execution_count": 20
        }
      ]
    },
    {
      "cell_type": "markdown",
      "metadata": {
        "id": "txxx-39olP1C"
      },
      "source": [
        "* Make a Boolean Series called full_term that is true for babies with 'prglngth' greater than or equal to 37 weeks.\n",
        "\n",
        "* Use full_term and birth_weight to select birth weight in pounds for full-term babies. Store the result in full_term_weight.\n",
        "\n",
        "* Compute the mean weight of full-term babies."
      ]
    },
    {
      "cell_type": "code",
      "metadata": {
        "id": "G7dCWG8sbhNT"
      },
      "source": [
        "def resample_rows_weighted(df, column='finalwgt', seed=17):\n",
        "  \"\"\"Resamples a DataFrame using probabilities proportional to given column.\n",
        "  df: DataFrame\n",
        "  column: string column name to use as weights \n",
        "  returns: DataFrame\"\"\"\n",
        "  np.random.seed(seed)\n",
        "  weights = df[column] / sum(df[column])\n",
        "  indices = np.random.choice(df.index, len(df), replace=True, p=weights)\n",
        "  sample = df.loc[indices]\n",
        "  return sample"
      ],
      "execution_count": 21,
      "outputs": []
    },
    {
      "cell_type": "code",
      "metadata": {
        "id": "wwydNwr9eNVK"
      },
      "source": [
        "# Resample the data\n",
        "nsfg = resample_rows_weighted(nsfg, 'wgt2013_2015')\n",
        "\n",
        "# Clean the weight variables\n",
        "pounds = nsfg['birthwgt_lb1'].replace([98, 99], np.nan)\n",
        "ounces = nsfg['birthwgt_oz1'].replace([98, 99], np.nan)\n",
        "\n",
        "# Compute total birth weight\n",
        "birth_weight = pounds + ounces/16"
      ],
      "execution_count": 22,
      "outputs": []
    },
    {
      "cell_type": "code",
      "metadata": {
        "id": "OSI-0UFBfCua",
        "colab": {
          "base_uri": "https://localhost:8080/"
        },
        "outputId": "fbbbecfa-2401-4e26-add8-b87d0f37c736"
      },
      "source": [
        "# Create a Boolean Series for full-term babies\n",
        "full_term = nsfg['prglngth'] >= 37\n",
        "\n",
        "# Select the weights of full-term babies\n",
        "full_term_weight = birth_weight[full_term]\n",
        "\n",
        "# Compute the mean weight of full-term babies\n",
        "print(full_term_weight.mean())"
      ],
      "execution_count": 23,
      "outputs": [
        {
          "output_type": "stream",
          "text": [
            "7.392597951914515\n"
          ],
          "name": "stdout"
        }
      ]
    },
    {
      "cell_type": "markdown",
      "metadata": {
        "id": "vW1TvZQUf8jx"
      },
      "source": [
        "### Datetimeindex"
      ]
    },
    {
      "cell_type": "code",
      "metadata": {
        "id": "UHMcHJ6RkRQu",
        "colab": {
          "base_uri": "https://localhost:8080/",
          "height": 0
        },
        "outputId": "66dc8927-a11b-4a02-8792-ab7742e027a3"
      },
      "source": [
        "stock = pd.read_csv('https://raw.githubusercontent.com/codebasics/py/master/pandas/14_ts_datetimeindex/aapl.csv', parse_dates= ['Date'],\n",
        "                    index_col = 'Date')\n",
        "stock.head()"
      ],
      "execution_count": 24,
      "outputs": [
        {
          "output_type": "execute_result",
          "data": {
            "text/html": [
              "<div>\n",
              "<style scoped>\n",
              "    .dataframe tbody tr th:only-of-type {\n",
              "        vertical-align: middle;\n",
              "    }\n",
              "\n",
              "    .dataframe tbody tr th {\n",
              "        vertical-align: top;\n",
              "    }\n",
              "\n",
              "    .dataframe thead th {\n",
              "        text-align: right;\n",
              "    }\n",
              "</style>\n",
              "<table border=\"1\" class=\"dataframe\">\n",
              "  <thead>\n",
              "    <tr style=\"text-align: right;\">\n",
              "      <th></th>\n",
              "      <th>Open</th>\n",
              "      <th>High</th>\n",
              "      <th>Low</th>\n",
              "      <th>Close</th>\n",
              "      <th>Volume</th>\n",
              "    </tr>\n",
              "    <tr>\n",
              "      <th>Date</th>\n",
              "      <th></th>\n",
              "      <th></th>\n",
              "      <th></th>\n",
              "      <th></th>\n",
              "      <th></th>\n",
              "    </tr>\n",
              "  </thead>\n",
              "  <tbody>\n",
              "    <tr>\n",
              "      <th>2017-07-07</th>\n",
              "      <td>142.90</td>\n",
              "      <td>144.75</td>\n",
              "      <td>142.90</td>\n",
              "      <td>144.18</td>\n",
              "      <td>19201712</td>\n",
              "    </tr>\n",
              "    <tr>\n",
              "      <th>2017-07-06</th>\n",
              "      <td>143.02</td>\n",
              "      <td>143.50</td>\n",
              "      <td>142.41</td>\n",
              "      <td>142.73</td>\n",
              "      <td>24128782</td>\n",
              "    </tr>\n",
              "    <tr>\n",
              "      <th>2017-07-05</th>\n",
              "      <td>143.69</td>\n",
              "      <td>144.79</td>\n",
              "      <td>142.72</td>\n",
              "      <td>144.09</td>\n",
              "      <td>21569557</td>\n",
              "    </tr>\n",
              "    <tr>\n",
              "      <th>2017-07-03</th>\n",
              "      <td>144.88</td>\n",
              "      <td>145.30</td>\n",
              "      <td>143.10</td>\n",
              "      <td>143.50</td>\n",
              "      <td>14277848</td>\n",
              "    </tr>\n",
              "    <tr>\n",
              "      <th>2017-06-30</th>\n",
              "      <td>144.45</td>\n",
              "      <td>144.96</td>\n",
              "      <td>143.78</td>\n",
              "      <td>144.02</td>\n",
              "      <td>23024107</td>\n",
              "    </tr>\n",
              "  </tbody>\n",
              "</table>\n",
              "</div>"
            ],
            "text/plain": [
              "              Open    High     Low   Close    Volume\n",
              "Date                                                \n",
              "2017-07-07  142.90  144.75  142.90  144.18  19201712\n",
              "2017-07-06  143.02  143.50  142.41  142.73  24128782\n",
              "2017-07-05  143.69  144.79  142.72  144.09  21569557\n",
              "2017-07-03  144.88  145.30  143.10  143.50  14277848\n",
              "2017-06-30  144.45  144.96  143.78  144.02  23024107"
            ]
          },
          "metadata": {
            "tags": []
          },
          "execution_count": 24
        }
      ]
    },
    {
      "cell_type": "markdown",
      "metadata": {
        "id": "aflwwq9VklM_"
      },
      "source": [
        "__Benifits of DateTimeIndex__\n",
        "\n",
        "* It provide us the very flexible way to retrive the data from a dataset.\n",
        "* We can only use brackets to retrive data based on month year or day\n"
      ]
    },
    {
      "cell_type": "markdown",
      "metadata": {
        "id": "Uqb60VYLeX2P"
      },
      "source": [
        "__In Below case we have tried to retrive the data where year is 2017 and month is 1__"
      ]
    },
    {
      "cell_type": "code",
      "metadata": {
        "id": "WyB-lTtKnYeS",
        "colab": {
          "base_uri": "https://localhost:8080/",
          "height": 0
        },
        "outputId": "4322e998-96a0-4117-f832-ef51f35b9d0d"
      },
      "source": [
        "stock['2017-01']"
      ],
      "execution_count": 25,
      "outputs": [
        {
          "output_type": "execute_result",
          "data": {
            "text/html": [
              "<div>\n",
              "<style scoped>\n",
              "    .dataframe tbody tr th:only-of-type {\n",
              "        vertical-align: middle;\n",
              "    }\n",
              "\n",
              "    .dataframe tbody tr th {\n",
              "        vertical-align: top;\n",
              "    }\n",
              "\n",
              "    .dataframe thead th {\n",
              "        text-align: right;\n",
              "    }\n",
              "</style>\n",
              "<table border=\"1\" class=\"dataframe\">\n",
              "  <thead>\n",
              "    <tr style=\"text-align: right;\">\n",
              "      <th></th>\n",
              "      <th>Open</th>\n",
              "      <th>High</th>\n",
              "      <th>Low</th>\n",
              "      <th>Close</th>\n",
              "      <th>Volume</th>\n",
              "    </tr>\n",
              "    <tr>\n",
              "      <th>Date</th>\n",
              "      <th></th>\n",
              "      <th></th>\n",
              "      <th></th>\n",
              "      <th></th>\n",
              "      <th></th>\n",
              "    </tr>\n",
              "  </thead>\n",
              "  <tbody>\n",
              "    <tr>\n",
              "      <th>2017-01-31</th>\n",
              "      <td>121.15</td>\n",
              "      <td>121.39</td>\n",
              "      <td>120.62</td>\n",
              "      <td>121.35</td>\n",
              "      <td>49200993</td>\n",
              "    </tr>\n",
              "    <tr>\n",
              "      <th>2017-01-30</th>\n",
              "      <td>120.93</td>\n",
              "      <td>121.63</td>\n",
              "      <td>120.66</td>\n",
              "      <td>121.63</td>\n",
              "      <td>30377503</td>\n",
              "    </tr>\n",
              "    <tr>\n",
              "      <th>2017-01-27</th>\n",
              "      <td>122.14</td>\n",
              "      <td>122.35</td>\n",
              "      <td>121.60</td>\n",
              "      <td>121.95</td>\n",
              "      <td>20562944</td>\n",
              "    </tr>\n",
              "    <tr>\n",
              "      <th>2017-01-26</th>\n",
              "      <td>121.67</td>\n",
              "      <td>122.44</td>\n",
              "      <td>121.60</td>\n",
              "      <td>121.94</td>\n",
              "      <td>26337576</td>\n",
              "    </tr>\n",
              "    <tr>\n",
              "      <th>2017-01-25</th>\n",
              "      <td>120.42</td>\n",
              "      <td>122.10</td>\n",
              "      <td>120.28</td>\n",
              "      <td>121.88</td>\n",
              "      <td>32586673</td>\n",
              "    </tr>\n",
              "    <tr>\n",
              "      <th>2017-01-24</th>\n",
              "      <td>119.55</td>\n",
              "      <td>120.10</td>\n",
              "      <td>119.50</td>\n",
              "      <td>119.97</td>\n",
              "      <td>23211038</td>\n",
              "    </tr>\n",
              "    <tr>\n",
              "      <th>2017-01-23</th>\n",
              "      <td>120.00</td>\n",
              "      <td>120.81</td>\n",
              "      <td>119.77</td>\n",
              "      <td>120.08</td>\n",
              "      <td>22050218</td>\n",
              "    </tr>\n",
              "    <tr>\n",
              "      <th>2017-01-20</th>\n",
              "      <td>120.45</td>\n",
              "      <td>120.45</td>\n",
              "      <td>119.73</td>\n",
              "      <td>120.00</td>\n",
              "      <td>32597892</td>\n",
              "    </tr>\n",
              "    <tr>\n",
              "      <th>2017-01-19</th>\n",
              "      <td>119.40</td>\n",
              "      <td>120.09</td>\n",
              "      <td>119.37</td>\n",
              "      <td>119.78</td>\n",
              "      <td>25597291</td>\n",
              "    </tr>\n",
              "    <tr>\n",
              "      <th>2017-01-18</th>\n",
              "      <td>120.00</td>\n",
              "      <td>120.50</td>\n",
              "      <td>119.71</td>\n",
              "      <td>119.99</td>\n",
              "      <td>23712961</td>\n",
              "    </tr>\n",
              "    <tr>\n",
              "      <th>2017-01-17</th>\n",
              "      <td>118.34</td>\n",
              "      <td>120.24</td>\n",
              "      <td>118.22</td>\n",
              "      <td>120.00</td>\n",
              "      <td>34439843</td>\n",
              "    </tr>\n",
              "    <tr>\n",
              "      <th>2017-01-13</th>\n",
              "      <td>119.11</td>\n",
              "      <td>119.62</td>\n",
              "      <td>118.81</td>\n",
              "      <td>119.04</td>\n",
              "      <td>26111948</td>\n",
              "    </tr>\n",
              "    <tr>\n",
              "      <th>2017-01-12</th>\n",
              "      <td>118.90</td>\n",
              "      <td>119.30</td>\n",
              "      <td>118.21</td>\n",
              "      <td>119.25</td>\n",
              "      <td>27086220</td>\n",
              "    </tr>\n",
              "    <tr>\n",
              "      <th>2017-01-11</th>\n",
              "      <td>118.74</td>\n",
              "      <td>119.93</td>\n",
              "      <td>118.60</td>\n",
              "      <td>119.75</td>\n",
              "      <td>27588593</td>\n",
              "    </tr>\n",
              "    <tr>\n",
              "      <th>2017-01-10</th>\n",
              "      <td>118.77</td>\n",
              "      <td>119.38</td>\n",
              "      <td>118.30</td>\n",
              "      <td>119.11</td>\n",
              "      <td>24462051</td>\n",
              "    </tr>\n",
              "    <tr>\n",
              "      <th>2017-01-09</th>\n",
              "      <td>117.95</td>\n",
              "      <td>119.43</td>\n",
              "      <td>117.94</td>\n",
              "      <td>118.99</td>\n",
              "      <td>33561948</td>\n",
              "    </tr>\n",
              "    <tr>\n",
              "      <th>2017-01-06</th>\n",
              "      <td>116.78</td>\n",
              "      <td>118.16</td>\n",
              "      <td>116.47</td>\n",
              "      <td>117.91</td>\n",
              "      <td>31751900</td>\n",
              "    </tr>\n",
              "    <tr>\n",
              "      <th>2017-01-05</th>\n",
              "      <td>115.92</td>\n",
              "      <td>116.86</td>\n",
              "      <td>115.81</td>\n",
              "      <td>116.61</td>\n",
              "      <td>22193587</td>\n",
              "    </tr>\n",
              "    <tr>\n",
              "      <th>2017-01-04</th>\n",
              "      <td>115.85</td>\n",
              "      <td>116.51</td>\n",
              "      <td>115.75</td>\n",
              "      <td>116.02</td>\n",
              "      <td>21118116</td>\n",
              "    </tr>\n",
              "    <tr>\n",
              "      <th>2017-01-03</th>\n",
              "      <td>115.80</td>\n",
              "      <td>116.33</td>\n",
              "      <td>114.76</td>\n",
              "      <td>116.15</td>\n",
              "      <td>28781865</td>\n",
              "    </tr>\n",
              "  </tbody>\n",
              "</table>\n",
              "</div>"
            ],
            "text/plain": [
              "              Open    High     Low   Close    Volume\n",
              "Date                                                \n",
              "2017-01-31  121.15  121.39  120.62  121.35  49200993\n",
              "2017-01-30  120.93  121.63  120.66  121.63  30377503\n",
              "2017-01-27  122.14  122.35  121.60  121.95  20562944\n",
              "2017-01-26  121.67  122.44  121.60  121.94  26337576\n",
              "2017-01-25  120.42  122.10  120.28  121.88  32586673\n",
              "2017-01-24  119.55  120.10  119.50  119.97  23211038\n",
              "2017-01-23  120.00  120.81  119.77  120.08  22050218\n",
              "2017-01-20  120.45  120.45  119.73  120.00  32597892\n",
              "2017-01-19  119.40  120.09  119.37  119.78  25597291\n",
              "2017-01-18  120.00  120.50  119.71  119.99  23712961\n",
              "2017-01-17  118.34  120.24  118.22  120.00  34439843\n",
              "2017-01-13  119.11  119.62  118.81  119.04  26111948\n",
              "2017-01-12  118.90  119.30  118.21  119.25  27086220\n",
              "2017-01-11  118.74  119.93  118.60  119.75  27588593\n",
              "2017-01-10  118.77  119.38  118.30  119.11  24462051\n",
              "2017-01-09  117.95  119.43  117.94  118.99  33561948\n",
              "2017-01-06  116.78  118.16  116.47  117.91  31751900\n",
              "2017-01-05  115.92  116.86  115.81  116.61  22193587\n",
              "2017-01-04  115.85  116.51  115.75  116.02  21118116\n",
              "2017-01-03  115.80  116.33  114.76  116.15  28781865"
            ]
          },
          "metadata": {
            "tags": []
          },
          "execution_count": 25
        }
      ]
    },
    {
      "cell_type": "markdown",
      "metadata": {
        "id": "lVPgNhLCngRG"
      },
      "source": [
        "__Finding average price of stock in the month of jan and year 2017__"
      ]
    },
    {
      "cell_type": "code",
      "metadata": {
        "id": "sc1cJQiSer96",
        "colab": {
          "base_uri": "https://localhost:8080/"
        },
        "outputId": "682e3d3e-b0fe-4c95-ed96-32d61686acf3"
      },
      "source": [
        "stock['2017-01'].Close.mean()"
      ],
      "execution_count": 26,
      "outputs": [
        {
          "output_type": "execute_result",
          "data": {
            "text/plain": [
              "119.57000000000001"
            ]
          },
          "metadata": {
            "tags": []
          },
          "execution_count": 26
        }
      ]
    },
    {
      "cell_type": "markdown",
      "metadata": {
        "id": "p8wLryiUe0Rv"
      },
      "source": [
        "### Resampling"
      ]
    },
    {
      "cell_type": "markdown",
      "metadata": {
        "id": "VQYcaibRfHvC"
      },
      "source": [
        "__What was the monthly sock price__\n",
        "\n",
        "We can use the resampling technique."
      ]
    },
    {
      "cell_type": "code",
      "metadata": {
        "id": "Vs7UnqkRfRKp",
        "colab": {
          "base_uri": "https://localhost:8080/"
        },
        "outputId": "b0156719-5107-4f3b-b6d2-182590a046a3"
      },
      "source": [
        "stock.Close.resample('M').mean()"
      ],
      "execution_count": 27,
      "outputs": [
        {
          "output_type": "execute_result",
          "data": {
            "text/plain": [
              "Date\n",
              "2016-07-31     99.473333\n",
              "2016-08-31    107.665217\n",
              "2016-09-30    110.857143\n",
              "2016-10-31    115.707143\n",
              "2016-11-30    110.154286\n",
              "2016-12-31    114.335714\n",
              "2017-01-31    119.570000\n",
              "2017-02-28    133.713684\n",
              "2017-03-31    140.617826\n",
              "2017-04-30    142.886842\n",
              "2017-05-31    152.227727\n",
              "2017-06-30    147.831364\n",
              "2017-07-31    143.625000\n",
              "Freq: M, Name: Close, dtype: float64"
            ]
          },
          "metadata": {
            "tags": []
          },
          "execution_count": 27
        }
      ]
    },
    {
      "cell_type": "markdown",
      "metadata": {
        "id": "54fz3XbofZ5j"
      },
      "source": [
        "**Here it is showing the price with the last date of every month**"
      ]
    },
    {
      "cell_type": "code",
      "metadata": {
        "id": "SU6r9qo5fkfw",
        "colab": {
          "base_uri": "https://localhost:8080/",
          "height": 0
        },
        "outputId": "deadd2b6-8873-43fe-b6dd-6339450fe634"
      },
      "source": [
        "stock.Close.resample('M').mean().plot()"
      ],
      "execution_count": 28,
      "outputs": [
        {
          "output_type": "execute_result",
          "data": {
            "text/plain": [
              "<matplotlib.axes._subplots.AxesSubplot at 0x7fea538b17f0>"
            ]
          },
          "metadata": {
            "tags": []
          },
          "execution_count": 28
        },
        {
          "output_type": "display_data",
          "data": {
            "image/png": "[encoded data removed]",
            "text/plain": [
              "<Figure size 432x288 with 1 Axes>"
            ]
          },
          "metadata": {
            "tags": [],
            "needs_background": "light"
          }
        }
      ]
    },
    {
      "cell_type": "code",
      "metadata": {
        "id": "VhnTe5XYgW1e",
        "colab": {
          "base_uri": "https://localhost:8080/",
          "height": 0
        },
        "outputId": "e4589992-d204-49a5-a32b-4d9b60323d3e"
      },
      "source": [
        "stock.Close.plot()"
      ],
      "execution_count": 29,
      "outputs": [
        {
          "output_type": "execute_result",
          "data": {
            "text/plain": [
              "<matplotlib.axes._subplots.AxesSubplot at 0x7fea53831320>"
            ]
          },
          "metadata": {
            "tags": []
          },
          "execution_count": 29
        },
        {
          "output_type": "display_data",
          "data": {
            "image/png": "[encoded data removed]",
            "text/plain": [
              "<Figure size 432x288 with 1 Axes>"
            ]
          },
          "metadata": {
            "tags": [],
            "needs_background": "light"
          }
        }
      ]
    },
    {
      "cell_type": "code",
      "metadata": {
        "id": "fgxxR7rqgc41",
        "colab": {
          "base_uri": "https://localhost:8080/",
          "height": 0
        },
        "outputId": "e61de3ed-741d-4a97-d628-7a57b8b29b8c"
      },
      "source": [
        "stock.Close.resample('W').mean().plot()"
      ],
      "execution_count": 30,
      "outputs": [
        {
          "output_type": "execute_result",
          "data": {
            "text/plain": [
              "<matplotlib.axes._subplots.AxesSubplot at 0x7fea5379b828>"
            ]
          },
          "metadata": {
            "tags": []
          },
          "execution_count": 30
        },
        {
          "output_type": "display_data",
          "data": {
            "image/png": "[encoded data removed]",
            "text/plain": [
              "<Figure size 432x288 with 1 Axes>"
            ]
          },
          "metadata": {
            "tags": [],
            "needs_background": "light"
          }
        }
      ]
    },
    {
      "cell_type": "markdown",
      "metadata": {
        "id": "4Kp3eYzBglIp"
      },
      "source": [
        "### Filter\n",
        "In the previous exercise, you computed the mean birth weight for full-term babies; you filtered out preterm babies because their distribution of weight is different.\n",
        "\n",
        "The distribution of weight is also different for multiple births, like twins and triplets. In this exercise, you'll filter them out, too, and see what effect it has on the mean."
      ]
    },
    {
      "cell_type": "markdown",
      "metadata": {
        "id": "52uY0VA_hAjr"
      },
      "source": [
        "* Use the variable 'nbrnaliv' to make a Boolean Series that is True for single births (where 'nbrnaliv' equals 1) and False otherwise."
      ]
    },
    {
      "cell_type": "code",
      "metadata": {
        "id": "A82_ejawikxS",
        "colab": {
          "base_uri": "https://localhost:8080/"
        },
        "outputId": "afc2badd-f18a-41cf-da1b-b0436972ed1d"
      },
      "source": [
        "# Create a Boolean Series for full-term babies\n",
        "full_term = nsfg['prglngth'] >= 37\n",
        "\n",
        "# Select the weights of full-term babies\n",
        "full_term_weight = birth_weight[full_term]\n",
        "\n",
        "# Compute the mean weight of full-term babies\n",
        "print(full_term_weight.mean())"
      ],
      "execution_count": 31,
      "outputs": [
        {
          "output_type": "stream",
          "text": [
            "7.392597951914515\n"
          ],
          "name": "stdout"
        }
      ]
    },
    {
      "cell_type": "code",
      "metadata": {
        "id": "6nCRpEqChDfo"
      },
      "source": [
        "single = nsfg.nbrnaliv == 1"
      ],
      "execution_count": 32,
      "outputs": []
    },
    {
      "cell_type": "markdown",
      "metadata": {
        "id": "AbvfK96ghOyc"
      },
      "source": [
        "* Use Boolean Series and logical operators to select single, full-term babies and compute their mean birth weight."
      ]
    },
    {
      "cell_type": "code",
      "metadata": {
        "id": "zkB62ilIhg0T"
      },
      "source": [
        "single_full_term_weight = birth_weight[single & full_term]"
      ],
      "execution_count": 33,
      "outputs": []
    },
    {
      "cell_type": "code",
      "metadata": {
        "id": "6ToiwURhh4Re",
        "colab": {
          "base_uri": "https://localhost:8080/"
        },
        "outputId": "064e2a90-0317-49aa-e91e-0005cc45e0fb"
      },
      "source": [
        "print('Single baby with full term weight ' , single_full_term_weight.mean())"
      ],
      "execution_count": 34,
      "outputs": [
        {
          "output_type": "stream",
          "text": [
            "Single baby with full term weight  7.40297320308299\n"
          ],
          "name": "stdout"
        }
      ]
    },
    {
      "cell_type": "markdown",
      "metadata": {
        "id": "xANPJAVoiNK-"
      },
      "source": [
        "* For comparison, select multiple, full-term babies and compute their mean birth weight."
      ]
    },
    {
      "cell_type": "code",
      "metadata": {
        "id": "md-9aqGvh5-u",
        "colab": {
          "base_uri": "https://localhost:8080/"
        },
        "outputId": "0513de9a-026c-481f-f7fe-5be989221e34"
      },
      "source": [
        "multiple_full_term_baby = birth_weight[~single & full_term]\n",
        "print('Multple Babay with full term weight ', multiple_full_term_baby.mean())"
      ],
      "execution_count": 35,
      "outputs": [
        {
          "output_type": "stream",
          "text": [
            "Multple Babay with full term weight  5.784722222222222\n"
          ],
          "name": "stdout"
        }
      ]
    },
    {
      "cell_type": "markdown",
      "metadata": {
        "id": "0NIoHEkLmPV5"
      },
      "source": [
        "## Distributions\n",
        "\n",
        "In the first chapter, having cleaned and validated your data, you began exploring it by using histograms to visualize distributions. In this chapter, you'll learn how to represent distributions using Probability Mass Functions (PMFs) and Cumulative Distribution Functions (CDFs). You'll learn when to use each of them, and why, while working with a new dataset obtained from the General Social Survey."
      ]
    },
    {
      "cell_type": "markdown",
      "metadata": {
        "id": "9FrZ_rGeid2z"
      },
      "source": [
        "### Probability Mass Function\n",
        "\n",
        "**GSS**\n",
        "\n",
        "* Annual sample of U.S. population.\n",
        "* Ask about demographics, social and political beliefs\n",
        "* Widely used by policy makers and researchers."
      ]
    },
    {
      "cell_type": "code",
      "metadata": {
        "id": "iH4aVBgBiziI",
        "colab": {
          "base_uri": "https://localhost:8080/",
          "height": 0
        },
        "outputId": "a875f1c6-3585-4917-8fdb-5b802538d3f3"
      },
      "source": [
        "gss = pd.read_hdf('/content/drive/My Drive/DataCamp_DataScience/Eploratory Data Analysis/gss.hdf5','gss')\n",
        "gss.head()"
      ],
      "execution_count": 36,
      "outputs": [
        {
          "output_type": "execute_result",
          "data": {
            "text/html": [
              "<div>\n",
              "<style scoped>\n",
              "    .dataframe tbody tr th:only-of-type {\n",
              "        vertical-align: middle;\n",
              "    }\n",
              "\n",
              "    .dataframe tbody tr th {\n",
              "        vertical-align: top;\n",
              "    }\n",
              "\n",
              "    .dataframe thead th {\n",
              "        text-align: right;\n",
              "    }\n",
              "</style>\n",
              "<table border=\"1\" class=\"dataframe\">\n",
              "  <thead>\n",
              "    <tr style=\"text-align: right;\">\n",
              "      <th></th>\n",
              "      <th>year</th>\n",
              "      <th>age</th>\n",
              "      <th>cohort</th>\n",
              "      <th>sex</th>\n",
              "      <th>race</th>\n",
              "      <th>educ</th>\n",
              "      <th>realinc</th>\n",
              "      <th>gunlaw</th>\n",
              "      <th>grass</th>\n",
              "      <th>wtssall</th>\n",
              "    </tr>\n",
              "  </thead>\n",
              "  <tbody>\n",
              "    <tr>\n",
              "      <th>0</th>\n",
              "      <td>1972</td>\n",
              "      <td>26.0</td>\n",
              "      <td>1946.0</td>\n",
              "      <td>1</td>\n",
              "      <td>1</td>\n",
              "      <td>18.0</td>\n",
              "      <td>13537.0</td>\n",
              "      <td>2.0</td>\n",
              "      <td>NaN</td>\n",
              "      <td>0.8893</td>\n",
              "    </tr>\n",
              "    <tr>\n",
              "      <th>1</th>\n",
              "      <td>1972</td>\n",
              "      <td>38.0</td>\n",
              "      <td>1934.0</td>\n",
              "      <td>2</td>\n",
              "      <td>1</td>\n",
              "      <td>12.0</td>\n",
              "      <td>18951.0</td>\n",
              "      <td>1.0</td>\n",
              "      <td>NaN</td>\n",
              "      <td>0.4446</td>\n",
              "    </tr>\n",
              "    <tr>\n",
              "      <th>2</th>\n",
              "      <td>1972</td>\n",
              "      <td>57.0</td>\n",
              "      <td>1915.0</td>\n",
              "      <td>1</td>\n",
              "      <td>1</td>\n",
              "      <td>12.0</td>\n",
              "      <td>30458.0</td>\n",
              "      <td>1.0</td>\n",
              "      <td>NaN</td>\n",
              "      <td>1.3339</td>\n",
              "    </tr>\n",
              "    <tr>\n",
              "      <th>3</th>\n",
              "      <td>1972</td>\n",
              "      <td>61.0</td>\n",
              "      <td>1911.0</td>\n",
              "      <td>2</td>\n",
              "      <td>1</td>\n",
              "      <td>14.0</td>\n",
              "      <td>37226.0</td>\n",
              "      <td>1.0</td>\n",
              "      <td>NaN</td>\n",
              "      <td>0.8893</td>\n",
              "    </tr>\n",
              "    <tr>\n",
              "      <th>4</th>\n",
              "      <td>1972</td>\n",
              "      <td>59.0</td>\n",
              "      <td>1913.0</td>\n",
              "      <td>1</td>\n",
              "      <td>1</td>\n",
              "      <td>12.0</td>\n",
              "      <td>30458.0</td>\n",
              "      <td>2.0</td>\n",
              "      <td>NaN</td>\n",
              "      <td>0.8893</td>\n",
              "    </tr>\n",
              "  </tbody>\n",
              "</table>\n",
              "</div>"
            ],
            "text/plain": [
              "   year   age  cohort  sex  race  educ  realinc  gunlaw  grass  wtssall\n",
              "0  1972  26.0  1946.0    1     1  18.0  13537.0     2.0    NaN   0.8893\n",
              "1  1972  38.0  1934.0    2     1  12.0  18951.0     1.0    NaN   0.4446\n",
              "2  1972  57.0  1915.0    1     1  12.0  30458.0     1.0    NaN   1.3339\n",
              "3  1972  61.0  1911.0    2     1  14.0  37226.0     1.0    NaN   0.8893\n",
              "4  1972  59.0  1913.0    1     1  12.0  30458.0     2.0    NaN   0.8893"
            ]
          },
          "metadata": {
            "tags": []
          },
          "execution_count": 36
        }
      ]
    },
    {
      "cell_type": "markdown",
      "metadata": {
        "id": "liciCDVyi-fQ"
      },
      "source": [
        "Lets check the number of edu"
      ]
    },
    {
      "cell_type": "code",
      "metadata": {
        "id": "HFyPFoZNtDES",
        "colab": {
          "base_uri": "https://localhost:8080/",
          "height": 0
        },
        "outputId": "54b5b827-3636-4850-b682-12ec69496571"
      },
      "source": [
        "educ = gss['educ']\n",
        "plt.hist(educ.dropna(), label = 'educ')\n",
        "plt.show()"
      ],
      "execution_count": 37,
      "outputs": [
        {
          "output_type": "display_data",
          "data": {
            "image/png": "[encoded data removed]",
            "text/plain": [
              "<Figure size 432x288 with 1 Axes>"
            ]
          },
          "metadata": {
            "tags": [],
            "needs_background": "light"
          }
        }
      ]
    },
    {
      "cell_type": "markdown",
      "metadata": {
        "id": "GGRfB0LztMzd"
      },
      "source": [
        "But here histogram is not the right kind of plot to determine any thing.\n",
        "\n",
        "We will use PMF (probability mass function) for interpretation"
      ]
    },
    {
      "cell_type": "markdown",
      "metadata": {
        "id": "RrnrMP1QHNRG"
      },
      "source": [
        "### Calculating Pmf"
      ]
    },
    {
      "cell_type": "code",
      "metadata": {
        "id": "Rwh6XELFAVwk",
        "colab": {
          "base_uri": "https://localhost:8080/"
        },
        "outputId": "8484e2ba-76da-4533-d4bb-ffc773217338"
      },
      "source": [
        "!pip install empiricaldist"
      ],
      "execution_count": 38,
      "outputs": [
        {
          "output_type": "stream",
          "text": [
            "Collecting empiricaldist\n",
            "  Downloading https://files.pythonhosted.org/packages/c4/88/b6c44c1a5078224850473a8a6b82614d79147232113dd35e29de34b9ac8a/empiricaldist-0.3.9.tar.gz\n",
            "Building wheels for collected packages: empiricaldist\n",
            "  Building wheel for empiricaldist (setup.py) ... \u001b[?25l\u001b[?25hdone\n",
            "  Created wheel for empiricaldist: filename=empiricaldist-0.3.9-cp36-none-any.whl size=10157 sha256=950b8a1f3f2f048cca643e89218814aa308bf1855bdb7447dbe2b3c0be9c3d00\n",
            "  Stored in directory: /root/.cache/pip/wheels/bf/70/8c/55788f5a5806e6da295e5da80d2c0ef286d9a8260a1e3142e1\n",
            "Successfully built empiricaldist\n",
            "Installing collected packages: empiricaldist\n",
            "Successfully installed empiricaldist-0.3.9\n"
          ],
          "name": "stdout"
        }
      ]
    },
    {
      "cell_type": "code",
      "metadata": {
        "id": "xgMIPGVlIB5Q"
      },
      "source": [
        "from empiricaldist import Pmf"
      ],
      "execution_count": 39,
      "outputs": []
    },
    {
      "cell_type": "markdown",
      "metadata": {
        "id": "V_FSr9TMMvG2"
      },
      "source": [
        "#### Defining Pmf Function\n",
        "\n",
        "Check this for more description:\n",
        "\n",
        "https://nbviewer.jupyter.org/github/AllenDowney/empiricaldist/blob/master/empiricaldist/dist_demo.ipynb"
      ]
    },
    {
      "cell_type": "code",
      "metadata": {
        "id": "V5AIDTDMMJdh",
        "colab": {
          "base_uri": "https://localhost:8080/"
        },
        "outputId": "af28fd3d-ab82-4731-81a2-8c2c61244e1d"
      },
      "source": [
        "Pmf.from_seq(educ, normalize = False).head()"
      ],
      "execution_count": 40,
      "outputs": [
        {
          "output_type": "execute_result",
          "data": {
            "text/plain": [
              "0.0    144\n",
              "1.0     38\n",
              "2.0    151\n",
              "3.0    246\n",
              "4.0    290\n",
              "Name: educ, dtype: int64"
            ]
          },
          "metadata": {
            "tags": []
          },
          "execution_count": 40
        }
      ]
    },
    {
      "cell_type": "code",
      "metadata": {
        "id": "tvWM7m2qOrXz",
        "colab": {
          "base_uri": "https://localhost:8080/"
        },
        "outputId": "e4b011b3-68d7-401a-e25d-86410dc9949d"
      },
      "source": [
        "Pmf.from_seq(educ, normalize = False)[12]"
      ],
      "execution_count": 41,
      "outputs": [
        {
          "output_type": "execute_result",
          "data": {
            "text/plain": [
              "19145"
            ]
          },
          "metadata": {
            "tags": []
          },
          "execution_count": 41
        }
      ]
    },
    {
      "cell_type": "code",
      "metadata": {
        "id": "sh4iMo84PBOV",
        "colab": {
          "base_uri": "https://localhost:8080/",
          "height": 0
        },
        "outputId": "f0181fea-5bf4-4e66-a59a-f80183f7e02c"
      },
      "source": [
        "Pmf.from_seq(educ, normalize = True)"
      ],
      "execution_count": 42,
      "outputs": [
        {
          "output_type": "execute_result",
          "data": {
            "text/html": [
              "<div>\n",
              "<style scoped>\n",
              "    .dataframe tbody tr th:only-of-type {\n",
              "        vertical-align: middle;\n",
              "    }\n",
              "\n",
              "    .dataframe tbody tr th {\n",
              "        vertical-align: top;\n",
              "    }\n",
              "\n",
              "    .dataframe thead th {\n",
              "        text-align: right;\n",
              "    }\n",
              "</style>\n",
              "<table border=\"1\" class=\"dataframe\">\n",
              "  <thead>\n",
              "    <tr style=\"text-align: right;\">\n",
              "      <th></th>\n",
              "      <th>probs</th>\n",
              "    </tr>\n",
              "  </thead>\n",
              "  <tbody>\n",
              "    <tr>\n",
              "      <th>0.0</th>\n",
              "      <td>0.002311</td>\n",
              "    </tr>\n",
              "    <tr>\n",
              "      <th>1.0</th>\n",
              "      <td>0.000610</td>\n",
              "    </tr>\n",
              "    <tr>\n",
              "      <th>2.0</th>\n",
              "      <td>0.002424</td>\n",
              "    </tr>\n",
              "    <tr>\n",
              "      <th>3.0</th>\n",
              "      <td>0.003948</td>\n",
              "    </tr>\n",
              "    <tr>\n",
              "      <th>4.0</th>\n",
              "      <td>0.004655</td>\n",
              "    </tr>\n",
              "    <tr>\n",
              "      <th>5.0</th>\n",
              "      <td>0.006083</td>\n",
              "    </tr>\n",
              "    <tr>\n",
              "      <th>6.0</th>\n",
              "      <td>0.013514</td>\n",
              "    </tr>\n",
              "    <tr>\n",
              "      <th>7.0</th>\n",
              "      <td>0.013803</td>\n",
              "    </tr>\n",
              "    <tr>\n",
              "      <th>8.0</th>\n",
              "      <td>0.038858</td>\n",
              "    </tr>\n",
              "    <tr>\n",
              "      <th>9.0</th>\n",
              "      <td>0.031507</td>\n",
              "    </tr>\n",
              "    <tr>\n",
              "      <th>10.0</th>\n",
              "      <td>0.045246</td>\n",
              "    </tr>\n",
              "    <tr>\n",
              "      <th>11.0</th>\n",
              "      <td>0.062018</td>\n",
              "    </tr>\n",
              "    <tr>\n",
              "      <th>12.0</th>\n",
              "      <td>0.307284</td>\n",
              "    </tr>\n",
              "    <tr>\n",
              "      <th>13.0</th>\n",
              "      <td>0.086752</td>\n",
              "    </tr>\n",
              "    <tr>\n",
              "      <th>14.0</th>\n",
              "      <td>0.112031</td>\n",
              "    </tr>\n",
              "    <tr>\n",
              "      <th>15.0</th>\n",
              "      <td>0.045519</td>\n",
              "    </tr>\n",
              "    <tr>\n",
              "      <th>16.0</th>\n",
              "      <td>0.127648</td>\n",
              "    </tr>\n",
              "    <tr>\n",
              "      <th>17.0</th>\n",
              "      <td>0.028746</td>\n",
              "    </tr>\n",
              "    <tr>\n",
              "      <th>18.0</th>\n",
              "      <td>0.033850</td>\n",
              "    </tr>\n",
              "    <tr>\n",
              "      <th>19.0</th>\n",
              "      <td>0.012423</td>\n",
              "    </tr>\n",
              "    <tr>\n",
              "      <th>20.0</th>\n",
              "      <td>0.020769</td>\n",
              "    </tr>\n",
              "  </tbody>\n",
              "</table>\n",
              "</div>"
            ],
            "text/plain": [
              "0.0     0.002311\n",
              "1.0     0.000610\n",
              "2.0     0.002424\n",
              "3.0     0.003948\n",
              "4.0     0.004655\n",
              "5.0     0.006083\n",
              "6.0     0.013514\n",
              "7.0     0.013803\n",
              "8.0     0.038858\n",
              "9.0     0.031507\n",
              "10.0    0.045246\n",
              "11.0    0.062018\n",
              "12.0    0.307284\n",
              "13.0    0.086752\n",
              "14.0    0.112031\n",
              "15.0    0.045519\n",
              "16.0    0.127648\n",
              "17.0    0.028746\n",
              "18.0    0.033850\n",
              "19.0    0.012423\n",
              "20.0    0.020769\n",
              "Name: educ, dtype: float64"
            ]
          },
          "metadata": {
            "tags": []
          },
          "execution_count": 42
        }
      ]
    },
    {
      "cell_type": "code",
      "metadata": {
        "id": "NPUQoWfmPQ4i",
        "colab": {
          "base_uri": "https://localhost:8080/",
          "height": 0
        },
        "outputId": "c1fb22bc-58d0-45bd-b125-22e4cb560da6"
      },
      "source": [
        "Pmf.from_seq(educ, normalize = True).bar()"
      ],
      "execution_count": 43,
      "outputs": [
        {
          "output_type": "display_data",
          "data": {
            "image/png": "[encoded data removed]",
            "text/plain": [
              "<Figure size 432x288 with 1 Axes>"
            ]
          },
          "metadata": {
            "tags": [],
            "needs_background": "light"
          }
        }
      ]
    },
    {
      "cell_type": "markdown",
      "metadata": {
        "id": "pxR7ICCyPre6"
      },
      "source": [
        "###Make a PMF\n",
        "\n",
        "    The GSS dataset has been pre-loaded for you into a DataFrame called gss. You can explore it in the IPython Shell to get familiar with it.\n",
        "\n",
        "    In this exercise, you'll focus on one variable in this dataset, 'year', which represents the year each respondent was interviewed.\n",
        "\n",
        "    The Pmf class you saw in the video has already been created for you."
      ]
    },
    {
      "cell_type": "markdown",
      "metadata": {
        "id": "YIswWs55PxNt"
      },
      "source": [
        "* Make a PMF for year with normalize=False and display the result."
      ]
    },
    {
      "cell_type": "code",
      "metadata": {
        "id": "-n_xmj1vP_b1"
      },
      "source": [
        "# Compute the Pmf for the year\n",
        "\n",
        "pmf_year = Pmf.from_seq(gss.year,normalize=False)"
      ],
      "execution_count": 44,
      "outputs": []
    },
    {
      "cell_type": "code",
      "metadata": {
        "id": "xH5jbhhlQNp9",
        "colab": {
          "base_uri": "https://localhost:8080/",
          "height": 0
        },
        "outputId": "b9024653-6d1f-4afc-e4fe-1c1d5f7b8070"
      },
      "source": [
        "pmf_year"
      ],
      "execution_count": 45,
      "outputs": [
        {
          "output_type": "execute_result",
          "data": {
            "text/html": [
              "<div>\n",
              "<style scoped>\n",
              "    .dataframe tbody tr th:only-of-type {\n",
              "        vertical-align: middle;\n",
              "    }\n",
              "\n",
              "    .dataframe tbody tr th {\n",
              "        vertical-align: top;\n",
              "    }\n",
              "\n",
              "    .dataframe thead th {\n",
              "        text-align: right;\n",
              "    }\n",
              "</style>\n",
              "<table border=\"1\" class=\"dataframe\">\n",
              "  <thead>\n",
              "    <tr style=\"text-align: right;\">\n",
              "      <th></th>\n",
              "      <th>probs</th>\n",
              "    </tr>\n",
              "  </thead>\n",
              "  <tbody>\n",
              "    <tr>\n",
              "      <th>1972</th>\n",
              "      <td>1613</td>\n",
              "    </tr>\n",
              "    <tr>\n",
              "      <th>1973</th>\n",
              "      <td>1504</td>\n",
              "    </tr>\n",
              "    <tr>\n",
              "      <th>1974</th>\n",
              "      <td>1484</td>\n",
              "    </tr>\n",
              "    <tr>\n",
              "      <th>1975</th>\n",
              "      <td>1490</td>\n",
              "    </tr>\n",
              "    <tr>\n",
              "      <th>1976</th>\n",
              "      <td>1499</td>\n",
              "    </tr>\n",
              "    <tr>\n",
              "      <th>1977</th>\n",
              "      <td>1530</td>\n",
              "    </tr>\n",
              "    <tr>\n",
              "      <th>1978</th>\n",
              "      <td>1532</td>\n",
              "    </tr>\n",
              "    <tr>\n",
              "      <th>1980</th>\n",
              "      <td>1468</td>\n",
              "    </tr>\n",
              "    <tr>\n",
              "      <th>1982</th>\n",
              "      <td>1860</td>\n",
              "    </tr>\n",
              "    <tr>\n",
              "      <th>1983</th>\n",
              "      <td>1599</td>\n",
              "    </tr>\n",
              "    <tr>\n",
              "      <th>1984</th>\n",
              "      <td>1473</td>\n",
              "    </tr>\n",
              "    <tr>\n",
              "      <th>1985</th>\n",
              "      <td>1534</td>\n",
              "    </tr>\n",
              "    <tr>\n",
              "      <th>1986</th>\n",
              "      <td>1470</td>\n",
              "    </tr>\n",
              "    <tr>\n",
              "      <th>1987</th>\n",
              "      <td>1819</td>\n",
              "    </tr>\n",
              "    <tr>\n",
              "      <th>1988</th>\n",
              "      <td>1481</td>\n",
              "    </tr>\n",
              "    <tr>\n",
              "      <th>1989</th>\n",
              "      <td>1537</td>\n",
              "    </tr>\n",
              "    <tr>\n",
              "      <th>1990</th>\n",
              "      <td>1372</td>\n",
              "    </tr>\n",
              "    <tr>\n",
              "      <th>1991</th>\n",
              "      <td>1517</td>\n",
              "    </tr>\n",
              "    <tr>\n",
              "      <th>1993</th>\n",
              "      <td>1606</td>\n",
              "    </tr>\n",
              "    <tr>\n",
              "      <th>1994</th>\n",
              "      <td>2992</td>\n",
              "    </tr>\n",
              "    <tr>\n",
              "      <th>1996</th>\n",
              "      <td>2904</td>\n",
              "    </tr>\n",
              "    <tr>\n",
              "      <th>1998</th>\n",
              "      <td>2832</td>\n",
              "    </tr>\n",
              "    <tr>\n",
              "      <th>2000</th>\n",
              "      <td>2817</td>\n",
              "    </tr>\n",
              "    <tr>\n",
              "      <th>2002</th>\n",
              "      <td>2765</td>\n",
              "    </tr>\n",
              "    <tr>\n",
              "      <th>2004</th>\n",
              "      <td>2812</td>\n",
              "    </tr>\n",
              "    <tr>\n",
              "      <th>2006</th>\n",
              "      <td>4510</td>\n",
              "    </tr>\n",
              "    <tr>\n",
              "      <th>2008</th>\n",
              "      <td>2023</td>\n",
              "    </tr>\n",
              "    <tr>\n",
              "      <th>2010</th>\n",
              "      <td>2044</td>\n",
              "    </tr>\n",
              "    <tr>\n",
              "      <th>2012</th>\n",
              "      <td>1974</td>\n",
              "    </tr>\n",
              "    <tr>\n",
              "      <th>2014</th>\n",
              "      <td>2538</td>\n",
              "    </tr>\n",
              "    <tr>\n",
              "      <th>2016</th>\n",
              "      <td>2867</td>\n",
              "    </tr>\n",
              "  </tbody>\n",
              "</table>\n",
              "</div>"
            ],
            "text/plain": [
              "1972    1613\n",
              "1973    1504\n",
              "1974    1484\n",
              "1975    1490\n",
              "1976    1499\n",
              "1977    1530\n",
              "1978    1532\n",
              "1980    1468\n",
              "1982    1860\n",
              "1983    1599\n",
              "1984    1473\n",
              "1985    1534\n",
              "1986    1470\n",
              "1987    1819\n",
              "1988    1481\n",
              "1989    1537\n",
              "1990    1372\n",
              "1991    1517\n",
              "1993    1606\n",
              "1994    2992\n",
              "1996    2904\n",
              "1998    2832\n",
              "2000    2817\n",
              "2002    2765\n",
              "2004    2812\n",
              "2006    4510\n",
              "2008    2023\n",
              "2010    2044\n",
              "2012    1974\n",
              "2014    2538\n",
              "2016    2867\n",
              "Name: year, dtype: int64"
            ]
          },
          "metadata": {
            "tags": []
          },
          "execution_count": 45
        }
      ]
    },
    {
      "cell_type": "markdown",
      "metadata": {
        "id": "4JSqniqfQO-7"
      },
      "source": [
        "* How many respondents were interviewed in 2016?"
      ]
    },
    {
      "cell_type": "code",
      "metadata": {
        "id": "wuQOsn2qQYKF",
        "colab": {
          "base_uri": "https://localhost:8080/"
        },
        "outputId": "3ec64a92-1dbf-4294-c5de-d2e821e6cd2e"
      },
      "source": [
        "pmf_year[2016]"
      ],
      "execution_count": 46,
      "outputs": [
        {
          "output_type": "execute_result",
          "data": {
            "text/plain": [
              "2867"
            ]
          },
          "metadata": {
            "tags": []
          },
          "execution_count": 46
        }
      ]
    },
    {
      "cell_type": "markdown",
      "metadata": {
        "id": "10JdD4KeQcCf"
      },
      "source": [
        "### Plot a PMF\n",
        "Now let's plot a PMF for the age of the respondents in the GSS dataset. The variable 'age' contains respondents' age in years.\n",
        "\n",
        "* Select the 'age' column from the gss DataFrame and store the result in age."
      ]
    },
    {
      "cell_type": "code",
      "metadata": {
        "id": "PZW8ZWbYQh4x",
        "colab": {
          "base_uri": "https://localhost:8080/"
        },
        "outputId": "26d611ef-2c8f-4ab3-e0ff-9729dcd319a6"
      },
      "source": [
        "# Select age column\n",
        "age = gss.age\n",
        "age.head()"
      ],
      "execution_count": 47,
      "outputs": [
        {
          "output_type": "execute_result",
          "data": {
            "text/plain": [
              "0    26.0\n",
              "1    38.0\n",
              "2    57.0\n",
              "3    61.0\n",
              "4    59.0\n",
              "Name: age, dtype: float64"
            ]
          },
          "metadata": {
            "tags": []
          },
          "execution_count": 47
        }
      ]
    },
    {
      "cell_type": "markdown",
      "metadata": {
        "id": "usISsQVyQ-7t"
      },
      "source": [
        "* Make a normalized PMF of age. Store the result in pmf_age."
      ]
    },
    {
      "cell_type": "code",
      "metadata": {
        "id": "mBDvteuJRJUn",
        "colab": {
          "base_uri": "https://localhost:8080/"
        },
        "outputId": "19424acf-f4f4-4c98-a8dd-0b8593b564f3"
      },
      "source": [
        "pmf_age = Pmf.from_seq(age, normalize=True)\n",
        "pmf_age.head()"
      ],
      "execution_count": 48,
      "outputs": [
        {
          "output_type": "execute_result",
          "data": {
            "text/plain": [
              "18.0    0.005620\n",
              "19.0    0.019878\n",
              "20.0    0.018111\n",
              "21.0    0.019219\n",
              "22.0    0.020247\n",
              "Name: age, dtype: float64"
            ]
          },
          "metadata": {
            "tags": []
          },
          "execution_count": 48
        }
      ]
    },
    {
      "cell_type": "markdown",
      "metadata": {
        "id": "qVrVFi4YRRtZ"
      },
      "source": [
        "* Plot pmf_age as a bar chart."
      ]
    },
    {
      "cell_type": "code",
      "metadata": {
        "id": "I9nBiHZkRXmP",
        "colab": {
          "base_uri": "https://localhost:8080/",
          "height": 0
        },
        "outputId": "56360459-ae6e-45f0-9288-805691e00db2"
      },
      "source": [
        "pmf_age.bar(label = 'educ')\n",
        "plt.xlabel('Age')\n",
        "plt.ylabel('PMF')\n",
        "plt.show()"
      ],
      "execution_count": 49,
      "outputs": [
        {
          "output_type": "display_data",
          "data": {
            "image/png": "[encoded data removed]",
            "text/plain": [
              "<Figure size 432x288 with 1 Axes>"
            ]
          },
          "metadata": {
            "tags": [],
            "needs_background": "light"
          }
        }
      ]
    },
    {
      "cell_type": "markdown",
      "metadata": {
        "id": "ffnK-V8hRg6v"
      },
      "source": [
        "### Cumulative distribution functions\n",
        "\n",
        "__From PMF to CDF__\n",
        "\n",
        "If you draw a random element from a sample:\n",
        "\n",
        "* PMF is the probability that you will get exectly x\n",
        "* CDF is the probability that you will get exectly <= x\n",
        "\n",
        "\n",
        "![image.png](data:image/png;base64,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)"
      ]
    },
    {
      "cell_type": "markdown",
      "metadata": {
        "id": "ZqgGcz1jScgq"
      },
      "source": [
        "**Calculate CDF**"
      ]
    },
    {
      "cell_type": "code",
      "metadata": {
        "id": "mxFmdGoPS_2f"
      },
      "source": [
        "from empiricaldist import Cdf"
      ],
      "execution_count": 50,
      "outputs": []
    },
    {
      "cell_type": "code",
      "metadata": {
        "id": "h63NEn0XTDur",
        "colab": {
          "base_uri": "https://localhost:8080/",
          "height": 0
        },
        "outputId": "97254c7d-172f-46a4-b343-2892a55d44a3"
      },
      "source": [
        "cdf = Cdf.from_seq(gss.age)\n",
        "cdf.plot()\n",
        "plt.xlabel('Age')\n",
        "plt.ylabel('CDF')\n",
        "plt.show()"
      ],
      "execution_count": 51,
      "outputs": [
        {
          "output_type": "display_data",
          "data": {
            "image/png": "[encoded data removed]",
            "text/plain": [
              "<Figure size 432x288 with 1 Axes>"
            ]
          },
          "metadata": {
            "tags": [],
            "needs_background": "light"
          }
        }
      ]
    },
    {
      "cell_type": "markdown",
      "metadata": {
        "id": "76rB32q6TQT7"
      },
      "source": [
        "We can find the cdf of particular element."
      ]
    },
    {
      "cell_type": "code",
      "metadata": {
        "id": "x77DUuOeTbWm",
        "colab": {
          "base_uri": "https://localhost:8080/"
        },
        "outputId": "cade7ce3-3766-4782-e303-f00e0d712dc2"
      },
      "source": [
        "cdf(51)"
      ],
      "execution_count": 52,
      "outputs": [
        {
          "output_type": "execute_result",
          "data": {
            "text/plain": [
              "array(0.66020135)"
            ]
          },
          "metadata": {
            "tags": []
          },
          "execution_count": 52
        }
      ]
    },
    {
      "cell_type": "markdown",
      "metadata": {
        "id": "woLCWepGTd-G"
      },
      "source": [
        "That 0.6602 is basically showing the percentile for 51. Mean not more then 66.02 percent people are aboved 51 year old."
      ]
    },
    {
      "cell_type": "code",
      "metadata": {
        "id": "NjjBRz-zT8HR",
        "colab": {
          "base_uri": "https://localhost:8080/"
        },
        "outputId": "7ed0f42a-07b8-4f8f-b926-846c05395a9e"
      },
      "source": [
        "# Inverse CDF\n",
        "cdf.inverse(0.75)"
      ],
      "execution_count": 53,
      "outputs": [
        {
          "output_type": "execute_result",
          "data": {
            "text/plain": [
              "array(57.)"
            ]
          },
          "metadata": {
            "tags": []
          },
          "execution_count": 53
        }
      ]
    },
    {
      "cell_type": "markdown",
      "metadata": {
        "id": "-_ifHQZRUbmf"
      },
      "source": [
        "Here in inverse we are providing the percentile as a input and it returns the number from the array that is less then that percentile"
      ]
    },
    {
      "cell_type": "markdown",
      "metadata": {
        "id": "7vpqp4E1QZeG"
      },
      "source": [
        "### Make a CDF\n",
        "In this exercise, you'll make a CDF and use it to determine the fraction of respondents in the GSS dataset who are OLDER than 30.\n",
        "\n",
        "The GSS dataset has been preloaded for you into a DataFrame called gss.\n",
        "\n",
        "As with the Pmf class from the previous lesson, the Cdf class you just saw in the video has been created for you, and you can access it outside of DataCamp via the empiricaldist library."
      ]
    },
    {
      "cell_type": "code",
      "metadata": {
        "id": "1Ygszkw5RGT6",
        "colab": {
          "base_uri": "https://localhost:8080/",
          "height": 0
        },
        "outputId": "4c2f9499-337d-404d-aceb-9d8d39ff14d1"
      },
      "source": [
        "gss = pd.read_hdf('/content/drive/MyDrive/DataCamp_DataScience/Eploratory Data Analysis/gss.hdf5')\n",
        "gss.head()"
      ],
      "execution_count": 54,
      "outputs": [
        {
          "output_type": "execute_result",
          "data": {
            "text/html": [
              "<div>\n",
              "<style scoped>\n",
              "    .dataframe tbody tr th:only-of-type {\n",
              "        vertical-align: middle;\n",
              "    }\n",
              "\n",
              "    .dataframe tbody tr th {\n",
              "        vertical-align: top;\n",
              "    }\n",
              "\n",
              "    .dataframe thead th {\n",
              "        text-align: right;\n",
              "    }\n",
              "</style>\n",
              "<table border=\"1\" class=\"dataframe\">\n",
              "  <thead>\n",
              "    <tr style=\"text-align: right;\">\n",
              "      <th></th>\n",
              "      <th>year</th>\n",
              "      <th>age</th>\n",
              "      <th>cohort</th>\n",
              "      <th>sex</th>\n",
              "      <th>race</th>\n",
              "      <th>educ</th>\n",
              "      <th>realinc</th>\n",
              "      <th>gunlaw</th>\n",
              "      <th>grass</th>\n",
              "      <th>wtssall</th>\n",
              "    </tr>\n",
              "  </thead>\n",
              "  <tbody>\n",
              "    <tr>\n",
              "      <th>0</th>\n",
              "      <td>1972</td>\n",
              "      <td>26.0</td>\n",
              "      <td>1946.0</td>\n",
              "      <td>1</td>\n",
              "      <td>1</td>\n",
              "      <td>18.0</td>\n",
              "      <td>13537.0</td>\n",
              "      <td>2.0</td>\n",
              "      <td>NaN</td>\n",
              "      <td>0.8893</td>\n",
              "    </tr>\n",
              "    <tr>\n",
              "      <th>1</th>\n",
              "      <td>1972</td>\n",
              "      <td>38.0</td>\n",
              "      <td>1934.0</td>\n",
              "      <td>2</td>\n",
              "      <td>1</td>\n",
              "      <td>12.0</td>\n",
              "      <td>18951.0</td>\n",
              "      <td>1.0</td>\n",
              "      <td>NaN</td>\n",
              "      <td>0.4446</td>\n",
              "    </tr>\n",
              "    <tr>\n",
              "      <th>2</th>\n",
              "      <td>1972</td>\n",
              "      <td>57.0</td>\n",
              "      <td>1915.0</td>\n",
              "      <td>1</td>\n",
              "      <td>1</td>\n",
              "      <td>12.0</td>\n",
              "      <td>30458.0</td>\n",
              "      <td>1.0</td>\n",
              "      <td>NaN</td>\n",
              "      <td>1.3339</td>\n",
              "    </tr>\n",
              "    <tr>\n",
              "      <th>3</th>\n",
              "      <td>1972</td>\n",
              "      <td>61.0</td>\n",
              "      <td>1911.0</td>\n",
              "      <td>2</td>\n",
              "      <td>1</td>\n",
              "      <td>14.0</td>\n",
              "      <td>37226.0</td>\n",
              "      <td>1.0</td>\n",
              "      <td>NaN</td>\n",
              "      <td>0.8893</td>\n",
              "    </tr>\n",
              "    <tr>\n",
              "      <th>4</th>\n",
              "      <td>1972</td>\n",
              "      <td>59.0</td>\n",
              "      <td>1913.0</td>\n",
              "      <td>1</td>\n",
              "      <td>1</td>\n",
              "      <td>12.0</td>\n",
              "      <td>30458.0</td>\n",
              "      <td>2.0</td>\n",
              "      <td>NaN</td>\n",
              "      <td>0.8893</td>\n",
              "    </tr>\n",
              "  </tbody>\n",
              "</table>\n",
              "</div>"
            ],
            "text/plain": [
              "   year   age  cohort  sex  race  educ  realinc  gunlaw  grass  wtssall\n",
              "0  1972  26.0  1946.0    1     1  18.0  13537.0     2.0    NaN   0.8893\n",
              "1  1972  38.0  1934.0    2     1  12.0  18951.0     1.0    NaN   0.4446\n",
              "2  1972  57.0  1915.0    1     1  12.0  30458.0     1.0    NaN   1.3339\n",
              "3  1972  61.0  1911.0    2     1  14.0  37226.0     1.0    NaN   0.8893\n",
              "4  1972  59.0  1913.0    1     1  12.0  30458.0     2.0    NaN   0.8893"
            ]
          },
          "metadata": {
            "tags": []
          },
          "execution_count": 54
        }
      ]
    },
    {
      "cell_type": "markdown",
      "metadata": {
        "id": "KEec7QGTRiZI"
      },
      "source": [
        "* Select the 'age' column. Store the result in age."
      ]
    },
    {
      "cell_type": "code",
      "metadata": {
        "id": "lWSNcbX8Rt1T",
        "colab": {
          "base_uri": "https://localhost:8080/"
        },
        "outputId": "2428bb03-e55a-4aec-f020-93f08cf663be"
      },
      "source": [
        "age = gss.age\n",
        "age.head()"
      ],
      "execution_count": 55,
      "outputs": [
        {
          "output_type": "execute_result",
          "data": {
            "text/plain": [
              "0    26.0\n",
              "1    38.0\n",
              "2    57.0\n",
              "3    61.0\n",
              "4    59.0\n",
              "Name: age, dtype: float64"
            ]
          },
          "metadata": {
            "tags": []
          },
          "execution_count": 55
        }
      ]
    },
    {
      "cell_type": "markdown",
      "metadata": {
        "id": "U7qirQ-JRvxa"
      },
      "source": [
        "* Compute the CDF of age. Store the result in cdf_age."
      ]
    },
    {
      "cell_type": "code",
      "metadata": {
        "id": "3Hdl8HM6R3Cr"
      },
      "source": [
        "cdf_age = Cdf.from_seq(age)"
      ],
      "execution_count": 56,
      "outputs": []
    },
    {
      "cell_type": "markdown",
      "metadata": {
        "id": "D7Un_JJCR8Sn"
      },
      "source": [
        "* Calculate the CDF of 30."
      ]
    },
    {
      "cell_type": "code",
      "metadata": {
        "id": "Vj7eH3Y3SFab",
        "colab": {
          "base_uri": "https://localhost:8080/"
        },
        "outputId": "ca0554e7-0eb3-4c7a-d77d-20b5500d36ce"
      },
      "source": [
        "print(cdf_age(30))"
      ],
      "execution_count": 57,
      "outputs": [
        {
          "output_type": "stream",
          "text": [
            "0.2539137136526389\n"
          ],
          "name": "stdout"
        }
      ]
    },
    {
      "cell_type": "markdown",
      "metadata": {
        "id": "vr38z-dbSJUv"
      },
      "source": [
        "* What fraction of the respondents in the GSS dataset are OLDER than 30?"
      ]
    },
    {
      "cell_type": "code",
      "metadata": {
        "id": "Mpd_ocAESUXp",
        "colab": {
          "base_uri": "https://localhost:8080/"
        },
        "outputId": "bc34653c-4d35-4478-a086-189de6e6eab1"
      },
      "source": [
        "round((1-cdf_age(30)) * 100)"
      ],
      "execution_count": 58,
      "outputs": [
        {
          "output_type": "execute_result",
          "data": {
            "text/plain": [
              "75.0"
            ]
          },
          "metadata": {
            "tags": []
          },
          "execution_count": 58
        }
      ]
    },
    {
      "cell_type": "markdown",
      "metadata": {
        "id": "SmX4sXV_SYGq"
      },
      "source": [
        "so answer is 75%"
      ]
    },
    {
      "cell_type": "markdown",
      "metadata": {
        "id": "Le3NkehjSfVP"
      },
      "source": [
        "### Compute IQR\n",
        "\n",
        "Recall from the video that the interquartile range (IQR) is the difference between the 75th and 25th percentiles. It is a measure of variability that is robust in the presence of errors or extreme values.\n",
        "\n",
        "In this exercise, you'll compute the interquartile range of income in the GSS dataset. Income is stored in the 'realinc' column, and the CDF of income has already been computed and stored in cdf_income."
      ]
    },
    {
      "cell_type": "markdown",
      "metadata": {
        "id": "zWadlJtNSldU"
      },
      "source": [
        "* Calculate the 75th percentile of income and store it in percentile_75th\n",
        "* Calculate the 25th percentile of income and store it in percentile_25th\n",
        "* Calculate the interquartile range of income. Store the result in iqr"
      ]
    },
    {
      "cell_type": "code",
      "metadata": {
        "id": "y_d8E5TWUt8r"
      },
      "source": [
        "cdf_income = Cdf.from_seq(gss.realinc)"
      ],
      "execution_count": 59,
      "outputs": []
    },
    {
      "cell_type": "code",
      "metadata": {
        "id": "a_QHfFsnSobN"
      },
      "source": [
        "percentile75 = cdf_income.inverse(0.75)"
      ],
      "execution_count": 60,
      "outputs": []
    },
    {
      "cell_type": "code",
      "metadata": {
        "id": "QEYLBUnwTE-f"
      },
      "source": [
        "percentile25 = cdf_income.inverse(0.25)"
      ],
      "execution_count": 61,
      "outputs": []
    },
    {
      "cell_type": "code",
      "metadata": {
        "id": "UhYB6o3yTOR6"
      },
      "source": [
        "iqr = percentile75 - percentile25"
      ],
      "execution_count": 62,
      "outputs": []
    },
    {
      "cell_type": "markdown",
      "metadata": {
        "id": "YP0zrDQrTZMu"
      },
      "source": [
        "* __Question__ : What is the interquartile range (IQR) of income in the GSS datset?"
      ]
    },
    {
      "cell_type": "code",
      "metadata": {
        "id": "sZra4eRjTv0Z",
        "colab": {
          "base_uri": "https://localhost:8080/"
        },
        "outputId": "77fab907-3daf-4506-9de5-26a3b7156453"
      },
      "source": [
        "percentile25"
      ],
      "execution_count": 63,
      "outputs": [
        {
          "output_type": "execute_result",
          "data": {
            "text/plain": [
              "array(13750.)"
            ]
          },
          "metadata": {
            "tags": []
          },
          "execution_count": 63
        }
      ]
    },
    {
      "cell_type": "code",
      "metadata": {
        "id": "GzITP0QuTzDc",
        "colab": {
          "base_uri": "https://localhost:8080/"
        },
        "outputId": "c0a71c11-955f-4347-881a-a938b7027782"
      },
      "source": [
        "percentile75"
      ],
      "execution_count": 64,
      "outputs": [
        {
          "output_type": "execute_result",
          "data": {
            "text/plain": [
              "array(43426.)"
            ]
          },
          "metadata": {
            "tags": []
          },
          "execution_count": 64
        }
      ]
    },
    {
      "cell_type": "code",
      "metadata": {
        "id": "RoxJjqx4Ubjb",
        "colab": {
          "base_uri": "https://localhost:8080/"
        },
        "outputId": "b41068f7-596b-4759-8127-9d0cf69385b3"
      },
      "source": [
        "iqr"
      ],
      "execution_count": 65,
      "outputs": [
        {
          "output_type": "execute_result",
          "data": {
            "text/plain": [
              "29676.0"
            ]
          },
          "metadata": {
            "tags": []
          },
          "execution_count": 65
        }
      ]
    },
    {
      "cell_type": "markdown",
      "metadata": {
        "id": "Oxcss-fmVVgH"
      },
      "source": [
        "### Plot a CDF\n",
        "\n",
        "The distribution of income in almost every country is long-tailed; that is, there are a small number of people with very high incomes.\n",
        "\n",
        "In the GSS dataset, the variable 'realinc' represents total household income, converted to 1986 dollars. We can get a sense of the shape of this distribution by plotting the CDF."
      ]
    },
    {
      "cell_type": "markdown",
      "metadata": {
        "id": "5TY2hwO0Vf6-"
      },
      "source": [
        "* Select 'realinc' from the gss dataset.\n",
        "* Make a Cdf object called cdf_income.\n",
        "* Create a plot of cdf_income using .plot()."
      ]
    },
    {
      "cell_type": "code",
      "metadata": {
        "id": "f3x2ceulVnnJ",
        "colab": {
          "base_uri": "https://localhost:8080/",
          "height": 0
        },
        "outputId": "c7cff749-6a02-4104-f329-138a2fa06588"
      },
      "source": [
        "cdf_income = Cdf.from_seq(gss['realinc'])\n",
        "\n",
        "# Plot\n",
        "cdf_income.plot()\n",
        "plt.title('Income CDF Plot')\n",
        "plt.xlabel('Income')\n",
        "plt.ylabel('Cdf')\n",
        "plt.show()"
      ],
      "execution_count": 66,
      "outputs": [
        {
          "output_type": "display_data",
          "data": {
            "image/png": "[encoded data removed]",
            "text/plain": [
              "<Figure size 432x288 with 1 Axes>"
            ]
          },
          "metadata": {
            "tags": [],
            "needs_background": "light"
          }
        }
      ]
    },
    {
      "cell_type": "markdown",
      "metadata": {
        "id": "UPCC8meNWcMy"
      },
      "source": [
        "### Distribution of education\n",
        "\n",
        "Let's begin comparing incomes for different levels of education in the GSS dataset, which has been pre-loaded for you into a DataFrame called gss. The variable educ represents the respondent's years of education.\n",
        "\n",
        "What fraction of respondents report that they have 12 years of education or fewer?"
      ]
    },
    {
      "cell_type": "code",
      "metadata": {
        "id": "alKsAW6pYV6g",
        "colab": {
          "base_uri": "https://localhost:8080/"
        },
        "outputId": "249079ba-b167-4d85-82cc-91ef7bc40083"
      },
      "source": [
        "gss.columns"
      ],
      "execution_count": 67,
      "outputs": [
        {
          "output_type": "execute_result",
          "data": {
            "text/plain": [
              "Index(['year', 'age', 'cohort', 'sex', 'race', 'educ', 'realinc', 'gunlaw',\n",
              "       'grass', 'wtssall'],\n",
              "      dtype='object')"
            ]
          },
          "metadata": {
            "tags": []
          },
          "execution_count": 67
        }
      ]
    },
    {
      "cell_type": "code",
      "metadata": {
        "id": "m-Ago6gvXMrE",
        "colab": {
          "base_uri": "https://localhost:8080/"
        },
        "outputId": "02cbb693-d8e8-45f0-ffc9-4f98465d1ac8"
      },
      "source": [
        "edu_cdf = Cdf.from_seq(gss.educ)\n",
        "edu_cdf(12)"
      ],
      "execution_count": 68,
      "outputs": [
        {
          "output_type": "execute_result",
          "data": {
            "text/plain": [
              "array(0.53226117)"
            ]
          },
          "metadata": {
            "tags": []
          },
          "execution_count": 68
        }
      ]
    },
    {
      "cell_type": "markdown",
      "metadata": {
        "id": "63jA27p1Yjtu"
      },
      "source": [
        "Answer is approx : 53%"
      ]
    },
    {
      "cell_type": "markdown",
      "metadata": {
        "id": "Xj-z2A0qYqxZ"
      },
      "source": [
        "### Extract education levels\n",
        "\n",
        "Let's create Boolean Series to identify respondents with different levels of education.\n",
        "\n",
        "In the U.S, 12 years of education usually means the respondent has completed high school (secondary education). A respondent with 14 years of education has probably completed an associate degree (two years of college); someone with 16 years has probably completed a bachelor's degree (four years of college)."
      ]
    },
    {
      "cell_type": "markdown",
      "metadata": {
        "id": "Y6hvNtA4Zrgk"
      },
      "source": [
        "* Complete the line that identifies respondents with associate degrees, that is, people with 14 or more years of education but less than 16.\n",
        "* Complete the line that identifies respondents with 12 or fewer years of education.\n",
        "* Confirm that the mean of high is the fraction we computed in the previous exercise, about 53%."
      ]
    },
    {
      "cell_type": "code",
      "metadata": {
        "id": "O9bYQB8kZxBM",
        "colab": {
          "base_uri": "https://localhost:8080/"
        },
        "outputId": "bf6a76a9-e76f-416f-8474-1790bfedb6ed"
      },
      "source": [
        "educ = gss['educ']\n",
        "bach = educ > 16\n",
        "assc = (educ >= 14) & (educ < 16)\n",
        "high = educ <= 12\n",
        "print(high.mean())"
      ],
      "execution_count": 69,
      "outputs": [
        {
          "output_type": "stream",
          "text": [
            "0.5308807991547402\n"
          ],
          "name": "stdout"
        }
      ]
    },
    {
      "cell_type": "markdown",
      "metadata": {
        "id": "oZuu9URZa1Xd"
      },
      "source": [
        "### Plot income CDFs\n",
        "Let's now see what the distribution of income looks like for people with different education levels. You can do this by plotting the CDFs. Recall how Allen plotted the income CDFs of respondents interviewed before and after 1995:\n",
        "\n",
        "You can assume that Boolean Series have been defined, as in the previous exercise, to identify respondents with different education levels: high, assc, and bach."
      ]
    },
    {
      "cell_type": "code",
      "metadata": {
        "id": "NIuRGJ32ElPM"
      },
      "source": [
        "income = gss.realinc"
      ],
      "execution_count": 70,
      "outputs": []
    },
    {
      "cell_type": "code",
      "metadata": {
        "id": "NEfjbBJKEqyD",
        "colab": {
          "base_uri": "https://localhost:8080/",
          "height": 0
        },
        "outputId": "7178b17c-5b4e-4c7b-83aa-51d171e0e53f"
      },
      "source": [
        "Cdf.from_seq(income[bach]).plot(label = 'Bachelor')\n",
        "Cdf.from_seq(income[high]).plot(label = 'High School')\n",
        "Cdf.from_seq(income[assc]).plot(label = 'Associalte')\n",
        "plt.xlabel(\"Income 1986\")\n",
        "plt.ylabel(\"CDF\")\n",
        "plt.legend()\n",
        "plt.show()"
      ],
      "execution_count": 71,
      "outputs": [
        {
          "output_type": "display_data",
          "data": {
            "image/png": "[encoded data removed]",
            "text/plain": [
              "<Figure size 432x288 with 1 Axes>"
            ]
          },
          "metadata": {
            "tags": [],
            "needs_background": "light"
          }
        }
      ]
    },
    {
      "cell_type": "markdown",
      "metadata": {
        "id": "SM_MW93vFOk2"
      },
      "source": [
        "Nice job. It might not be surprising that people with more education have higher incomes, but looking at these distributions, we can see where the differences are."
      ]
    },
    {
      "cell_type": "markdown",
      "metadata": {
        "id": "sjlV2Yl6GBYm"
      },
      "source": [
        "### Model Distribution\n",
        "\n",
        "* PMF don't work very well when data have large number of unique values\n",
        "\n",
        "* Lets discuss about PDF (probability density function) and learn how to estimate pdf from the data\n",
        "\n",
        "\n",
        "Let's Start with __normal distribution__ also known as _Galcian Distribution__:"
      ]
    },
    {
      "cell_type": "markdown",
      "metadata": {
        "id": "e-HpBK8QGneo"
      },
      "source": [
        "#### Normal Distribution\n",
        "\n",
        "As we know most of the thing that we measure in the world are normally distributed.\n",
        "\n",
        "To get the sense how the normal distribution look like we will use __numpy__ to generate random value which are normally distributed and will plot the __CDF__ for the same using Cdf from the modules."
      ]
    },
    {
      "cell_type": "code",
      "metadata": {
        "id": "JIMiuko1P38u"
      },
      "source": [
        "sample = np.random.normal(size = 1000)"
      ],
      "execution_count": 72,
      "outputs": []
    },
    {
      "cell_type": "code",
      "metadata": {
        "id": "LOUY3q3zGsel",
        "colab": {
          "base_uri": "https://localhost:8080/",
          "height": 0
        },
        "outputId": "ee4eb13a-47f7-41f0-f512-f98a1f41d587"
      },
      "source": [
        "Cdf.from_seq(sample).plot()\n"
      ],
      "execution_count": 73,
      "outputs": [
        {
          "output_type": "display_data",
          "data": {
            "image/png": "[encoded data removed]",
            "text/plain": [
              "<Figure size 432x288 with 1 Axes>"
            ]
          },
          "metadata": {
            "tags": [],
            "needs_background": "light"
          }
        }
      ]
    },
    {
      "cell_type": "markdown",
      "metadata": {
        "id": "SS_krarkG6LQ"
      },
      "source": [
        "This is a sygmoid shape what we can except from the normal distribution"
      ]
    },
    {
      "cell_type": "markdown",
      "metadata": {
        "id": "EXds7AqTHA8a"
      },
      "source": [
        "#### Normal CDF.\n",
        "\n",
        "__Scify__ provide the package called norm. which we can use to understand the normal distribution"
      ]
    },
    {
      "cell_type": "code",
      "metadata": {
        "id": "xMeB67iPIeax"
      },
      "source": [
        "from scipy.stats import norm, binom\n",
        "xs = np.linspace(-3,3)\n",
        "ys = norm(0,1).cdf(xs)"
      ],
      "execution_count": 74,
      "outputs": []
    },
    {
      "cell_type": "markdown",
      "metadata": {
        "id": "Hg2O6VBHIzM2"
      },
      "source": [
        "we will use linspace to create an array with equally space point from -3 and 3. __norm(0,1)__ represent the a normal distribution with mean 0 and standard deviation 1.\n",
        "\n",
        "then __.cdf()__ evaluate the CDF of normal distribution"
      ]
    },
    {
      "cell_type": "code",
      "metadata": {
        "id": "SItZj0yFJL_d",
        "colab": {
          "base_uri": "https://localhost:8080/",
          "height": 0
        },
        "outputId": "8aa74032-5a73-4d5b-c7b9-05613325660e"
      },
      "source": [
        "plt.plot(xs,ys,color = 'gray')\n",
        "Cdf.from_seq(sample).plot()\n",
        "plt.show()"
      ],
      "execution_count": 75,
      "outputs": [
        {
          "output_type": "display_data",
          "data": {
            "image/png": "[encoded data removed]",
            "text/plain": [
              "<Figure size 432x288 with 1 Axes>"
            ]
          },
          "metadata": {
            "tags": [],
            "needs_background": "light"
          }
        }
      ]
    },
    {
      "cell_type": "markdown",
      "metadata": {
        "id": "IRZwaLsiJbjX"
      },
      "source": [
        "Here we are ploting the ploting the result with gray line and together with a sequencial number for nomal distribution of sample_size 1000.\n",
        "\n",
        "We can see that Cdf for the sample is very close the cdf for the whole range. If that (xs, ys) was the real data then we made conclusion that the normal distribution a good model for the data"
      ]
    },
    {
      "cell_type": "markdown",
      "metadata": {
        "id": "roX7ItjxK4-9"
      },
      "source": [
        "#### Bell Curve\n",
        "\n",
        "The norm object also provide __dot pdf__ which means probability density function or PDF. Which will show us the bell shaped curve."
      ]
    },
    {
      "cell_type": "code",
      "metadata": {
        "id": "5z8_AaxFKs1s",
        "colab": {
          "base_uri": "https://localhost:8080/",
          "height": 0
        },
        "outputId": "46d69a0f-af0d-40d1-be4b-269eec47a00c"
      },
      "source": [
        "xs = np.linspace(-3,3)\n",
        "ys = norm(0,1).pdf(xs)\n",
        "plt.plot(xs,ys,color = 'gray')\n",
        "plt.ylabel('PDF')\n",
        "plt.xlabel('Normal Distribution value')\n",
        "plt.show()"
      ],
      "execution_count": 76,
      "outputs": [
        {
          "output_type": "display_data",
          "data": {
            "image/png": "[encoded data removed]",
            "text/plain": [
              "<Figure size 432x288 with 1 Axes>"
            ]
          },
          "metadata": {
            "tags": [],
            "needs_background": "light"
          }
        }
      ]
    },
    {
      "cell_type": "markdown",
      "metadata": {
        "id": "XksN0CG7LPod"
      },
      "source": [
        "Unfortunatelly if we compare this PDF with pmf then it will not work properly"
      ]
    },
    {
      "cell_type": "code",
      "metadata": {
        "id": "Awa6puDGLx-K",
        "colab": {
          "base_uri": "https://localhost:8080/",
          "height": 0
        },
        "outputId": "f1b3689c-a0ab-44f5-81cd-d4c7edf417ad"
      },
      "source": [
        "xs = np.linspace(-3,3)\n",
        "ys = norm(0,1).pdf(xs)\n",
        "plt.plot(xs,ys,color = 'gray')\n",
        "plt.plot(xs, binom(0,1).pmf(xs),color = 'red')\n",
        "plt.ylabel('PDF')\n",
        "plt.xlabel('Normal Distribution value')\n",
        "plt.show()"
      ],
      "execution_count": 77,
      "outputs": [
        {
          "output_type": "display_data",
          "data": {
            "image/png": "[encoded data removed]",
            "text/plain": [
              "<Figure size 432x288 with 1 Axes>"
            ]
          },
          "metadata": {
            "tags": [],
            "needs_background": "light"
          }
        }
      ]
    },
    {
      "cell_type": "markdown",
      "metadata": {
        "id": "EsLbi3rPNV0j"
      },
      "source": [
        "__pmf of this sample is a flat line accros the bottom__\n",
        "\n",
        "In random sample every value is unique so the probabilty of every element is 1/1000."
      ]
    },
    {
      "cell_type": "markdown",
      "metadata": {
        "id": "-RF6bAiGNh0u"
      },
      "source": [
        "However, we can use the points in the sample to estimate the PDF of the distribution they came from.\n",
        "\n",
        "#### Kde Plot\n",
        "\n",
        "This process is called Kernal  density estimation, or KDE. It's way of getting from a PMF, a probability mass funtion, to a PDF, a probabilty density function. To generate the KDE plot we will use `seaborn` library for data visualization."
      ]
    },
    {
      "cell_type": "code",
      "metadata": {
        "id": "SX_5820MOAuT"
      },
      "source": [
        "import seaborn as sns"
      ],
      "execution_count": 78,
      "outputs": []
    },
    {
      "cell_type": "code",
      "metadata": {
        "id": "xmb7ZjMAOqm3",
        "colab": {
          "base_uri": "https://localhost:8080/",
          "height": 0
        },
        "outputId": "57c78975-576a-4829-f14e-ff8ac6227cee"
      },
      "source": [
        "sns.kdeplot(sample)\n",
        "plt.xlabel('Normal Distribution values')\n",
        "plt.ylabel('Estimated Probabilty Density Value')\n",
        "plt.show()"
      ],
      "execution_count": 79,
      "outputs": [
        {
          "output_type": "display_data",
          "data": {
            "image/png": "[encoded data removed]",
            "text/plain": [
              "<Figure size 432x288 with 1 Axes>"
            ]
          },
          "metadata": {
            "tags": [],
            "needs_background": "light"
          }
        }
      ]
    },
    {
      "cell_type": "markdown",
      "metadata": {
        "id": "JOdL9rGMOyWj"
      },
      "source": [
        "#### KDE and PDF\n",
        "\n",
        "Now we can compare the kde plot and normal pdf."
      ]
    },
    {
      "cell_type": "code",
      "metadata": {
        "id": "G4VEbs_7PlER",
        "colab": {
          "base_uri": "https://localhost:8080/",
          "height": 0
        },
        "outputId": "29b9322f-efeb-4cbb-a08e-236c94b3f848"
      },
      "source": [
        "xs = np.linspace(-3,3)\n",
        "ys = norm.pdf(xs)\n",
        "plt.plot(xs,ys,color = 'gray')\n",
        "sns.kdeplot(sample, color='Red')\n",
        "plt.show()"
      ],
      "execution_count": 80,
      "outputs": [
        {
          "output_type": "display_data",
          "data": {
            "image/png": "[encoded data removed]",
            "text/plain": [
              "<Figure size 432x288 with 1 Axes>"
            ]
          },
          "metadata": {
            "tags": [],
            "needs_background": "light"
          }
        }
      ]
    },
    {
      "cell_type": "markdown",
      "metadata": {
        "id": "NZez3yLdPtyQ"
      },
      "source": [
        "#### PMF , CDF and KDE (Final Thoughts)\n",
        "\n",
        "* __Use CDF for exploration__\n",
        "* __Use PMF if there are a small number of unique values__\n",
        "* __Use KDE if there are a lot of values__\n",
        "\n",
        "CDF is a best view of whats going on without getting distracted by noise. The biggest drawback of cdf is they are less well known. \n",
        "\n",
        "There we can use PMF we are presenting the result to the audiences."
      ]
    },
    {
      "cell_type": "markdown",
      "metadata": {
        "id": "5fv3KkimQwuQ"
      },
      "source": [
        "### Distribution of income (normal_distribution using scipy)\n",
        "In many datasets, the distribution of income is approximately lognormal, which means that the logarithms of the incomes fit a normal distribution. We'll see whether that's true for the GSS data. As a first step, you'll compute the mean and standard deviation of the log of incomes using NumPy's np.log10() function.\n",
        "\n",
        "Then, you'll use the computed mean and standard deviation to make a norm object using the scipy.stats.norm() function.\n",
        "\n",
        "* Extract 'realinc' from gss and compute its logarithm using np.log10().\n",
        "* Compute the mean and standard deviation of the result.\n",
        "* Make a norm object by passing the computed mean and standard deviation to norm()."
      ]
    },
    {
      "cell_type": "code",
      "metadata": {
        "colab": {
          "base_uri": "https://localhost:8080/"
        },
        "id": "ATj2C9Ua_OF9",
        "outputId": "782052f9-a22d-46b5-f550-7b97493f5991"
      },
      "source": [
        "# extract the realincome form gss\n",
        "income = gss.realinc\n",
        "\n",
        "# computing logritham \n",
        "income_log = np.log10(income)\n",
        "\n",
        "# compute the mean and standard deviation of the result\n",
        "mean = income_log.mean()\n",
        "std = income_log.std()\n",
        "print(mean,std)\n",
        "\n",
        "# importing scipy norm\n",
        "from scipy.stats import norm\n",
        "dist = norm(mean,std)"
      ],
      "execution_count": 82,
      "outputs": [
        {
          "output_type": "stream",
          "text": [
            "4.371148677933652 0.4290082383271419\n"
          ],
          "name": "stdout"
        }
      ]
    },
    {
      "cell_type": "markdown",
      "metadata": {
        "id": "UijuemFpC65k"
      },
      "source": [
        "Now we can plot the model and the observed distribution and see where they differ."
      ]
    },
    {
      "cell_type": "markdown",
      "metadata": {
        "id": "jRkBn3b0_fHm"
      },
      "source": [
        "### Comparing CDFs\n",
        "To see whether the distribution of income is well modeled by a lognormal distribution, we'll compare the CDF of the logarithm of the data to a normal distribution with the same mean and standard deviation. These variables from the previous exercise are available for use:\n",
        "\n",
        "    # Extract realinc and compute its log\n",
        "    log_income = np.log10(gss['realinc'])\n",
        "\n",
        "    # Compute mean and standard deviation\n",
        "    mean, std = log_income.mean(), log_income.std()\n",
        "\n",
        "    # Make a norm object\n",
        "    from scipy.stats import norm\n",
        "    dist = norm(mean, std)\n",
        "\n",
        "dist is a scipy.stats.norm object with the same mean and standard deviation as the data. It provides .cdf(), which evaluates the normal cumulative distribution function."
      ]
    },
    {
      "cell_type": "markdown",
      "metadata": {
        "id": "SEpPafJmA-2H"
      },
      "source": [
        "* Evaluate the normal cumulative distribution function using dist.cdf.\n",
        "* Use the Cdf() function to compute the CDF of log_income.\n",
        "* Plot the result.\n"
      ]
    },
    {
      "cell_type": "code",
      "metadata": {
        "colab": {
          "base_uri": "https://localhost:8080/",
          "height": 278
        },
        "id": "nyxXB-weBCct",
        "outputId": "b283f193-9604-4b43-ede5-310fd721505e"
      },
      "source": [
        "xs = np.linspace(2,5.5)\n",
        "dist_norm = dist.cdf(xs)\n",
        "\n",
        "plt.plot(xs, dist_norm, color = 'grey')\n",
        "Cdf.from_seq(income_log).plot()\n",
        "plt.legend()\n",
        "plt.xlabel('log10 of realinc')\n",
        "plt.ylabel('CDF')\n",
        "plt.show()"
      ],
      "execution_count": 98,
      "outputs": [
        {
          "output_type": "display_data",
          "data": {
            "image/png": "[encoded data removed]",
            "text/plain": [
              "<Figure size 432x288 with 1 Axes>"
            ]
          },
          "metadata": {
            "tags": [],
            "needs_background": "light"
          }
        }
      ]
    },
    {
      "cell_type": "markdown",
      "metadata": {
        "id": "PdCO_SvQBEVA"
      },
      "source": [
        "The lognormal model is a pretty good fit for the data, but clearly not a perfect match. That's what real data is like; sometimes it doesn't fit the model."
      ]
    },
    {
      "cell_type": "markdown",
      "metadata": {
        "id": "0bbog8KlC2EC"
      },
      "source": [
        "### Comparing PDFs\n",
        "\n",
        "In the previous exercise, we used CDFs to see if the distribution of income is lognormal. We can make the same comparison using a PDF and KDE. That's what you'll do in this exercise!\n",
        "\n",
        "As before, the norm object dist is available in your workspace:\n",
        "\n",
        "    from scipy.stats import norm\n",
        "    dist = norm(mean, std)\n",
        "\n",
        "Just as all norm objects have a .cdf() method, they also have a .pdf() method.\n",
        "\n",
        "To create a KDE plot, you can use Seaborn's kdeplot() function. To learn more about this function and Seaborn, you can check out DataCamp's Data Visualization with Seaborn course. Here, Seaborn has been imported for you as sns."
      ]
    },
    {
      "cell_type": "markdown",
      "metadata": {
        "id": "stVpWZsNDGzw"
      },
      "source": [
        "* Evaluate the normal PDF using dist, which is a norm object with the same mean and standard deviation as the data.\n",
        "* Make a KDE plot of the logarithms of the incomes, using log_income, which is a Series object."
      ]
    },
    {
      "cell_type": "code",
      "metadata": {
        "colab": {
          "base_uri": "https://localhost:8080/",
          "height": 278
        },
        "id": "DvcBJaHwDKJ4",
        "outputId": "357c5592-dd8f-438a-f3df-3573fef01ade"
      },
      "source": [
        "plt.plot(xs, dist.pdf(xs), color = 'grey')\n",
        "sns.kdeplot(income_log)\n",
        "\n",
        "plt.show()"
      ],
      "execution_count": 103,
      "outputs": [
        {
          "output_type": "display_data",
          "data": {
            "image/png": "[encoded data removed]",
            "text/plain": [
              "<Figure size 432x288 with 1 Axes>"
            ]
          },
          "metadata": {
            "tags": [],
            "needs_background": "light"
          }
        }
      ]
    },
    {
      "cell_type": "markdown",
      "metadata": {
        "id": "0KrJl2osDTWl"
      },
      "source": [
        "We've seen several ways to vizualize and compare distributions: PMFs, CDFs, and KDE plots. In the next Chapter we'll explore relationships between variables, starting with heights and weights from a large survey of adults in the U.S. See you there!"
      ]
    },
    {
      "cell_type": "markdown",
      "metadata": {
        "id": "nwwZsyL5D_qA"
      },
      "source": [
        "### Exploring Relations"
      ]
    },
    {
      "cell_type": "code",
      "metadata": {
        "colab": {
          "base_uri": "https://localhost:8080/",
          "height": 197
        },
        "id": "njmLsm4uEGGo",
        "outputId": "98002e7e-5d93-4fb1-a353-03827cf02d2e"
      },
      "source": [
        "brfss = pd.read_hdf('/content/drive/MyDrive/DataCamp_DataScience/Eploratory Data Analysis/brfss.hdf5')\n",
        "brfss.head()"
      ],
      "execution_count": 104,
      "outputs": [
        {
          "output_type": "execute_result",
          "data": {
            "text/html": [
              "<div>\n",
              "<style scoped>\n",
              "    .dataframe tbody tr th:only-of-type {\n",
              "        vertical-align: middle;\n",
              "    }\n",
              "\n",
              "    .dataframe tbody tr th {\n",
              "        vertical-align: top;\n",
              "    }\n",
              "\n",
              "    .dataframe thead th {\n",
              "        text-align: right;\n",
              "    }\n",
              "</style>\n",
              "<table border=\"1\" class=\"dataframe\">\n",
              "  <thead>\n",
              "    <tr style=\"text-align: right;\">\n",
              "      <th></th>\n",
              "      <th>SEX</th>\n",
              "      <th>HTM4</th>\n",
              "      <th>WTKG3</th>\n",
              "      <th>INCOME2</th>\n",
              "      <th>_LLCPWT</th>\n",
              "      <th>_AGEG5YR</th>\n",
              "      <th>_VEGESU1</th>\n",
              "      <th>_HTMG10</th>\n",
              "      <th>AGE</th>\n",
              "    </tr>\n",
              "  </thead>\n",
              "  <tbody>\n",
              "    <tr>\n",
              "      <th>96230</th>\n",
              "      <td>2.0</td>\n",
              "      <td>160.0</td>\n",
              "      <td>60.33</td>\n",
              "      <td>8.0</td>\n",
              "      <td>1398.525290</td>\n",
              "      <td>6.0</td>\n",
              "      <td>2.14</td>\n",
              "      <td>150.0</td>\n",
              "      <td>47.0</td>\n",
              "    </tr>\n",
              "    <tr>\n",
              "      <th>244920</th>\n",
              "      <td>2.0</td>\n",
              "      <td>163.0</td>\n",
              "      <td>58.97</td>\n",
              "      <td>5.0</td>\n",
              "      <td>84.057503</td>\n",
              "      <td>13.0</td>\n",
              "      <td>3.14</td>\n",
              "      <td>160.0</td>\n",
              "      <td>89.5</td>\n",
              "    </tr>\n",
              "    <tr>\n",
              "      <th>57312</th>\n",
              "      <td>2.0</td>\n",
              "      <td>163.0</td>\n",
              "      <td>72.57</td>\n",
              "      <td>8.0</td>\n",
              "      <td>390.248599</td>\n",
              "      <td>5.0</td>\n",
              "      <td>2.64</td>\n",
              "      <td>160.0</td>\n",
              "      <td>42.0</td>\n",
              "    </tr>\n",
              "    <tr>\n",
              "      <th>32573</th>\n",
              "      <td>2.0</td>\n",
              "      <td>165.0</td>\n",
              "      <td>74.84</td>\n",
              "      <td>1.0</td>\n",
              "      <td>11566.705300</td>\n",
              "      <td>3.0</td>\n",
              "      <td>1.46</td>\n",
              "      <td>160.0</td>\n",
              "      <td>32.0</td>\n",
              "    </tr>\n",
              "    <tr>\n",
              "      <th>355929</th>\n",
              "      <td>2.0</td>\n",
              "      <td>170.0</td>\n",
              "      <td>108.86</td>\n",
              "      <td>3.0</td>\n",
              "      <td>844.485450</td>\n",
              "      <td>3.0</td>\n",
              "      <td>1.81</td>\n",
              "      <td>160.0</td>\n",
              "      <td>32.0</td>\n",
              "    </tr>\n",
              "  </tbody>\n",
              "</table>\n",
              "</div>"
            ],
            "text/plain": [
              "        SEX   HTM4   WTKG3  INCOME2  ...  _AGEG5YR  _VEGESU1  _HTMG10   AGE\n",
              "96230   2.0  160.0   60.33      8.0  ...       6.0      2.14    150.0  47.0\n",
              "244920  2.0  163.0   58.97      5.0  ...      13.0      3.14    160.0  89.5\n",
              "57312   2.0  163.0   72.57      8.0  ...       5.0      2.64    160.0  42.0\n",
              "32573   2.0  165.0   74.84      1.0  ...       3.0      1.46    160.0  32.0\n",
              "355929  2.0  170.0  108.86      3.0  ...       3.0      1.81    160.0  32.0\n",
              "\n",
              "[5 rows x 9 columns]"
            ]
          },
          "metadata": {
            "tags": []
          },
          "execution_count": 104
        }
      ]
    },
    {
      "cell_type": "code",
      "metadata": {
        "id": "L_5K7M3-EWbr"
      },
      "source": [
        ""
      ],
      "execution_count": null,
      "outputs": []
    }
  ]
}