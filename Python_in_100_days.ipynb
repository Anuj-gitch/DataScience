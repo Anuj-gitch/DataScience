{
  "nbformat": 4,
  "nbformat_minor": 0,
  "metadata": {
    "colab": {
      "name": "Python in 100 days.ipynb",
      "provenance": [],
      "collapsed_sections": [],
      "mount_file_id": "1z1bL3NNQ4fCdrVShUdCgT4z4kYQkVKxW",
      "authorship_tag": "ABX9TyNKuZqrmrputCJCQ0PnQrzq",
      "include_colab_link": true
    },
    "kernelspec": {
      "name": "python3",
      "display_name": "Python 3"
    }
  },
  "cells": [
    {
      "cell_type": "markdown",
      "metadata": {
        "id": "view-in-github",
        "colab_type": "text"
      },
      "source": [
        "<a href=\"https://colab.research.google.com/github/Anuj-gitch/DataScience/blob/main/Python_in_100_days.ipynb\" target=\"_parent\"><img src=\"https://colab.research.google.com/assets/colab-badge.svg\" alt=\"Open In Colab\"/></a>"
      ]
    },
    {
      "cell_type": "markdown",
      "metadata": {
        "id": "uxDYlumW9-pG"
      },
      "source": [
        "## Day 1: Part 1 - Workin with Variable in Python to Merge Data\n",
        "\n",
        "Hey guys, welcome to day 1 of your 100-day journey.\n",
        "\n",
        "__And today we're going to learn about printing, commenting, debugging, string manipulation and variables.__"
      ]
    },
    {
      "cell_type": "markdown",
      "metadata": {
        "id": "_Oj7RPun-H4O"
      },
      "source": [
        "### Exercise: Printing to the Console\n",
        "\n",
        "# Instructions\n",
        "\n",
        "Write a program in main.py that prints the same notes from the previous lesson using what you have learnt about the Python print function. \n",
        "\n",
        "**Warning:** The output in your program should match the example output shown below exactly, character for character, even spaces and symbols should be identical, otherwise the tests won't pass.\n",
        "\n",
        "# Example Output\n",
        "\n",
        "After you have written your code, you should run your program and it should print the following:\n",
        "\n",
        "```\n",
        "Day 1 - Python Print Function\n",
        "```\n",
        "\n",
        "```\n",
        "The function is declared like this:\n",
        "```\n",
        "\n",
        "```\n",
        "print('what to print')\n",
        "```\n",
        "\n",
        "e.g. When you hit **run**, this is what should happen:\n",
        "![](https://cdn.fs.teachablecdn.com/q89uzhvRTf6CZHLtxLm6)\n",
        " \n",
        "# Test Your Code\n",
        "\n",
        "Before checking the solution, try copy-pasting your code into this repl: \n",
        "\n",
        "[https://repl.it/@appbrewery/day-1-1-test-your-code](https://repl.it/@appbrewery/day-1-1-test-your-code)\n",
        "\n",
        "This repl includes my testing code that will check if your code meets this assignment's objectives. \n",
        "\n",
        "# Solution\n",
        "\n",
        "[https://repl.it/@appbrewery/day-1-1-solution](https://repl.it/@appbrewery/day-1-1-solution)\n"
      ]
    },
    {
      "cell_type": "code",
      "metadata": {
        "id": "BbIwYmFb_ZpZ",
        "colab": {
          "base_uri": "https://localhost:8080/"
        },
        "outputId": "e05e0556-f9cc-4f37-f297-06941e351a97"
      },
      "source": [
        "print('Day 1 - Python Print Function')\n",
        "print('The function is declared like this:')\n",
        "print(\"print('what to print')\")"
      ],
      "execution_count": null,
      "outputs": [
        {
          "output_type": "stream",
          "name": "stdout",
          "text": [
            "Day 1 - Python Print Function\n",
            "The function is declared like this:\n",
            "print('what to print')\n"
          ]
        }
      ]
    },
    {
      "cell_type": "code",
      "metadata": {
        "colab": {
          "base_uri": "https://localhost:8080/"
        },
        "id": "u0b5T86GDKZz",
        "outputId": "83548e03-c3b2-4d27-c8ea-ec2d6b740521"
      },
      "source": [
        "print(\"print(\\\"what to print\\\")\")"
      ],
      "execution_count": null,
      "outputs": [
        {
          "output_type": "stream",
          "name": "stdout",
          "text": [
            "print(\"what to print\")\n"
          ]
        }
      ]
    },
    {
      "cell_type": "markdown",
      "metadata": {
        "id": "LvxH9K1yqhki"
      },
      "source": [
        "### String Manipulation and code Intelligence"
      ]
    },
    {
      "cell_type": "code",
      "metadata": {
        "id": "ymWIth1lqkMD",
        "colab": {
          "base_uri": "https://localhost:8080/"
        },
        "outputId": "d7b7751b-91dc-4005-c1e6-5d34035fc16b"
      },
      "source": [
        "print('hello world \\nhello world\\nhello world')"
      ],
      "execution_count": null,
      "outputs": [
        {
          "output_type": "stream",
          "name": "stdout",
          "text": [
            "hello world \n",
            "hello world\n",
            "hello world\n"
          ]
        }
      ]
    },
    {
      "cell_type": "markdown",
      "metadata": {
        "id": "TaqbdUrMqlBg"
      },
      "source": [
        "### String concatination"
      ]
    },
    {
      "cell_type": "code",
      "metadata": {
        "id": "4Gr5AQTWqlwG",
        "colab": {
          "base_uri": "https://localhost:8080/"
        },
        "outputId": "cebfa036-1979-4a02-c7d5-e83b2fd8a363"
      },
      "source": [
        "print('hello' + ' Anuj')"
      ],
      "execution_count": null,
      "outputs": [
        {
          "output_type": "stream",
          "name": "stdout",
          "text": [
            "hello Anuj\n"
          ]
        }
      ]
    },
    {
      "cell_type": "markdown",
      "metadata": {
        "id": "0HkSyq9FUTMg"
      },
      "source": [
        "### Exercise: Debugging\n",
        "\n",
        "# Instructions\n",
        "\n",
        "Look at the code in the code editor on the left. There are errors in all of the lines of code. Fix the code so that it runs without errors.\n",
        "\n",
        "**Warning:** The output in your program should match the example output shown below exactly, character for character, even spaces and symbols should be identical, otherwise the tests won't pass. \n",
        "\n",
        "# Example Output\n",
        "\n",
        "When you run your program, it should print the following:\n",
        "\n",
        "```\n",
        "Day 1 - String Manipulation\n",
        "String Concatenation is done with the \"+\" sign.\n",
        "e.g. print(\"Hello \" + \"world\")\n",
        "New lines can be created with a backslash and n.\n",
        "```\n",
        "\n",
        "e.g. When you hit **run**, there should be no errors and this is what should happen:\n",
        "\n",
        " ![](https://cdn.fs.teachablecdn.com/BVP20Z2T1Gb4Pi6rOQah)\n",
        "\n",
        "# Test Your Code\n",
        "\n",
        "Before checking the solution, try copy-pasting your code into this repl: \n",
        "\n",
        "[https://repl.it/@appbrewery/day-1-2-test-your-code]([https://repl.it/@appbrewery/day-1-2-test-your-code])\n",
        "\n",
        "This repl includes my testing code that will check if your code meets this assignment's objectives. \n",
        "\n",
        "\n",
        "# Solution\n",
        "\n",
        "[https://repl.it/@appbrewery/day-1-2-solution](https://repl.it/@appbrewery/day-1-2-solution)"
      ]
    },
    {
      "cell_type": "code",
      "metadata": {
        "colab": {
          "base_uri": "https://localhost:8080/"
        },
        "id": "ZaVEWbnhFQEI",
        "outputId": "373591d6-82b1-4911-f68d-d9d91dbb0630"
      },
      "source": [
        "#First *fork* your copy. Then copy-paste your code below this line 👇\n",
        "#Finally click \"Run\" to execute the tests\n",
        "\n",
        "print(\"Day 1 - String Manipulation\")\n",
        "print('String Concatenation is done with the \"+\" sign.')\n",
        "print('e.g. print(\"Hello \" + \"world\")')\n",
        "print(\"New lines can be created with a backslash and n.\")"
      ],
      "execution_count": null,
      "outputs": [
        {
          "output_type": "stream",
          "name": "stdout",
          "text": [
            "Day 1 - String Manipulation\n",
            "String Concatenation is done with the \"+\" sign.\n",
            "e.g. print(\"Hello \" + \"world\")\n",
            "New lines can be created with a backslash and n.\n"
          ]
        }
      ]
    },
    {
      "cell_type": "markdown",
      "metadata": {
        "id": "iGEujGtwRz_Q"
      },
      "source": [
        "### Input Function"
      ]
    },
    {
      "cell_type": "code",
      "metadata": {
        "colab": {
          "base_uri": "https://localhost:8080/"
        },
        "id": "jqQC98dNVgm-",
        "outputId": "64f4eeac-a881-4dff-e546-5bf576272a1e"
      },
      "source": [
        "print('Hello ',input('What is you name?'))"
      ],
      "execution_count": null,
      "outputs": [
        {
          "output_type": "stream",
          "name": "stdout",
          "text": [
            "What is you name?anuj\n",
            "Hello  anuj\n"
          ]
        }
      ]
    },
    {
      "cell_type": "markdown",
      "metadata": {
        "id": "6qxq4tlNdWu0"
      },
      "source": [
        "### Exercise: Inputs\n",
        "\n",
        "# Instructions\n",
        "\n",
        "Write a program that prints the number of characters in a user's name. You might need to Google for a function that calculates the length of a string. \n",
        "\n",
        "e.g.\n",
        "\n",
        "[https://www.google.com/search?q=how+to+get+the+length+of+a+string+in+python+stack+overflow](https://www.google.com/search?sxsrf=ACYBGNRxEaJIWyKHuWI0Lk24t4KuZVyeew:1579706585702&q=how+to+get+the+length+of+a+string+in+python+stack+overflow)\n",
        "\n",
        "**Warning.** Your program should work for different inputs. e.g. any name that you input.\n",
        "\n",
        "# Example Input\n",
        "\n",
        "```\n",
        "Angela\n",
        "```\n",
        "\n",
        "# Example Output\n",
        "\n",
        "```\n",
        "6\n",
        "```\n",
        "\n",
        "e.g. When you hit **run**, this is what should happen:\n",
        "\n",
        "![](https://cdn.fs.teachablecdn.com/opevxYZSTM2ZHjbAX3XV) \n",
        "\n",
        "# Hint\n",
        "\n",
        "1. You can put functions inside other functions.\n",
        "2. Don't try to print anything other than the length.\n",
        "\n",
        "# Test Your Code\n",
        "\n",
        "Before checking the solution, try copy-pasting your code into this repl: \n",
        "\n",
        "[https://repl.it/@appbrewery/day-1-3-test-your-code](https://repl.it/@appbrewery/day-1-3-test-your-code)\n",
        "\n",
        "This repl includes my testing code that will check if your code meets this assignment's objectives. \n",
        "\n",
        "\n",
        "# Solution\n",
        "\n",
        "[https://repl.it/@appbrewery/day-1-3-solution](https://repl.it/@appbrewery/day-1-3-solution)"
      ]
    },
    {
      "cell_type": "code",
      "metadata": {
        "colab": {
          "base_uri": "https://localhost:8080/"
        },
        "id": "XP5rM0jpVqng",
        "outputId": "49f351c1-43d9-4f9c-c99f-827521c49e0a"
      },
      "source": [
        "# this code will print the number of character in the word entered\n",
        "print(len(input('What is your name? ')))"
      ],
      "execution_count": null,
      "outputs": [
        {
          "output_type": "stream",
          "name": "stdout",
          "text": [
            "What is your name? Anuj\n",
            "4\n"
          ]
        }
      ]
    },
    {
      "cell_type": "markdown",
      "metadata": {
        "id": "Vg2wDaXudxbu"
      },
      "source": [
        "### Variables"
      ]
    },
    {
      "cell_type": "code",
      "metadata": {
        "colab": {
          "base_uri": "https://localhost:8080/"
        },
        "id": "N-jlsSVMgKKs",
        "outputId": "d6c12a69-e04e-4efc-eda0-84fd9e266a7c"
      },
      "source": [
        "name = input('What is your name? ')"
      ],
      "execution_count": null,
      "outputs": [
        {
          "name": "stdout",
          "output_type": "stream",
          "text": [
            "What is your name? Anuj\n"
          ]
        }
      ]
    },
    {
      "cell_type": "code",
      "metadata": {
        "colab": {
          "base_uri": "https://localhost:8080/",
          "height": 35
        },
        "id": "vYGk93rngyED",
        "outputId": "ddab8629-1bed-4d89-dc46-91f805e109fc"
      },
      "source": [
        "name"
      ],
      "execution_count": null,
      "outputs": [
        {
          "output_type": "execute_result",
          "data": {
            "application/vnd.google.colaboratory.intrinsic+json": {
              "type": "string"
            },
            "text/plain": [
              "'Anuj'"
            ]
          },
          "metadata": {},
          "execution_count": 9
        }
      ]
    },
    {
      "cell_type": "markdown",
      "metadata": {
        "id": "9oVvEqsYgz24"
      },
      "source": [
        "### Exercise: Variables\n",
        "\n",
        "# Instructions\n",
        "\n",
        "Write a program that switches the values stored in the variables a and b. \n",
        "\n",
        "**Warning.** Do not change the code on lines 1-4 and 12-18. Your program should work for different inputs. e.g. any value of a and b.\n",
        "\n",
        "# Example Input\n",
        "\n",
        "```\n",
        "a: 3\n",
        "```\n",
        "\n",
        "```\n",
        "b: 5\n",
        "```\n",
        "\n",
        "# Example Output\n",
        "\n",
        "```\n",
        "a: 5\n",
        "```\n",
        "\n",
        "```\n",
        "b: 3\n",
        "```\n",
        "\n",
        "e.g. When you hit **run**, this is what should happen:\n",
        "\n",
        "![](https://cdn.fs.teachablecdn.com/tgdNl0iSqK6RpPyYZh9d)\n",
        "\n",
        "# Hint\n",
        "\n",
        "1. You should not have to type any numbers in your code. \n",
        "2. You might need to make some more variables.\n",
        "\n",
        "# Test Your Code\n",
        "\n",
        "Before checking the solution, try copy-pasting your code into this repl: \n",
        "\n",
        "[https://repl.it/@appbrewery/day-1-4-test-your-code](https://repl.it/@appbrewery/day-1-4-test-your-code)\n",
        "\n",
        "This repl includes my testing code that will check if your code meets this assignment's objectives. \n",
        "\n",
        "\n",
        "\n",
        "\n",
        "# Solution\n",
        "\n",
        "[https://repl.it/@appbrewery/day-1-4-solution](https://repl.it/@appbrewery/day-1-4-solution)"
      ]
    },
    {
      "cell_type": "code",
      "metadata": {
        "colab": {
          "base_uri": "https://localhost:8080/"
        },
        "id": "UM1viyBapWml",
        "outputId": "069f4c19-48a5-4d40-bcd2-f2ece50ca2ca"
      },
      "source": [
        "# 🚨 Don't change the code below 👇\n",
        "a = input(\"a: \")\n",
        "b = input(\"b: \")\n",
        "# 🚨 Don't change the code above 👆\n",
        "\n",
        "####################################\n",
        "#Write your code below this line 👇\n",
        "c = a\n",
        "a = b\n",
        "b = c\n",
        "\n",
        "\n",
        "\n",
        "\n",
        "#Write your code above this line 👆\n",
        "####################################\n",
        "\n",
        "# 🚨 Don't change the code below 👇\n",
        "print(\"a: \" + a)\n",
        "print(\"b: \" + b)\n",
        "\n",
        "\n"
      ],
      "execution_count": null,
      "outputs": [
        {
          "output_type": "stream",
          "name": "stdout",
          "text": [
            "a: 23\n",
            "b: 343\n",
            "a: 343\n",
            "b: 23\n"
          ]
        }
      ]
    },
    {
      "cell_type": "markdown",
      "metadata": {
        "id": "76A-CkOhtF6K"
      },
      "source": [
        "### Day 1: Project: Brand Name Generator"
      ]
    },
    {
      "cell_type": "code",
      "metadata": {
        "colab": {
          "base_uri": "https://localhost:8080/"
        },
        "id": "ZqkbR8zOp4O6",
        "outputId": "54b95840-89bf-472e-c0fd-69ed7a5367b9"
      },
      "source": [
        "#1. Create a greeting for your program.\n",
        "print('Welcome to brand name generator ')\n",
        "\n",
        "#2. Ask the user for the city that they grew up in.\n",
        "city_name = input('In which city do you live? \\n')\n",
        "\n",
        "#3. Ask the user for the name of a pet.\n",
        "pet_name = input('What is your pet name? \\n')\n",
        "\n",
        "#4. Combine the name of their city and pet and show them their band name.\n",
        "brand_name = city_name + \" \" + pet_name\n",
        "\n",
        "#5. Make sure the input cursor shows on a new line, see the example at:\n",
        "print('Your brand name could be ' + brand_name)\n",
        "#   https://band-name-generator-end.appbrewery.repl.run/"
      ],
      "execution_count": null,
      "outputs": [
        {
          "output_type": "stream",
          "name": "stdout",
          "text": [
            "Welcome to brand name generator \n",
            "In which city do you live? \n",
            "gwalior\n",
            "What is your pet name? \n",
            "ajay\n",
            "Your brand name could be gwalior ajay\n"
          ]
        }
      ]
    },
    {
      "cell_type": "markdown",
      "metadata": {
        "id": "X_cRprmvtxq_"
      },
      "source": [
        "## Day 2: What we will make by the end of the day\n",
        "\n",
        "* Data Types\n",
        "* Numbers\n",
        "* Operations\n",
        "* Type Conversion\n",
        "* f-String\n",
        "* Project Day 2: Tip Calculator"
      ]
    },
    {
      "cell_type": "markdown",
      "metadata": {
        "id": "FdLGpaxc20lb"
      },
      "source": [
        "### Python Primitive Data Types\n",
        "\n",
        "* String\n",
        "* Integers\n",
        "* Float\n",
        "* Boolean"
      ]
    },
    {
      "cell_type": "code",
      "metadata": {
        "colab": {
          "base_uri": "https://localhost:8080/"
        },
        "id": "bY3kk1oe3xo0",
        "outputId": "247ba267-c713-497d-c84c-d354999f8224"
      },
      "source": [
        "# string (subscripting)\n",
        "print(\"hello\"[0]) # this will gone print first character of the string\n",
        "# Pulling out particular element from the string is called Subscript\n",
        "\n",
        "print(\"123\" + \"345\")\n",
        "\n",
        "# Integers\n",
        "print(123+345)\n",
        "\n",
        "# Float\n",
        "print(3.1234)\n",
        "mystery = 734_529.678\n",
        "print(mystery)\n",
        "\n",
        "\n",
        "# Boolean\n",
        "print(True,False)"
      ],
      "execution_count": null,
      "outputs": [
        {
          "output_type": "stream",
          "name": "stdout",
          "text": [
            "h\n",
            "123345\n",
            "468\n",
            "3.1234\n",
            "734529.678\n",
            "True False\n"
          ]
        }
      ]
    },
    {
      "cell_type": "markdown",
      "metadata": {
        "id": "SlQWE22TBGaS"
      },
      "source": [
        "### Type error, Type Checking and Type Conversion"
      ]
    },
    {
      "cell_type": "code",
      "metadata": {
        "colab": {
          "base_uri": "https://localhost:8080/"
        },
        "id": "CLyH4cuJBINn",
        "outputId": "a9dc72d4-02d0-4d2c-b874-94c1dc4de811"
      },
      "source": [
        "# checking type\n",
        "print(type(123))\n",
        "# converting number into string\n",
        "print(str(123))\n",
        "print(str(123))\n",
        "\n",
        "# Converting to float\n",
        "print(float(123))\n",
        "\n",
        "# adding float and integer\n",
        "print(float(str(100)) + 75.5)\n",
        "print(str(100) + str(75.5))"
      ],
      "execution_count": null,
      "outputs": [
        {
          "output_type": "stream",
          "name": "stdout",
          "text": [
            "<class 'int'>\n",
            "123\n",
            "123\n",
            "123.0\n",
            "175.5\n",
            "10075.5\n"
          ]
        }
      ]
    },
    {
      "cell_type": "markdown",
      "metadata": {
        "id": "z9iH3PlAGsJz"
      },
      "source": [
        "### Exercise: Data Types\n",
        "\n",
        "# Instructions\n",
        "\n",
        "Write a program that adds the digits in a 2 digit number. e.g. if the input was 35, then the output should be 3 + 5 = 8\n",
        "\n",
        "**Warning.** Do not change the code on lines 1-3. Your program should work for different inputs. e.g. any two-digit number.\n",
        "\n",
        "# Example Input\n",
        "\n",
        "```\n",
        "39\n",
        "```\n",
        "\n",
        "# Example Output\n",
        "\n",
        "3 + 9 = 12\n",
        "\n",
        "```\n",
        "12\n",
        "```\n",
        "\n",
        "e.g. When you hit **run**, this is what should happen:  \n",
        "\n",
        "![](https://cdn.fs.teachablecdn.com/iyJTPDDRRJCB1gmdVQMS)\n",
        "\n",
        "# Hint\n",
        "\n",
        "1. Try to find out the data type of two_digit_number.\n",
        "2. Think about what you learnt about subscripting.\n",
        "3. Think about type conversion.\n",
        "\n",
        "# Test Your Code\n",
        "\n",
        "Before checking the solution, try copy-pasting your code into this repl: \n",
        "\n",
        "[https://repl.it/@appbrewery/day-2-1-test-your-code](https://repl.it/@appbrewery/day-2-1-test-your-code)\n",
        "\n",
        "This repl includes my testing code that will check if your code meets this assignment's objectives. \n",
        "\n",
        "\n",
        "\n",
        "\n",
        "# Solution\n",
        "\n",
        "[https://repl.it/@appbrewery/day-2-1-solution](https://repl.it/@appbrewery/day-2-1-solution)"
      ]
    },
    {
      "cell_type": "code",
      "metadata": {
        "colab": {
          "base_uri": "https://localhost:8080/"
        },
        "id": "K-jTBouhHlxD",
        "outputId": "97959756-1880-4c28-b6de-5719c5dc2513"
      },
      "source": [
        "# 🚨 Don't change the code below 👇\n",
        "two_digit_number = input(\"Type a two digit number: \")\n",
        "# 🚨 Don't change the code above 👆\n",
        "\n",
        "####################################\n",
        "#Write your code below this line 👇\n",
        "print(int(two_digit_number[0]) + int(two_digit_number[1]))\n"
      ],
      "execution_count": null,
      "outputs": [
        {
          "output_type": "stream",
          "name": "stdout",
          "text": [
            "Type a two digit number: 23\n",
            "5\n"
          ]
        }
      ]
    },
    {
      "cell_type": "markdown",
      "metadata": {
        "id": "3KZTRXX2H6Rk"
      },
      "source": [
        "### Mathematical Operators\n",
        "\n",
        "__Order Of Operation (PEMDAS) goes from Left to right__\n",
        "\n",
        "1. Parentheses\n",
        "2. Exponenets\n",
        "3. Multiplication\n",
        "4. Division\n",
        "5. Addition\n",
        "5. Subtractions"
      ]
    },
    {
      "cell_type": "code",
      "metadata": {
        "colab": {
          "base_uri": "https://localhost:8080/"
        },
        "id": "iG4aIwAbIZ13",
        "outputId": "3ef6cf59-c9ac-4651-88c0-5d675c6d9507"
      },
      "source": [
        "# addition\n",
        "print(3 + 5)\n",
        "# subtraction\n",
        "print(3/5)\n",
        "# Multiplication\n",
        "print(3 * 5)\n",
        "# Subtraction\n",
        "print(5 - 3)\n",
        "# Exponenets\n",
        "print(5 ** 3)"
      ],
      "execution_count": null,
      "outputs": [
        {
          "output_type": "stream",
          "name": "stdout",
          "text": [
            "8\n",
            "0.6\n",
            "15\n",
            "2\n",
            "125\n"
          ]
        }
      ]
    },
    {
      "cell_type": "code",
      "metadata": {
        "colab": {
          "base_uri": "https://localhost:8080/"
        },
        "id": "y8Z1T0GWJy6D",
        "outputId": "00b08ed8-9510-4813-bee5-a1c9315f93d5"
      },
      "source": [
        "print(3 * 3 + 3 / 3 - 3 ** 2)\n",
        "print(3 * (3 + 3) / 3 - 3 ** 2)"
      ],
      "execution_count": null,
      "outputs": [
        {
          "output_type": "stream",
          "name": "stdout",
          "text": [
            "1.0\n",
            "-3.0\n"
          ]
        }
      ]
    },
    {
      "cell_type": "markdown",
      "metadata": {
        "id": "gEIOM-HHRJ30"
      },
      "source": [
        "### Exercise: BMI Calculator\n",
        "\n",
        "# Instructions\n",
        "\n",
        "Write a program that calculates the Body Mass Index (BMI) from a user's weight and height.\n",
        "\n",
        "The BMI is a measure of some's weight taking into account their height. e.g. If a tall person and a short person both weigh the same amount, the short person is usually more overweight.\n",
        "\n",
        "The BMI is calculated by dividing a person's weight (in kg) by the square of their height (in m):\n",
        "\n",
        "![](https://cdn.fs.teachablecdn.com/jKHjnLrNQjqzdz3MTMyv)\n",
        "\n",
        "**Warning** you should convert the result to a whole number. \n",
        "\n",
        "# Example Input\n",
        "\n",
        "```\n",
        "weight = 80\n",
        "```\n",
        "\n",
        "```\n",
        "height = 1.75\n",
        "```\n",
        "\n",
        "# Example Output\n",
        "\n",
        "80 ÷ (1.75 x 1.75) =  26.122448979591837\n",
        "\n",
        "```\n",
        "26\n",
        "```\n",
        "\n",
        "e.g. When you hit **run**, this is what should happen:  \n",
        "\n",
        "![](https://cdn.fs.teachablecdn.com/wmjVjddeSmGj0QVtOUrE)\n",
        "\n",
        "# Hint\n",
        "\n",
        "1. Check the data type of the inputs.\n",
        "2. Try to use the exponent operator in your code.\n",
        "3. Remember PEMDAS.\n",
        "4. Remember to convert your result to a whole number (int). \n",
        "\n",
        "# Test Your Code\n",
        "\n",
        "Before checking the solution, try copy-pasting your code into this repl: \n",
        "\n",
        "[https://repl.it/@appbrewery/day-2-2-test-your-code](https://repl.it/@appbrewery/day-2-2-test-your-code)\n",
        "\n",
        "This repl includes my testing code that will check if your code meets this assignment's objectives. \n",
        "\n",
        "\n",
        "\n",
        "# Solution\n",
        "\n",
        "[https://repl.it/@appbrewery/day-2-2-solution](https://repl.it/@appbrewery/day-2-2-solution)"
      ]
    },
    {
      "cell_type": "code",
      "metadata": {
        "colab": {
          "base_uri": "https://localhost:8080/"
        },
        "id": "oUDB6G5LLDvv",
        "outputId": "2de19df3-f112-4b15-dade-ef007d76557a"
      },
      "source": [
        "# 🚨 Don't change the code below 👇\n",
        "height = input(\"enter your height in m: \")\n",
        "weight = input(\"enter your weight in kg: \")\n",
        "# 🚨 Don't change the code above 👆\n",
        "\n",
        "#Write your code below this line 👇\n",
        "\n",
        "bmi = int(weight) / (float(height) ** 2)\n",
        "\n",
        "print('Body mass index for the weight ' + weight + ' KG and height ' + str(height) + ' Meter is ' + str(int(bmi)))\n"
      ],
      "execution_count": null,
      "outputs": [
        {
          "output_type": "stream",
          "name": "stdout",
          "text": [
            "enter your height in m: 145\n",
            "enter your weight in kg: 232\n",
            "Body mass index for the weight 232 KG and height 145 Meter is 0\n"
          ]
        }
      ]
    },
    {
      "cell_type": "markdown",
      "metadata": {
        "id": "6tdu5yFcRP8V"
      },
      "source": [
        "### Number Manupulation and f-String"
      ]
    },
    {
      "cell_type": "code",
      "metadata": {
        "colab": {
          "base_uri": "https://localhost:8080/"
        },
        "id": "bEqHywQ1UAUP",
        "outputId": "830209f3-5a3d-480e-e9e0-aa03f5f332d1"
      },
      "source": [
        "# round function\n",
        "print(round(8/3))\n",
        "# round function with decimal places\n",
        "print(round(8/3,2))\n",
        "# this will give us the divisor in int type\n",
        "print(8//3)\n",
        "print(type(8//3))\n",
        "print(4/2)\n",
        "print(type(4/2))\n",
        "print(4//2)\n",
        "print(type(4//2))\n",
        "# Add values to varaible\n",
        "score = 0\n",
        "score += 1\n",
        "print(score)\n",
        "# f-string\n",
        "height = 1.75\n",
        "isWinning = True\n",
        "print(f'your score is {score} and the height is {height}, your winning is {isWinning}')\n"
      ],
      "execution_count": null,
      "outputs": [
        {
          "output_type": "stream",
          "name": "stdout",
          "text": [
            "3\n",
            "2.67\n",
            "2\n",
            "<class 'int'>\n",
            "2.0\n",
            "<class 'float'>\n",
            "2\n",
            "<class 'int'>\n",
            "1\n",
            "your score is 1 and the height is 1.75, your winning is True\n"
          ]
        }
      ]
    },
    {
      "cell_type": "markdown",
      "metadata": {
        "id": "0dmEVUfVUH3X"
      },
      "source": [
        "### Your Life in Weeks\n",
        "\n",
        "# Instructions\n",
        "\n",
        "I was reading this article by Tim Urban - Your Life in Weeks and realised just how little time we actually have.\n",
        "\n",
        "[https://waitbutwhy.com/2014/05/life-weeks.html](https://waitbutwhy.com/2014/05/life-weeks.html)\n",
        "\n",
        "Create a program using maths and f-Strings that tells us how many days, weeks, months we have left if we live until 90 years old. \n",
        "\n",
        "It will take your current age as the input and output a message with our time left in this format:\n",
        "\n",
        "> You have x days, y weeks, and z months left. \n",
        "\n",
        "Where x, y and z are replaced with the actual calculated numbers. \n",
        "\n",
        " \n",
        "\n",
        "**Warning** your output should match the Example Output format exactly, even the positions of the commas and full stops. \n",
        "\n",
        "# Example Input\n",
        "\n",
        "```\n",
        "56\n",
        "```\n",
        "\n",
        "# Example Output\n",
        "\n",
        "```\n",
        "You have 12410 days, 1768 weeks, and 408 months left.\n",
        "```\n",
        "\n",
        "e.g. When you hit **run**, this is what should happen:  \n",
        "\n",
        " \n",
        "![](https://cdn.fs.teachablecdn.com/RjqBViZQpyVTv7XY6cfA)\n",
        " \n",
        "\n",
        "# Hint\n",
        "\n",
        "1. There are 365 days in a year, 52 weeks in a year and 12 months in a year.\n",
        "2. Try copying the example output into your code and replace the relevant parts so that the sentence is formated the same way.\n",
        "\n",
        "# Test Your Code\n",
        "\n",
        "Before checking the solution, try copy-pasting your code into this repl: \n",
        "\n",
        "[https://repl.it/@appbrewery/day-2-3-test-your-code](https://repl.it/@appbrewery/day-2-3-test-your-code)\n",
        "\n",
        "This repl includes my testing code that will check if your code meets this assignment's objectives. \n",
        "\n",
        "\n",
        "# Solution\n",
        "\n",
        "[https://repl.it/@appbrewery/day-2-3-solution](https://repl.it/@appbrewery/day-2-3-solution)\n"
      ]
    },
    {
      "cell_type": "code",
      "metadata": {
        "colab": {
          "base_uri": "https://localhost:8080/"
        },
        "id": "qD_BvcbxZzU8",
        "outputId": "ce2c3050-3005-41d2-d68e-f567e8e005d2"
      },
      "source": [
        "# 🚨 Don't change the code below 👇\n",
        "age = input(\"What is your current age? \")\n",
        "# 🚨 Don't change the code above 👆\n",
        "age = int(age)\n",
        "\n",
        "#Write your code below this line 👇\n",
        "remaining_age = (90 - age)\n",
        "days = remaining_age * 365\n",
        "week = remaining_age * 52\n",
        "months = remaining_age * 12\n",
        "\n",
        "print(f\"You have {days} days, {week} weeks, and {months} months left \")"
      ],
      "execution_count": null,
      "outputs": [
        {
          "output_type": "stream",
          "name": "stdout",
          "text": [
            "What is your current age? 27\n",
            "You have 22995 days, 3276 weeks, and 756 months left \n"
          ]
        }
      ]
    },
    {
      "cell_type": "markdown",
      "metadata": {
        "id": "XtIu_IjjepGF"
      },
      "source": [
        "### Project Day 2: Tip Calculator"
      ]
    },
    {
      "cell_type": "code",
      "metadata": {
        "colab": {
          "base_uri": "https://localhost:8080/"
        },
        "id": "QSmgU9jOekQ2",
        "outputId": "eedcf695-ff8d-4bec-d873-710995f03e03"
      },
      "source": [
        "#If the bill was $150.00, split between 5 people, with 12% tip. \n",
        "total_bill = float(input('What is a total bill? '))\n",
        "#Each person should pay (150.00 / 5) * 1.12 = 33.6\n",
        "tip_percentage = int(input('What percentage of tip would you like to give? 10,12 or 15? '))\n",
        "#Format the result to 2 decimal places = 33.60\n",
        "number_of_people = int(input('How many people to split the bill? '))\n",
        "#Tip: There are 2 ways to round a number. You might have to do some Googling to solve this.💪\n",
        "#HINT 1: https://www.google.com/search?q=how+to+round+number+to+2+decimal+places+python&oq=how+to+round+number+to+2+decimal\n",
        "#HINT 2: https://www.kite.com/python/answers/how-to-limit-a-float-to-two-decimal-places-in-python\n",
        "final_amount = \"{:.2f}\".format(((total_bill / number_of_people) * (100 + tip_percentage) / 100))\n",
        "\n",
        "print(f'Each Person Should pay: ${final_amount}')"
      ],
      "execution_count": null,
      "outputs": [
        {
          "output_type": "stream",
          "name": "stdout",
          "text": [
            "What is a total bill? 300\n",
            "What percentage of tip would you like to give? 10,12 or 15? 10\n",
            "How many people to split the bill? 4\n",
            "Each Person Should pay: $82.50\n"
          ]
        }
      ]
    },
    {
      "cell_type": "markdown",
      "metadata": {
        "id": "SczEoF_fekus"
      },
      "source": [
        "## Day 3: Conditonal Statements, Logical Operations, Code Blocks and Scope\n",
        "\n",
        "1. If else, else if, logical operators, code blocks, scope,\n",
        "2. Global and local name spacing and a whole lot more.\n",
        "\n",
        "\n",
        "And by the end of the day you will know enough to be able to build this awesome\n",
        "3. Project: Choose your own adventure game.\n",
        "\n",
        "    \n",
        "        if condition:\n",
        "          do A\n",
        "        else:\n",
        "          do this"
      ]
    },
    {
      "cell_type": "code",
      "metadata": {
        "colab": {
          "base_uri": "https://localhost:8080/"
        },
        "id": "bEJ1FKsJFNHd",
        "outputId": "d6724927-4c0e-42df-fb58-98f613210820"
      },
      "source": [
        "drain_water = 50\n",
        "\n",
        "if drain_water > 80:\n",
        "  print('Drain Water')\n",
        "else:\n",
        "  print('Continue')"
      ],
      "execution_count": null,
      "outputs": [
        {
          "output_type": "stream",
          "name": "stdout",
          "text": [
            "Continue\n"
          ]
        }
      ]
    },
    {
      "cell_type": "code",
      "metadata": {
        "colab": {
          "base_uri": "https://localhost:8080/"
        },
        "id": "T4CzwVVqGMIu",
        "outputId": "05d93364-fb6d-44fd-a718-ff51bc2e1371"
      },
      "source": [
        "print('Welcome to the roller coaster!')\n",
        "height = int(input('What is your height in cm? '))\n",
        "\n",
        "if height >= 130:\n",
        "  print('You can ride the rollercoaster!')\n",
        "else:\n",
        "  print('Sorr, yo have to grow taller before you can ride')"
      ],
      "execution_count": null,
      "outputs": [
        {
          "output_type": "stream",
          "name": "stdout",
          "text": [
            "Welcome to the roller coaster!\n",
            "What is your height in cm? 130\n",
            "You can ride the rollercoaster!\n"
          ]
        }
      ]
    },
    {
      "cell_type": "markdown",
      "metadata": {
        "id": "FyMvb8bvIL3Y"
      },
      "source": [
        "__Comparision Operators__\n",
        "\n",
        "<table>\n",
        "  <tr> \n",
        "    <td> > </td>\n",
        "    <td> Greater Than </td>\n",
        "  </tr>\n",
        "  <tr> \n",
        "    <td> < </td>\n",
        "    <td> Less Than </td>\n",
        "  </tr>\n",
        "  <tr> \n",
        "    <td> >= </td>\n",
        "    <td> Greater Than or equal to </td>\n",
        "  </tr>\n",
        "  <tr> \n",
        "    <td> <= </td>\n",
        "    <td> Less than or equal to </td>\n",
        "  </tr>\n",
        "  <tr> \n",
        "    <td> == </td>\n",
        "    <td> Equal to </td>\n",
        "  </tr>\n",
        "  <tr> \n",
        "    <td> != </td>\n",
        "    <td> Not equal to </td>\n",
        "  </tr>\n",
        "  \n",
        "</table>"
      ]
    },
    {
      "cell_type": "markdown",
      "metadata": {
        "id": "_UCuPn_gJd3i"
      },
      "source": [
        "### Odd or Even\n",
        "\n",
        "# Instructions\n",
        "\n",
        "Write a program that works out whether if a given number is an odd or even number. \n",
        "\n",
        "Even numbers can be divided by 2 with no remainder. \n",
        "\n",
        "e.g. 86 is **even** because 86 ÷ 2 = 43\n",
        "\n",
        "43 does not have any decimal places. Therefore the division is clean.\n",
        "\n",
        "e.g. 59 is **odd** because 59 ÷ 2 = 29.5\n",
        "\n",
        "29.5 is not a whole number, it has decimal places. Therefore there is a remainder of 0.5, so the division is not clean.\n",
        "\n",
        "The **modulo** is written as a percentage sign (%) in Python. It gives you the remainder after a division. \n",
        "\n",
        "e.g. \n",
        "\n",
        "6 ÷ 2 = 3 with no remainder. \n",
        "\n",
        "```\n",
        "6 % 2 = 0\n",
        "```\n",
        "\n",
        "5 ÷ 2 = 2 x **2** + 1, remainder is 1.\n",
        "\n",
        "```\n",
        "5 % 2 = 1\n",
        "```\n",
        "\n",
        "14 ÷ 4 = 3 x **4** + 2, remainder is 2.\n",
        "\n",
        "```\n",
        "14 % 4 = 2\n",
        "```\n",
        "\n",
        "**Warning** your output should match the Example Output format exactly, even the positions of the commas and full stops. \n",
        "\n",
        "# Example Input 1\n",
        "\n",
        "```\n",
        "43\n",
        "```\n",
        "\n",
        "# Example Output 1\n",
        "\n",
        "```\n",
        "This is an odd number.\n",
        "```\n",
        "\n",
        "# Example Input 2\n",
        "\n",
        "```\n",
        "94\n",
        "```\n",
        "\n",
        "# Example Output 2\n",
        "\n",
        "```\n",
        "This is an even number.\n",
        "```\n",
        "\n",
        "e.g. When you hit **run**, this is what should happen:   \n",
        "\n",
        "![](https://cdn.fs.teachablecdn.com/bkF9TKJSTGksvxNzOtba)\n",
        "\n",
        "# Hint\n",
        "\n",
        "1. All even numbers can be divided by 2 with 0 remainder.\n",
        "2. Try some using the modulo with some odd numbers e.g. \n",
        "\n",
        "```\n",
        "3 % 2\n",
        "```\n",
        "\n",
        "```\n",
        "5 % 2\n",
        "```\n",
        "\n",
        "```\n",
        "7 % 2\n",
        "```\n",
        "\n",
        "Then try using the modulo with some even numbers e.g.\n",
        "\n",
        "```\n",
        "4 % 2\n",
        "```\n",
        "\n",
        "```\n",
        "6 % 2\n",
        "```\n",
        "\n",
        "```\n",
        "8 % 2\n",
        "```\n",
        "\n",
        "See what's in common each time.\n",
        " \n",
        "# Test Your Code\n",
        "\n",
        "Before checking the solution, try copy-pasting your code into this repl: \n",
        "\n",
        "[https://repl.it/@appbrewery/day-3-1-test-your-code](https://repl.it/@appbrewery/day-3-1-test-your-code)\n",
        "\n",
        "This repl includes my testing code that will check if your code meets this assignment's objectives. \n",
        "\n",
        "# Solution\n",
        "\n",
        "[https://repl.it/@appbrewery/day-3-1-solution](https://repl.it/@appbrewery/day-3-1-solution)"
      ]
    },
    {
      "cell_type": "code",
      "metadata": {
        "colab": {
          "base_uri": "https://localhost:8080/"
        },
        "id": "HCrqu4xoKysV",
        "outputId": "7369b424-97bc-49fc-c102-29bb1149f1f1"
      },
      "source": [
        "number = int(input('Please enter any number! '))\n",
        "\n",
        "if number % 2 == 0:\n",
        "  print(f'{number} is an even number! ')\n",
        "else:\n",
        "  print(f'{number} is an odd number! ')"
      ],
      "execution_count": null,
      "outputs": [
        {
          "output_type": "stream",
          "name": "stdout",
          "text": [
            "Please enter any number! 43\n",
            "43 is an odd number! \n"
          ]
        }
      ]
    },
    {
      "cell_type": "markdown",
      "metadata": {
        "id": "3J4DdtDNLMmn"
      },
      "source": [
        "### Nested If statements and elif statement\n",
        "\n",
        "      if condition:\n",
        "        if another condition: \n",
        "          do this\n",
        "        else:\n",
        "          do this\n",
        "      else:\n",
        "        do this\n",
        "\n"
      ]
    },
    {
      "cell_type": "code",
      "metadata": {
        "id": "eYioDZ0qLo6j",
        "colab": {
          "base_uri": "https://localhost:8080/"
        },
        "outputId": "88e132e1-d273-4a34-d1e7-ec5d511a9f3f"
      },
      "source": [
        "# Build a program where people only allow to ride the roller coster if there height is over 120 m and if they pass this criteria\n",
        "# And there age is less then or equal to 18 then they have to pay $7 else they have to pay $12\n",
        "# People who don't pass the height criteria are not allowed to ride the roller coster\n",
        "\n",
        "print('Welcome to the roller coaster!')\n",
        "height = int(input('What is your height in cm? '))\n",
        "\n",
        "if height >= 120:\n",
        "  print('You can ride the rollercoaster!')\n",
        "  age = int(input('What is your age? '))\n",
        "  if age <= 18:\n",
        "    print('Please pay $7')\n",
        "  else:\n",
        "    print('Please pay $12')\n",
        "else:\n",
        "  print('Sorry, yo have to grow taller before you can ride')"
      ],
      "execution_count": null,
      "outputs": [
        {
          "output_type": "stream",
          "name": "stdout",
          "text": [
            "Welcome to the roller coaster!\n",
            "What is your height in cm? 130\n",
            "You can ride the rollercoaster!\n",
            "What is your age? 14\n",
            "Please pay $7\n"
          ]
        }
      ]
    },
    {
      "cell_type": "markdown",
      "metadata": {
        "id": "tzh5Xp8fNCDS"
      },
      "source": [
        "If/Elif/Else\n",
        "\n",
        "    if condition:\n",
        "      do A\n",
        "    elif conditon2:\n",
        "      do B\n",
        "    else:\n",
        "      do this"
      ]
    },
    {
      "cell_type": "code",
      "metadata": {
        "id": "wpZW9k8vNHtr",
        "colab": {
          "base_uri": "https://localhost:8080/"
        },
        "outputId": "9fc988ca-7284-46f1-9ea9-4cc6f744b90c"
      },
      "source": [
        "# Build a program where people only allow to ride the roller coster if there height is over 120 m and if they pass this criteria\n",
        "# And there age is less then 12 then rider have to pay 12 if age is less or equal to 18 and more than 12 then they have to pay $7 \n",
        "# else they have to pay $12\n",
        "# People who don't pass the height criteria are not allowed to ride the roller coster\n",
        "\n",
        "\n",
        "print('Welcome to the roller coaster!')\n",
        "height = int(input('What is your height in cm? '))\n",
        "\n",
        "if height >= 120:\n",
        "  print('You can ride the rollercoaster!')\n",
        "  age = int(input('What is your age? '))\n",
        "  if age < 12:\n",
        "    print('Please pay $7')\n",
        "  elif age <= 18:\n",
        "    print('Please pay $7')\n",
        "  else:\n",
        "    print('Please pay $12')\n",
        "else:\n",
        "  print('Sorry, yo have to grow taller before you can ride')"
      ],
      "execution_count": null,
      "outputs": [
        {
          "output_type": "stream",
          "name": "stdout",
          "text": [
            "Welcome to the roller coaster!\n",
            "What is your height in cm? 130\n",
            "You can ride the rollercoaster!\n",
            "What is your age? 14\n",
            "Please pay $7\n"
          ]
        }
      ]
    },
    {
      "cell_type": "markdown",
      "metadata": {
        "id": "5rrqfUpKQR-s"
      },
      "source": [
        "### BMI Calculator 2.0\n",
        "\n",
        "# Instructions\n",
        "\n",
        "Write a program that interprets the Body Mass Index (BMI) based on a user's weight and height.\n",
        "\n",
        "It should tell them the interpretation of their BMI based on the BMI value.\n",
        "\n",
        "- Under 18.5 they are underweight\n",
        "- Over 18.5 but below 25 they have a normal weight\n",
        "- Over 25 but below 30 they are slightly overweight\n",
        "- Over 30 but below 35 they are obese\n",
        "- Above 35 they are clinically obese.\n",
        "\n",
        "![](https://cdn.fs.teachablecdn.com/qTOp8afxSkGfU5YGYf36)\n",
        "\n",
        "The BMI is calculated by dividing a person's weight (in kg) by the square of their height (in m):\n",
        "\n",
        "![](https://cdn.fs.teachablecdn.com/jKHjnLrNQjqzdz3MTMyv)\n",
        "\n",
        "**Warning** you should **round** the result to the nearest whole number. The interpretation message needs to include the words in bold from the interpretations above. e.g. **underweight, normal weight,  overweight, obese, clinically obese**. \n",
        "\n",
        "# Example Input\n",
        "\n",
        "```\n",
        "weight = 85\n",
        "```\n",
        "\n",
        "```\n",
        "height = 1.75\n",
        "```\n",
        "\n",
        "# Example Output\n",
        "\n",
        "85 ÷ (1.75 x 1.75) =  27.755102040816325\n",
        "\n",
        "```\n",
        "Your BMI is 28, you are slightly overweight.\n",
        "```\n",
        "\n",
        "e.g. When you hit **run**, this is what should happen:   \n",
        "\n",
        "![](https://cdn.fs.teachablecdn.com/mGRynIETXuVqoDk8unci)\n",
        "\n",
        "The testing code will check for print output that is formatted like one of the lines below:\n",
        "\n",
        "```\n",
        "\"Your BMI is 18, you are underweight.\"\n",
        "\"Your BMI is 22, you have a normal weight.\"\n",
        "\"Your BMI is 28, you are slightly overweight.\"\n",
        "\"Your BMI is 33, you are obese.\"\n",
        "\"Your BMI is 40, you are clinically obese.\"\n",
        "```\n",
        "\n",
        "Hint\n",
        "\n",
        "1. Try to use the **exponent** operator in your code.\n",
        "2. Remember to **round** your result to the nearest whole number. \n",
        "3. Make sure you include the words in **bold** from the interpretations. \n",
        "\n",
        "# Test Your Code\n",
        "\n",
        "Before checking the solution, try copy-pasting your code into this repl: \n",
        "\n",
        "[https://repl.it/@appbrewery/day-3-2-test-your-code](https://repl.it/@appbrewery/day-3-2-test-your-code)\n",
        "\n",
        "This repl includes my testing code that will check if your code meets this assignment's objectives. \n",
        "\n",
        "\n",
        "\n",
        "\n",
        "# Solution\n",
        "\n",
        "[https://repl.it/@appbrewery/day-3-2-solution](https://repl.it/@appbrewery/day-3-2-solution)"
      ]
    },
    {
      "cell_type": "code",
      "metadata": {
        "colab": {
          "base_uri": "https://localhost:8080/"
        },
        "id": "3j_7iBHdQ6x_",
        "outputId": "8face7b5-d2ee-40d6-99a8-5534a602adb2"
      },
      "source": [
        "# 🚨 Don't change the code below 👇\n",
        "height = float(input(\"enter your height in m: \"))\n",
        "weight = float(input(\"enter your weight in kg: \"))\n",
        "# 🚨 Don't change the code above 👆\n",
        "\n",
        "bmi = int(weight) / (float(height) ** 2)\n",
        "print(f'Your BMI is {bmi}')  \n",
        "#Write your code below this line 👇\n",
        "\n",
        "if bmi <= 18.5:\n",
        "  print('You are Underweight')\n",
        "elif bmi <= 25:\n",
        "  print('Normal Weight')\n",
        "elif bmi <= 30:\n",
        "  print('You are Slightly Overweight')\n",
        "elif bmi <= 35:\n",
        "  print('You are obese')\n",
        "else:\n",
        "  print('You are clinically obese')\n",
        "\n",
        "\n"
      ],
      "execution_count": null,
      "outputs": [
        {
          "output_type": "stream",
          "name": "stdout",
          "text": [
            "enter your height in m: 2\n",
            "enter your weight in kg: 140\n",
            "Your BMI is 35.0\n",
            "You are obese\n"
          ]
        }
      ]
    },
    {
      "cell_type": "markdown",
      "metadata": {
        "id": "zDnfTiZ7SZkZ"
      },
      "source": [
        "### Leap Year\n",
        "\n",
        "# 💪This is a Difficult Challenge 💪\n",
        "\n",
        "# Instructions\n",
        "\n",
        "Write a program that works out whether if a given year is a leap year. A normal year has 365 days, leap years have 366, with an extra day in February. The reason why we have leap years is really fascinating, this video does it more justice:\n",
        "\n",
        "[https://www.youtube.com/watch?v=xX96xng7sAE](https://www.youtube.com/watch?v=xX96xng7sAE)\n",
        "\n",
        "This is how you work out whether if a particular year is a leap year. \n",
        "\n",
        "> `on every year that is evenly divisible by 4\n",
        ">   **except** every year that is evenly divisible by 100\n",
        ">     **unless** the year is also evenly divisible by 400`\n",
        "\n",
        "e.g. The year 2000:\n",
        "\n",
        "2000 ÷ 4 = 500 (Leap)\n",
        "\n",
        "2000 ÷ 100 = 20 (Not Leap)\n",
        "\n",
        "2000 ÷ 400 = 5 (Leap!)\n",
        "\n",
        "So the year 2000 is a leap year.\n",
        "\n",
        "But the year 2100 is not a leap year because:\n",
        "\n",
        "2100 ÷  4 = 525 (Leap)\n",
        "\n",
        "2100 ÷ 100 = 21 (Not Leap)\n",
        "\n",
        "2100 ÷ 400 = 5.25 (Not Leap)\n",
        "\n",
        "**Warning** your output should match the Example Output format exactly, even the positions of the commas and full stops. \n",
        "\n",
        "# Example Input 1\n",
        "\n",
        "```\n",
        "2400\n",
        "```\n",
        "\n",
        "# Example Output 1\n",
        "\n",
        "```\n",
        "Leap year.\n",
        "```\n",
        "\n",
        "# Example Input 2\n",
        "\n",
        "```\n",
        "1989\n",
        "```\n",
        "\n",
        "# Example Output 2\n",
        "\n",
        "```\n",
        "Not leap year.\n",
        "```\n",
        "\n",
        "e.g. When you hit **run**, this is what should happen:  \n",
        "\n",
        " ![](https://cdn.fs.teachablecdn.com/AthNqKoSm6JD4sMom2X2)\n",
        "\n",
        "# Hint\n",
        "\n",
        "1. Try to visualise the rules by creating a flow chart on www.draw.io\n",
        "2. If you really get stuck, you can see the flow chart I created: \n",
        "\n",
        "https://bit.ly/36BjS2D\n",
        "\n",
        "# Test Your Code\n",
        "\n",
        "Before checking the solution, try copy-pasting your code into this repl: \n",
        "\n",
        "[https://repl.it/@appbrewery/day-3-3-test-your-code](https://repl.it/@appbrewery/day-3-3-test-your-code)\n",
        "\n",
        "This repl includes my testing code that will check if your code meets this assignment's objectives. \n",
        "\n",
        "\n",
        "# Solution\n",
        "\n",
        "[https://repl.it/@appbrewery/day-3-3-solution](https://repl.it/@appbrewery/day-3-3-solution)"
      ]
    },
    {
      "cell_type": "code",
      "metadata": {
        "colab": {
          "base_uri": "https://localhost:8080/"
        },
        "id": "iR58gBMPU0DP",
        "outputId": "efebb9e7-d7bc-4098-9fe5-fedfb703cbd1"
      },
      "source": [
        "year = 2000\n",
        "if year % 4 == 0:\n",
        "  if year % 100 == 0:\n",
        "    if year % 400 == 0:\n",
        "      print('Leap Year')\n",
        "    else:\n",
        "      print('Not a leap Year')\n",
        "  else:\n",
        "    print('Leap Year')\n",
        "\n",
        "\n",
        "else:\n",
        "  print('Not Leap Year')"
      ],
      "execution_count": null,
      "outputs": [
        {
          "output_type": "stream",
          "name": "stdout",
          "text": [
            "Leap Year\n"
          ]
        }
      ]
    },
    {
      "cell_type": "markdown",
      "metadata": {
        "id": "jQkJrLHuaYdM"
      },
      "source": [
        "### Multiple If statemets in succession\n",
        "\n",
        "__Tast: Program to ride rollercostor__:\n",
        "\n",
        "__Criteria__:\n",
        "\n",
        "* If the height is greater or equal to 120 then they are libel to ride the rollercoster else they don't\n",
        "\n",
        "* If rider have a height less then or equal to 18 then he has to pay $5 dollars\n",
        "\n",
        "* If rider age is less then 25 but more than 18 then he has to pay $7 dollars\n",
        "\n",
        "* Esle rider has to pay 10 dollar\n",
        "\n",
        "* There is a additional bill of $5 dollar for photo taking"
      ]
    },
    {
      "cell_type": "code",
      "metadata": {
        "colab": {
          "base_uri": "https://localhost:8080/",
          "height": 35
        },
        "id": "XTHKS1_DiJ2-",
        "outputId": "90b690dd-ccef-4b79-9f24-d82465b3f5e9"
      },
      "source": [
        ""
      ],
      "execution_count": null,
      "outputs": [
        {
          "output_type": "execute_result",
          "data": {
            "application/vnd.google.colaboratory.intrinsic+json": {
              "type": "string"
            },
            "text/plain": [
              "'y'"
            ]
          },
          "metadata": {},
          "execution_count": 71
        }
      ]
    },
    {
      "cell_type": "code",
      "metadata": {
        "colab": {
          "base_uri": "https://localhost:8080/"
        },
        "id": "kbjyXeUjdicO",
        "outputId": "c4cf7439-d841-4937-fa95-e76ba98aa6ae"
      },
      "source": [
        "height = int(input('What is your height in cm? '))\n",
        "if height >= 120:\n",
        "  print('You can ride the roller coster')\n",
        "  age = int(input(\"How old are you? \"))\n",
        "  if age <= 18:\n",
        "    bill = 5\n",
        "    print(f'Child tiket are ${bill}')\n",
        "  elif age < 25:\n",
        "    bill = 7\n",
        "    print(f'Youth Ticket are ${bill}')\n",
        "  else:\n",
        "    bill = 10\n",
        "    print(f'Adult ticket are ${bill}') \n",
        "  want_photo = input('Do you like to take a photo? Y or N ')\n",
        "  if want_photo.upper() == 'Y':\n",
        "    bill += 3\n",
        "  print(f'Your total bill is {bill}')\n",
        "   \n",
        "else:\n",
        "  print('You cannot ride the roller coster')"
      ],
      "execution_count": null,
      "outputs": [
        {
          "output_type": "stream",
          "name": "stdout",
          "text": [
            "What is your height in cm? 130\n",
            "You can ride the roller coster\n",
            "How old are you? 34\n",
            "Adult ticket are $10\n",
            "Do you like to take a photo? Y or N y\n",
            "Your total bill is 13\n"
          ]
        }
      ]
    },
    {
      "cell_type": "markdown",
      "metadata": {
        "id": "6qkVYZ-zh88p"
      },
      "source": [
        "### Pizza Order\n",
        "\n",
        "# Instructions\n",
        "\n",
        "Congratulations, you've got a job at Python Pizza. Your first job is to build an automatic pizza order program. \n",
        "\n",
        "Based on a user's order, work out their final bill. \n",
        "\n",
        "```\n",
        "Small Pizza: $15\n",
        "```\n",
        "\n",
        "```\n",
        "Medium Pizza: $20\n",
        "```\n",
        "\n",
        "```\n",
        "Large Pizza: $25\n",
        "```\n",
        "\n",
        "```\n",
        "Pepperoni for Small Pizza: +$2\n",
        "```\n",
        "\n",
        "```\n",
        "Pepperoni for Medium or Large Pizza: +$3\n",
        "```\n",
        "\n",
        "```\n",
        "Extra cheese for any size pizza: + $1\n",
        "```\n",
        "\n",
        "# Example Input\n",
        "\n",
        "```\n",
        "size = \"L\"\n",
        "```\n",
        "\n",
        "```\n",
        "add_pepperoni = \"Y\"\n",
        "```\n",
        "\n",
        "```\n",
        "extra_cheese = \"N\"\n",
        "```\n",
        "\n",
        "# Example Output\n",
        "\n",
        "```\n",
        "Your final bill is: $28.\n",
        "```\n",
        "\n",
        "e.g. When you hit **run**, this is what should happen:  \n",
        "\n",
        " \n",
        "![](https://cdn.fs.teachablecdn.com/p1evEkwQxGNR4WlolIb4)\n",
        "  \n",
        "\n",
        "# Hint\n",
        "\n",
        "1. Think about what you've learnt about multiple if statements and see if you can reduce the number of lines of code while having the same functionality.\n",
        "\n",
        "# Test Your Code\n",
        "\n",
        "Before checking the solution, try copy-pasting your code into this repl: \n",
        "\n",
        "[https://repl.it/@appbrewery/day-3-4-test-your-code](https://repl.it/@appbrewery/day-3-4-test-your-code)\n",
        "\n",
        "This repl includes my testing code that will check if your code meets this assignment's objectives. \n",
        "\n",
        "\n",
        "\n",
        "# Solution\n",
        "\n",
        "[https://repl.it/@appbrewery/day-3-4-solution](https://repl.it/@appbrewery/day-3-4-solution)"
      ]
    },
    {
      "cell_type": "code",
      "metadata": {
        "colab": {
          "base_uri": "https://localhost:8080/"
        },
        "id": "bLc1PoyMjnnq",
        "outputId": "4af06ed7-150c-4305-ac7f-a5758e854548"
      },
      "source": [
        "print('Welcome to Pythong Pizza Deliveries')\n",
        "\n",
        "\n",
        "size_of_pizza = input('What size pizza do you want? S, M, or L ')\n",
        "want_pepperoni = input('Do you want pepperoni? Y or N ')\n",
        "want_cheese = input('Do you want cheese? Y or N ')\n",
        "\n",
        "bill = 0\n",
        "if size_of_pizza.upper() == 'S':\n",
        "  bill = 15\n",
        "elif size_of_pizza.upper() == 'M':\n",
        "  bill = 20\n",
        "elif size_of_pizza.upper() == 'L':\n",
        "  bill = 25\n",
        "else:\n",
        "  print('Kindly chose correct Answer: ')\n",
        "\n",
        "\n",
        "if want_pepperoni.upper() == 'Y':\n",
        "  if size_of_pizza.upper() == 'S':\n",
        "    bill += 2\n",
        "  else:\n",
        "    bill += 3\n",
        "else:\n",
        "  bill = bill\n",
        "\n",
        "\n",
        "\n",
        "\n",
        "if want_cheese.upper() == 'Y':\n",
        "  bill += 1\n",
        "\n",
        "print(f'Your Final bill is: ${bill}')\n"
      ],
      "execution_count": null,
      "outputs": [
        {
          "output_type": "stream",
          "name": "stdout",
          "text": [
            "Welcome to Pythong Pizza Deliveries\n",
            "What size pizza do you want? S, M, or L S\n",
            "Do you want pepperoni? Y or N Y\n",
            "Do you want cheese? Y or N Y\n",
            "Your Final bill is: $18\n"
          ]
        }
      ]
    },
    {
      "cell_type": "markdown",
      "metadata": {
        "id": "NK87GFe0nGAb"
      },
      "source": [
        "### Logical Operators"
      ]
    },
    {
      "cell_type": "code",
      "metadata": {
        "colab": {
          "base_uri": "https://localhost:8080/"
        },
        "id": "aMhs1m9xoSf7",
        "outputId": "724a8b4e-94b3-43a9-fb0a-398af2fad584"
      },
      "source": [
        "height = int(input('What is your height in cm? '))\n",
        "bill = 0\n",
        "if height >= 120:\n",
        "  print('You can ride the roller coster')\n",
        "  age = int(input(\"How old are you? \"))\n",
        "  \n",
        "  if age <= 18:\n",
        "    bill = 5\n",
        "    print(f'Child tiket are ${bill}')\n",
        "  elif age < 25:\n",
        "    bill = 7\n",
        "    print(f'Youth Ticket are ${bill}')\n",
        "  elif age >= 45 and age <= 55:\n",
        "    print(f'You can enjoy Free ride')\n",
        "  else:\n",
        "    bill = 10\n",
        "    print(f'Adult ticket are ${bill}') \n",
        "  want_photo = input('Do you like to take a photo? Y or N ')\n",
        "  if want_photo.upper() == 'Y':\n",
        "    bill += 3\n",
        "  print(f'Your total bill is {bill}')\n",
        "   \n",
        "else:\n",
        "  print('You cannot ride the roller coster')"
      ],
      "execution_count": null,
      "outputs": [
        {
          "output_type": "stream",
          "name": "stdout",
          "text": [
            "What is your height in cm? 130\n",
            "You can ride the roller coster\n",
            "How old are you? 46\n",
            "You can enjoy Free ride\n",
            "Do you like to take a photo? Y or N Y\n",
            "Your total bill is 3\n"
          ]
        }
      ]
    },
    {
      "cell_type": "markdown",
      "metadata": {
        "id": "_zgJpeRirCyS"
      },
      "source": [
        "### Love Calculator\n",
        "\n",
        "# 💪 This is a Difficult Challenge 💪\n",
        "\n",
        "# Instructions\n",
        "\n",
        "You are going to write a program that tests the compatibility between two people.  \n",
        "\n",
        "To work out the love score between two people:\n",
        "\n",
        "> Take both people's names and check for the number of times the letters in the word TRUE occurs. Then check for the number of times the letters in the word LOVE occurs. Then combine these numbers to make a 2 digit number. \n",
        "\n",
        "\n",
        "For Love Scores **less than 10** or **greater than 90**, the message should be:\n",
        "\n",
        "`\"Your score is **x**, you go together like coke and mentos.\"` \n",
        "\n",
        "For Love Scores **between 40** and **50**, the message should be:\n",
        "\n",
        "`\"Your score is **y**, you are alright together.\"`\n",
        "\n",
        "Otherwise, the message will just be their score. e.g.:\n",
        "\n",
        "`\"Your score is **z**.\"`\n",
        "\n",
        "e.g. \n",
        "\n",
        "`name1 = \"Angela Yu\"`\n",
        "\n",
        "`name2 = \"Jack Bauer\"`\n",
        "\n",
        "T occurs 0 times\n",
        "\n",
        "R occurs 1 time\n",
        "\n",
        "U occurs 2 times\n",
        "\n",
        "E occurs 2 times\n",
        "\n",
        "Total = 5\n",
        "\n",
        "L occurs 1 time\n",
        "\n",
        "O occurs 0 times\n",
        "\n",
        "V occurs 0 times\n",
        "\n",
        "E occurs 2 times\n",
        "\n",
        "Total = 3\n",
        "\n",
        "Love Score = 53\n",
        "\n",
        "Print: \"Your score is 53.\"\n",
        "\n",
        "# Example Input 1\n",
        "\n",
        "```\n",
        "name1 = \"Kanye West\"\n",
        "```\n",
        "\n",
        "```\n",
        "name2 = \"Kim Kardashian\"\n",
        "```\n",
        "\n",
        "# Example Output 1\n",
        "\n",
        "```\n",
        "Your score is 42, you are alright together.\n",
        "```\n",
        "\n",
        "# Example Input 2\n",
        "\n",
        "```\n",
        "name1 = \"Brad Pitt\"\n",
        "```\n",
        "\n",
        "```\n",
        "name2 = \"Jennifer Aniston\"\n",
        "```\n",
        "\n",
        "# Example Output 2\n",
        "\n",
        "```\n",
        "Your score is 73.\n",
        "```\n",
        "\n",
        "e.g. When you hit **run**, this is what should happen:  \n",
        "\n",
        "![](https://cdn.fs.teachablecdn.com/nfSILIPSNaIOwWhPR5vr)\n",
        "\n",
        "The testing code will check for print output that is formatted like one of the lines below:\n",
        "```\n",
        "\"Your score is 47, you are alright together.\"\n",
        "\"Your score is 125, you go together like coke and mentos.\"\n",
        "\"Your score is 54.\"\n",
        "```\n",
        "\n",
        "# Hint\n",
        "\n",
        "1. The `lower()` function changes all the letters in a string to lower case. \n",
        "\n",
        "[https://stackoverflow.com/questions/6797984/how-do-i-lowercase-a-string-in-python](https://stackoverflow.com/questions/6797984/how-do-i-lowercase-a-string-in-python)\n",
        "\n",
        "2. The `count()` function will give you the number of times a letter occurs in a string. \n",
        "\n",
        "[https://stackoverflow.com/questions/1155617/count-the-number-occurrences-of-a-character-in-a-string](https://stackoverflow.com/questions/1155617/count-the-number-occurrences-of-a-character-in-a-string)\n",
        "\n",
        "# Test Your Code\n",
        "\n",
        "Before checking the solution, try copy-pasting your code into this repl: \n",
        "\n",
        "[https://repl.it/@appbrewery/day-3-5-test-your-code](https://repl.it/@appbrewery/day-3-5-test-your-code)\n",
        "\n",
        "This repl includes my testing code that will check if your code meets this assignment's objectives. \n",
        "\n",
        "\n",
        "\n",
        "\n",
        "\n",
        "# Solution\n",
        "\n",
        "[https://repl.it/@appbrewery/day-3-5-solution](https://repl.it/@appbrewery/day-3-5-solution)"
      ]
    },
    {
      "cell_type": "code",
      "metadata": {
        "colab": {
          "base_uri": "https://localhost:8080/"
        },
        "id": "9aNwe_RQs-bF",
        "outputId": "7d83c1e4-c2f1-4ad7-e95f-cc88787ae20d"
      },
      "source": [
        "# 🚨 Don't change the code below 👇\n",
        "print(\"Welcome to the Love Calculator!\")\n",
        "name1 = input(\"What is your name? \\n\")\n",
        "name2 = input(\"What is their name? \\n\")\n",
        "# 🚨 Don't change the code above 👆\n",
        "\n",
        "fullname = name1 + name2\n",
        "fullname = fullname.upper()\n",
        "\n",
        "#Write your code below this line 👇\n",
        "count_T = fullname.count('T')\n",
        "count_R = fullname.count('R')\n",
        "count_U = fullname.count('U')\n",
        "count_E = fullname.count('E')\n",
        "\n",
        "total_true = count_T + count_R + count_U + count_E\n",
        "\n",
        "count_L = fullname.count('L')\n",
        "count_O = fullname.count('O')\n",
        "count_V = fullname.count('V')\n",
        "count_E = fullname.count('E')\n",
        "\n",
        "total_love = count_L + count_O + count_V + count_E\n",
        "total_score = int(str(total_true) + str(total_love))\n",
        "\n",
        "\n",
        "if (total_score < 10) or (total_score > 90):\n",
        "  print(f'Your score is {total_score}, you go together like coke and mentos.')\n",
        "elif (total_score >= 40) and (total_score <= 50):\n",
        "  print(f'Your score is {total_score}, you are alright together.')\n",
        "else:\n",
        "  print(f'Your score is {total_score}')"
      ],
      "execution_count": null,
      "outputs": [
        {
          "output_type": "stream",
          "name": "stdout",
          "text": [
            "Welcome to the Love Calculator!\n",
            "What is your name? \n",
            "Anuj Kumar\n",
            "What is their name? \n",
            "Anjali Sharma\n",
            "Your score is 41, you are alright together.\n"
          ]
        }
      ]
    },
    {
      "cell_type": "markdown",
      "metadata": {
        "id": "iekg_sfI11u5"
      },
      "source": [
        "### Project: Tresure Island\n",
        "\n",
        "<img src = 'https://github.com/Anuj-gitch/DataScience/blob/main/game.PNG?raw=true' >"
      ]
    },
    {
      "cell_type": "code",
      "metadata": {
        "colab": {
          "base_uri": "https://localhost:8080/"
        },
        "id": "etJsdgUo314i",
        "outputId": "dd959749-a63f-408a-9d7c-13c2133fbe38"
      },
      "source": [
        "print('''\n",
        "\n",
        "*******************************************************************************\n",
        "          |                   |                  |                     |\n",
        " _________|________________.=\"\"_;=.______________|_____________________|_______\n",
        "|                   |  ,-\"_,=\"\"     `\"=.|                  |\n",
        "|___________________|__\"=._o`\"-._        `\"=.______________|___________________\n",
        "          |                `\"=._o`\"=._      _`\"=._                     |\n",
        " _________|_____________________:=._o \"=._.\"_.-=\"'\"=.__________________|_______\n",
        "|                   |    __.--\" , ; `\"=._o.\" ,-\"\"\"-._ \".   |\n",
        "|___________________|_._\"  ,. .` ` `` ,  `\"-._\"-._   \". '__|___________________\n",
        "          |           |o`\"=._` , \"` `; .\". ,  \"-._\"-._; ;              |\n",
        " _________|___________| ;`-.o`\"=._; .\" ` '`.\"\\` . \"-._ /_______________|_______\n",
        "|                   | |o;    `\"-.o`\"=._``  '` \" ,__.--o;   |\n",
        "|___________________|_| ;     (#) `-.o `\"=.`_.--\"_o.-; ;___|___________________\n",
        "____/______/______/___|o;._    \"      `\".o|o_.--\"    ;o;____/______/______/____\n",
        "/______/______/______/_\"=._o--._        ; | ;        ; ;/______/______/______/_\n",
        "____/______/______/______/__\"=._o--._   ;o|o;     _._;o;____/______/______/____\n",
        "/______/______/______/______/____\"=._o._; | ;_.--\"o.--\"_/______/______/______/_\n",
        "____/______/______/______/______/_____\"=.o|o_.--\"\"___/______/______/______/____\n",
        "/______/______/______/______/______/______/______/______/______/______/_____ /\n",
        "*******************************************************************************\n",
        "\n",
        "''')\n",
        "\n",
        "print('Welcome to Tresure Island. Your mission is to find the treasure. ')\n",
        "\n",
        "\n",
        "move = input('You are at the crossroad. Where do you want to go? Type \"Left\" or \"right ').lower()\n",
        "\n",
        "if move == 'left':\n",
        "  move = input('Switch or Wait? ').lower()\n",
        "  if move == 'wait':\n",
        "    move = input('Red, Blue or Yellow? ').lower()\n",
        "    if move == 'yellow':\n",
        "      print('You found the treasure, You Win! ')\n",
        "    elif move == 'red':\n",
        "      print('Burned by fire Game Over')\n",
        "    elif move == 'blue':\n",
        "      print('Eaten by beasts Game Over')\n",
        "    else:\n",
        "      print('Game Over')\n",
        "  else:\n",
        "    print('Attacked by trout Game Over')\n",
        "  \n",
        "else:\n",
        "  print('Fall into a hole Game Over')\n"
      ],
      "execution_count": null,
      "outputs": [
        {
          "output_type": "stream",
          "name": "stdout",
          "text": [
            "\n",
            "\n",
            "*******************************************************************************\n",
            "          |                   |                  |                     |\n",
            " _________|________________.=\"\"_;=.______________|_____________________|_______\n",
            "|                   |  ,-\"_,=\"\"     `\"=.|                  |\n",
            "|___________________|__\"=._o`\"-._        `\"=.______________|___________________\n",
            "          |                `\"=._o`\"=._      _`\"=._                     |\n",
            " _________|_____________________:=._o \"=._.\"_.-=\"'\"=.__________________|_______\n",
            "|                   |    __.--\" , ; `\"=._o.\" ,-\"\"\"-._ \".   |\n",
            "|___________________|_._\"  ,. .` ` `` ,  `\"-._\"-._   \". '__|___________________\n",
            "          |           |o`\"=._` , \"` `; .\". ,  \"-._\"-._; ;              |\n",
            " _________|___________| ;`-.o`\"=._; .\" ` '`.\"\\` . \"-._ /_______________|_______\n",
            "|                   | |o;    `\"-.o`\"=._``  '` \" ,__.--o;   |\n",
            "|___________________|_| ;     (#) `-.o `\"=.`_.--\"_o.-; ;___|___________________\n",
            "____/______/______/___|o;._    \"      `\".o|o_.--\"    ;o;____/______/______/____\n",
            "/______/______/______/_\"=._o--._        ; | ;        ; ;/______/______/______/_\n",
            "____/______/______/______/__\"=._o--._   ;o|o;     _._;o;____/______/______/____\n",
            "/______/______/______/______/____\"=._o._; | ;_.--\"o.--\"_/______/______/______/_\n",
            "____/______/______/______/______/_____\"=.o|o_.--\"\"___/______/______/______/____\n",
            "/______/______/______/______/______/______/______/______/______/______/_____ /\n",
            "*******************************************************************************\n",
            "\n",
            "\n",
            "Welcome to Tresure Island. Your mission is to find the treasure. \n",
            "You are at the crossroad. Where do you want to go? Type \"Left\" or \"right left\n",
            "Switch or Wait? switch\n",
            "Attacked by trout Game Over\n"
          ]
        }
      ]
    },
    {
      "cell_type": "markdown",
      "metadata": {
        "id": "ut9aHuegixo7"
      },
      "source": [
        "## Day 4 : Randomisation and Python List\n",
        "\n",
        "* Randomness, List\n",
        "* Appending List\n",
        "* IndexErrors and Working with Nested Lists\n",
        "* Final Project: Rock, Paper, Scissors Game"
      ]
    },
    {
      "cell_type": "markdown",
      "metadata": {
        "id": "Dd-5dBkI4b4r"
      },
      "source": [
        "### Random Module"
      ]
    },
    {
      "cell_type": "code",
      "metadata": {
        "id": "CV9h-da7jq0E"
      },
      "source": [
        "import random"
      ],
      "execution_count": null,
      "outputs": []
    },
    {
      "cell_type": "code",
      "metadata": {
        "colab": {
          "base_uri": "https://localhost:8080/"
        },
        "id": "S--09mINkyAK",
        "outputId": "f14dc64e-52e4-42b5-f56d-22c801c9a8f2"
      },
      "source": [
        "random_integer = random.randint(1,10)\n",
        "random_integer"
      ],
      "execution_count": null,
      "outputs": [
        {
          "output_type": "execute_result",
          "data": {
            "text/plain": [
              "9"
            ]
          },
          "metadata": {},
          "execution_count": 4
        }
      ]
    },
    {
      "cell_type": "code",
      "metadata": {
        "colab": {
          "base_uri": "https://localhost:8080/"
        },
        "id": "P4y31JpKk8t3",
        "outputId": "7fb58382-4c37-4227-bb06-b7a663e297b3"
      },
      "source": [
        "random_float = random.random()\n",
        "random_float"
      ],
      "execution_count": null,
      "outputs": [
        {
          "output_type": "execute_result",
          "data": {
            "text/plain": [
              "0.3689882536312329"
            ]
          },
          "metadata": {},
          "execution_count": 5
        }
      ]
    },
    {
      "cell_type": "code",
      "metadata": {
        "colab": {
          "base_uri": "https://localhost:8080/"
        },
        "id": "rxKLFkWllF-W",
        "outputId": "e4ed23d6-bcad-4aba-acfd-f601297d12a2"
      },
      "source": [
        "random_integer = random.randint(1,10)\n",
        "random_float = random.random()\n",
        "random_integer * random_float"
      ],
      "execution_count": null,
      "outputs": [
        {
          "output_type": "execute_result",
          "data": {
            "text/plain": [
              "2.5020889187009527"
            ]
          },
          "metadata": {},
          "execution_count": 10
        }
      ]
    },
    {
      "cell_type": "code",
      "metadata": {
        "colab": {
          "base_uri": "https://localhost:8080/"
        },
        "id": "GQDd5fwIE7qm",
        "outputId": "ade5e561-d4c1-410f-b3e3-5175d4295c99"
      },
      "source": [
        "love_score = random.randint(1,100)\n",
        "print(love_score)"
      ],
      "execution_count": null,
      "outputs": [
        {
          "output_type": "stream",
          "name": "stdout",
          "text": [
            "54\n"
          ]
        }
      ]
    },
    {
      "cell_type": "markdown",
      "metadata": {
        "id": "EL9mYh0YFjB-"
      },
      "source": [
        "### Heads or Tails\n",
        "\n",
        "# Instructions\n",
        "\n",
        "You are going to write a virtual coin toss program. It will randomly tell the user \"Heads\" or \"Tails\". \n",
        "\n",
        "**Important**, the first letter should be capitalised and spelt exactly like in the example e.g. Heads, not heads.\n",
        "\n",
        "There are many ways of doing this. But to practice what we learnt in the last lesson, you should generate a random number, either 0 or 1. Then use that number to print out Heads or Tails.\n",
        "\n",
        "e.g.\n",
        "1 means Heads\n",
        "0 means Tails \n",
        "\n",
        "# Example Output\n",
        "\n",
        "```\n",
        "Heads\n",
        "```\n",
        "\n",
        "or\n",
        "\n",
        "```\n",
        "Tails\n",
        "```\n",
        "\n",
        "\n",
        "# Solution\n",
        "\n",
        "[https://repl.it/@appbrewery/day-4-1-solution](https://repl.it/@appbrewery/day-4-1-solution)"
      ]
    },
    {
      "cell_type": "code",
      "metadata": {
        "colab": {
          "base_uri": "https://localhost:8080/"
        },
        "id": "JHbZTRFpFxRO",
        "outputId": "d3c0592d-3576-4123-e6f8-99f2f4386fdf"
      },
      "source": [
        "number = random.randint(0,1)\n",
        "if number == 1:\n",
        "  print('Head')\n",
        "else:\n",
        "  print('Tail')"
      ],
      "execution_count": null,
      "outputs": [
        {
          "output_type": "stream",
          "name": "stdout",
          "text": [
            "Head\n"
          ]
        }
      ]
    },
    {
      "cell_type": "markdown",
      "metadata": {
        "id": "k-RlLHNtGAOF"
      },
      "source": [
        "### Understanding the Offset and Appending item to lists. (List is a datastructure)\n",
        "\n",
        "\n",
        "Documentation: https://docs.python.org/3/tutorial/datastructures.html"
      ]
    },
    {
      "cell_type": "code",
      "metadata": {
        "colab": {
          "base_uri": "https://localhost:8080/",
          "height": 35
        },
        "id": "pHfiEBsMGqsm",
        "outputId": "6531794c-e764-49ad-843e-a9f3dfdb454f"
      },
      "source": [
        "states_of_america = [\"Delaware\", \"Pennsylvania\", \"New Jersey\", \"Georgia\", \"Connecticut\", \"Massachusetts\", \"Maryland\", \"South Carolina\", \"New Hampshire\", \n",
        "                     \"Virginia\", \"New York\", \"North Carolina\", \"Rhode Island\", \"Vermont\", \"Kentucky\", \"Tennessee\", \"Ohio\", \"Louisiana\", \"Indiana\", \"Mississippi\", \n",
        "                     \"Illinois\", \"Alabama\", \"Maine\", \"Missouri\", \"Arkansas\", \"Michigan\", \"Florida\", \n",
        "                     \"Texas\", \"Iowa\", \"Wisconsin\", \"California\", \"Minnesota\", \"Oregon\", \"Kansas\", \"West Virginia\", \n",
        "                     \"Nevada\", \"Nebraska\", \"Colorado\", \"North Dakota\", \"South Dakota\", \"Montana\", \"Washington\", \"Idaho\", \"Wyoming\", \"Utah\", \"Oklahoma\", \"New Mexico\", \"Arizona\", \"Alaska\", \"Hawaii\"]\n",
        "\n",
        "states_of_america[0]"
      ],
      "execution_count": null,
      "outputs": [
        {
          "output_type": "execute_result",
          "data": {
            "application/vnd.google.colaboratory.intrinsic+json": {
              "type": "string"
            },
            "text/plain": [
              "'Delaware'"
            ]
          },
          "metadata": {},
          "execution_count": 29
        }
      ]
    },
    {
      "cell_type": "code",
      "metadata": {
        "id": "upy7W0FAPUmP"
      },
      "source": [
        "# chaning the list item\n",
        "states_of_america[1] = \"Pencilvania\""
      ],
      "execution_count": null,
      "outputs": []
    },
    {
      "cell_type": "code",
      "metadata": {
        "id": "q3bwff60QE7G"
      },
      "source": [
        "# appending the list\n",
        "states_of_america.append('AnujLand')"
      ],
      "execution_count": null,
      "outputs": []
    },
    {
      "cell_type": "code",
      "metadata": {
        "id": "G_ZN0Oj8RPTG"
      },
      "source": [
        "states_of_america.extend(['AjayLand','ArunLand','VikasLand'])"
      ],
      "execution_count": null,
      "outputs": []
    },
    {
      "cell_type": "code",
      "metadata": {
        "colab": {
          "base_uri": "https://localhost:8080/"
        },
        "id": "XJrmUL2lRVUl",
        "outputId": "100369d9-b032-40dd-c9b8-9ddd58a84333"
      },
      "source": [
        "print(states_of_america)"
      ],
      "execution_count": null,
      "outputs": [
        {
          "output_type": "stream",
          "name": "stdout",
          "text": [
            "['Delaware', 'Pencilvania', 'New Jersey', 'Georgia', 'Connecticut', 'Massachusetts', 'Maryland', 'South Carolina', 'New Hampshire', 'Virginia', 'New York', 'North Carolina', 'Rhode Island', 'Vermont', 'Kentucky', 'Tennessee', 'Ohio', 'Louisiana', 'Indiana', 'Mississippi', 'Illinois', 'Alabama', 'Maine', 'Missouri', 'Arkansas', 'Michigan', 'Florida', 'Texas', 'Iowa', 'Wisconsin', 'California', 'Minnesota', 'Oregon', 'Kansas', 'West Virginia', 'Nevada', 'Nebraska', 'Colorado', 'North Dakota', 'South Dakota', 'Montana', 'Washington', 'Idaho', 'Wyoming', 'Utah', 'Oklahoma', 'New Mexico', 'Arizona', 'Alaska', 'Hawaii', 'AnujLand', 'AjayLand', 'ArunLand', 'VikasLand']\n"
          ]
        }
      ]
    },
    {
      "cell_type": "markdown",
      "metadata": {
        "id": "PvlFCptZRWuN"
      },
      "source": [
        "### Who's Paying Coding Exercise\n",
        "\n",
        "# Instructions\n",
        "\n",
        "You are going to write a program which will select a random name from a list of names. The person selected will have to pay for everybody's food bill. \n",
        "\n",
        "**Important**: You are not allowed to use the `choice()` function.\n",
        "\n",
        "**Line 8** splits the string `names_string` into individual names and puts them inside a **List** called `names`. For this to work, you must enter all the names as name followed by comma then space. e.g. name, name, name\n",
        "\n",
        "# Example Input\n",
        "\n",
        "```\n",
        "Angela, Ben, Jenny, Michael, Chloe\n",
        "```\n",
        "Note: notice that there is a space between the comma and the next name. \n",
        "# Example Output\n",
        "\n",
        "```\n",
        "Michael is going to buy the meal today!\n",
        "```\n",
        "\n",
        "\n",
        "# Hint\n",
        "\n",
        "1. You might need the help of the `len()` function.   \n",
        "\n",
        "[https://stackoverflow.com/questions/1712227/how-do-i-get-the-number-of-elements-in-a-list](https://stackoverflow.com/questions/1712227/how-do-i-get-the-number-of-elements-in-a-list)\n",
        "\n",
        "2. Remember that Lists start at index 0!\n",
        "\n",
        "# Solution\n",
        "\n",
        "[https://repl.it/@appbrewery/day-4-2-solution](https://repl.it/@appbrewery/day-4-2-solution)"
      ]
    },
    {
      "cell_type": "code",
      "metadata": {
        "colab": {
          "base_uri": "https://localhost:8080/"
        },
        "id": "vCtbcoFNSYUd",
        "outputId": "05731038-98dc-49ac-89ec-32c8acb6d2e2"
      },
      "source": [
        "name_list = input('Give me the names , Seperated by a comma. ').split(',')\n",
        "\n",
        "import random\n",
        "random_section = random.randint(0,len(name_list) - 1)\n",
        "print(f'{name_list[random_section]} is going to pay the meal today!')"
      ],
      "execution_count": null,
      "outputs": [
        {
          "output_type": "stream",
          "name": "stdout",
          "text": [
            "Give me the names , Seperated by a comma. A,b,c,d,e,r,f,j\n",
            "f is going to pay the meal today!\n"
          ]
        }
      ]
    },
    {
      "cell_type": "code",
      "metadata": {
        "colab": {
          "base_uri": "https://localhost:8080/",
          "height": 51
        },
        "id": "wZqrvwemSu2r",
        "outputId": "6ec89bbf-cf04-4654-b756-b276f6ab86aa"
      },
      "source": [
        "# using the random\n",
        "name_list = input('Give me the names , Seperated by a comma. ').split(',')\n",
        "\n",
        "import random\n",
        "\n",
        "random.choice(name_list)"
      ],
      "execution_count": null,
      "outputs": [
        {
          "name": "stdout",
          "output_type": "stream",
          "text": [
            "Give me the names , Seperated by a comma. Aj,mj,kj,lj\n"
          ]
        },
        {
          "output_type": "execute_result",
          "data": {
            "application/vnd.google.colaboratory.intrinsic+json": {
              "type": "string"
            },
            "text/plain": [
              "'Aj'"
            ]
          },
          "metadata": {},
          "execution_count": 53
        }
      ]
    },
    {
      "cell_type": "markdown",
      "metadata": {
        "id": "kv171pxEXDaU"
      },
      "source": [
        "### Nested List"
      ]
    },
    {
      "cell_type": "code",
      "metadata": {
        "colab": {
          "base_uri": "https://localhost:8080/"
        },
        "id": "yMIv1T72YcKS",
        "outputId": "3b027ec7-1634-43df-def5-6395056af7cc"
      },
      "source": [
        "a = ['A','B','C','D','E','F','I']\n",
        "b = ['AB','BC','CD','DE','EF','FG','IH']\n",
        "\n",
        "nested_list = [a,b]\n",
        "nested_list"
      ],
      "execution_count": null,
      "outputs": [
        {
          "output_type": "execute_result",
          "data": {
            "text/plain": [
              "[['A', 'B', 'C', 'D', 'E', 'F', 'I'],\n",
              " ['AB', 'BC', 'CD', 'DE', 'EF', 'FG', 'IH']]"
            ]
          },
          "metadata": {},
          "execution_count": 55
        }
      ]
    },
    {
      "cell_type": "markdown",
      "metadata": {
        "id": "eF3OiRUXYr7b"
      },
      "source": [
        "### Treasure Map\n",
        "\n",
        "![](https://cdn.fs.teachablecdn.com/wiFJAkZZSG2RpGsxYgDO)\n",
        "# Instructions\n",
        "\n",
        "You are going to write a program which will mark a spot with an X.\n",
        "\n",
        "In the starting code, you will find a variable called ```map```.\n",
        "\n",
        "This ```map``` contains a nested list.\n",
        "When ```map``` is printed this is what the nested list looks like:\n",
        "```\n",
        "['⬜️', '⬜️', '⬜️'],['⬜️', '⬜️', '⬜️'],['⬜️', '⬜️', '⬜️']\n",
        "```\n",
        "In the starting code, we have used new lines (```\\n```) to format the three rows into a square, like this:\n",
        "```\n",
        "['⬜️', '⬜️', '⬜️']\n",
        "['⬜️', '⬜️', '⬜️']\n",
        "['⬜️', '⬜️', '⬜️']\n",
        "```\n",
        "This is to try and simulate the coordinates on a real map. \n",
        "\n",
        "![](https://res.cloudinary.com/dk-find-out/image/upload/q_80,w_1440,f_auto/Co-ordinates_oggjzg.jpg)\n",
        "\n",
        "Your job is to write a program that allows you to mark a square on the map using a two-digit system. The first digit is the vertical column number and the second digit is the horizontal row number. e.g.:\n",
        "\n",
        "![](https://cdn.fs.teachablecdn.com/2vnboIYTFFruvl9FJ2w5)\n",
        "\n",
        "First your program must take the user input and convert it to a usable format. \n",
        "\n",
        "Next, you need to use it to update your nested list with an \"x\". \n",
        "\n",
        "# Example Input 1\n",
        "\n",
        "column 2, row 3 would be entered as:\n",
        "\n",
        "```\n",
        "23\n",
        "```\n",
        "\n",
        "# Example Output 1\n",
        "\n",
        "```\n",
        "['⬜️', '⬜️', '⬜️']\n",
        "\n",
        "['⬜️', '⬜️', '⬜️']\n",
        "\n",
        "['⬜️', 'X', '⬜️']\n",
        "```\n",
        "\n",
        "# Example Input 2\n",
        "\n",
        "column 3, row 1 would be entered as:\n",
        "\n",
        "```\n",
        "31\n",
        "```\n",
        "\n",
        "# Example Output 2\n",
        "\n",
        "```\n",
        "['⬜️', '⬜️', 'X']\n",
        "\n",
        "['⬜️', '⬜️', '⬜️']\n",
        "\n",
        "['⬜️', '⬜️', '⬜️']\n",
        "```\n",
        "\n",
        "e.g. When you hit **run**, this is what should happen: \n",
        "\n",
        "![](https://cdn.fs.teachablecdn.com/5hliFjyIR96LdestyfPd)\n",
        "\n",
        "# Hint\n",
        "\n",
        "1. Remember that Lists start at index 0!\n",
        "2. ```map``` is just a variable that contains a nested list. It's not related to the map function in Python.\n",
        "\n",
        "# Solution\n",
        "\n",
        "[https://repl.it/@appbrewery/day-4-3-solution](https://repl.it/@appbrewery/day-4-3-solution)"
      ]
    },
    {
      "cell_type": "code",
      "metadata": {
        "colab": {
          "base_uri": "https://localhost:8080/"
        },
        "id": "K6L_vGn7Z-f1",
        "outputId": "ba58287a-56cf-439b-afd4-e0a7495795ac"
      },
      "source": [
        "# 🚨 Don't change the code below 👇\n",
        "row1 = [\"⬜️\",\"⬜️\",\"⬜️\"]\n",
        "row2 = [\"⬜️\",\"⬜️\",\"⬜️\"]\n",
        "row3 = [\"⬜️\",\"⬜️\",\"⬜️\"]\n",
        "map = [row1, row2, row3]\n",
        "print(f\"{row1}\\n{row2}\\n{row3}\")\n",
        "position = input(\"Where do you want to put the treasure? \")\n",
        "# 🚨 Don't change the code above 👆\n",
        "\n",
        "#Write your code below this row 👇\n",
        "\n",
        "map[int(position[1]) - 1][int(position[0]) - 1] = 'X'\n",
        "\n",
        "\n",
        "\n",
        "\n",
        "#Write your code above this row 👆\n",
        "\n",
        "# 🚨 Don't change the code below 👇\n",
        "print(f\"{row1}\\n{row2}\\n{row3}\")"
      ],
      "execution_count": null,
      "outputs": [
        {
          "output_type": "stream",
          "name": "stdout",
          "text": [
            "['⬜️', '⬜️', '⬜️']\n",
            "['⬜️', '⬜️', '⬜️']\n",
            "['⬜️', '⬜️', '⬜️']\n",
            "Where do you want to put the treasure? 23\n",
            "['⬜️', '⬜️', '⬜️']\n",
            "['⬜️', '⬜️', '⬜️']\n",
            "['⬜️', 'X', '⬜️']\n"
          ]
        }
      ]
    },
    {
      "cell_type": "markdown",
      "metadata": {
        "id": "OHOn2CZTaD_A"
      },
      "source": [
        "### Project: Rock Paper and scissor game"
      ]
    },
    {
      "cell_type": "code",
      "metadata": {
        "id": "A4rvtKJpadjv"
      },
      "source": [
        "prntrock = '''\n",
        "    _______\n",
        "---'   ____)\n",
        "      (_____)\n",
        "      (_____)\n",
        "      (____)\n",
        "---.__(___)\n",
        "'''\n",
        "\n",
        "paper = '''\n",
        "    _______\n",
        "---'   ____)____\n",
        "          ______)\n",
        "          _______)\n",
        "         _______)\n",
        "---.__________)\n",
        "'''\n",
        "\n",
        "scissors = '''\n",
        "    _______\n",
        "---'   ____)____\n",
        "          ______)\n",
        "       __________)\n",
        "      (____)\n",
        "---.__(___)\n",
        "'''"
      ],
      "execution_count": null,
      "outputs": []
    },
    {
      "cell_type": "code",
      "metadata": {
        "colab": {
          "base_uri": "https://localhost:8080/"
        },
        "id": "tM9182uqd8-j",
        "outputId": "381c251c-bf7e-40cc-f7c0-c95874c1a827"
      },
      "source": [
        "import random\n",
        "all_choice = [prntrock,paper,scissors]\n",
        "pc_chose_number = random.randint(0,2)\n",
        "\n",
        "your_choice = int(input('What is your choice? Type 0 for Rock, 1 for Paper or 2 for Scissors \\n'))\n",
        "\n",
        "user_choses = all_choice[your_choice]\n",
        "\n",
        "\n",
        "computer_chooses = all_choice[pc_chose_number]\n",
        "\n",
        "print(user_choses)\n",
        "print(f'Computer Chooses {pc_chose_number} \\n', computer_chooses)\n",
        "\n",
        "if your_choice >= 3 or your_choice < 0:\n",
        "  print('Invalid choice Entered')\n",
        "elif your_choice == 0 and pc_chose_number == 2:\n",
        "  print('User Wins!')\n",
        "elif pc_chose_number == 0 and your_choice == 2:\n",
        "  print('Computer Wins!')\n",
        "elif pc_chose_number > your_choice:\n",
        "  print('Computer Wins')\n",
        "elif your_choice > pc_chose_number:\n",
        "  print('User Wins!')\n",
        "else:\n",
        "  print('It is a Draw')\n"
      ],
      "execution_count": null,
      "outputs": [
        {
          "output_type": "stream",
          "name": "stdout",
          "text": [
            "What is your choice? Type 0 for Rock, 1 for Paper or 2 for Scissors \n",
            "2\n",
            "\n",
            "    _______\n",
            "---'   ____)____\n",
            "          ______)\n",
            "       __________)\n",
            "      (____)\n",
            "---.__(___)\n",
            "\n",
            "Computer Chooses 1 \n",
            " \n",
            "    _______\n",
            "---'   ____)____\n",
            "          ______)\n",
            "          _______)\n",
            "         _______)\n",
            "---.__________)\n",
            "\n",
            "User Wins!\n"
          ]
        }
      ]
    },
    {
      "cell_type": "markdown",
      "metadata": {
        "id": "TOVjNgLd2qbL"
      },
      "source": [
        "## Day 5: Python Loops\n",
        "\n",
        "* For Loops with Lists\n",
        "* For loops with range()\n",
        "* While Loops\n",
        "* Create a password Generator"
      ]
    },
    {
      "cell_type": "markdown",
      "metadata": {
        "id": "irfJhamO5Lho"
      },
      "source": [
        "### For loops with lists"
      ]
    },
    {
      "cell_type": "code",
      "metadata": {
        "id": "y-7mLVm5lwRS",
        "colab": {
          "base_uri": "https://localhost:8080/"
        },
        "outputId": "9f595a7d-1885-4569-835a-e500c67aab6f"
      },
      "source": [
        "fruits = ['Apple','Peach','Pear']\n",
        "\n",
        "for fruit in fruits:\n",
        "  print(fruit)"
      ],
      "execution_count": null,
      "outputs": [
        {
          "output_type": "stream",
          "name": "stdout",
          "text": [
            "Apple\n",
            "Peach\n",
            "Pear\n"
          ]
        }
      ]
    },
    {
      "cell_type": "code",
      "metadata": {
        "colab": {
          "base_uri": "https://localhost:8080/"
        },
        "id": "HXQSHfY638sH",
        "outputId": "c56f8612-d4c2-472d-c039-59f5db356ab3"
      },
      "source": [
        "for fruit in fruits:\n",
        "  print(fruit + ' Pie')"
      ],
      "execution_count": null,
      "outputs": [
        {
          "output_type": "stream",
          "name": "stdout",
          "text": [
            "Apple Pie\n",
            "Peach Pie\n",
            "Pear Pie\n"
          ]
        }
      ]
    },
    {
      "cell_type": "markdown",
      "metadata": {
        "id": "ilW-Bkyz5Vgs"
      },
      "source": [
        "### Exercise: Find Average Height\n",
        "\n",
        "# Instructions\n",
        "\n",
        "You are going to write a program that calculates the average student height from a List of heights. \n",
        "\n",
        "e.g. `student_heights = [180, 124, 165, 173, 189, 169, 146]`\n",
        "\n",
        "The average height can be calculated by adding all the heights together and dividing by the total number of heights. \n",
        "\n",
        "e.g.\n",
        "\n",
        "180 + 124 + 165 + 173 + 189 + 169 + 146 = **1146**\n",
        "\n",
        "There are a total of **7** heights in `student_heights`\n",
        "\n",
        "1146 ÷ 7 = **163.71428571428572**\n",
        "\n",
        "Average height rounded to the nearest whole number = **164**\n",
        "\n",
        "**Important** You should not use the `sum()` or `len()` functions in your answer. You should try to replicate their functionality using what you have learnt about for loops.\n",
        "\n",
        "# Example Input \n",
        "\n",
        "```\n",
        "156 178 165 171 187\n",
        "```\n",
        "\n",
        "In this case, student_heights would be a list that looks like: [156, 178, 165, 171, 187]\n",
        "\n",
        "# Example Output \n",
        "\n",
        "```\n",
        "171\n",
        "```\n",
        "\n",
        "e.g. When you hit **run**, this is what should happen: \n",
        "\n",
        " \n",
        "![](https://cdn.fs.teachablecdn.com/Nzb8hUVsQJ6STAGnvDCP)\n",
        " \n",
        "\n",
        "# Hint\n",
        "\n",
        "1. Remember to use the `round()` function to round the average height before you print it.\n",
        "\n",
        "# Test Your Code\n",
        "\n",
        "Before checking the solution, try copy-pasting your code into this repl: \n",
        "\n",
        "[https://repl.it/@appbrewery/day-5-1-test-your-code](https://repl.it/@appbrewery/day-5-1-test-your-code)\n",
        "\n",
        "This repl includes my testing code that will check if your code meets this assignment's objectives. \n",
        "\n",
        "# Solution\n",
        "\n",
        "[https://repl.it/@appbrewery/day-5-1-solution](https://repl.it/@appbrewery/day-5-1-solution)"
      ]
    },
    {
      "cell_type": "code",
      "metadata": {
        "colab": {
          "base_uri": "https://localhost:8080/"
        },
        "id": "r_0VUXO98SOe",
        "outputId": "6c84c0ff-4185-4a98-b2d9-04903e001ade"
      },
      "source": [
        "# 🚨 Don't change the code below 👇\n",
        "student_heights = input(\"Input a list of student heights \").split()\n",
        "for n in range(0, len(student_heights)):\n",
        "  student_heights[n] = int(student_heights[n])\n",
        "# 🚨 Don't change the code above 👆\n",
        "\n",
        "\n",
        "#Write your code below this row 👇\n",
        "\n",
        "\n",
        "total = 0\n",
        "for i in student_heights:\n",
        "  total = total + i\n",
        "\n",
        "\n",
        "average = total / (n + 1)\n",
        "\n",
        "print(round(average))\n"
      ],
      "execution_count": null,
      "outputs": [
        {
          "output_type": "stream",
          "name": "stdout",
          "text": [
            "Input a list of student heights 34 21\n",
            "28\n"
          ]
        }
      ]
    },
    {
      "cell_type": "markdown",
      "metadata": {
        "id": "_Qqj_joiFnpQ"
      },
      "source": [
        "### Highest Score\n",
        "\n",
        "# Instructions\n",
        "\n",
        "You are going to write a program that calculates the highest score from a List of scores. \n",
        "\n",
        "e.g. `student_scores = [78, 65, 89, 86, 55, 91, 64, 89]`\n",
        "\n",
        "**Important** you are not allowed to use the max or min functions. The output words must match the example. i.e \n",
        "\n",
        "> `The highest score in the class is: x`\n",
        "\n",
        "# Example Input \n",
        "\n",
        "```\n",
        "78 65 89 86 55 91 64 89\n",
        "```\n",
        "\n",
        "In this case, student_scores would be a list that looks like: `[78, 65, 89, 86, 55, 91, 64, 89]`\n",
        "\n",
        "# Example Output \n",
        "\n",
        "```\n",
        "The highest score in the class is: 91\n",
        "```\n",
        "\n",
        "e.g. When you hit **run**, this is what should happen: \n",
        "\n",
        "  \n",
        "![](https://cdn.fs.teachablecdn.com/DnSPgYNSTgeHRJ3MinHg)\n",
        " \n",
        "\n",
        "# Hint\n",
        "\n",
        "1. Think about the logic before writing code. How can you compare numbers against each other to see which one is larger?\n",
        "\n",
        "# Test Your Code\n",
        "\n",
        "Before checking the solution, try copy-pasting your code into this repl: \n",
        "\n",
        "[https://repl.it/@appbrewery/day-5-2-test-your-code](https://repl.it/@appbrewery/day-5-2-test-your-code)\n",
        "\n",
        "This repl includes my testing code that will check if your code meets this assignment's objectives. \n",
        "\n",
        "\n",
        "# Solution\n",
        "\n",
        "[https://repl.it/@appbrewery/day-5-2-solution](https://repl.it/@appbrewery/day-5-2-solution)"
      ]
    },
    {
      "cell_type": "code",
      "metadata": {
        "colab": {
          "base_uri": "https://localhost:8080/"
        },
        "id": "bM75lWaP8Twd",
        "outputId": "0964ccb9-e344-4922-99b6-081f39ea2e33"
      },
      "source": [
        "# 🚨 Don't change the code below 👇\n",
        "student_scores = input(\"Input a list of student scores \").split()\n",
        "for n in range(0, len(student_scores)):\n",
        "  student_scores[n] = int(student_scores[n])\n",
        "print(student_scores)\n",
        "# 🚨 Don't change the code above 👆\n",
        "\n",
        "#Write your code below this row 👇\n",
        "\n",
        "max_num = 0\n",
        "\n",
        "for score in student_scores:\n",
        "  if score > max_num:\n",
        "    max_num = score\n",
        "\n",
        "\n",
        "min_num = student_scores[0]\n",
        "\n",
        "for score in student_scores:\n",
        "  if score < min_num:\n",
        "    min_num = score\n",
        "\n",
        "\n",
        "print(max_num)\n",
        "print(min_num)"
      ],
      "execution_count": null,
      "outputs": [
        {
          "output_type": "stream",
          "name": "stdout",
          "text": [
            "Input a list of student scores 10 10 20 20\n",
            "[10, 10, 20, 20]\n",
            "20\n",
            "10\n"
          ]
        }
      ]
    },
    {
      "cell_type": "markdown",
      "metadata": {
        "id": "rN2uzv3mFR-S"
      },
      "source": [
        "### For loop and the range function"
      ]
    },
    {
      "cell_type": "code",
      "metadata": {
        "colab": {
          "base_uri": "https://localhost:8080/"
        },
        "id": "hkR8_J7yfuhz",
        "outputId": "885772e3-d1df-4b39-cbd6-508ca4befb34"
      },
      "source": [
        "for i in range(1,11):\n",
        "  print(i)"
      ],
      "execution_count": null,
      "outputs": [
        {
          "output_type": "stream",
          "name": "stdout",
          "text": [
            "1\n",
            "2\n",
            "3\n",
            "4\n",
            "5\n",
            "6\n",
            "7\n",
            "8\n",
            "9\n",
            "10\n"
          ]
        }
      ]
    },
    {
      "cell_type": "code",
      "metadata": {
        "colab": {
          "base_uri": "https://localhost:8080/"
        },
        "id": "id6ahZaCgogM",
        "outputId": "73ee2a32-19ab-431b-f428-268ed269df67"
      },
      "source": [
        "for i in range(1,11,2):\n",
        "  print(i)"
      ],
      "execution_count": null,
      "outputs": [
        {
          "output_type": "stream",
          "name": "stdout",
          "text": [
            "1\n",
            "3\n",
            "5\n",
            "7\n",
            "9\n"
          ]
        }
      ]
    },
    {
      "cell_type": "code",
      "metadata": {
        "colab": {
          "base_uri": "https://localhost:8080/"
        },
        "id": "_1bABBQAgrk5",
        "outputId": "d7cd3c75-d0e6-47c7-e8d7-b42c08fcb231"
      },
      "source": [
        "total = 0\n",
        "for i in range(101):\n",
        "  total += i\n",
        "\n",
        "print(total)\n"
      ],
      "execution_count": null,
      "outputs": [
        {
          "output_type": "stream",
          "name": "stdout",
          "text": [
            "5050\n"
          ]
        }
      ]
    },
    {
      "cell_type": "markdown",
      "metadata": {
        "id": "glm1kERhg8EB"
      },
      "source": [
        "### Adding Evens\n",
        "\n",
        "# Instructions\n",
        "\n",
        "You are going to write a program that calculates the sum of all the even numbers from 1 to 100. Thus, the first even number would be 2 and the last one is 100:\n",
        "\n",
        "i.e. 2 + 4 + 6 + 8 +10 ... + 98 + 100\n",
        "\n",
        "Important, there should only be 1 print statement in your console output. It should just print the final total and not every step of the calculation.\n",
        "\n",
        "# Hint\n",
        "\n",
        "1. There are quite a few ways of solving this problem, but you will need to use the `range()` function in any of the solutions.\n",
        "\n",
        "# Solution\n",
        "\n",
        "[https://repl.it/@appbrewery/day-5-3-solution](https://repl.it/@appbrewery/day-5-3-solution)"
      ]
    },
    {
      "cell_type": "code",
      "metadata": {
        "colab": {
          "base_uri": "https://localhost:8080/"
        },
        "id": "Ku-wz_9mh1Mi",
        "outputId": "dee5886e-e52e-4b6a-b328-9a60c76887f7"
      },
      "source": [
        "#Write your code below this row 👇\n",
        "\n",
        "total = 0\n",
        "for i in range(2,101,2):\n",
        "  total += i\n",
        "\n",
        "print(total)"
      ],
      "execution_count": null,
      "outputs": [
        {
          "output_type": "stream",
          "name": "stdout",
          "text": [
            "2550\n"
          ]
        }
      ]
    },
    {
      "cell_type": "code",
      "metadata": {
        "colab": {
          "base_uri": "https://localhost:8080/"
        },
        "id": "8VsEmBJhh2dN",
        "outputId": "8004069b-8ba9-4d5d-b14b-c0ad2c5feb34"
      },
      "source": [
        "total = 0\n",
        "\n",
        "for i in range(1,101):\n",
        "  if i % 2 == 0:\n",
        "    total += i\n",
        "\n",
        "print(total)"
      ],
      "execution_count": null,
      "outputs": [
        {
          "output_type": "stream",
          "name": "stdout",
          "text": [
            "2550\n"
          ]
        }
      ]
    },
    {
      "cell_type": "markdown",
      "metadata": {
        "id": "lLJlSKxDiG2l"
      },
      "source": [
        "### FizzBuzz\n",
        "\n",
        "# Instructions\n",
        "\n",
        "You are going to write a program that automatically prints the solution to the FizzBuzz game. \n",
        "\n",
        "> `Your program should print each number from 1 to 100 in turn.` \n",
        "\n",
        ">   `When the number is divisible by 3 then instead of printing the number it should print \"Fizz\".` \n",
        "\n",
        ">     `When the number is divisible by 5, then instead of printing the number it should print \"Buzz\".` \n",
        "\n",
        ">       `And if the number is divisible by both 3 and 5 e.g. 15 then instead of the number it should print \"FizzBuzz\"`\n",
        "\n",
        "e.g. it might start off like this:\n",
        "\n",
        "```\n",
        "`1\n",
        "2\n",
        "Fizz\n",
        "4\n",
        "Buzz\n",
        "Fizz\n",
        "7\n",
        "8\n",
        "Fizz\n",
        "Buzz\n",
        "11\n",
        "Fizz\n",
        "13\n",
        "14\n",
        "FizzBuzz`\n",
        "```\n",
        "\n",
        "`.... etc.`\n",
        "\n",
        "# Hint\n",
        "\n",
        "1. Remember your answer should start from 1 and go up to and including 100. \n",
        "\n",
        "2. Each number/text should be printed on a separate line.\n",
        "\n",
        "# Solution\n",
        "\n",
        "[https://repl.it/@appbrewery/day-5-4-solution](https://repl.it/@appbrewery/day-5-4-solution)\n",
        "\n",
        "Alternatively: [https://en.wikipedia.org/wiki/Fizz_buzz](https://en.wikipedia.org/wiki/Fizz_buzz)\n",
        "\n"
      ]
    },
    {
      "cell_type": "code",
      "metadata": {
        "id": "skO6pSuXiR1X"
      },
      "source": [
        "#Write your code below this row 👇\n",
        "\n",
        "for i in range(1,101):\n",
        "  if (i % 3 == 0) and (i % 5 == 0):\n",
        "    print('FizzBuzz')\n",
        "  elif (i % 3 == 0) or (i % 5 == 0):\n",
        "    print('Fizz')\n",
        "  \n",
        "  else:\n",
        "    print(i)\n"
      ],
      "execution_count": null,
      "outputs": []
    },
    {
      "cell_type": "markdown",
      "metadata": {
        "id": "zTkBgj65jmJe"
      },
      "source": [
        "### Project : Build password generator"
      ]
    },
    {
      "cell_type": "code",
      "metadata": {
        "colab": {
          "base_uri": "https://localhost:8080/"
        },
        "id": "bgEYSs4tq9Gx",
        "outputId": "9cff86e0-1246-45f5-eb32-bc7e92c6841d"
      },
      "source": [
        "#Password Generator Project\n",
        "import random\n",
        "letters = ['a', 'b', 'c', 'd', 'e', 'f', 'g', 'h', 'i', 'j', 'k', 'l', 'm', 'n', 'o', 'p', 'q', 'r', 's', 't', 'u', 'v', 'w', 'x', 'y', 'z', 'A', 'B', 'C', 'D', 'E', 'F', 'G', 'H', 'I', 'J', 'K', 'L', 'M', 'N', 'O', 'P', 'Q', 'R', 'S', 'T', 'U', 'V', 'W', 'X', 'Y', 'Z']\n",
        "numbers = ['0', '1', '2', '3', '4', '5', '6', '7', '8', '9']\n",
        "symbols = ['!', '#', '$', '%', '&', '(', ')', '*', '+']\n",
        "\n",
        "print(\"Welcome to the PyPassword Generator!\")\n",
        "nr_letters= int(input(\"How many letters would you like in your password?\\n\")) \n",
        "nr_symbols = int(input(f\"How many symbols would you like?\\n\"))\n",
        "nr_numbers = int(input(f\"How many numbers would you like?\\n\"))\n",
        "\n",
        "#Eazy Level - Order not randomised:\n",
        "#e.g. 4 letter, 2 symbol, 2 number = JduE&!91\n",
        "\n",
        "\n",
        "#Hard Level - Order of characters randomised:\n",
        "#e.g. 4 letter, 2 symbol, 2 number = g^2jk8&P\n",
        "\n",
        "password = \"\"\n",
        "\n",
        "for i in range(nr_letters):\n",
        "  password += random.choice(letters)\n",
        "\n",
        "for i in range(nr_symbols):\n",
        "  password += random.choice(symbols)\n",
        "\n",
        "for i in range(nr_numbers):\n",
        "  password += random.choice(numbers)\n",
        "\n",
        "password = ''.join(random.sample(password,len(password)))\n",
        "print(password)\n"
      ],
      "execution_count": null,
      "outputs": [
        {
          "output_type": "stream",
          "name": "stdout",
          "text": [
            "Welcome to the PyPassword Generator!\n",
            "How many letters would you like in your password?\n",
            "3\n",
            "How many symbols would you like?\n",
            "2\n",
            "How many numbers would you like?\n",
            "2\n",
            "V+!7A4z\n"
          ]
        }
      ]
    },
    {
      "cell_type": "code",
      "metadata": {
        "colab": {
          "base_uri": "https://localhost:8080/"
        },
        "id": "ckHNQ7RgsjFN",
        "outputId": "c0f02060-8f38-48a0-f46f-bb6cccf5595c"
      },
      "source": [
        "#Password Generator Project\n",
        "import random\n",
        "letters = ['a', 'b', 'c', 'd', 'e', 'f', 'g', 'h', 'i', 'j', 'k', 'l', 'm', 'n', 'o', 'p', 'q', 'r', 's', 't', 'u', 'v', 'w', 'x', 'y', 'z', 'A', 'B', 'C', 'D', 'E', 'F', 'G', 'H', 'I', 'J', 'K', 'L', 'M', 'N', 'O', 'P', 'Q', 'R', 'S', 'T', 'U', 'V', 'W', 'X', 'Y', 'Z']\n",
        "numbers = ['0', '1', '2', '3', '4', '5', '6', '7', '8', '9']\n",
        "symbols = ['!', '#', '$', '%', '&', '(', ')', '*', '+']\n",
        "\n",
        "print(\"Welcome to the PyPassword Generator!\")\n",
        "nr_letters = int(input(\"How many letters would you like in your password?\\n\")) \n",
        "nr_symbols = int(input(f\"How many symbols would you like?\\n\"))\n",
        "nr_numbers = int(input(f\"How many numbers would you like?\\n\"))\n",
        "\n",
        "#Eazy Level\n",
        "# password = \"\"\n",
        "\n",
        "# for char in range(1, nr_letters + 1):\n",
        "#   password += random.choice(letters)\n",
        "\n",
        "# for char in range(1, nr_symbols + 1):\n",
        "#   password += random.choice(symbols)\n",
        "\n",
        "# for char in range(1, nr_numbers + 1):\n",
        "#   password += random.choice(numbers)\n",
        "\n",
        "# print(password)\n",
        "\n",
        "#Hard Level\n",
        "password_list = []\n",
        "\n",
        "for char in range(1, nr_letters + 1):\n",
        "  password_list.append(random.choice(letters))\n",
        "\n",
        "for char in range(1, nr_symbols + 1):\n",
        "  password_list += random.choice(symbols)\n",
        "\n",
        "for char in range(1, nr_numbers + 1):\n",
        "  password_list += random.choice(numbers)\n",
        "\n",
        "print(password_list)\n",
        "random.shuffle(password_list)\n",
        "print(password_list)\n",
        "\n",
        "password = \"\"\n",
        "for char in password_list:\n",
        "  password += char\n",
        "\n",
        "print(f\"Your password is: {password}\")"
      ],
      "execution_count": null,
      "outputs": [
        {
          "output_type": "stream",
          "name": "stdout",
          "text": [
            "Welcome to the PyPassword Generator!\n",
            "How many letters would you like in your password?\n",
            "3\n",
            "How many symbols would you like?\n",
            "3\n",
            "How many numbers would you like?\n",
            "3\n",
            "['y', 'W', 'v', '%', '$', '*', '6', '7', '2']\n",
            "['*', 'v', '6', '$', '2', '7', 'y', '%', 'W']\n",
            "Your password is: *v6$27y%W\n"
          ]
        }
      ]
    },
    {
      "cell_type": "markdown",
      "metadata": {
        "id": "KANuTuBTs8Vb"
      },
      "source": [
        "### Day 6: Code Block, Function, While Loop\n",
        "\n",
        "Project : Karel the robot"
      ]
    },
    {
      "cell_type": "markdown",
      "metadata": {
        "id": "aMhWxMQ49nwm"
      },
      "source": [
        "### Defining and calling the functions\n",
        "\n",
        "Built-in functions : https://docs.python.org/3/library/functions.html\n",
        "\n",
        "reeborg:  https://reeborg.ca/reeborg.html?lang=en&mode=python&menu=worlds%2Fmenus%2Freeborg_intro_en.json&name=Alone&url=worlds%2Ftutorial_en%2Falone.json"
      ]
    },
    {
      "cell_type": "code",
      "metadata": {
        "id": "_8j6UZo0AK1w"
      },
      "source": [
        "def my_function():\n",
        "  print('hello')\n",
        "  print('bye')"
      ],
      "execution_count": null,
      "outputs": []
    },
    {
      "cell_type": "code",
      "metadata": {
        "colab": {
          "base_uri": "https://localhost:8080/"
        },
        "id": "RKAJ49b_B0HH",
        "outputId": "64d064de-2100-4b01-fc35-44f8413be67f"
      },
      "source": [
        "my_function()"
      ],
      "execution_count": null,
      "outputs": [
        {
          "output_type": "stream",
          "name": "stdout",
          "text": [
            "hello\n",
            "bye\n"
          ]
        }
      ]
    },
    {
      "cell_type": "markdown",
      "metadata": {
        "id": "EAB2Ic23SSgb"
      },
      "source": [
        "### Moving robot task:\n",
        "\n",
        "https://reeborg.ca/reeborg.html?lang=en&mode=python&menu=worlds%2Fmenus%2Freeborg_intro_en.json&name=Alone&url=worlds%2Ftutorial_en%2Falone.json"
      ]
    },
    {
      "cell_type": "code",
      "metadata": {
        "colab": {
          "base_uri": "https://localhost:8080/"
        },
        "id": "E2q-J_mzB1hK",
        "outputId": "ac93d979-d76c-4aac-e419-1f9e6a4d1640"
      },
      "source": [
        "if (True and True) or (True and True):\n",
        "  print('hello')"
      ],
      "execution_count": null,
      "outputs": [
        {
          "output_type": "stream",
          "name": "stdout",
          "text": [
            "hello\n"
          ]
        }
      ]
    },
    {
      "cell_type": "code",
      "metadata": {
        "id": "iZ9hVN2fFc6w"
      },
      "source": [
        ""
      ],
      "execution_count": null,
      "outputs": []
    }
  ]
}