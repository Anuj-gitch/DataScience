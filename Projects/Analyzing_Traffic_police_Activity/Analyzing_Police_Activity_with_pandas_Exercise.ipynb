{
  "nbformat": 4,
  "nbformat_minor": 0,
  "metadata": {
    "colab": {
      "name": "Analyzing Police Activity with pandas_Exercise.ipynb",
      "provenance": [],
      "collapsed_sections": [],
      "mount_file_id": "1sGDPcLBKSVK1AGVJcaGdJFkEY5HR3GEZ",
      "authorship_tag": "ABX9TyMYFn1/AsoLBn6r4q2PGBae",
      "include_colab_link": true
    },
    "kernelspec": {
      "name": "python3",
      "display_name": "Python 3"
    }
  },
  "cells": [
    {
      "cell_type": "markdown",
      "metadata": {
        "id": "view-in-github",
        "colab_type": "text"
      },
      "source": [
        "<a href=\"https://colab.research.google.com/github/Anuj-gitch/DataScience/blob/main/Analyzing_Traffic_police_Activity/Analyzing_Police_Activity_with_pandas_Exercise.ipynb\" target=\"_parent\"><img src=\"https://colab.research.google.com/assets/colab-badge.svg\" alt=\"Open In Colab\"/></a>"
      ]
    },
    {
      "cell_type": "markdown",
      "metadata": {
        "id": "6QB1dExnE6af"
      },
      "source": [
        "#<font color = red> **Description:**\n",
        "\n",
        "Course will give you the chance to apply that knowledge by answering interesting questions about a real dataset! You will explore the Stanford Open Policing Project dataset and analyze the impact of gender on police behavior. During the course, you will gain more practice cleaning messy data, creating visualizations, combining and reshaping datasets, and manipulating time series data. Analyzing Police Activity with pandas will give you valuable experience analyzing a dataset from start to finish, preparing you for your data science career!\n",
        "\n"
      ]
    },
    {
      "cell_type": "markdown",
      "metadata": {
        "id": "qE3kAsMDFTJ9"
      },
      "source": [
        "##<font color = red> **Prepare Tools**"
      ]
    },
    {
      "cell_type": "code",
      "metadata": {
        "id": "BjaVhhmaFYCY"
      },
      "source": [
        "# data Analysis Tools\n",
        "import pandas as pd\n",
        "import numpy as np\n",
        "\n",
        "# Visualization Tools\n",
        "import matplotlib.pyplot as plt\n",
        "import seaborn as sns"
      ],
      "execution_count": null,
      "outputs": []
    },
    {
      "cell_type": "markdown",
      "metadata": {
        "id": "I53qND7vFEvU"
      },
      "source": [
        "## <font color = blue> **Preparing the data for analysis**\n",
        "\n",
        "---\n",
        "\n",
        "\n",
        "\n",
        "Before beginning your analysis, it is critical that you first examine and clean the dataset, to make working with it a more efficient process. In this chapter, you will practice fixing data types, handling missing values, and dropping columns and rows while learning about the Stanford Open Policing Project dataset."
      ]
    },
    {
      "cell_type": "markdown",
      "metadata": {
        "id": "DuGKjhjBIAQT"
      },
      "source": [
        "### Examining the dataset\n",
        "\n",
        "Throughout this course, you'll be analyzing a dataset of traffic stops in Rhode Island that was collected by the Stanford Open Policing Project.\n",
        "\n",
        "Before beginning your analysis, it's important that you familiarize yourself with the dataset. In this exercise, you'll read the dataset into pandas, examine the first few rows, and then count the number of missing values."
      ]
    },
    {
      "cell_type": "markdown",
      "metadata": {
        "id": "xGK8MX03INDy"
      },
      "source": [
        "* Import pandas using the alias pd.\n",
        "* Read the file police.csv into a DataFrame named ri.\n",
        "* Examine the first 5 rows of the DataFrame (known as the \"head\").\n",
        "* Count the number of missing values in each column: Use .isnull() to check which DataFrame elements are missing, and then take the .sum() to count the number of True values in each column."
      ]
    },
    {
      "cell_type": "code",
      "metadata": {
        "colab": {
          "base_uri": "https://localhost:8080/"
        },
        "id": "PDKDqBOzIYg2",
        "outputId": "23376750-ae37-4cfa-dc33-5b947be838be"
      },
      "source": [
        "# Import the pandas library as pd\n",
        "import pandas as pd\n",
        "\n",
        "# Read 'police.csv' into a DataFrame named ri\n",
        "ri = pd.read_csv('https://assets.datacamp.com/production/repositories/1497/datasets/62bd9feef451860db02d26553613a299721882e8/police.csv')\n",
        "\n",
        "# Examine the head of the DataFrame\n",
        "print(ri.head())\n",
        "\n",
        "# Count the number of missing values in each column\n",
        "print(ri.isnull().sum())"
      ],
      "execution_count": null,
      "outputs": [
        {
          "output_type": "stream",
          "text": [
            "  state   stop_date stop_time  ...  stop_duration drugs_related_stop district\n",
            "0    RI  2005-01-04     12:55  ...       0-15 Min              False  Zone X4\n",
            "1    RI  2005-01-23     23:15  ...       0-15 Min              False  Zone K3\n",
            "2    RI  2005-02-17     04:15  ...       0-15 Min              False  Zone X4\n",
            "3    RI  2005-02-20     17:15  ...      16-30 Min              False  Zone X1\n",
            "4    RI  2005-02-24     01:20  ...       0-15 Min              False  Zone X3\n",
            "\n",
            "[5 rows x 15 columns]\n",
            "state                     0\n",
            "stop_date                 0\n",
            "stop_time                 0\n",
            "county_name           91741\n",
            "driver_gender          5205\n",
            "driver_race            5202\n",
            "violation_raw          5202\n",
            "violation              5202\n",
            "search_conducted          0\n",
            "search_type           88434\n",
            "stop_outcome           5202\n",
            "is_arrested            5202\n",
            "stop_duration          5202\n",
            "drugs_related_stop        0\n",
            "district                  0\n",
            "dtype: int64\n"
          ],
          "name": "stdout"
        }
      ]
    },
    {
      "cell_type": "markdown",
      "metadata": {
        "id": "je4VwuoEIaDr"
      },
      "source": [
        "It looks like most of the columns have at least some missing values. We'll figure out how to handle these values in the next exercise!"
      ]
    },
    {
      "cell_type": "markdown",
      "metadata": {
        "id": "AiRxA024Ix7E"
      },
      "source": [
        "### Dropping columns\n",
        "\n",
        "Often, a DataFrame will contain columns that are not useful to your analysis. Such columns should be dropped from the DataFrame, to make it easier for you to focus on the remaining columns.\n",
        "\n",
        "In this exercise, you'll drop the county_name column because it only contains missing values, and you'll drop the state column because all of the traffic stops took place in one state (Rhode Island). Thus, these columns can be dropped because they contain no useful information. The number of missing values in each column has been printed to the console for you."
      ]
    },
    {
      "cell_type": "markdown",
      "metadata": {
        "id": "-jA1y6ClI6VD"
      },
      "source": [
        "1. Examine the DataFrame's .shape to find out the number of rows and columns.\n",
        "2. Drop both the county_name and state columns by passing the column names to the .drop() method as a list of strings.\n",
        "3. Examine the .shape again to verify that there are now two fewer columns."
      ]
    },
    {
      "cell_type": "code",
      "metadata": {
        "colab": {
          "base_uri": "https://localhost:8080/"
        },
        "id": "RyYnvQh-I3WZ",
        "outputId": "93474c66-2022-4150-a68a-0050c8358fa4"
      },
      "source": [
        "# Examine the shape of the DataFrame\n",
        "print(ri.shape)\n",
        "\n",
        "# Drop the 'county_name' and 'state' columns\n",
        "ri.drop(['county_name','state'], axis='columns', inplace=True)\n",
        "\n",
        "# Examine the shape of the DataFrame (again)\n",
        "print(ri.shape)"
      ],
      "execution_count": null,
      "outputs": [
        {
          "output_type": "stream",
          "text": [
            "(91741, 15)\n",
            "(91741, 13)\n"
          ],
          "name": "stdout"
        }
      ]
    },
    {
      "cell_type": "markdown",
      "metadata": {
        "id": "Xrd1zSrGJK29"
      },
      "source": [
        "Great job! We'll continue to remove unnecessary data from the DataFrame in the next exercise."
      ]
    },
    {
      "cell_type": "markdown",
      "metadata": {
        "id": "FRxU3oLcJegH"
      },
      "source": [
        "### Dropping rows\n",
        "When you know that a specific column will be critical to your analysis, and only a small fraction of rows are missing a value in that column, it often makes sense to remove those rows from the dataset.\n",
        "\n",
        "During this course, the driver_gender column will be critical to many of your analyses. Because only a small fraction of rows are missing driver_gender, we'll drop those rows from the dataset."
      ]
    },
    {
      "cell_type": "markdown",
      "metadata": {
        "id": "LSNrhIHWJhhD"
      },
      "source": [
        "1. Count the number of missing values in each column.\n",
        "2. Drop all rows that are missing driver_gender by passing the column name to the subset parameter of .dropna().\n",
        "3. Count the number of missing values in each column again, to verify that none of the remaining rows are missing driver_gender.\n",
        "4. Examine the DataFrame's .shape to see how many rows and columns remain."
      ]
    },
    {
      "cell_type": "code",
      "metadata": {
        "colab": {
          "base_uri": "https://localhost:8080/"
        },
        "id": "20bjgggwJmzc",
        "outputId": "8234c6d5-edd5-4962-8133-2426d2faf252"
      },
      "source": [
        "# Count the number of missing values in each column\n",
        "print(ri.isnull().sum())\n",
        "print('-----------------------')\n",
        "# Drop all rows that are missing 'driver_gender'\n",
        "ri.dropna(subset=['driver_gender'], inplace=True)\n",
        "\n",
        "# Count the number of missing values in each column (again)\n",
        "print(ri.isnull().sum())\n",
        "print('--------------------------')\n",
        "# Examine the shape of the DataFrame\n",
        "print(ri.shape)"
      ],
      "execution_count": null,
      "outputs": [
        {
          "output_type": "stream",
          "text": [
            "stop_date                 0\n",
            "stop_time                 0\n",
            "driver_gender          5205\n",
            "driver_race            5202\n",
            "violation_raw          5202\n",
            "violation              5202\n",
            "search_conducted          0\n",
            "search_type           88434\n",
            "stop_outcome           5202\n",
            "is_arrested            5202\n",
            "stop_duration          5202\n",
            "drugs_related_stop        0\n",
            "district                  0\n",
            "dtype: int64\n",
            "-----------------------\n",
            "stop_date                 0\n",
            "stop_time                 0\n",
            "driver_gender             0\n",
            "driver_race               0\n",
            "violation_raw             0\n",
            "violation                 0\n",
            "search_conducted          0\n",
            "search_type           83229\n",
            "stop_outcome              0\n",
            "is_arrested               0\n",
            "stop_duration             0\n",
            "drugs_related_stop        0\n",
            "district                  0\n",
            "dtype: int64\n",
            "--------------------------\n",
            "(86536, 13)\n"
          ],
          "name": "stdout"
        }
      ]
    },
    {
      "cell_type": "markdown",
      "metadata": {
        "id": "95BclICkNX-h"
      },
      "source": [
        "### Finding an incorrect data type\n",
        "The dtypes attribute of the ri DataFrame has been printed for you. Your task is to explore the ri DataFrame in the IPython Shell to determine which column's data type should be changed.\n",
        "\n",
        "Answer : is_arrested should have a data type of bool"
      ]
    },
    {
      "cell_type": "code",
      "metadata": {
        "colab": {
          "base_uri": "https://localhost:8080/"
        },
        "id": "QxpOcnwLNvLF",
        "outputId": "b54ea7c0-a190-4dc1-f5ca-39ed465af238"
      },
      "source": [
        "ri.dtypes"
      ],
      "execution_count": null,
      "outputs": [
        {
          "output_type": "execute_result",
          "data": {
            "text/plain": [
              "stop_date             object\n",
              "stop_time             object\n",
              "driver_gender         object\n",
              "driver_race           object\n",
              "violation_raw         object\n",
              "violation             object\n",
              "search_conducted        bool\n",
              "search_type           object\n",
              "stop_outcome          object\n",
              "is_arrested           object\n",
              "stop_duration         object\n",
              "drugs_related_stop      bool\n",
              "district              object\n",
              "dtype: object"
            ]
          },
          "metadata": {
            "tags": []
          },
          "execution_count": 5
        }
      ]
    },
    {
      "cell_type": "markdown",
      "metadata": {
        "id": "DSXXczs3X2TP"
      },
      "source": [
        "### Fixing a data type\n",
        "We saw in the previous exercise that the is_arrested column currently has the object data type. In this exercise, we'll change the data type to bool, which is the most suitable type for a column containing True and False values.\n",
        "\n",
        "Fixing the data type will enable us to use mathematical operations on the is_arrested column that would not be possible otherwise."
      ]
    },
    {
      "cell_type": "markdown",
      "metadata": {
        "id": "sePhae0QYD2P"
      },
      "source": [
        "* Examine the head of the is_arrested column to verify that it contains True and False values and to check the column's data type.\n",
        "* Use the .astype() method to convert is_arrested to a bool column.\n",
        "* Check the new data type of is_arrested to confirm that it is now a bool column."
      ]
    },
    {
      "cell_type": "code",
      "metadata": {
        "colab": {
          "base_uri": "https://localhost:8080/"
        },
        "id": "pZpd6yU6YIGA",
        "outputId": "f322c9ab-a6cd-4ee7-8c14-167c45dbe7e9"
      },
      "source": [
        "# Examine the head of the 'is_arrested' column\n",
        "print(ri.is_arrested.head())\n",
        "\n",
        "# Change the data type of 'is_arrested' to 'bool'\n",
        "ri['is_arrested'] = ri.is_arrested.astype('bool')\n",
        "\n",
        "# Check the data type of 'is_arrested' \n",
        "print(ri.is_arrested.dtypes)"
      ],
      "execution_count": null,
      "outputs": [
        {
          "output_type": "stream",
          "text": [
            "0    False\n",
            "1    False\n",
            "2    False\n",
            "3     True\n",
            "4    False\n",
            "Name: is_arrested, dtype: object\n",
            "bool\n"
          ],
          "name": "stdout"
        }
      ]
    },
    {
      "cell_type": "code",
      "metadata": {
        "colab": {
          "base_uri": "https://localhost:8080/"
        },
        "id": "VjeTvQ9ibSWV",
        "outputId": "5d0a434c-7ae1-4e6f-b606-513f93cd7657"
      },
      "source": [
        "apple.index"
      ],
      "execution_count": null,
      "outputs": [
        {
          "output_type": "execute_result",
          "data": {
            "text/plain": [
              "DatetimeIndex(['2018-02-13 16:00:00', '2018-02-14 16:00:00',\n",
              "               '2018-02-15 16:00:00'],\n",
              "              dtype='datetime64[ns]', name='date_and_time', freq=None)"
            ]
          },
          "metadata": {
            "tags": []
          },
          "execution_count": 94
        }
      ]
    },
    {
      "cell_type": "markdown",
      "metadata": {
        "id": "U5Z7MXiTbVCJ"
      },
      "source": [
        "### Combining object columns\n",
        "Currently, the date and time of each traffic stop are stored in separate object columns: stop_date and stop_time.\n",
        "\n",
        "In this exercise, you'll combine these two columns into a single column, and then convert it to datetime format. This will enable convenient date-based attributes that we'll use later in the course."
      ]
    },
    {
      "cell_type": "markdown",
      "metadata": {
        "id": "L8_WW3eAbeBT"
      },
      "source": [
        "* Use a string method to concatenate stop_date and stop_time (separated by a space), and store the result in combined.\n",
        "* Convert combined to datetime format, and store the result in a new column named stop_datetime.\n",
        "* Examine the DataFrame .dtypes to confirm that stop_datetime is a datetime column."
      ]
    },
    {
      "cell_type": "code",
      "metadata": {
        "colab": {
          "base_uri": "https://localhost:8080/",
          "height": 309
        },
        "id": "L0Hl9T_Gb5c9",
        "outputId": "c49f5d11-5e04-4593-f883-396519ee08f0"
      },
      "source": [
        "ri.head()"
      ],
      "execution_count": null,
      "outputs": [
        {
          "output_type": "execute_result",
          "data": {
            "text/html": [
              "<div>\n",
              "<style scoped>\n",
              "    .dataframe tbody tr th:only-of-type {\n",
              "        vertical-align: middle;\n",
              "    }\n",
              "\n",
              "    .dataframe tbody tr th {\n",
              "        vertical-align: top;\n",
              "    }\n",
              "\n",
              "    .dataframe thead th {\n",
              "        text-align: right;\n",
              "    }\n",
              "</style>\n",
              "<table border=\"1\" class=\"dataframe\">\n",
              "  <thead>\n",
              "    <tr style=\"text-align: right;\">\n",
              "      <th></th>\n",
              "      <th>stop_date</th>\n",
              "      <th>stop_time</th>\n",
              "      <th>driver_gender</th>\n",
              "      <th>driver_race</th>\n",
              "      <th>violation_raw</th>\n",
              "      <th>violation</th>\n",
              "      <th>search_conducted</th>\n",
              "      <th>search_type</th>\n",
              "      <th>stop_outcome</th>\n",
              "      <th>is_arrested</th>\n",
              "      <th>stop_duration</th>\n",
              "      <th>drugs_related_stop</th>\n",
              "      <th>district</th>\n",
              "    </tr>\n",
              "  </thead>\n",
              "  <tbody>\n",
              "    <tr>\n",
              "      <th>0</th>\n",
              "      <td>2005-01-04</td>\n",
              "      <td>12:55</td>\n",
              "      <td>M</td>\n",
              "      <td>White</td>\n",
              "      <td>Equipment/Inspection Violation</td>\n",
              "      <td>Equipment</td>\n",
              "      <td>False</td>\n",
              "      <td>NaN</td>\n",
              "      <td>Citation</td>\n",
              "      <td>False</td>\n",
              "      <td>0-15 Min</td>\n",
              "      <td>False</td>\n",
              "      <td>Zone X4</td>\n",
              "    </tr>\n",
              "    <tr>\n",
              "      <th>1</th>\n",
              "      <td>2005-01-23</td>\n",
              "      <td>23:15</td>\n",
              "      <td>M</td>\n",
              "      <td>White</td>\n",
              "      <td>Speeding</td>\n",
              "      <td>Speeding</td>\n",
              "      <td>False</td>\n",
              "      <td>NaN</td>\n",
              "      <td>Citation</td>\n",
              "      <td>False</td>\n",
              "      <td>0-15 Min</td>\n",
              "      <td>False</td>\n",
              "      <td>Zone K3</td>\n",
              "    </tr>\n",
              "    <tr>\n",
              "      <th>2</th>\n",
              "      <td>2005-02-17</td>\n",
              "      <td>04:15</td>\n",
              "      <td>M</td>\n",
              "      <td>White</td>\n",
              "      <td>Speeding</td>\n",
              "      <td>Speeding</td>\n",
              "      <td>False</td>\n",
              "      <td>NaN</td>\n",
              "      <td>Citation</td>\n",
              "      <td>False</td>\n",
              "      <td>0-15 Min</td>\n",
              "      <td>False</td>\n",
              "      <td>Zone X4</td>\n",
              "    </tr>\n",
              "    <tr>\n",
              "      <th>3</th>\n",
              "      <td>2005-02-20</td>\n",
              "      <td>17:15</td>\n",
              "      <td>M</td>\n",
              "      <td>White</td>\n",
              "      <td>Call for Service</td>\n",
              "      <td>Other</td>\n",
              "      <td>False</td>\n",
              "      <td>NaN</td>\n",
              "      <td>Arrest Driver</td>\n",
              "      <td>True</td>\n",
              "      <td>16-30 Min</td>\n",
              "      <td>False</td>\n",
              "      <td>Zone X1</td>\n",
              "    </tr>\n",
              "    <tr>\n",
              "      <th>4</th>\n",
              "      <td>2005-02-24</td>\n",
              "      <td>01:20</td>\n",
              "      <td>F</td>\n",
              "      <td>White</td>\n",
              "      <td>Speeding</td>\n",
              "      <td>Speeding</td>\n",
              "      <td>False</td>\n",
              "      <td>NaN</td>\n",
              "      <td>Citation</td>\n",
              "      <td>False</td>\n",
              "      <td>0-15 Min</td>\n",
              "      <td>False</td>\n",
              "      <td>Zone X3</td>\n",
              "    </tr>\n",
              "  </tbody>\n",
              "</table>\n",
              "</div>"
            ],
            "text/plain": [
              "    stop_date stop_time  ... drugs_related_stop district\n",
              "0  2005-01-04     12:55  ...              False  Zone X4\n",
              "1  2005-01-23     23:15  ...              False  Zone K3\n",
              "2  2005-02-17     04:15  ...              False  Zone X4\n",
              "3  2005-02-20     17:15  ...              False  Zone X1\n",
              "4  2005-02-24     01:20  ...              False  Zone X3\n",
              "\n",
              "[5 rows x 13 columns]"
            ]
          },
          "metadata": {
            "tags": []
          },
          "execution_count": 7
        }
      ]
    },
    {
      "cell_type": "code",
      "metadata": {
        "colab": {
          "base_uri": "https://localhost:8080/"
        },
        "id": "fzgS9huBbiLp",
        "outputId": "ed95cefd-03a6-4570-8d52-f7353222e1ff"
      },
      "source": [
        "# Concatenate 'stop_date' and 'stop_time' (separated by a space)\n",
        "combined = ri.stop_date.str.cat(ri.stop_time, sep=' ')\n",
        "\n",
        "# Convert 'combined' to datetime format\n",
        "ri['stop_datetime'] = pd.to_datetime(combined)\n",
        "\n",
        "# Examine the data types of the DataFrame\n",
        "print(ri.dtypes)"
      ],
      "execution_count": null,
      "outputs": [
        {
          "output_type": "stream",
          "text": [
            "stop_date                     object\n",
            "stop_time                     object\n",
            "driver_gender                 object\n",
            "driver_race                   object\n",
            "violation_raw                 object\n",
            "violation                     object\n",
            "search_conducted                bool\n",
            "search_type                   object\n",
            "stop_outcome                  object\n",
            "is_arrested                     bool\n",
            "stop_duration                 object\n",
            "drugs_related_stop              bool\n",
            "district                      object\n",
            "stop_datetime         datetime64[ns]\n",
            "dtype: object\n"
          ],
          "name": "stdout"
        }
      ]
    },
    {
      "cell_type": "markdown",
      "metadata": {
        "id": "4ldQJMUHcSrR"
      },
      "source": [
        "### Setting the index\n",
        "The last step that you'll take in this chapter is to set the stop_datetime column as the DataFrame's index. By replacing the default index with a DatetimeIndex, you'll make it easier to analyze the dataset by date and time, which will come in handy later in the course!"
      ]
    },
    {
      "cell_type": "markdown",
      "metadata": {
        "id": "Xpi9daFrcl6u"
      },
      "source": [
        "* Set stop_datetime as the DataFrame index.\n",
        "* Examine the index to verify that it is a DatetimeIndex.\n",
        "* Examine the DataFrame columns to confirm that stop_datetime is no longer one of the columns."
      ]
    },
    {
      "cell_type": "code",
      "metadata": {
        "colab": {
          "base_uri": "https://localhost:8080/"
        },
        "id": "af2eeq1mcqM5",
        "outputId": "cfd2efe4-696b-47ae-896f-c6027b908d20"
      },
      "source": [
        "\n",
        "\n",
        "# Set 'stop_datetime' as the index\n",
        "ri.set_index('stop_datetime',inplace = True)\n",
        "\n",
        "# Examine the index\n",
        "print(ri.index)\n",
        "\n",
        "# Examine the columns\n",
        "print(ri.columns)"
      ],
      "execution_count": null,
      "outputs": [
        {
          "output_type": "stream",
          "text": [
            "DatetimeIndex(['2005-01-04 12:55:00', '2005-01-23 23:15:00',\n",
            "               '2005-02-17 04:15:00', '2005-02-20 17:15:00',\n",
            "               '2005-02-24 01:20:00', '2005-03-14 10:00:00',\n",
            "               '2005-03-29 21:55:00', '2005-04-04 21:25:00',\n",
            "               '2005-07-14 11:20:00', '2005-07-14 19:55:00',\n",
            "               ...\n",
            "               '2015-12-31 13:23:00', '2015-12-31 18:59:00',\n",
            "               '2015-12-31 19:13:00', '2015-12-31 20:20:00',\n",
            "               '2015-12-31 20:50:00', '2015-12-31 21:21:00',\n",
            "               '2015-12-31 21:59:00', '2015-12-31 22:04:00',\n",
            "               '2015-12-31 22:09:00', '2015-12-31 22:47:00'],\n",
            "              dtype='datetime64[ns]', name='stop_datetime', length=86536, freq=None)\n",
            "Index(['stop_date', 'stop_time', 'driver_gender', 'driver_race',\n",
            "       'violation_raw', 'violation', 'search_conducted', 'search_type',\n",
            "       'stop_outcome', 'is_arrested', 'stop_duration', 'drugs_related_stop',\n",
            "       'district'],\n",
            "      dtype='object')\n"
          ],
          "name": "stdout"
        }
      ]
    },
    {
      "cell_type": "markdown",
      "metadata": {
        "id": "cK4k-oWadctf"
      },
      "source": [
        "## <font color = blue> **Exploring the relationship between gender and policing**\n",
        "\n",
        "Does the gender of a driver have an impact on police behavior during a traffic stop? In this chapter, you will explore that question while practicing filtering, grouping, method chaining, Boolean math, string methods, and more!"
      ]
    },
    {
      "cell_type": "markdown",
      "metadata": {
        "id": "8nowAHGzioPX"
      },
      "source": [
        "### Examining traffic violations\n",
        "Before comparing the violations being committed by each gender, you should examine the violations committed by all drivers to get a baseline understanding of the data.\n",
        "\n",
        "In this exercise, you'll count the unique values in the violation column, and then separately express those counts as proportions."
      ]
    },
    {
      "cell_type": "markdown",
      "metadata": {
        "id": "Dumd5fkQSwnE"
      },
      "source": [
        "* Count the unique values in the violation column of the ri DataFrame, to see what violations are being committed by all drivers.\n",
        "\n",
        "* Express the violation counts as proportions of the total."
      ]
    },
    {
      "cell_type": "code",
      "metadata": {
        "colab": {
          "base_uri": "https://localhost:8080/",
          "height": 277
        },
        "id": "8nhfunvIS2BJ",
        "outputId": "d1e2748a-25d4-4780-ecc2-5a3b343ed189"
      },
      "source": [
        "# Count the unique values in 'violation'\n",
        "print(ri.violation.value_counts())\n",
        "display('---------------------------------------------------------------------')\n",
        "# Express the counts as proportions\n",
        "print(ri.violation.value_counts(normalize = True))"
      ],
      "execution_count": null,
      "outputs": [
        {
          "output_type": "stream",
          "text": [
            "Speeding               48423\n",
            "Moving violation       16224\n",
            "Equipment              10921\n",
            "Other                   4409\n",
            "Registration/plates     3703\n",
            "Seat belt               2856\n",
            "Name: violation, dtype: int64\n"
          ],
          "name": "stdout"
        },
        {
          "output_type": "display_data",
          "data": {
            "application/vnd.google.colaboratory.intrinsic+json": {
              "type": "string"
            },
            "text/plain": [
              "'---------------------------------------------------------------------'"
            ]
          },
          "metadata": {
            "tags": []
          }
        },
        {
          "output_type": "stream",
          "text": [
            "Speeding               0.559571\n",
            "Moving violation       0.187483\n",
            "Equipment              0.126202\n",
            "Other                  0.050950\n",
            "Registration/plates    0.042791\n",
            "Seat belt              0.033004\n",
            "Name: violation, dtype: float64\n"
          ],
          "name": "stdout"
        }
      ]
    },
    {
      "cell_type": "markdown",
      "metadata": {
        "id": "xqqB8-1iTT9w"
      },
      "source": [
        "**Interesting! More than half of all violations are for speeding, followed by other moving violations and equipment violations.**"
      ]
    },
    {
      "cell_type": "markdown",
      "metadata": {
        "id": "sm3VqoYyTje9"
      },
      "source": [
        "### Comparing violations by gender\n",
        "The question we're trying to answer is whether male and female drivers tend to commit different types of traffic violations.\n",
        "\n",
        "In this exercise, you'll first create a DataFrame for each gender, and then analyze the violations in each DataFrame separately.\n",
        "\n",
        "<div class=\"exercise--instructions__content\"><ul>\n",
        "<li>Create a DataFrame, <code>female</code>, that only contains rows in which <code>driver_gender</code> is <code>&apos;F&apos;</code>.</li>\n",
        "<li>Create a DataFrame, <code>male</code>, that only contains rows in which <code>driver_gender</code> is <code>&apos;M&apos;</code>.</li>\n",
        "<li>Count the violations committed by female drivers and express them as proportions.</li>\n",
        "<li>Count the violations committed by male drivers and express them as proportions.</li>\n",
        "</ul></div>"
      ]
    },
    {
      "cell_type": "code",
      "metadata": {
        "colab": {
          "base_uri": "https://localhost:8080/"
        },
        "id": "TJgTa2FEU1MB",
        "outputId": "922e48d4-4af4-4c2d-e0b2-494014f6f659"
      },
      "source": [
        "ri.driver_gender"
      ],
      "execution_count": null,
      "outputs": [
        {
          "output_type": "execute_result",
          "data": {
            "text/plain": [
              "stop_datetime\n",
              "2005-01-04 12:55:00    M\n",
              "2005-01-23 23:15:00    M\n",
              "2005-02-17 04:15:00    M\n",
              "2005-02-20 17:15:00    M\n",
              "2005-02-24 01:20:00    F\n",
              "                      ..\n",
              "2015-12-31 21:21:00    F\n",
              "2015-12-31 21:59:00    F\n",
              "2015-12-31 22:04:00    M\n",
              "2015-12-31 22:09:00    F\n",
              "2015-12-31 22:47:00    M\n",
              "Name: driver_gender, Length: 86536, dtype: object"
            ]
          },
          "metadata": {
            "tags": []
          },
          "execution_count": 11
        }
      ]
    },
    {
      "cell_type": "code",
      "metadata": {
        "colab": {
          "base_uri": "https://localhost:8080/"
        },
        "id": "Ny-GrwQtUu4_",
        "outputId": "82fcf9da-31d8-41c6-a003-ef27ab060e41"
      },
      "source": [
        "# Create a DataFrame of female drivers\n",
        "female = ri[ri.driver_gender == 'F']\n",
        "\n",
        "# Create a DataFrame of male drivers\n",
        "male = ri[ri.driver_gender == 'M']\n",
        "print('--------------Female-----------------------------------')\n",
        "# Compute the violations by female drivers (as proportions)\n",
        "print(female.violation.value_counts(normalize = True))\n",
        "\n",
        "print('--------------Male-----------------------------------')\n",
        "\n",
        "# Compute the violations by male drivers (as proportions)\n",
        "print(male.violation.value_counts(normalize = True))"
      ],
      "execution_count": null,
      "outputs": [
        {
          "output_type": "stream",
          "text": [
            "--------------Female-----------------------------------\n",
            "Speeding               0.658114\n",
            "Moving violation       0.138218\n",
            "Equipment              0.105199\n",
            "Registration/plates    0.044418\n",
            "Other                  0.029738\n",
            "Seat belt              0.024312\n",
            "Name: violation, dtype: float64\n",
            "--------------Male-----------------------------------\n",
            "Speeding               0.522243\n",
            "Moving violation       0.206144\n",
            "Equipment              0.134158\n",
            "Other                  0.058985\n",
            "Registration/plates    0.042175\n",
            "Seat belt              0.036296\n",
            "Name: violation, dtype: float64\n"
          ],
          "name": "stdout"
        }
      ]
    },
    {
      "cell_type": "markdown",
      "metadata": {
        "id": "7Q8RPkUMVUFp"
      },
      "source": [
        "About two-thirds of female traffic stops are for speeding, whereas stops of males are more balanced among the six categories. This doesn't mean that females speed more often than males, however, since we didn't take into account the number of stops or drivers."
      ]
    }
  ]
}