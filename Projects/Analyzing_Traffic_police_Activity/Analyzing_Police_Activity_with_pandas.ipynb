{
  "nbformat": 4,
  "nbformat_minor": 0,
  "metadata": {
    "colab": {
      "name": "Analyzing Police Activity with pandas.ipynb",
      "provenance": [],
      "collapsed_sections": [],
      "mount_file_id": "1elbRtvkbibLE3E1OoN4hXSKtjQe1Kglq",
      "authorship_tag": "ABX9TyMHAA8Kmt2oWokZya9Tnj56",
      "include_colab_link": true
    },
    "kernelspec": {
      "name": "python3",
      "display_name": "Python 3"
    }
  },
  "cells": [
    {
      "cell_type": "markdown",
      "metadata": {
        "id": "view-in-github",
        "colab_type": "text"
      },
      "source": [
        "<a href=\"https://colab.research.google.com/github/Anuj-gitch/DataScience/blob/main/Analyzing_Traffic_police_Activity/Analyzing_Police_Activity_with_pandas.ipynb\" target=\"_parent\"><img src=\"https://colab.research.google.com/assets/colab-badge.svg\" alt=\"Open In Colab\"/></a>"
      ]
    },
    {
      "cell_type": "markdown",
      "metadata": {
        "id": "6QB1dExnE6af"
      },
      "source": [
        "#<font color = red> **Project Description : Analyzing Police Activity with pandas**\n",
        "\n",
        "Course will give you the chance to apply that knowledge by answering interesting questions about a real dataset! You will explore the Stanford Open Policing Project dataset and analyze the impact of gender on police behavior. During the course, you will gain more practice cleaning messy data, creating visualizations, combining and reshaping datasets, and manipulating time series data. Analyzing Police Activity with pandas will give you valuable experience analyzing a dataset from start to finish, preparing you for your data science career!\n",
        "\n"
      ]
    },
    {
      "cell_type": "markdown",
      "metadata": {
        "id": "qE3kAsMDFTJ9"
      },
      "source": [
        "## <font color = red> **Chapter 0 : Prepare Tools**"
      ]
    },
    {
      "cell_type": "code",
      "metadata": {
        "id": "BjaVhhmaFYCY"
      },
      "source": [
        "# data Analysis Tools\n",
        "import pandas as pd\n",
        "import numpy as np\n",
        "\n",
        "# Visualization Tools\n",
        "import matplotlib.pyplot as plt\n",
        "import seaborn as sns"
      ],
      "execution_count": 140,
      "outputs": []
    },
    {
      "cell_type": "markdown",
      "metadata": {
        "id": "7cJ845HDfx_L"
      },
      "source": [
        "---\n",
        "## <font color = blue> **Chapter 1 : Preparing the data for analysis**\n",
        "---\n",
        "\n",
        "\n",
        "Before beginning your analysis, it is critical that you first examine and clean the dataset, to make working with it a more efficient process. In this chapter, you will practice fixing data types, handling missing values, and dropping columns and rows while learning about the Stanford Open Policing Project dataset."
      ]
    },
    {
      "cell_type": "markdown",
      "metadata": {
        "id": "tU-72VblgJEz"
      },
      "source": [
        "\n",
        "### **Chapter 1.1 : Stanford Open Policing Project dataset**\n",
        "\n",
        "---\n",
        "\n",
        "\n",
        "\n",
        "In this course, you'll be practicing a lot of what you've learned about pandas already to answer interesting questions about a real dataset. You'll gain valuable experience analyzing a dataset from start to finish, which will help to prepare you for your data science career.\n"
      ]
    },
    {
      "cell_type": "markdown",
      "metadata": {
        "id": "cRG55GODgCAm"
      },
      "source": [
        "#### Introduction to the dataset\n",
        "\n",
        "Let's start by introducing the data. You'll be working with a dataset of \n",
        "* Traffic stops by police officers \n",
        "\n",
        "That was collected by the Stanford Open Policing Project. They've collected data from 31 US states, but in this course you'll be focusing on data from the state of Rhode Island. For size reasons, some of the columns and rows have been removed, \n",
        "\n",
        "But you can download the full dataset for any of the 31 states from the project's website.\n",
        "\n",
        "* Download data for any state:<br>\n",
        "  https://openpolicing.stanford.edu/\n"
      ]
    },
    {
      "cell_type": "markdown",
      "metadata": {
        "id": "2NG98-xVgj1S"
      },
      "source": [
        "#### Preparing the data\n",
        "\n",
        "This first chapter is about preparing the data for analysis. Before beginning an analysis, it's critical that you first \n",
        "\n",
        "* Examine the data to make sure that you understand it, and then \n",
        "\n",
        "* clean the data, to make working with it a more efficient process. \n",
        "\n",
        "As always, we'll start by importing pandas as pd. We'll use the read_csv() function to read in the dataset from a file, and then store it in a DataFrame called ri, which stands for Rhode Island. \n",
        "\n",
        "We'll use the head() method in order to take a quick glance at the DataFrame, though there are many more columns than can fit on this screen. \n",
        "\n",
        "Each row represents a single traffic stop. \n",
        "\n"
      ]
    },
    {
      "cell_type": "code",
      "metadata": {
        "id": "1HVd5hVVjPcY"
      },
      "source": [
        "import pandas as pd\n",
        "ri = pd.read_csv('https://assets.datacamp.com/production/repositories/1497/datasets/62bd9feef451860db02d26553613a299721882e8/police.csv')"
      ],
      "execution_count": 141,
      "outputs": []
    },
    {
      "cell_type": "code",
      "metadata": {
        "colab": {
          "base_uri": "https://localhost:8080/",
          "height": 202
        },
        "id": "V9wAqOkqjW63",
        "outputId": "3aa610c7-3ab2-4af3-bb6e-3ec7c1e60a11"
      },
      "source": [
        "ri.head()"
      ],
      "execution_count": 142,
      "outputs": [
        {
          "output_type": "execute_result",
          "data": {
            "text/html": [
              "<div>\n",
              "<style scoped>\n",
              "    .dataframe tbody tr th:only-of-type {\n",
              "        vertical-align: middle;\n",
              "    }\n",
              "\n",
              "    .dataframe tbody tr th {\n",
              "        vertical-align: top;\n",
              "    }\n",
              "\n",
              "    .dataframe thead th {\n",
              "        text-align: right;\n",
              "    }\n",
              "</style>\n",
              "<table border=\"1\" class=\"dataframe\">\n",
              "  <thead>\n",
              "    <tr style=\"text-align: right;\">\n",
              "      <th></th>\n",
              "      <th>state</th>\n",
              "      <th>stop_date</th>\n",
              "      <th>stop_time</th>\n",
              "      <th>county_name</th>\n",
              "      <th>driver_gender</th>\n",
              "      <th>driver_race</th>\n",
              "      <th>violation_raw</th>\n",
              "      <th>violation</th>\n",
              "      <th>search_conducted</th>\n",
              "      <th>search_type</th>\n",
              "      <th>stop_outcome</th>\n",
              "      <th>is_arrested</th>\n",
              "      <th>stop_duration</th>\n",
              "      <th>drugs_related_stop</th>\n",
              "      <th>district</th>\n",
              "    </tr>\n",
              "  </thead>\n",
              "  <tbody>\n",
              "    <tr>\n",
              "      <th>0</th>\n",
              "      <td>RI</td>\n",
              "      <td>2005-01-04</td>\n",
              "      <td>12:55</td>\n",
              "      <td>NaN</td>\n",
              "      <td>M</td>\n",
              "      <td>White</td>\n",
              "      <td>Equipment/Inspection Violation</td>\n",
              "      <td>Equipment</td>\n",
              "      <td>False</td>\n",
              "      <td>NaN</td>\n",
              "      <td>Citation</td>\n",
              "      <td>False</td>\n",
              "      <td>0-15 Min</td>\n",
              "      <td>False</td>\n",
              "      <td>Zone X4</td>\n",
              "    </tr>\n",
              "    <tr>\n",
              "      <th>1</th>\n",
              "      <td>RI</td>\n",
              "      <td>2005-01-23</td>\n",
              "      <td>23:15</td>\n",
              "      <td>NaN</td>\n",
              "      <td>M</td>\n",
              "      <td>White</td>\n",
              "      <td>Speeding</td>\n",
              "      <td>Speeding</td>\n",
              "      <td>False</td>\n",
              "      <td>NaN</td>\n",
              "      <td>Citation</td>\n",
              "      <td>False</td>\n",
              "      <td>0-15 Min</td>\n",
              "      <td>False</td>\n",
              "      <td>Zone K3</td>\n",
              "    </tr>\n",
              "    <tr>\n",
              "      <th>2</th>\n",
              "      <td>RI</td>\n",
              "      <td>2005-02-17</td>\n",
              "      <td>04:15</td>\n",
              "      <td>NaN</td>\n",
              "      <td>M</td>\n",
              "      <td>White</td>\n",
              "      <td>Speeding</td>\n",
              "      <td>Speeding</td>\n",
              "      <td>False</td>\n",
              "      <td>NaN</td>\n",
              "      <td>Citation</td>\n",
              "      <td>False</td>\n",
              "      <td>0-15 Min</td>\n",
              "      <td>False</td>\n",
              "      <td>Zone X4</td>\n",
              "    </tr>\n",
              "    <tr>\n",
              "      <th>3</th>\n",
              "      <td>RI</td>\n",
              "      <td>2005-02-20</td>\n",
              "      <td>17:15</td>\n",
              "      <td>NaN</td>\n",
              "      <td>M</td>\n",
              "      <td>White</td>\n",
              "      <td>Call for Service</td>\n",
              "      <td>Other</td>\n",
              "      <td>False</td>\n",
              "      <td>NaN</td>\n",
              "      <td>Arrest Driver</td>\n",
              "      <td>True</td>\n",
              "      <td>16-30 Min</td>\n",
              "      <td>False</td>\n",
              "      <td>Zone X1</td>\n",
              "    </tr>\n",
              "    <tr>\n",
              "      <th>4</th>\n",
              "      <td>RI</td>\n",
              "      <td>2005-02-24</td>\n",
              "      <td>01:20</td>\n",
              "      <td>NaN</td>\n",
              "      <td>F</td>\n",
              "      <td>White</td>\n",
              "      <td>Speeding</td>\n",
              "      <td>Speeding</td>\n",
              "      <td>False</td>\n",
              "      <td>NaN</td>\n",
              "      <td>Citation</td>\n",
              "      <td>False</td>\n",
              "      <td>0-15 Min</td>\n",
              "      <td>False</td>\n",
              "      <td>Zone X3</td>\n",
              "    </tr>\n",
              "  </tbody>\n",
              "</table>\n",
              "</div>"
            ],
            "text/plain": [
              "  state   stop_date stop_time  ...  stop_duration drugs_related_stop district\n",
              "0    RI  2005-01-04     12:55  ...       0-15 Min              False  Zone X4\n",
              "1    RI  2005-01-23     23:15  ...       0-15 Min              False  Zone K3\n",
              "2    RI  2005-02-17     04:15  ...       0-15 Min              False  Zone X4\n",
              "3    RI  2005-02-20     17:15  ...      16-30 Min              False  Zone X1\n",
              "4    RI  2005-02-24     01:20  ...       0-15 Min              False  Zone X3\n",
              "\n",
              "[5 rows x 15 columns]"
            ]
          },
          "metadata": {
            "tags": []
          },
          "execution_count": 142
        }
      ]
    },
    {
      "cell_type": "markdown",
      "metadata": {
        "id": "M7m6oHkcjYdt"
      },
      "source": [
        "You'll notice that the county_name column contains <font color = green> **NaN values, which indicate missing values.** </font> These are often values that were not collected during the data gathering process, or are irrelevant for that particular row."
      ]
    },
    {
      "cell_type": "markdown",
      "metadata": {
        "id": "o2_Y-5sDgqqX"
      },
      "source": [
        "#### Locating missing values (1)\n",
        "\n",
        "It's important that you locate missing values so that you can proactively decide how to handle them. You may recall that the isnull() method generates a DataFrame of True and False values: True if the element is missing, and False if it's not."
      ]
    },
    {
      "cell_type": "code",
      "metadata": {
        "colab": {
          "base_uri": "https://localhost:8080/",
          "height": 416
        },
        "id": "TrJUgl4Ijo_L",
        "outputId": "787bb055-e0e1-4d05-87a8-f32664a184ca"
      },
      "source": [
        "ri.isnull()"
      ],
      "execution_count": 143,
      "outputs": [
        {
          "output_type": "execute_result",
          "data": {
            "text/html": [
              "<div>\n",
              "<style scoped>\n",
              "    .dataframe tbody tr th:only-of-type {\n",
              "        vertical-align: middle;\n",
              "    }\n",
              "\n",
              "    .dataframe tbody tr th {\n",
              "        vertical-align: top;\n",
              "    }\n",
              "\n",
              "    .dataframe thead th {\n",
              "        text-align: right;\n",
              "    }\n",
              "</style>\n",
              "<table border=\"1\" class=\"dataframe\">\n",
              "  <thead>\n",
              "    <tr style=\"text-align: right;\">\n",
              "      <th></th>\n",
              "      <th>state</th>\n",
              "      <th>stop_date</th>\n",
              "      <th>stop_time</th>\n",
              "      <th>county_name</th>\n",
              "      <th>driver_gender</th>\n",
              "      <th>driver_race</th>\n",
              "      <th>violation_raw</th>\n",
              "      <th>violation</th>\n",
              "      <th>search_conducted</th>\n",
              "      <th>search_type</th>\n",
              "      <th>stop_outcome</th>\n",
              "      <th>is_arrested</th>\n",
              "      <th>stop_duration</th>\n",
              "      <th>drugs_related_stop</th>\n",
              "      <th>district</th>\n",
              "    </tr>\n",
              "  </thead>\n",
              "  <tbody>\n",
              "    <tr>\n",
              "      <th>0</th>\n",
              "      <td>False</td>\n",
              "      <td>False</td>\n",
              "      <td>False</td>\n",
              "      <td>True</td>\n",
              "      <td>False</td>\n",
              "      <td>False</td>\n",
              "      <td>False</td>\n",
              "      <td>False</td>\n",
              "      <td>False</td>\n",
              "      <td>True</td>\n",
              "      <td>False</td>\n",
              "      <td>False</td>\n",
              "      <td>False</td>\n",
              "      <td>False</td>\n",
              "      <td>False</td>\n",
              "    </tr>\n",
              "    <tr>\n",
              "      <th>1</th>\n",
              "      <td>False</td>\n",
              "      <td>False</td>\n",
              "      <td>False</td>\n",
              "      <td>True</td>\n",
              "      <td>False</td>\n",
              "      <td>False</td>\n",
              "      <td>False</td>\n",
              "      <td>False</td>\n",
              "      <td>False</td>\n",
              "      <td>True</td>\n",
              "      <td>False</td>\n",
              "      <td>False</td>\n",
              "      <td>False</td>\n",
              "      <td>False</td>\n",
              "      <td>False</td>\n",
              "    </tr>\n",
              "    <tr>\n",
              "      <th>2</th>\n",
              "      <td>False</td>\n",
              "      <td>False</td>\n",
              "      <td>False</td>\n",
              "      <td>True</td>\n",
              "      <td>False</td>\n",
              "      <td>False</td>\n",
              "      <td>False</td>\n",
              "      <td>False</td>\n",
              "      <td>False</td>\n",
              "      <td>True</td>\n",
              "      <td>False</td>\n",
              "      <td>False</td>\n",
              "      <td>False</td>\n",
              "      <td>False</td>\n",
              "      <td>False</td>\n",
              "    </tr>\n",
              "    <tr>\n",
              "      <th>3</th>\n",
              "      <td>False</td>\n",
              "      <td>False</td>\n",
              "      <td>False</td>\n",
              "      <td>True</td>\n",
              "      <td>False</td>\n",
              "      <td>False</td>\n",
              "      <td>False</td>\n",
              "      <td>False</td>\n",
              "      <td>False</td>\n",
              "      <td>True</td>\n",
              "      <td>False</td>\n",
              "      <td>False</td>\n",
              "      <td>False</td>\n",
              "      <td>False</td>\n",
              "      <td>False</td>\n",
              "    </tr>\n",
              "    <tr>\n",
              "      <th>4</th>\n",
              "      <td>False</td>\n",
              "      <td>False</td>\n",
              "      <td>False</td>\n",
              "      <td>True</td>\n",
              "      <td>False</td>\n",
              "      <td>False</td>\n",
              "      <td>False</td>\n",
              "      <td>False</td>\n",
              "      <td>False</td>\n",
              "      <td>True</td>\n",
              "      <td>False</td>\n",
              "      <td>False</td>\n",
              "      <td>False</td>\n",
              "      <td>False</td>\n",
              "      <td>False</td>\n",
              "    </tr>\n",
              "    <tr>\n",
              "      <th>...</th>\n",
              "      <td>...</td>\n",
              "      <td>...</td>\n",
              "      <td>...</td>\n",
              "      <td>...</td>\n",
              "      <td>...</td>\n",
              "      <td>...</td>\n",
              "      <td>...</td>\n",
              "      <td>...</td>\n",
              "      <td>...</td>\n",
              "      <td>...</td>\n",
              "      <td>...</td>\n",
              "      <td>...</td>\n",
              "      <td>...</td>\n",
              "      <td>...</td>\n",
              "      <td>...</td>\n",
              "    </tr>\n",
              "    <tr>\n",
              "      <th>91736</th>\n",
              "      <td>False</td>\n",
              "      <td>False</td>\n",
              "      <td>False</td>\n",
              "      <td>True</td>\n",
              "      <td>False</td>\n",
              "      <td>False</td>\n",
              "      <td>False</td>\n",
              "      <td>False</td>\n",
              "      <td>False</td>\n",
              "      <td>True</td>\n",
              "      <td>False</td>\n",
              "      <td>False</td>\n",
              "      <td>False</td>\n",
              "      <td>False</td>\n",
              "      <td>False</td>\n",
              "    </tr>\n",
              "    <tr>\n",
              "      <th>91737</th>\n",
              "      <td>False</td>\n",
              "      <td>False</td>\n",
              "      <td>False</td>\n",
              "      <td>True</td>\n",
              "      <td>False</td>\n",
              "      <td>False</td>\n",
              "      <td>False</td>\n",
              "      <td>False</td>\n",
              "      <td>False</td>\n",
              "      <td>True</td>\n",
              "      <td>False</td>\n",
              "      <td>False</td>\n",
              "      <td>False</td>\n",
              "      <td>False</td>\n",
              "      <td>False</td>\n",
              "    </tr>\n",
              "    <tr>\n",
              "      <th>91738</th>\n",
              "      <td>False</td>\n",
              "      <td>False</td>\n",
              "      <td>False</td>\n",
              "      <td>True</td>\n",
              "      <td>False</td>\n",
              "      <td>False</td>\n",
              "      <td>False</td>\n",
              "      <td>False</td>\n",
              "      <td>False</td>\n",
              "      <td>True</td>\n",
              "      <td>False</td>\n",
              "      <td>False</td>\n",
              "      <td>False</td>\n",
              "      <td>False</td>\n",
              "      <td>False</td>\n",
              "    </tr>\n",
              "    <tr>\n",
              "      <th>91739</th>\n",
              "      <td>False</td>\n",
              "      <td>False</td>\n",
              "      <td>False</td>\n",
              "      <td>True</td>\n",
              "      <td>False</td>\n",
              "      <td>False</td>\n",
              "      <td>False</td>\n",
              "      <td>False</td>\n",
              "      <td>False</td>\n",
              "      <td>True</td>\n",
              "      <td>False</td>\n",
              "      <td>False</td>\n",
              "      <td>False</td>\n",
              "      <td>False</td>\n",
              "      <td>False</td>\n",
              "    </tr>\n",
              "    <tr>\n",
              "      <th>91740</th>\n",
              "      <td>False</td>\n",
              "      <td>False</td>\n",
              "      <td>False</td>\n",
              "      <td>True</td>\n",
              "      <td>False</td>\n",
              "      <td>False</td>\n",
              "      <td>False</td>\n",
              "      <td>False</td>\n",
              "      <td>False</td>\n",
              "      <td>True</td>\n",
              "      <td>False</td>\n",
              "      <td>False</td>\n",
              "      <td>False</td>\n",
              "      <td>False</td>\n",
              "      <td>False</td>\n",
              "    </tr>\n",
              "  </tbody>\n",
              "</table>\n",
              "<p>91741 rows × 15 columns</p>\n",
              "</div>"
            ],
            "text/plain": [
              "       state  stop_date  stop_time  ...  stop_duration  drugs_related_stop  district\n",
              "0      False      False      False  ...          False               False     False\n",
              "1      False      False      False  ...          False               False     False\n",
              "2      False      False      False  ...          False               False     False\n",
              "3      False      False      False  ...          False               False     False\n",
              "4      False      False      False  ...          False               False     False\n",
              "...      ...        ...        ...  ...            ...                 ...       ...\n",
              "91736  False      False      False  ...          False               False     False\n",
              "91737  False      False      False  ...          False               False     False\n",
              "91738  False      False      False  ...          False               False     False\n",
              "91739  False      False      False  ...          False               False     False\n",
              "91740  False      False      False  ...          False               False     False\n",
              "\n",
              "[91741 rows x 15 columns]"
            ]
          },
          "metadata": {
            "tags": []
          },
          "execution_count": 143
        }
      ]
    },
    {
      "cell_type": "markdown",
      "metadata": {
        "id": "UDJYLuSYgzpc"
      },
      "source": [
        "#### Locating missing values (2)\n",
        "One useful trick is to take the sum of this DataFrame, which outputs a count of the number of missing values in each column. How does that calculation work? Well, \n",
        "* The ```sum()``` method calculates the sum of each column by default, \n",
        "* And ```True = 1``` values are treated as ones, while ```False = 0``` values are treated as zeros."
      ]
    },
    {
      "cell_type": "code",
      "metadata": {
        "colab": {
          "base_uri": "https://localhost:8080/"
        },
        "id": "lRbW2XH0jrIm",
        "outputId": "7c789493-2868-47eb-d054-9155f14229ed"
      },
      "source": [
        "ri.isnull().sum()"
      ],
      "execution_count": 144,
      "outputs": [
        {
          "output_type": "execute_result",
          "data": {
            "text/plain": [
              "state                     0\n",
              "stop_date                 0\n",
              "stop_time                 0\n",
              "county_name           91741\n",
              "driver_gender          5205\n",
              "driver_race            5202\n",
              "violation_raw          5202\n",
              "violation              5202\n",
              "search_conducted          0\n",
              "search_type           88434\n",
              "stop_outcome           5202\n",
              "is_arrested            5202\n",
              "stop_duration          5202\n",
              "drugs_related_stop        0\n",
              "district                  0\n",
              "dtype: int64"
            ]
          },
          "metadata": {
            "tags": []
          },
          "execution_count": 144
        }
      ]
    },
    {
      "cell_type": "markdown",
      "metadata": {
        "id": "zSv-_E7Og25q"
      },
      "source": [
        "#### Dropping a column\n",
        "Let's compare these missing value counts to the DataFrame's shape. You'll notice that the: \n",
        "* <font color = green> County_name column contains as many missing values as there are rows, meaning that it only contains missing values. \n",
        "\n",
        "Since it contains no useful information, this: \n",
        "\n",
        "* <font color = green> column can be dropped using the ```drop()``` method. \n",
        "\n",
        "Besides specifying the column name, you need to specify that you're dropping from the columns axis, and that you want the operation to occur in place, which avoids an assignment statement."
      ]
    },
    {
      "cell_type": "code",
      "metadata": {
        "id": "hggMszH6jtrv"
      },
      "source": [
        "ri.drop('county_name', axis = 'columns', inplace = True)"
      ],
      "execution_count": 145,
      "outputs": []
    },
    {
      "cell_type": "markdown",
      "metadata": {
        "id": "jD_xzJ-Qg60L"
      },
      "source": [
        "#### Dropping rows\n",
        "Finally, let's take a look at one more method related to missing values. The <font color = green, size = 6px> **```dropna()```** </font> method is a great way to drop rows based on the presence of missing values in that row. For example, let's pretend that the stop_date and stop_time columns are critical to our analysis, and thus a row is useless to us without that data. We can tell pandas to drop all rows that have a missing value in either the stop_date or stop_time column. Because we specified a subset, the dropna() method only takes these two columns into account when deciding which rows to drop."
      ]
    },
    {
      "cell_type": "code",
      "metadata": {
        "colab": {
          "base_uri": "https://localhost:8080/",
          "height": 202
        },
        "id": "BgGZrsprULgq",
        "outputId": "fa51b1b2-c9a9-4df0-fded-fa8654c685f5"
      },
      "source": [
        "ri.head()"
      ],
      "execution_count": 146,
      "outputs": [
        {
          "output_type": "execute_result",
          "data": {
            "text/html": [
              "<div>\n",
              "<style scoped>\n",
              "    .dataframe tbody tr th:only-of-type {\n",
              "        vertical-align: middle;\n",
              "    }\n",
              "\n",
              "    .dataframe tbody tr th {\n",
              "        vertical-align: top;\n",
              "    }\n",
              "\n",
              "    .dataframe thead th {\n",
              "        text-align: right;\n",
              "    }\n",
              "</style>\n",
              "<table border=\"1\" class=\"dataframe\">\n",
              "  <thead>\n",
              "    <tr style=\"text-align: right;\">\n",
              "      <th></th>\n",
              "      <th>state</th>\n",
              "      <th>stop_date</th>\n",
              "      <th>stop_time</th>\n",
              "      <th>driver_gender</th>\n",
              "      <th>driver_race</th>\n",
              "      <th>violation_raw</th>\n",
              "      <th>violation</th>\n",
              "      <th>search_conducted</th>\n",
              "      <th>search_type</th>\n",
              "      <th>stop_outcome</th>\n",
              "      <th>is_arrested</th>\n",
              "      <th>stop_duration</th>\n",
              "      <th>drugs_related_stop</th>\n",
              "      <th>district</th>\n",
              "    </tr>\n",
              "  </thead>\n",
              "  <tbody>\n",
              "    <tr>\n",
              "      <th>0</th>\n",
              "      <td>RI</td>\n",
              "      <td>2005-01-04</td>\n",
              "      <td>12:55</td>\n",
              "      <td>M</td>\n",
              "      <td>White</td>\n",
              "      <td>Equipment/Inspection Violation</td>\n",
              "      <td>Equipment</td>\n",
              "      <td>False</td>\n",
              "      <td>NaN</td>\n",
              "      <td>Citation</td>\n",
              "      <td>False</td>\n",
              "      <td>0-15 Min</td>\n",
              "      <td>False</td>\n",
              "      <td>Zone X4</td>\n",
              "    </tr>\n",
              "    <tr>\n",
              "      <th>1</th>\n",
              "      <td>RI</td>\n",
              "      <td>2005-01-23</td>\n",
              "      <td>23:15</td>\n",
              "      <td>M</td>\n",
              "      <td>White</td>\n",
              "      <td>Speeding</td>\n",
              "      <td>Speeding</td>\n",
              "      <td>False</td>\n",
              "      <td>NaN</td>\n",
              "      <td>Citation</td>\n",
              "      <td>False</td>\n",
              "      <td>0-15 Min</td>\n",
              "      <td>False</td>\n",
              "      <td>Zone K3</td>\n",
              "    </tr>\n",
              "    <tr>\n",
              "      <th>2</th>\n",
              "      <td>RI</td>\n",
              "      <td>2005-02-17</td>\n",
              "      <td>04:15</td>\n",
              "      <td>M</td>\n",
              "      <td>White</td>\n",
              "      <td>Speeding</td>\n",
              "      <td>Speeding</td>\n",
              "      <td>False</td>\n",
              "      <td>NaN</td>\n",
              "      <td>Citation</td>\n",
              "      <td>False</td>\n",
              "      <td>0-15 Min</td>\n",
              "      <td>False</td>\n",
              "      <td>Zone X4</td>\n",
              "    </tr>\n",
              "    <tr>\n",
              "      <th>3</th>\n",
              "      <td>RI</td>\n",
              "      <td>2005-02-20</td>\n",
              "      <td>17:15</td>\n",
              "      <td>M</td>\n",
              "      <td>White</td>\n",
              "      <td>Call for Service</td>\n",
              "      <td>Other</td>\n",
              "      <td>False</td>\n",
              "      <td>NaN</td>\n",
              "      <td>Arrest Driver</td>\n",
              "      <td>True</td>\n",
              "      <td>16-30 Min</td>\n",
              "      <td>False</td>\n",
              "      <td>Zone X1</td>\n",
              "    </tr>\n",
              "    <tr>\n",
              "      <th>4</th>\n",
              "      <td>RI</td>\n",
              "      <td>2005-02-24</td>\n",
              "      <td>01:20</td>\n",
              "      <td>F</td>\n",
              "      <td>White</td>\n",
              "      <td>Speeding</td>\n",
              "      <td>Speeding</td>\n",
              "      <td>False</td>\n",
              "      <td>NaN</td>\n",
              "      <td>Citation</td>\n",
              "      <td>False</td>\n",
              "      <td>0-15 Min</td>\n",
              "      <td>False</td>\n",
              "      <td>Zone X3</td>\n",
              "    </tr>\n",
              "  </tbody>\n",
              "</table>\n",
              "</div>"
            ],
            "text/plain": [
              "  state   stop_date stop_time  ... stop_duration drugs_related_stop district\n",
              "0    RI  2005-01-04     12:55  ...      0-15 Min              False  Zone X4\n",
              "1    RI  2005-01-23     23:15  ...      0-15 Min              False  Zone K3\n",
              "2    RI  2005-02-17     04:15  ...      0-15 Min              False  Zone X4\n",
              "3    RI  2005-02-20     17:15  ...     16-30 Min              False  Zone X1\n",
              "4    RI  2005-02-24     01:20  ...      0-15 Min              False  Zone X3\n",
              "\n",
              "[5 rows x 14 columns]"
            ]
          },
          "metadata": {
            "tags": []
          },
          "execution_count": 146
        }
      ]
    },
    {
      "cell_type": "markdown",
      "metadata": {
        "id": "9NG9l_wJVNTh"
      },
      "source": [
        "* **```.dropna()```**: Drop rows based on the presence of missing values"
      ]
    },
    {
      "cell_type": "code",
      "metadata": {
        "id": "ohvNV7pTUXU-"
      },
      "source": [
        "# drop stop_date, stop_time\n",
        "ri.dropna(subset=['stop_date','stop_time'] , inplace = True)"
      ],
      "execution_count": 147,
      "outputs": []
    },
    {
      "cell_type": "markdown",
      "metadata": {
        "id": "ytWvjrTlVHq1"
      },
      "source": [
        "### **Chapter 1.2: Using proper data types**\n",
        "\n",
        "---\n",
        "\n",
        "\n",
        "\n",
        "In the last set of exercises, you began cleaning the dataset by removing columns and rows that will not be useful for your upcoming analyses. Now, we're going to continue cleaning the dataset by ensuring that each of the columns has the proper data type."
      ]
    },
    {
      "cell_type": "markdown",
      "metadata": {
        "id": "o6tB0YzIVnSQ"
      },
      "source": [
        "#### Examining the data types\n",
        "Let's take a look at the dtypes attribute of the DataFrame. Every Series has a data type, which was automatically inferred by pandas when it was reading in the CSV file."
      ]
    },
    {
      "cell_type": "code",
      "metadata": {
        "colab": {
          "base_uri": "https://localhost:8080/"
        },
        "id": "ozoR2Jxd1t3i",
        "outputId": "5d824384-d514-426f-98a7-6b3624cb4a4c"
      },
      "source": [
        "# What is datatype?\n",
        "ri.dtypes"
      ],
      "execution_count": 148,
      "outputs": [
        {
          "output_type": "execute_result",
          "data": {
            "text/plain": [
              "state                 object\n",
              "stop_date             object\n",
              "stop_time             object\n",
              "driver_gender         object\n",
              "driver_race           object\n",
              "violation_raw         object\n",
              "violation             object\n",
              "search_conducted        bool\n",
              "search_type           object\n",
              "stop_outcome          object\n",
              "is_arrested           object\n",
              "stop_duration         object\n",
              "drugs_related_stop      bool\n",
              "district              object\n",
              "dtype: object"
            ]
          },
          "metadata": {
            "tags": []
          },
          "execution_count": 148
        }
      ]
    },
    {
      "cell_type": "markdown",
      "metadata": {
        "id": "ZBGxOiS5fAms"
      },
      "source": [
        "As you can see, **the only data types currently in use are object and bool**. The object data type usually means that a Series is made up of Python strings, though it can indicate the presence of other Python objects such as lists. The bool data type is short for Boolean, which means that a Series is made up of True and False values. pandas also supports other data types, such as int for integers, float for floating point values, datetime for dates and times, and category for categorical variables.\n",
        "\n",
        "**Type of dtype in pandas**\n",
        "\n",
        "* object:Python strings (or other Python objects)\n",
        "* bool:True and False values\n",
        "* Other types:int, float, datetime, categor"
      ]
    },
    {
      "cell_type": "markdown",
      "metadata": {
        "id": "cBNqWV3g0ls9"
      },
      "source": [
        "#### Why do data types matter?\n",
        "But why does the data type of a pandas Series even matter? Data types matter mostly because \n",
        "\n",
        "* They affect which operations you can perform on a given Series. \n",
        "\n",
        "* In particular, it's beneficial not to store data as strings when possible. For example, mathematical operations can be performed on ints and floats, but those operations will fail if the numbers are stored as strings. \n",
        "\n",
        "* The datetime type enables a rich set of date-based attributes and methods that are not possible with strings. \n",
        "\n",
        "* The category data type results in less memory usage and faster processing than strings. \n",
        "\n",
        "* And the bool data type enables logical and mathematical operations that we'll use during the course."
      ]
    },
    {
      "cell_type": "markdown",
      "metadata": {
        "id": "RmD5lo_I0oHv"
      },
      "source": [
        "#### Fixing a data type\n",
        "\n",
        "Let's see an example of how you might fix an improper data type. We'll imagine a DataFrame named apple that has a Series named price, which stores the closing price of Apple company stock each day. "
      ]
    },
    {
      "cell_type": "code",
      "metadata": {
        "colab": {
          "base_uri": "https://localhost:8080/",
          "height": 141
        },
        "id": "BjiAl0hwkZYR",
        "outputId": "8af562a0-51a7-4eb6-ae42-3900f1194246"
      },
      "source": [
        "apple = pd.DataFrame()\n",
        "apple['date'] = ['2/13/18','2/14/18','2/15/18']\n",
        "apple['time'] = ['16:00','16:00','16:00']\n",
        "apple['price'] = ['164.34','167.37','172.99']\n",
        "apple"
      ],
      "execution_count": 149,
      "outputs": [
        {
          "output_type": "execute_result",
          "data": {
            "text/html": [
              "<div>\n",
              "<style scoped>\n",
              "    .dataframe tbody tr th:only-of-type {\n",
              "        vertical-align: middle;\n",
              "    }\n",
              "\n",
              "    .dataframe tbody tr th {\n",
              "        vertical-align: top;\n",
              "    }\n",
              "\n",
              "    .dataframe thead th {\n",
              "        text-align: right;\n",
              "    }\n",
              "</style>\n",
              "<table border=\"1\" class=\"dataframe\">\n",
              "  <thead>\n",
              "    <tr style=\"text-align: right;\">\n",
              "      <th></th>\n",
              "      <th>date</th>\n",
              "      <th>time</th>\n",
              "      <th>price</th>\n",
              "    </tr>\n",
              "  </thead>\n",
              "  <tbody>\n",
              "    <tr>\n",
              "      <th>0</th>\n",
              "      <td>2/13/18</td>\n",
              "      <td>16:00</td>\n",
              "      <td>164.34</td>\n",
              "    </tr>\n",
              "    <tr>\n",
              "      <th>1</th>\n",
              "      <td>2/14/18</td>\n",
              "      <td>16:00</td>\n",
              "      <td>167.37</td>\n",
              "    </tr>\n",
              "    <tr>\n",
              "      <th>2</th>\n",
              "      <td>2/15/18</td>\n",
              "      <td>16:00</td>\n",
              "      <td>172.99</td>\n",
              "    </tr>\n",
              "  </tbody>\n",
              "</table>\n",
              "</div>"
            ],
            "text/plain": [
              "      date   time   price\n",
              "0  2/13/18  16:00  164.34\n",
              "1  2/14/18  16:00  167.37\n",
              "2  2/15/18  16:00  172.99"
            ]
          },
          "metadata": {
            "tags": []
          },
          "execution_count": 149
        }
      ]
    },
    {
      "cell_type": "markdown",
      "metadata": {
        "id": "6wREolZtlBLo"
      },
      "source": [
        "You can check the data type of the price Series using its dtype attribute. It reports a dtype of \"O\", which stands for object and means that the numbers are actually stored as strings. "
      ]
    },
    {
      "cell_type": "code",
      "metadata": {
        "colab": {
          "base_uri": "https://localhost:8080/"
        },
        "id": "rIHP8fsjlCOC",
        "outputId": "a43eaa91-0ee2-4a84-ca09-daa30e3c7d59"
      },
      "source": [
        "apple.dtypes"
      ],
      "execution_count": 150,
      "outputs": [
        {
          "output_type": "execute_result",
          "data": {
            "text/plain": [
              "date     object\n",
              "time     object\n",
              "price    object\n",
              "dtype: object"
            ]
          },
          "metadata": {
            "tags": []
          },
          "execution_count": 150
        }
      ]
    },
    {
      "cell_type": "markdown",
      "metadata": {
        "id": "3oGvpzenlMcb"
      },
      "source": [
        "To change the data type of the price Series from object to float, you can use the astype() method, to which you pass the new data type as an argument. Then, you simply overwrite the original Series. "
      ]
    },
    {
      "cell_type": "code",
      "metadata": {
        "id": "SL2aTsc5lNfS"
      },
      "source": [
        "apple['price'] = apple.price.astype('float')"
      ],
      "execution_count": 151,
      "outputs": []
    },
    {
      "cell_type": "markdown",
      "metadata": {
        "id": "OwGkt0Q2lS8c"
      },
      "source": [
        "If you check the data type again, you can see that it has changed to float. You might have noticed that on the right side of the equals sign, I used dot notation to refer to the price Series, rather than bracket notation. They mean the same thing, but I'll be using dot notation throughout this course, because I find that dot notation makes pandas code more readable. However, it's worth noting that you must use bracket notation on the left side of an assignment statement to create a new Series or overwrite an existing Series.\n",
        "\n",
        "* `Dot notation: apple.price`\n",
        "* `Bracket notation: apple['price']`"
      ]
    },
    {
      "cell_type": "markdown",
      "metadata": {
        "id": "rcu31gfA1-OZ"
      },
      "source": [
        "### **Chapter 1.3: Creating a DatetimeIndex**\n",
        "\n",
        "---\n",
        "In the last exercise, you fixed the data type of the is_arrested column. Now, we're going to build a DatetimeIndex for our DataFrame."
      ]
    },
    {
      "cell_type": "markdown",
      "metadata": {
        "id": "DFDmUaHfwzrs"
      },
      "source": [
        "#### Using datetime format\n",
        "Let's take a look at the head of the dataset again. As you can see, the date and time of each traffic stop are stored in separate columns, both of which are object columns. "
      ]
    },
    {
      "cell_type": "code",
      "metadata": {
        "colab": {
          "base_uri": "https://localhost:8080/",
          "height": 462
        },
        "id": "dLAuY7KqmYst",
        "outputId": "e8af1eb4-3371-4244-b9f7-5c627627bdc5"
      },
      "source": [
        "display(ri.head(),ri.dtypes)"
      ],
      "execution_count": 152,
      "outputs": [
        {
          "output_type": "display_data",
          "data": {
            "text/html": [
              "<div>\n",
              "<style scoped>\n",
              "    .dataframe tbody tr th:only-of-type {\n",
              "        vertical-align: middle;\n",
              "    }\n",
              "\n",
              "    .dataframe tbody tr th {\n",
              "        vertical-align: top;\n",
              "    }\n",
              "\n",
              "    .dataframe thead th {\n",
              "        text-align: right;\n",
              "    }\n",
              "</style>\n",
              "<table border=\"1\" class=\"dataframe\">\n",
              "  <thead>\n",
              "    <tr style=\"text-align: right;\">\n",
              "      <th></th>\n",
              "      <th>state</th>\n",
              "      <th>stop_date</th>\n",
              "      <th>stop_time</th>\n",
              "      <th>driver_gender</th>\n",
              "      <th>driver_race</th>\n",
              "      <th>violation_raw</th>\n",
              "      <th>violation</th>\n",
              "      <th>search_conducted</th>\n",
              "      <th>search_type</th>\n",
              "      <th>stop_outcome</th>\n",
              "      <th>is_arrested</th>\n",
              "      <th>stop_duration</th>\n",
              "      <th>drugs_related_stop</th>\n",
              "      <th>district</th>\n",
              "    </tr>\n",
              "  </thead>\n",
              "  <tbody>\n",
              "    <tr>\n",
              "      <th>0</th>\n",
              "      <td>RI</td>\n",
              "      <td>2005-01-04</td>\n",
              "      <td>12:55</td>\n",
              "      <td>M</td>\n",
              "      <td>White</td>\n",
              "      <td>Equipment/Inspection Violation</td>\n",
              "      <td>Equipment</td>\n",
              "      <td>False</td>\n",
              "      <td>NaN</td>\n",
              "      <td>Citation</td>\n",
              "      <td>False</td>\n",
              "      <td>0-15 Min</td>\n",
              "      <td>False</td>\n",
              "      <td>Zone X4</td>\n",
              "    </tr>\n",
              "    <tr>\n",
              "      <th>1</th>\n",
              "      <td>RI</td>\n",
              "      <td>2005-01-23</td>\n",
              "      <td>23:15</td>\n",
              "      <td>M</td>\n",
              "      <td>White</td>\n",
              "      <td>Speeding</td>\n",
              "      <td>Speeding</td>\n",
              "      <td>False</td>\n",
              "      <td>NaN</td>\n",
              "      <td>Citation</td>\n",
              "      <td>False</td>\n",
              "      <td>0-15 Min</td>\n",
              "      <td>False</td>\n",
              "      <td>Zone K3</td>\n",
              "    </tr>\n",
              "    <tr>\n",
              "      <th>2</th>\n",
              "      <td>RI</td>\n",
              "      <td>2005-02-17</td>\n",
              "      <td>04:15</td>\n",
              "      <td>M</td>\n",
              "      <td>White</td>\n",
              "      <td>Speeding</td>\n",
              "      <td>Speeding</td>\n",
              "      <td>False</td>\n",
              "      <td>NaN</td>\n",
              "      <td>Citation</td>\n",
              "      <td>False</td>\n",
              "      <td>0-15 Min</td>\n",
              "      <td>False</td>\n",
              "      <td>Zone X4</td>\n",
              "    </tr>\n",
              "    <tr>\n",
              "      <th>3</th>\n",
              "      <td>RI</td>\n",
              "      <td>2005-02-20</td>\n",
              "      <td>17:15</td>\n",
              "      <td>M</td>\n",
              "      <td>White</td>\n",
              "      <td>Call for Service</td>\n",
              "      <td>Other</td>\n",
              "      <td>False</td>\n",
              "      <td>NaN</td>\n",
              "      <td>Arrest Driver</td>\n",
              "      <td>True</td>\n",
              "      <td>16-30 Min</td>\n",
              "      <td>False</td>\n",
              "      <td>Zone X1</td>\n",
              "    </tr>\n",
              "    <tr>\n",
              "      <th>4</th>\n",
              "      <td>RI</td>\n",
              "      <td>2005-02-24</td>\n",
              "      <td>01:20</td>\n",
              "      <td>F</td>\n",
              "      <td>White</td>\n",
              "      <td>Speeding</td>\n",
              "      <td>Speeding</td>\n",
              "      <td>False</td>\n",
              "      <td>NaN</td>\n",
              "      <td>Citation</td>\n",
              "      <td>False</td>\n",
              "      <td>0-15 Min</td>\n",
              "      <td>False</td>\n",
              "      <td>Zone X3</td>\n",
              "    </tr>\n",
              "  </tbody>\n",
              "</table>\n",
              "</div>"
            ],
            "text/plain": [
              "  state   stop_date stop_time  ... stop_duration drugs_related_stop district\n",
              "0    RI  2005-01-04     12:55  ...      0-15 Min              False  Zone X4\n",
              "1    RI  2005-01-23     23:15  ...      0-15 Min              False  Zone K3\n",
              "2    RI  2005-02-17     04:15  ...      0-15 Min              False  Zone X4\n",
              "3    RI  2005-02-20     17:15  ...     16-30 Min              False  Zone X1\n",
              "4    RI  2005-02-24     01:20  ...      0-15 Min              False  Zone X3\n",
              "\n",
              "[5 rows x 14 columns]"
            ]
          },
          "metadata": {
            "tags": []
          }
        },
        {
          "output_type": "display_data",
          "data": {
            "text/plain": [
              "state                 object\n",
              "stop_date             object\n",
              "stop_time             object\n",
              "driver_gender         object\n",
              "driver_race           object\n",
              "violation_raw         object\n",
              "violation             object\n",
              "search_conducted        bool\n",
              "search_type           object\n",
              "stop_outcome          object\n",
              "is_arrested           object\n",
              "stop_duration         object\n",
              "drugs_related_stop      bool\n",
              "district              object\n",
              "dtype: object"
            ]
          },
          "metadata": {
            "tags": []
          }
        }
      ]
    },
    {
      "cell_type": "markdown",
      "metadata": {
        "id": "5pVRP_OUnP29"
      },
      "source": [
        "Because we'll be using stop_date and stop_time in our analysis, we're going to combine these two columns into a single column and then convert it to pandas' datetime format. This will be beneficial because unlike object columns, datetime columns provide date-based attributes that will make our analysis easier.\n",
        "\n",
        "1. Combine stop_date and stop_time into one column \n",
        "2. Convert it to datetime format"
      ]
    },
    {
      "cell_type": "markdown",
      "metadata": {
        "id": "THNEzcMCw-P0"
      },
      "source": [
        "#### Combining object columns\n",
        "Let's see an example of this using the **apple stock price DataFrame** from the previous video. \n",
        "* Date and time are stored in separate columns, so the first task is to combine these two columns using a string method. \n",
        "* As you might remember from previous courses, string methods, such as replace(), are Series methods available via the str accessor. \n"
      ]
    },
    {
      "cell_type": "code",
      "metadata": {
        "colab": {
          "base_uri": "https://localhost:8080/",
          "height": 141
        },
        "id": "xaTOcx3Snea_",
        "outputId": "1947f5f9-468f-4587-e501-427d53614e19"
      },
      "source": [
        "apple"
      ],
      "execution_count": 153,
      "outputs": [
        {
          "output_type": "execute_result",
          "data": {
            "text/html": [
              "<div>\n",
              "<style scoped>\n",
              "    .dataframe tbody tr th:only-of-type {\n",
              "        vertical-align: middle;\n",
              "    }\n",
              "\n",
              "    .dataframe tbody tr th {\n",
              "        vertical-align: top;\n",
              "    }\n",
              "\n",
              "    .dataframe thead th {\n",
              "        text-align: right;\n",
              "    }\n",
              "</style>\n",
              "<table border=\"1\" class=\"dataframe\">\n",
              "  <thead>\n",
              "    <tr style=\"text-align: right;\">\n",
              "      <th></th>\n",
              "      <th>date</th>\n",
              "      <th>time</th>\n",
              "      <th>price</th>\n",
              "    </tr>\n",
              "  </thead>\n",
              "  <tbody>\n",
              "    <tr>\n",
              "      <th>0</th>\n",
              "      <td>2/13/18</td>\n",
              "      <td>16:00</td>\n",
              "      <td>164.34</td>\n",
              "    </tr>\n",
              "    <tr>\n",
              "      <th>1</th>\n",
              "      <td>2/14/18</td>\n",
              "      <td>16:00</td>\n",
              "      <td>167.37</td>\n",
              "    </tr>\n",
              "    <tr>\n",
              "      <th>2</th>\n",
              "      <td>2/15/18</td>\n",
              "      <td>16:00</td>\n",
              "      <td>172.99</td>\n",
              "    </tr>\n",
              "  </tbody>\n",
              "</table>\n",
              "</div>"
            ],
            "text/plain": [
              "      date   time   price\n",
              "0  2/13/18  16:00  164.34\n",
              "1  2/14/18  16:00  167.37\n",
              "2  2/15/18  16:00  172.99"
            ]
          },
          "metadata": {
            "tags": []
          },
          "execution_count": 153
        }
      ]
    },
    {
      "cell_type": "markdown",
      "metadata": {
        "id": "k2geyCt_o2jm"
      },
      "source": [
        "In this example, we're replacing the forward slash in the date column with a dash. It outputs a new Series in which the string replacement has been made, though this change is temporary since we haven't saved the new Series. "
      ]
    },
    {
      "cell_type": "code",
      "metadata": {
        "colab": {
          "base_uri": "https://localhost:8080/"
        },
        "id": "ueEhnh_Ln_X1",
        "outputId": "0e62c250-27ee-4868-c872-87834d94d1e0"
      },
      "source": [
        "# replacing / with -\n",
        "apple.date.str.replace('/','-')"
      ],
      "execution_count": 154,
      "outputs": [
        {
          "output_type": "execute_result",
          "data": {
            "text/plain": [
              "0    2-13-18\n",
              "1    2-14-18\n",
              "2    2-15-18\n",
              "Name: date, dtype: object"
            ]
          },
          "metadata": {
            "tags": []
          },
          "execution_count": 154
        }
      ]
    },
    {
      "cell_type": "markdown",
      "metadata": {
        "id": "5HMvrJCSocgB"
      },
      "source": [
        "Anyway, **to combine the columns, we're going to use the str dot cat() method**, which is short for concatenate. We'll concatenate the date column with the time column, and tell pandas to separate them with a space, storing the result in a Series object named combined. You can see that the combined Series contains both the date and time. It's still an object column, but it's now ready for conversion to datetime format."
      ]
    },
    {
      "cell_type": "code",
      "metadata": {
        "colab": {
          "base_uri": "https://localhost:8080/"
        },
        "id": "P5GyZsOvoklL",
        "outputId": "db6587fe-c68a-49c2-b894-679f06b92a16"
      },
      "source": [
        "combined = apple.date.str.cat(apple.time, sep = ' ')\n",
        "combined"
      ],
      "execution_count": 155,
      "outputs": [
        {
          "output_type": "execute_result",
          "data": {
            "text/plain": [
              "0    2/13/18 16:00\n",
              "1    2/14/18 16:00\n",
              "2    2/15/18 16:00\n",
              "Name: date, dtype: object"
            ]
          },
          "metadata": {
            "tags": []
          },
          "execution_count": 155
        }
      ]
    },
    {
      "cell_type": "markdown",
      "metadata": {
        "id": "eu9wK-LvxBeG"
      },
      "source": [
        "#### Converting to datetime format\n",
        "* To convert the combined Series to datetime format, you simply pass it to the to_datetime() function, and store the result in a new column. \n",
        "\n",
        "* We didn't even need to specify that the original data was in month-day-year format, instead pandas just figured it out. \n",
        "\n"
      ]
    },
    {
      "cell_type": "code",
      "metadata": {
        "colab": {
          "base_uri": "https://localhost:8080/",
          "height": 281
        },
        "id": "HEb73izsqbRB",
        "outputId": "76b50ef2-1089-49d6-fe9a-0b01b18bb175"
      },
      "source": [
        "apple['date_and_time'] = pd.to_datetime(combined)\n",
        "display(apple,'-----','data_Type', '-----',apple.dtypes)"
      ],
      "execution_count": 156,
      "outputs": [
        {
          "output_type": "display_data",
          "data": {
            "text/html": [
              "<div>\n",
              "<style scoped>\n",
              "    .dataframe tbody tr th:only-of-type {\n",
              "        vertical-align: middle;\n",
              "    }\n",
              "\n",
              "    .dataframe tbody tr th {\n",
              "        vertical-align: top;\n",
              "    }\n",
              "\n",
              "    .dataframe thead th {\n",
              "        text-align: right;\n",
              "    }\n",
              "</style>\n",
              "<table border=\"1\" class=\"dataframe\">\n",
              "  <thead>\n",
              "    <tr style=\"text-align: right;\">\n",
              "      <th></th>\n",
              "      <th>date</th>\n",
              "      <th>time</th>\n",
              "      <th>price</th>\n",
              "      <th>date_and_time</th>\n",
              "    </tr>\n",
              "  </thead>\n",
              "  <tbody>\n",
              "    <tr>\n",
              "      <th>0</th>\n",
              "      <td>2/13/18</td>\n",
              "      <td>16:00</td>\n",
              "      <td>164.34</td>\n",
              "      <td>2018-02-13 16:00:00</td>\n",
              "    </tr>\n",
              "    <tr>\n",
              "      <th>1</th>\n",
              "      <td>2/14/18</td>\n",
              "      <td>16:00</td>\n",
              "      <td>167.37</td>\n",
              "      <td>2018-02-14 16:00:00</td>\n",
              "    </tr>\n",
              "    <tr>\n",
              "      <th>2</th>\n",
              "      <td>2/15/18</td>\n",
              "      <td>16:00</td>\n",
              "      <td>172.99</td>\n",
              "      <td>2018-02-15 16:00:00</td>\n",
              "    </tr>\n",
              "  </tbody>\n",
              "</table>\n",
              "</div>"
            ],
            "text/plain": [
              "      date   time   price       date_and_time\n",
              "0  2/13/18  16:00  164.34 2018-02-13 16:00:00\n",
              "1  2/14/18  16:00  167.37 2018-02-14 16:00:00\n",
              "2  2/15/18  16:00  172.99 2018-02-15 16:00:00"
            ]
          },
          "metadata": {
            "tags": []
          }
        },
        {
          "output_type": "display_data",
          "data": {
            "application/vnd.google.colaboratory.intrinsic+json": {
              "type": "string"
            },
            "text/plain": [
              "'-----'"
            ]
          },
          "metadata": {
            "tags": []
          }
        },
        {
          "output_type": "display_data",
          "data": {
            "application/vnd.google.colaboratory.intrinsic+json": {
              "type": "string"
            },
            "text/plain": [
              "'data_Type'"
            ]
          },
          "metadata": {
            "tags": []
          }
        },
        {
          "output_type": "display_data",
          "data": {
            "application/vnd.google.colaboratory.intrinsic+json": {
              "type": "string"
            },
            "text/plain": [
              "'-----'"
            ]
          },
          "metadata": {
            "tags": []
          }
        },
        {
          "output_type": "display_data",
          "data": {
            "text/plain": [
              "date                     object\n",
              "time                     object\n",
              "price                   float64\n",
              "date_and_time    datetime64[ns]\n",
              "dtype: object"
            ]
          },
          "metadata": {
            "tags": []
          }
        }
      ]
    },
    {
      "cell_type": "markdown",
      "metadata": {
        "id": "DcJ5sBMUq5S8"
      },
      "source": [
        "Looking at the updated DataFrame, you can see that the new column contains both the date and time, and that it is stored in a more standard way. From the dtypes attribute, you can see that the new data type of the new column is datetime, instead of object."
      ]
    },
    {
      "cell_type": "markdown",
      "metadata": {
        "id": "sqCm47NqxI5e"
      },
      "source": [
        "#### Setting the index\n",
        "One final step that we'll take is to set the datetime column as the index. That will make it easier to filter the DataFrame by date, plot the data by date, and so on. **We'll use the set_index() method, and specify that the operation should occur in place to avoid an assignment statement.** You can see that the default index has been replaced with the datetime column. And the index is now a special type called DatetimeIndex. "
      ]
    },
    {
      "cell_type": "code",
      "metadata": {
        "id": "-h51WB_8rJHW"
      },
      "source": [
        "apple.set_index('date_and_time', inplace = True)"
      ],
      "execution_count": 157,
      "outputs": []
    },
    {
      "cell_type": "code",
      "metadata": {
        "colab": {
          "base_uri": "https://localhost:8080/",
          "height": 172
        },
        "id": "nyG3KSOdsYtM",
        "outputId": "70b054a9-5566-4d70-ac5f-d41d11be0de7"
      },
      "source": [
        "apple"
      ],
      "execution_count": 158,
      "outputs": [
        {
          "output_type": "execute_result",
          "data": {
            "text/html": [
              "<div>\n",
              "<style scoped>\n",
              "    .dataframe tbody tr th:only-of-type {\n",
              "        vertical-align: middle;\n",
              "    }\n",
              "\n",
              "    .dataframe tbody tr th {\n",
              "        vertical-align: top;\n",
              "    }\n",
              "\n",
              "    .dataframe thead th {\n",
              "        text-align: right;\n",
              "    }\n",
              "</style>\n",
              "<table border=\"1\" class=\"dataframe\">\n",
              "  <thead>\n",
              "    <tr style=\"text-align: right;\">\n",
              "      <th></th>\n",
              "      <th>date</th>\n",
              "      <th>time</th>\n",
              "      <th>price</th>\n",
              "    </tr>\n",
              "    <tr>\n",
              "      <th>date_and_time</th>\n",
              "      <th></th>\n",
              "      <th></th>\n",
              "      <th></th>\n",
              "    </tr>\n",
              "  </thead>\n",
              "  <tbody>\n",
              "    <tr>\n",
              "      <th>2018-02-13 16:00:00</th>\n",
              "      <td>2/13/18</td>\n",
              "      <td>16:00</td>\n",
              "      <td>164.34</td>\n",
              "    </tr>\n",
              "    <tr>\n",
              "      <th>2018-02-14 16:00:00</th>\n",
              "      <td>2/14/18</td>\n",
              "      <td>16:00</td>\n",
              "      <td>167.37</td>\n",
              "    </tr>\n",
              "    <tr>\n",
              "      <th>2018-02-15 16:00:00</th>\n",
              "      <td>2/15/18</td>\n",
              "      <td>16:00</td>\n",
              "      <td>172.99</td>\n",
              "    </tr>\n",
              "  </tbody>\n",
              "</table>\n",
              "</div>"
            ],
            "text/plain": [
              "                        date   time   price\n",
              "date_and_time                              \n",
              "2018-02-13 16:00:00  2/13/18  16:00  164.34\n",
              "2018-02-14 16:00:00  2/14/18  16:00  167.37\n",
              "2018-02-15 16:00:00  2/15/18  16:00  172.99"
            ]
          },
          "metadata": {
            "tags": []
          },
          "execution_count": 158
        }
      ]
    },
    {
      "cell_type": "markdown",
      "metadata": {
        "id": "4aAbY0GTskUm"
      },
      "source": [
        "As a reminder, when an existing column becomes the index, it is no longer considered to be one of the DataFrame columns."
      ]
    },
    {
      "cell_type": "markdown",
      "metadata": {
        "id": "O17T8OcDxMed"
      },
      "source": [
        "---\n",
        "\n",
        "## **<font color = 'blue'>Chapter: 2. Exploring the relationship between gender and policing**\n",
        "\n",
        "---\n",
        "\n",
        "\n",
        "\n",
        "Does the gender of a driver have an impact on police behavior during a traffic stop? In this chapter, you will explore that question while practicing filtering, grouping, method chaining, Boolean math, string methods, and more!"
      ]
    },
    {
      "cell_type": "markdown",
      "metadata": {
        "id": "rbcCWM2jxdJv"
      },
      "source": [
        "### **Chapter 2.1: Do the genders commit different violations?**\n",
        "\n",
        "---\n",
        "\n",
        "\n",
        "\n",
        "we focused on preparing the traffic stops dataset for analysis. In this chapter, you'll use the dataset to explore the relationship between gender and policing, and you'll practice figuring out how to use pandas to answer specific questions.\n"
      ]
    },
    {
      "cell_type": "markdown",
      "metadata": {
        "id": "odo3ySE_yw8o"
      },
      "source": [
        "#### Counting unique values (1)\n",
        "Let's start by discussing a few methods that will help you with your analysis. \n",
        "\n",
        "The first method is `value_counts()`, which counts the unique values in a Series. It's best suited for a column that contains categorical rather than numerical data. For example, we can apply value_counts() to the stop_outcome column, which contains the outcome of each traffic stop. The results are displayed in descending order, so you can see that the most common outcome is a citation, also known as a ticket, and the second most common outcome is a warning."
      ]
    },
    {
      "cell_type": "code",
      "metadata": {
        "colab": {
          "base_uri": "https://localhost:8080/"
        },
        "id": "3NF8TK45KDv3",
        "outputId": "b39c6504-71f1-43fe-f0ed-51c7683261b9"
      },
      "source": [
        "# Apply the value count on stop_outcome columns\n",
        "ri.stop_outcome.value_counts()"
      ],
      "execution_count": 159,
      "outputs": [
        {
          "output_type": "execute_result",
          "data": {
            "text/plain": [
              "Citation            77092\n",
              "Warning              5137\n",
              "Arrest Driver        2735\n",
              "No Action             625\n",
              "N/D                   607\n",
              "Arrest Passenger      343\n",
              "Name: stop_outcome, dtype: int64"
            ]
          },
          "metadata": {
            "tags": []
          },
          "execution_count": 159
        }
      ]
    },
    {
      "cell_type": "markdown",
      "metadata": {
        "id": "9NzOTCYjKj4C"
      },
      "source": [
        "* **.value_counts()** : Counts the unique values in a Series\n",
        "* Best suited for categorical data\n"
      ]
    },
    {
      "cell_type": "markdown",
      "metadata": {
        "id": "-jJFX_jpyzyc"
      },
      "source": [
        "#### Counting unique values (2)\n",
        "Because **value_counts()** outputs a pandas Series, you can take the sum of this Series by simply adding the sum() method on the end. This is known as method chaining, a powerful technique we'll use throughout the course. The sum() of the value_counts() is actually equal to the number of rows in the DataFrame, which will be the case for any Series that has no missing values.\n",
        "\n"
      ]
    },
    {
      "cell_type": "code",
      "metadata": {
        "colab": {
          "base_uri": "https://localhost:8080/"
        },
        "id": "L39xslEZKpZ0",
        "outputId": "724d613c-df1a-4d3f-d017-109a92366020"
      },
      "source": [
        "# adding sum method in the end\n",
        "ri.stop_outcome.value_counts().sum()"
      ],
      "execution_count": 160,
      "outputs": [
        {
          "output_type": "execute_result",
          "data": {
            "text/plain": [
              "86539"
            ]
          },
          "metadata": {
            "tags": []
          },
          "execution_count": 160
        }
      ]
    },
    {
      "cell_type": "code",
      "metadata": {
        "colab": {
          "base_uri": "https://localhost:8080/"
        },
        "id": "ffnnnB3fK3vs",
        "outputId": "04b836cd-5b47-49b5-955b-b94666499caf"
      },
      "source": [
        "ri.shape"
      ],
      "execution_count": 161,
      "outputs": [
        {
          "output_type": "execute_result",
          "data": {
            "text/plain": [
              "(91741, 14)"
            ]
          },
          "metadata": {
            "tags": []
          },
          "execution_count": 161
        }
      ]
    },
    {
      "cell_type": "markdown",
      "metadata": {
        "id": "_WXp0_Ruy39M"
      },
      "source": [
        "#### Expressing counts as proportions\n",
        "Rather than examining the raw counts, you might prefer to see the stop outcomes as proportions of the total. So if you wanted to know what percentage of traffic stops ended in a citation, you would divide the number of citations by the total number of outcomes and get 0.89, or 89%. Rather than doing these calculations manually, you can instead **set the normalize parameter of value_counts() to be True, and it will output proportions instead of counts**. Citations are 89%, warnings are 6%, driver arrests are 3%, and so on."
      ]
    },
    {
      "cell_type": "code",
      "metadata": {
        "colab": {
          "base_uri": "https://localhost:8080/"
        },
        "id": "NI9MOdWhLdsm",
        "outputId": "b12728e9-4d6d-4b7c-eb11-78a22154f767"
      },
      "source": [
        "# calculate the proportion instead of count\n",
        "ri.stop_outcome.value_counts(normalize = True)"
      ],
      "execution_count": 162,
      "outputs": [
        {
          "output_type": "execute_result",
          "data": {
            "text/plain": [
              "Citation            0.890835\n",
              "Warning             0.059361\n",
              "Arrest Driver       0.031604\n",
              "No Action           0.007222\n",
              "N/D                 0.007014\n",
              "Arrest Passenger    0.003964\n",
              "Name: stop_outcome, dtype: float64"
            ]
          },
          "metadata": {
            "tags": []
          },
          "execution_count": 162
        }
      ]
    },
    {
      "cell_type": "markdown",
      "metadata": {
        "id": "QzWYEApqy6bH"
      },
      "source": [
        "#### Filtering DataFrame rows\n",
        "Let's now take a look at the value_counts() for a different column, driver_race. You can see that there are five unique categories present. "
      ]
    },
    {
      "cell_type": "code",
      "metadata": {
        "colab": {
          "base_uri": "https://localhost:8080/"
        },
        "id": "g2LIGI3JL6Uy",
        "outputId": "cbc77bec-e2fa-46ed-9c53-e3c2ecd8cea7"
      },
      "source": [
        "# value count to ddriver_race\n",
        "ri.driver_race.value_counts()"
      ],
      "execution_count": 163,
      "outputs": [
        {
          "output_type": "execute_result",
          "data": {
            "text/plain": [
              "White       61872\n",
              "Black       12285\n",
              "Hispanic     9727\n",
              "Asian        2390\n",
              "Other         265\n",
              "Name: driver_race, dtype: int64"
            ]
          },
          "metadata": {
            "tags": []
          },
          "execution_count": 163
        }
      ]
    },
    {
      "cell_type": "markdown",
      "metadata": {
        "id": "tQRA6nIHMLEm"
      },
      "source": [
        "If you wanted to **filter the DataFrame to only include drivers of a particular race, such as White**, you would write that as a condition and put it inside brackets, as you've seen previously. We'll save the result in a new object. **The shape of the new DataFrame is 61,870 rows, because that's the number of White drivers in the dataset, and 13 columns**. You can now analyze this smaller DataFrame separately."
      ]
    },
    {
      "cell_type": "code",
      "metadata": {
        "colab": {
          "base_uri": "https://localhost:8080/"
        },
        "id": "hqQqZAycMmYi",
        "outputId": "8096bbd8-88a8-44f5-a147-37b1c1cde80e"
      },
      "source": [
        "white = ri[ri.driver_race == 'White']\n",
        "white.shape"
      ],
      "execution_count": 164,
      "outputs": [
        {
          "output_type": "execute_result",
          "data": {
            "text/plain": [
              "(61872, 14)"
            ]
          },
          "metadata": {
            "tags": []
          },
          "execution_count": 164
        }
      ]
    },
    {
      "cell_type": "markdown",
      "metadata": {
        "id": "WqlK7PoSy8q9"
      },
      "source": [
        "#### Comparing stop outcomes for two groups\n",
        "For example, you could repeat the analysis of stop outcomes, but focus on White drivers only. Like before, you select the stop_outcome column and then chain the **value_counts()** method on the end. You could compare these results with the outcomes for another race, such as Asian, simply by changing the condition inside the brackets and then repeating the calculation. If you compare these two sets of numbers, you can see that the stop outcomes are fairly similar for these two groups."
      ]
    },
    {
      "cell_type": "code",
      "metadata": {
        "colab": {
          "base_uri": "https://localhost:8080/"
        },
        "id": "tExhSLpTNpf0",
        "outputId": "2fbf6d85-0d54-4179-a62a-a23aaf2c93c9"
      },
      "source": [
        "# Proportion of stop_outcome in white\n",
        "white.stop_outcome.value_counts(normalize=True)"
      ],
      "execution_count": 165,
      "outputs": [
        {
          "output_type": "execute_result",
          "data": {
            "text/plain": [
              "Citation            0.902234\n",
              "Warning             0.057522\n",
              "Arrest Driver       0.024017\n",
              "No Action           0.007047\n",
              "N/D                 0.006433\n",
              "Arrest Passenger    0.002748\n",
              "Name: stop_outcome, dtype: float64"
            ]
          },
          "metadata": {
            "tags": []
          },
          "execution_count": 165
        }
      ]
    },
    {
      "cell_type": "code",
      "metadata": {
        "colab": {
          "base_uri": "https://localhost:8080/"
        },
        "id": "u4baETbFNxlv",
        "outputId": "76189823-78cb-4b1d-8ad7-2f3a88319a0e"
      },
      "source": [
        "asian = ri[ri.driver_race == 'Asian']\n",
        "# Proportion of stop_outcome in asians\n",
        "asian.stop_outcome.value_counts(normalize=True)"
      ],
      "execution_count": 166,
      "outputs": [
        {
          "output_type": "execute_result",
          "data": {
            "text/plain": [
              "Citation            0.923013\n",
              "Warning             0.045188\n",
              "Arrest Driver       0.017573\n",
              "No Action           0.008368\n",
              "N/D                 0.004184\n",
              "Arrest Passenger    0.001674\n",
              "Name: stop_outcome, dtype: float64"
            ]
          },
          "metadata": {
            "tags": []
          },
          "execution_count": 166
        }
      ]
    },
    {
      "cell_type": "markdown",
      "metadata": {
        "id": "IL3Ih15py-9s"
      },
      "source": [
        "### **Chapter 2.2: Does gender affect who gets a ticket for speeding?**\n",
        "\n",
        "---\n",
        "we compared the traffic violations committed by each gender. In this section, we'll narrow our focus to the relationship between gender and stop outcomes for one specific violation, namely speeding."
      ]
    },
    {
      "cell_type": "markdown",
      "metadata": {
        "id": "TsyTFY7TzZWT"
      },
      "source": [
        "#### Filtering by multiple conditions (1)\n",
        "We'll need to use one additional technique for this analysis, namely filtering a DataFrame by multiple conditions. You may remember this technique from previous courses, but we'll review it here. In the last exercise, you used a single condition, driver_gender equals F, to create a DataFrame of female drivers. It has 23,774 rows because that's the number of rows in the ri DataFrame that satisfy this condition."
      ]
    },
    {
      "cell_type": "code",
      "metadata": {
        "colab": {
          "base_uri": "https://localhost:8080/",
          "height": 0
        },
        "id": "X8pT8xC6PRQv",
        "outputId": "76645fd0-8471-4165-ad53-b2be5940d139"
      },
      "source": [
        "ri[ri.driver_gender == 'F']"
      ],
      "execution_count": 167,
      "outputs": [
        {
          "output_type": "execute_result",
          "data": {
            "text/html": [
              "<div>\n",
              "<style scoped>\n",
              "    .dataframe tbody tr th:only-of-type {\n",
              "        vertical-align: middle;\n",
              "    }\n",
              "\n",
              "    .dataframe tbody tr th {\n",
              "        vertical-align: top;\n",
              "    }\n",
              "\n",
              "    .dataframe thead th {\n",
              "        text-align: right;\n",
              "    }\n",
              "</style>\n",
              "<table border=\"1\" class=\"dataframe\">\n",
              "  <thead>\n",
              "    <tr style=\"text-align: right;\">\n",
              "      <th></th>\n",
              "      <th>state</th>\n",
              "      <th>stop_date</th>\n",
              "      <th>stop_time</th>\n",
              "      <th>driver_gender</th>\n",
              "      <th>driver_race</th>\n",
              "      <th>violation_raw</th>\n",
              "      <th>violation</th>\n",
              "      <th>search_conducted</th>\n",
              "      <th>search_type</th>\n",
              "      <th>stop_outcome</th>\n",
              "      <th>is_arrested</th>\n",
              "      <th>stop_duration</th>\n",
              "      <th>drugs_related_stop</th>\n",
              "      <th>district</th>\n",
              "    </tr>\n",
              "  </thead>\n",
              "  <tbody>\n",
              "    <tr>\n",
              "      <th>4</th>\n",
              "      <td>RI</td>\n",
              "      <td>2005-02-24</td>\n",
              "      <td>01:20</td>\n",
              "      <td>F</td>\n",
              "      <td>White</td>\n",
              "      <td>Speeding</td>\n",
              "      <td>Speeding</td>\n",
              "      <td>False</td>\n",
              "      <td>NaN</td>\n",
              "      <td>Citation</td>\n",
              "      <td>False</td>\n",
              "      <td>0-15 Min</td>\n",
              "      <td>False</td>\n",
              "      <td>Zone X3</td>\n",
              "    </tr>\n",
              "    <tr>\n",
              "      <th>5</th>\n",
              "      <td>RI</td>\n",
              "      <td>2005-03-14</td>\n",
              "      <td>10:00</td>\n",
              "      <td>F</td>\n",
              "      <td>White</td>\n",
              "      <td>Speeding</td>\n",
              "      <td>Speeding</td>\n",
              "      <td>False</td>\n",
              "      <td>NaN</td>\n",
              "      <td>Citation</td>\n",
              "      <td>False</td>\n",
              "      <td>0-15 Min</td>\n",
              "      <td>False</td>\n",
              "      <td>Zone K3</td>\n",
              "    </tr>\n",
              "    <tr>\n",
              "      <th>8</th>\n",
              "      <td>RI</td>\n",
              "      <td>2005-07-14</td>\n",
              "      <td>11:20</td>\n",
              "      <td>F</td>\n",
              "      <td>White</td>\n",
              "      <td>Speeding</td>\n",
              "      <td>Speeding</td>\n",
              "      <td>False</td>\n",
              "      <td>NaN</td>\n",
              "      <td>Citation</td>\n",
              "      <td>False</td>\n",
              "      <td>0-15 Min</td>\n",
              "      <td>False</td>\n",
              "      <td>Zone X4</td>\n",
              "    </tr>\n",
              "    <tr>\n",
              "      <th>11</th>\n",
              "      <td>RI</td>\n",
              "      <td>2005-07-18</td>\n",
              "      <td>19:30</td>\n",
              "      <td>F</td>\n",
              "      <td>White</td>\n",
              "      <td>Speeding</td>\n",
              "      <td>Speeding</td>\n",
              "      <td>False</td>\n",
              "      <td>NaN</td>\n",
              "      <td>Citation</td>\n",
              "      <td>False</td>\n",
              "      <td>0-15 Min</td>\n",
              "      <td>False</td>\n",
              "      <td>Zone K3</td>\n",
              "    </tr>\n",
              "    <tr>\n",
              "      <th>13</th>\n",
              "      <td>RI</td>\n",
              "      <td>2005-07-24</td>\n",
              "      <td>20:10</td>\n",
              "      <td>F</td>\n",
              "      <td>White</td>\n",
              "      <td>Speeding</td>\n",
              "      <td>Speeding</td>\n",
              "      <td>False</td>\n",
              "      <td>NaN</td>\n",
              "      <td>Citation</td>\n",
              "      <td>False</td>\n",
              "      <td>0-15 Min</td>\n",
              "      <td>False</td>\n",
              "      <td>Zone K3</td>\n",
              "    </tr>\n",
              "    <tr>\n",
              "      <th>...</th>\n",
              "      <td>...</td>\n",
              "      <td>...</td>\n",
              "      <td>...</td>\n",
              "      <td>...</td>\n",
              "      <td>...</td>\n",
              "      <td>...</td>\n",
              "      <td>...</td>\n",
              "      <td>...</td>\n",
              "      <td>...</td>\n",
              "      <td>...</td>\n",
              "      <td>...</td>\n",
              "      <td>...</td>\n",
              "      <td>...</td>\n",
              "      <td>...</td>\n",
              "    </tr>\n",
              "    <tr>\n",
              "      <th>91723</th>\n",
              "      <td>RI</td>\n",
              "      <td>2015-12-31</td>\n",
              "      <td>07:31</td>\n",
              "      <td>F</td>\n",
              "      <td>White</td>\n",
              "      <td>Speeding</td>\n",
              "      <td>Speeding</td>\n",
              "      <td>False</td>\n",
              "      <td>NaN</td>\n",
              "      <td>Citation</td>\n",
              "      <td>False</td>\n",
              "      <td>0-15 Min</td>\n",
              "      <td>False</td>\n",
              "      <td>Zone X1</td>\n",
              "    </tr>\n",
              "    <tr>\n",
              "      <th>91728</th>\n",
              "      <td>RI</td>\n",
              "      <td>2015-12-31</td>\n",
              "      <td>09:33</td>\n",
              "      <td>F</td>\n",
              "      <td>White</td>\n",
              "      <td>Equipment/Inspection Violation</td>\n",
              "      <td>Equipment</td>\n",
              "      <td>False</td>\n",
              "      <td>NaN</td>\n",
              "      <td>Warning</td>\n",
              "      <td>False</td>\n",
              "      <td>0-15 Min</td>\n",
              "      <td>False</td>\n",
              "      <td>Zone X4</td>\n",
              "    </tr>\n",
              "    <tr>\n",
              "      <th>91736</th>\n",
              "      <td>RI</td>\n",
              "      <td>2015-12-31</td>\n",
              "      <td>21:21</td>\n",
              "      <td>F</td>\n",
              "      <td>Black</td>\n",
              "      <td>Other Traffic Violation</td>\n",
              "      <td>Moving violation</td>\n",
              "      <td>False</td>\n",
              "      <td>NaN</td>\n",
              "      <td>Citation</td>\n",
              "      <td>False</td>\n",
              "      <td>0-15 Min</td>\n",
              "      <td>False</td>\n",
              "      <td>Zone K2</td>\n",
              "    </tr>\n",
              "    <tr>\n",
              "      <th>91737</th>\n",
              "      <td>RI</td>\n",
              "      <td>2015-12-31</td>\n",
              "      <td>21:59</td>\n",
              "      <td>F</td>\n",
              "      <td>White</td>\n",
              "      <td>Speeding</td>\n",
              "      <td>Speeding</td>\n",
              "      <td>False</td>\n",
              "      <td>NaN</td>\n",
              "      <td>Citation</td>\n",
              "      <td>False</td>\n",
              "      <td>0-15 Min</td>\n",
              "      <td>False</td>\n",
              "      <td>Zone K3</td>\n",
              "    </tr>\n",
              "    <tr>\n",
              "      <th>91739</th>\n",
              "      <td>RI</td>\n",
              "      <td>2015-12-31</td>\n",
              "      <td>22:09</td>\n",
              "      <td>F</td>\n",
              "      <td>Hispanic</td>\n",
              "      <td>Equipment/Inspection Violation</td>\n",
              "      <td>Equipment</td>\n",
              "      <td>False</td>\n",
              "      <td>NaN</td>\n",
              "      <td>Warning</td>\n",
              "      <td>False</td>\n",
              "      <td>0-15 Min</td>\n",
              "      <td>False</td>\n",
              "      <td>Zone K3</td>\n",
              "    </tr>\n",
              "  </tbody>\n",
              "</table>\n",
              "<p>23774 rows × 14 columns</p>\n",
              "</div>"
            ],
            "text/plain": [
              "      state   stop_date stop_time  ... stop_duration drugs_related_stop district\n",
              "4        RI  2005-02-24     01:20  ...      0-15 Min              False  Zone X3\n",
              "5        RI  2005-03-14     10:00  ...      0-15 Min              False  Zone K3\n",
              "8        RI  2005-07-14     11:20  ...      0-15 Min              False  Zone X4\n",
              "11       RI  2005-07-18     19:30  ...      0-15 Min              False  Zone K3\n",
              "13       RI  2005-07-24     20:10  ...      0-15 Min              False  Zone K3\n",
              "...     ...         ...       ...  ...           ...                ...      ...\n",
              "91723    RI  2015-12-31     07:31  ...      0-15 Min              False  Zone X1\n",
              "91728    RI  2015-12-31     09:33  ...      0-15 Min              False  Zone X4\n",
              "91736    RI  2015-12-31     21:21  ...      0-15 Min              False  Zone K2\n",
              "91737    RI  2015-12-31     21:59  ...      0-15 Min              False  Zone K3\n",
              "91739    RI  2015-12-31     22:09  ...      0-15 Min              False  Zone K3\n",
              "\n",
              "[23774 rows x 14 columns]"
            ]
          },
          "metadata": {
            "tags": []
          },
          "execution_count": 167
        }
      ]
    },
    {
      "cell_type": "markdown",
      "metadata": {
        "id": "18-7QZytze2s"
      },
      "source": [
        "#### Filtering by multiple conditions (2)\n",
        "What if we wanted to create a second DataFrame of female drivers, but only those who were arrested? We simply add a second condition to the filter, namely that the is_arrested column equals True. Notice that each condition is surrounded by parentheses, and there is an ampersand between the two conditions, which represents the logical AND operator. The second DataFrame is much smaller because it only includes rows that satisfy both conditions, meaning that it only includes female drivers who were also arrested.\n",
        "\n",
        "* Each condition is surrounded by parentheses \n",
        "* Ampersand ( & ) represents the and operator\n"
      ]
    },
    {
      "cell_type": "code",
      "metadata": {
        "colab": {
          "base_uri": "https://localhost:8080/",
          "height": 0
        },
        "id": "XhmgR0WtPptE",
        "outputId": "64fb3ac8-eee0-4e24-b93d-b1ca5d02a857"
      },
      "source": [
        "female_and_arrested = ri[(ri.driver_gender == 'F') & (ri.is_arrested == True)]\n",
        "female_and_arrested.head()"
      ],
      "execution_count": 168,
      "outputs": [
        {
          "output_type": "execute_result",
          "data": {
            "text/html": [
              "<div>\n",
              "<style scoped>\n",
              "    .dataframe tbody tr th:only-of-type {\n",
              "        vertical-align: middle;\n",
              "    }\n",
              "\n",
              "    .dataframe tbody tr th {\n",
              "        vertical-align: top;\n",
              "    }\n",
              "\n",
              "    .dataframe thead th {\n",
              "        text-align: right;\n",
              "    }\n",
              "</style>\n",
              "<table border=\"1\" class=\"dataframe\">\n",
              "  <thead>\n",
              "    <tr style=\"text-align: right;\">\n",
              "      <th></th>\n",
              "      <th>state</th>\n",
              "      <th>stop_date</th>\n",
              "      <th>stop_time</th>\n",
              "      <th>driver_gender</th>\n",
              "      <th>driver_race</th>\n",
              "      <th>violation_raw</th>\n",
              "      <th>violation</th>\n",
              "      <th>search_conducted</th>\n",
              "      <th>search_type</th>\n",
              "      <th>stop_outcome</th>\n",
              "      <th>is_arrested</th>\n",
              "      <th>stop_duration</th>\n",
              "      <th>drugs_related_stop</th>\n",
              "      <th>district</th>\n",
              "    </tr>\n",
              "  </thead>\n",
              "  <tbody>\n",
              "    <tr>\n",
              "      <th>120</th>\n",
              "      <td>RI</td>\n",
              "      <td>2005-10-05</td>\n",
              "      <td>03:00</td>\n",
              "      <td>F</td>\n",
              "      <td>White</td>\n",
              "      <td>Equipment/Inspection Violation</td>\n",
              "      <td>Equipment</td>\n",
              "      <td>True</td>\n",
              "      <td>Incident to Arrest</td>\n",
              "      <td>Arrest Driver</td>\n",
              "      <td>True</td>\n",
              "      <td>16-30 Min</td>\n",
              "      <td>True</td>\n",
              "      <td>Zone K2</td>\n",
              "    </tr>\n",
              "    <tr>\n",
              "      <th>163</th>\n",
              "      <td>RI</td>\n",
              "      <td>2005-10-06</td>\n",
              "      <td>21:50</td>\n",
              "      <td>F</td>\n",
              "      <td>White</td>\n",
              "      <td>Other Traffic Violation</td>\n",
              "      <td>Moving violation</td>\n",
              "      <td>True</td>\n",
              "      <td>Incident to Arrest</td>\n",
              "      <td>Arrest Driver</td>\n",
              "      <td>True</td>\n",
              "      <td>30+ Min</td>\n",
              "      <td>False</td>\n",
              "      <td>Zone X4</td>\n",
              "    </tr>\n",
              "    <tr>\n",
              "      <th>276</th>\n",
              "      <td>RI</td>\n",
              "      <td>2005-10-10</td>\n",
              "      <td>17:50</td>\n",
              "      <td>F</td>\n",
              "      <td>White</td>\n",
              "      <td>Registration Violation</td>\n",
              "      <td>Registration/plates</td>\n",
              "      <td>True</td>\n",
              "      <td>Incident to Arrest</td>\n",
              "      <td>Arrest Driver</td>\n",
              "      <td>True</td>\n",
              "      <td>30+ Min</td>\n",
              "      <td>False</td>\n",
              "      <td>Zone K3</td>\n",
              "    </tr>\n",
              "    <tr>\n",
              "      <th>284</th>\n",
              "      <td>RI</td>\n",
              "      <td>2005-10-11</td>\n",
              "      <td>00:40</td>\n",
              "      <td>F</td>\n",
              "      <td>Black</td>\n",
              "      <td>Other Traffic Violation</td>\n",
              "      <td>Moving violation</td>\n",
              "      <td>False</td>\n",
              "      <td>NaN</td>\n",
              "      <td>Arrest Driver</td>\n",
              "      <td>True</td>\n",
              "      <td>0-15 Min</td>\n",
              "      <td>False</td>\n",
              "      <td>Zone X4</td>\n",
              "    </tr>\n",
              "    <tr>\n",
              "      <th>329</th>\n",
              "      <td>RI</td>\n",
              "      <td>2005-10-13</td>\n",
              "      <td>01:55</td>\n",
              "      <td>F</td>\n",
              "      <td>White</td>\n",
              "      <td>Call for Service</td>\n",
              "      <td>Other</td>\n",
              "      <td>False</td>\n",
              "      <td>NaN</td>\n",
              "      <td>Arrest Driver</td>\n",
              "      <td>True</td>\n",
              "      <td>30+ Min</td>\n",
              "      <td>False</td>\n",
              "      <td>Zone K2</td>\n",
              "    </tr>\n",
              "  </tbody>\n",
              "</table>\n",
              "</div>"
            ],
            "text/plain": [
              "    state   stop_date stop_time  ... stop_duration drugs_related_stop district\n",
              "120    RI  2005-10-05     03:00  ...     16-30 Min               True  Zone K2\n",
              "163    RI  2005-10-06     21:50  ...       30+ Min              False  Zone X4\n",
              "276    RI  2005-10-10     17:50  ...       30+ Min              False  Zone K3\n",
              "284    RI  2005-10-11     00:40  ...      0-15 Min              False  Zone X4\n",
              "329    RI  2005-10-13     01:55  ...       30+ Min              False  Zone K2\n",
              "\n",
              "[5 rows x 14 columns]"
            ]
          },
          "metadata": {
            "tags": []
          },
          "execution_count": 168
        }
      ]
    },
    {
      "cell_type": "code",
      "metadata": {
        "colab": {
          "base_uri": "https://localhost:8080/"
        },
        "id": "m4MKm6mBQW3d",
        "outputId": "95aa6a60-5eba-45ee-ec73-936ca8f2ccec"
      },
      "source": [
        "female_and_arrested.shape"
      ],
      "execution_count": 169,
      "outputs": [
        {
          "output_type": "execute_result",
          "data": {
            "text/plain": [
              "(669, 14)"
            ]
          },
          "metadata": {
            "tags": []
          },
          "execution_count": 169
        }
      ]
    },
    {
      "cell_type": "markdown",
      "metadata": {
        "id": "_C1iZw45Qamz"
      },
      "source": [
        "* Only includes female drivers who were arrested"
      ]
    },
    {
      "cell_type": "markdown",
      "metadata": {
        "id": "grag0h8RzkVb"
      },
      "source": [
        "#### Filtering by multiple conditions (3)\n",
        "When filtering a DataFrame by multiple conditions, another option is to use the vertical pipe character between the two conditions. The pipe represents the logical OR operator, which indicates that a row should be included in the DataFrame if it meets either condition. This DataFrame is larger than the last one because it includes all females regardless of whether they were arrested, as well as all drivers who were arrested, regardless of whether they are female.\n",
        "\n",
        "* Pipe ( | ) represents the or operator\n",
        "* Includes all females\n",
        "* Includes all drivers who were arrested"
      ]
    },
    {
      "cell_type": "code",
      "metadata": {
        "id": "pmDUIHe0QqrZ"
      },
      "source": [
        "female_or_arrested = ri[(ri.driver_gender == 'F') | (ri.is_arrested == True)]"
      ],
      "execution_count": 170,
      "outputs": []
    },
    {
      "cell_type": "code",
      "metadata": {
        "colab": {
          "base_uri": "https://localhost:8080/"
        },
        "id": "IPIM4Ve6RhS1",
        "outputId": "1c79de71-7541-4cd5-8d32-3e890cb16942"
      },
      "source": [
        "female_or_arrested.shape"
      ],
      "execution_count": 171,
      "outputs": [
        {
          "output_type": "execute_result",
          "data": {
            "text/plain": [
              "(26183, 14)"
            ]
          },
          "metadata": {
            "tags": []
          },
          "execution_count": 171
        }
      ]
    },
    {
      "cell_type": "markdown",
      "metadata": {
        "id": "jLNe913Kzmn1"
      },
      "source": [
        "#### Rules for filtering by multiple conditions\n",
        "Here's a quick summary of the rules for filtering DataFrames by multiple conditions: \n",
        "\n",
        "> Ampersand ( & ): only include rows that satisfy both conditions \n",
        "\n",
        "> Pipe ( | ): include rows that satisfy either condition\n",
        "\n",
        "> Each condition must be surrounded by parentheses \n",
        "\n",
        "> Conditions can check for equality ( == ), inequality ( != ), etc.\n",
        "\n",
        "> Can use more than two conditions"
      ]
    },
    {
      "cell_type": "markdown",
      "metadata": {
        "id": "28arF9x_zo5X"
      },
      "source": [
        "#### Correlation, not causation\n",
        "In the upcoming exercises, you'll analyze the relationship between gender and stop outcome when a driver is pulled over for speeding. In other words, you're examining the data to assess whether there is a correlation between these two attributes. However, it's important to note that we're not going to draw any conclusions about causation during this course, since we don't have the data or the expertise required to do so. Instead, we're simply exploring the relationships between different attributes in the dataset.\n",
        "\n",
        "\n",
        "<ol>\n",
        "  <li> Analyze the relationship between gender and stop outcome</li>\n",
        "  <ul>\n",
        "    <li> Assess whether there is a correlation</li>\n",
        "  </ul>\n",
        "  <li> Not going to draw any conclusions about causation </li>\n",
        "  <ul>\n",
        "    <li> Would need additional data and expertise </li>\n",
        "    <li> Exploring relationships only </li>\n",
        "  </ul>"
      ]
    },
    {
      "cell_type": "markdown",
      "metadata": {
        "id": "cMVZ3XqdzsEH"
      },
      "source": [
        "### **Chapter 2.3: Does gender affect whose vehicle is searched?**\n",
        "\n",
        "---\n",
        "During a traffic stop, the police officer sometimes conducts a search of the vehicle. Does the driver's gender affect whether their vehicle is searched? Let's review a few pandas techniques that will help us to answer this question."
      ]
    },
    {
      "cell_type": "markdown",
      "metadata": {
        "id": "igcSWd6c0EBY"
      },
      "source": [
        "#### Math with Boolean values\n",
        "Recall that you can perform mathematical operations on Boolean values. For example, \n",
        "\n",
        "* you previously used the isnull() method to generate a DataFrame of True and False values, and then took the sum() to count the missing values in each column. \n",
        "\n",
        "* This worked because True values were treated as ones and False values were treated as zeros. \n",
        "\n",
        "\n",
        "\n"
      ]
    },
    {
      "cell_type": "code",
      "metadata": {
        "colab": {
          "base_uri": "https://localhost:8080/"
        },
        "id": "CQ1gNfhHTVE1",
        "outputId": "92a8afb1-5832-429b-bbed-f937d4645ade"
      },
      "source": [
        "# isnull() method to generate a DataFrame of True and False\n",
        "ri.isnull().sum()"
      ],
      "execution_count": 172,
      "outputs": [
        {
          "output_type": "execute_result",
          "data": {
            "text/plain": [
              "state                     0\n",
              "stop_date                 0\n",
              "stop_time                 0\n",
              "driver_gender          5205\n",
              "driver_race            5202\n",
              "violation_raw          5202\n",
              "violation              5202\n",
              "search_conducted          0\n",
              "search_type           88434\n",
              "stop_outcome           5202\n",
              "is_arrested            5202\n",
              "stop_duration          5202\n",
              "drugs_related_stop        0\n",
              "district                  0\n",
              "dtype: int64"
            ]
          },
          "metadata": {
            "tags": []
          },
          "execution_count": 172
        }
      ]
    },
    {
      "cell_type": "markdown",
      "metadata": {
        "id": "uea9Ll55VPDx"
      },
      "source": [
        "* Now we'll use the NumPy library to demonstrate a different operation, namely the mean. If you take the mean() of the list 0 1 0 0 you'll get 0.25, calculated as 1 divided by 4. "
      ]
    },
    {
      "cell_type": "code",
      "metadata": {
        "colab": {
          "base_uri": "https://localhost:8080/"
        },
        "id": "DgWDJzi1VEmC",
        "outputId": "3bc3637e-5aa9-4f02-a6a7-3d527f35f4b3"
      },
      "source": [
        "import numpy as np\n",
        "np.mean([0, 1, 0, 0])"
      ],
      "execution_count": 173,
      "outputs": [
        {
          "output_type": "execute_result",
          "data": {
            "text/plain": [
              "0.25"
            ]
          },
          "metadata": {
            "tags": []
          },
          "execution_count": 173
        }
      ]
    },
    {
      "cell_type": "markdown",
      "metadata": {
        "id": "rudIsRMVVUW1"
      },
      "source": [
        "* Similarly, if you take the mean() of the list False True False False, you'll also get 0.25. Thus, __the mean of a Boolean Series represents the percentage of values that are True__."
      ]
    },
    {
      "cell_type": "code",
      "metadata": {
        "colab": {
          "base_uri": "https://localhost:8080/"
        },
        "id": "a8T3tKmeVMLW",
        "outputId": "a6953d06-2a36-4c06-ed6f-21f5f4bfa30f"
      },
      "source": [
        "np.mean([False, True,           False, False])"
      ],
      "execution_count": 174,
      "outputs": [
        {
          "output_type": "execute_result",
          "data": {
            "text/plain": [
              "0.25"
            ]
          },
          "metadata": {
            "tags": []
          },
          "execution_count": 174
        }
      ]
    },
    {
      "cell_type": "markdown",
      "metadata": {
        "id": "bwOPn4DA0HCl"
      },
      "source": [
        "#### Taking the mean of a Boolean Series\n",
        "Now, let's see a real example of why it's useful to be able to take the mean of a Boolean Series. \n",
        "\n",
        "* We'll first calculate the percentage of stops that result in an arrest using the value_counts() method. "
      ]
    },
    {
      "cell_type": "code",
      "metadata": {
        "colab": {
          "base_uri": "https://localhost:8080/"
        },
        "id": "CHBxEE9hTrgr",
        "outputId": "940e271e-694d-4bbd-f6e5-881096c0114d"
      },
      "source": [
        "ri.is_arrested.value_counts(normalize=True)"
      ],
      "execution_count": 175,
      "outputs": [
        {
          "output_type": "execute_result",
          "data": {
            "text/plain": [
              "False    0.964432\n",
              "True     0.035568\n",
              "Name: is_arrested, dtype: float64"
            ]
          },
          "metadata": {
            "tags": []
          },
          "execution_count": 175
        }
      ]
    },
    {
      "cell_type": "markdown",
      "metadata": {
        "id": "OnhtJVKnVtxW"
      },
      "source": [
        "The arrest rate is around 3.6% since that's the percentage of True values. Note that this would work on an object column or a Boolean column. But we can get the same result more easily by taking the mean() of the is_arrested Series. This method only works because the data type is Boolean. This is exactly why you changed the data type of this Series from object to Boolean back in the first chapter."
      ]
    },
    {
      "cell_type": "code",
      "metadata": {
        "colab": {
          "base_uri": "https://localhost:8080/",
          "height": 0
        },
        "id": "DqWUKABeWDfH",
        "outputId": "0ed0eccb-3561-4332-8e3c-2a65a1d39681"
      },
      "source": [
        "display(ri.is_arrested.mean(),\n",
        "        ri.is_arrested.dtype)"
      ],
      "execution_count": 176,
      "outputs": [
        {
          "output_type": "display_data",
          "data": {
            "text/plain": [
              "0.03556777868937704"
            ]
          },
          "metadata": {
            "tags": []
          }
        },
        {
          "output_type": "display_data",
          "data": {
            "text/plain": [
              "dtype('O')"
            ]
          },
          "metadata": {
            "tags": []
          }
        }
      ]
    },
    {
      "cell_type": "markdown",
      "metadata": {
        "id": "LsUpYWbw0JNS"
      },
      "source": [
        "#### Comparing groups using groupby (1)\n",
        "The second technique we'll review is <font color = 'green'> __groupby()__ </font> , which you've used in previous courses. \n",
        "\n",
        "Let's pretend that you wanted to study the arrest rate by police district. You can see that there are six districts by using the Series method unique(). \n",
        "\n"
      ]
    },
    {
      "cell_type": "code",
      "metadata": {
        "colab": {
          "base_uri": "https://localhost:8080/"
        },
        "id": "DtqWEBy4ZKhV",
        "outputId": "dd0de9b1-703e-443a-9624-0b7bbcac345a"
      },
      "source": [
        "ri.district.unique()"
      ],
      "execution_count": 177,
      "outputs": [
        {
          "output_type": "execute_result",
          "data": {
            "text/plain": [
              "array(['Zone X4', 'Zone K3', 'Zone X1', 'Zone X3', 'Zone K1', 'Zone K2'],\n",
              "      dtype=object)"
            ]
          },
          "metadata": {
            "tags": []
          },
          "execution_count": 177
        }
      ]
    },
    {
      "cell_type": "markdown",
      "metadata": {
        "id": "KAtFEOlhZpuS"
      },
      "source": [
        "One approach we've used to compare groups is to filter the DataFrame by each group, and then perform a calculation on each subset. So to calculate the arrest rate in Zone K1, we would filter by that district, select the is_arrested column, and then take the mean(). The arrest rate is about 2.4%, which is lower than the overall arrest rate of 3.6%."
      ]
    },
    {
      "cell_type": "code",
      "metadata": {
        "colab": {
          "base_uri": "https://localhost:8080/"
        },
        "id": "ZFBnDK-uZSIM",
        "outputId": "330fdd51-7ba5-4649-b7b9-e0a3b9ba6078"
      },
      "source": [
        "ri[ri.district == 'Zone K1'].is_arrested.mean()"
      ],
      "execution_count": 178,
      "outputs": [
        {
          "output_type": "execute_result",
          "data": {
            "text/plain": [
              "0.024346149210558034"
            ]
          },
          "metadata": {
            "tags": []
          },
          "execution_count": 178
        }
      ]
    },
    {
      "cell_type": "markdown",
      "metadata": {
        "id": "guU9vgSM0Lr7"
      },
      "source": [
        "#### Comparing groups using groupby (2)\n",
        "Next we calculate the arrest rate in Zone K2, which is about 3.1%. But rather than repeating this process for all six districts, we can instead group by the district column, which will perform the same calculation for all districts at once. You can see a noticeably higher arrest rate in Zone X4."
      ]
    },
    {
      "cell_type": "code",
      "metadata": {
        "colab": {
          "base_uri": "https://localhost:8080/"
        },
        "id": "s9dmqH2VZsxr",
        "outputId": "110c6653-8815-46e0-a1f4-9b7268999d1c"
      },
      "source": [
        "ri[ri.district == 'Zone K2'].is_arrested.mean()"
      ],
      "execution_count": 179,
      "outputs": [
        {
          "output_type": "execute_result",
          "data": {
            "text/plain": [
              "0.030800588834786546"
            ]
          },
          "metadata": {
            "tags": []
          },
          "execution_count": 179
        }
      ]
    },
    {
      "cell_type": "code",
      "metadata": {
        "id": "7C8t2PdQcCor"
      },
      "source": [
        "ri['is_arrested_numeric'] = pd.to_numeric(ri.is_arrested)"
      ],
      "execution_count": 180,
      "outputs": []
    },
    {
      "cell_type": "code",
      "metadata": {
        "colab": {
          "base_uri": "https://localhost:8080/"
        },
        "id": "8ooh5WOSZ3nc",
        "outputId": "502bcabd-57cf-48a3-d755-f8d842ef7022"
      },
      "source": [
        "ri.groupby('district').is_arrested_numeric.mean()"
      ],
      "execution_count": 181,
      "outputs": [
        {
          "output_type": "execute_result",
          "data": {
            "text/plain": [
              "district\n",
              "Zone K1    0.024346\n",
              "Zone K2    0.030801\n",
              "Zone K3    0.032308\n",
              "Zone X1    0.023494\n",
              "Zone X3    0.034871\n",
              "Zone X4    0.048038\n",
              "Name: is_arrested_numeric, dtype: float64"
            ]
          },
          "metadata": {
            "tags": []
          },
          "execution_count": 181
        }
      ]
    },
    {
      "cell_type": "markdown",
      "metadata": {
        "id": "iv3-hOya0Nt8"
      },
      "source": [
        "#### Grouping by multiple categories\n",
        "You can also group by multiple categories at once. For example, you can group by district and gender by passing it as a list of strings. This computes the arrest rate for every combination of district and gender. In other words, you can see the arrest rate for males and females in each district separately. Note that if you reverse the ordering of the items in the list, grouping first by gender and then by district, the calculations will be the same but the presentation of the results will be different. You can use whichever option makes it easier for you to understand the results."
      ]
    },
    {
      "cell_type": "code",
      "metadata": {
        "colab": {
          "base_uri": "https://localhost:8080/"
        },
        "id": "vq6mKtAtb1eM",
        "outputId": "51f6d566-ce70-41a7-a0e8-b7fbc3ad42b5"
      },
      "source": [
        "ri.groupby(['district', 'driver_gender']).is_arrested_numeric.mean()"
      ],
      "execution_count": 182,
      "outputs": [
        {
          "output_type": "execute_result",
          "data": {
            "text/plain": [
              "district  driver_gender\n",
              "Zone K1   F                0.019169\n",
              "          M                0.026588\n",
              "Zone K2   F                0.022196\n",
              "          M                0.034285\n",
              "Zone K3   F                0.025156\n",
              "          M                0.034961\n",
              "Zone X1   F                0.019646\n",
              "          M                0.024563\n",
              "Zone X3   F                0.027188\n",
              "          M                0.038166\n",
              "Zone X4   F                0.042149\n",
              "          M                0.049956\n",
              "Name: is_arrested_numeric, dtype: float64"
            ]
          },
          "metadata": {
            "tags": []
          },
          "execution_count": 182
        }
      ]
    },
    {
      "cell_type": "markdown",
      "metadata": {
        "id": "UbG7R89YcaJU"
      },
      "source": [
        "**Here `is_arrested` boolen not working in colab so we have converted is_arrested boolen in to numeric which turned out to be as 1 or 0**"
      ]
    },
    {
      "cell_type": "markdown",
      "metadata": {
        "id": "I1mrK5ZE0QKe"
      },
      "source": [
        "### **Chapter 2.4: Does gender affect who is frisked during a search?**\n",
        "\n",
        "---\n",
        "you investigated whether the gender of a driver affects the likelihood that their vehicle will be searched. In this section, we'll take a look at what happens during a search."
      ]
    },
    {
      "cell_type": "markdown",
      "metadata": {
        "id": "f7UitNVh0lF_"
      },
      "source": [
        "#### Examining the search types\n",
        "As you've seen previously, the search_conducted field is True if there's a search during a traffic stop, and False otherwise. There's also a related field, search_type, that contains additional information about the search. Notice that the search_type field has 83,229 missing values, which is identical to the number of False values in the search_conducted field. That's because any time a search is not conducted, there's no information to record about a search, and thus the search_type will be missing. Note that the value_counts() method excludes missing values by default, and so we specified dropna equals False in order to see the missing values."
      ]
    },
    {
      "cell_type": "code",
      "metadata": {
        "colab": {
          "base_uri": "https://localhost:8080/"
        },
        "id": "XlMd50YkqY4i",
        "outputId": "6ec2fecc-6c34-4528-db06-ea488ab98d10"
      },
      "source": [
        "ri.search_conducted.value_counts()"
      ],
      "execution_count": 183,
      "outputs": [
        {
          "output_type": "execute_result",
          "data": {
            "text/plain": [
              "False    88434\n",
              "True      3307\n",
              "Name: search_conducted, dtype: int64"
            ]
          },
          "metadata": {
            "tags": []
          },
          "execution_count": 183
        }
      ]
    },
    {
      "cell_type": "code",
      "metadata": {
        "colab": {
          "base_uri": "https://localhost:8080/"
        },
        "id": "1XzYsyNbqkZc",
        "outputId": "2e477d0d-a2ae-481f-ea20-a20c45b04624"
      },
      "source": [
        "ri.search_type.value_counts(dropna = False)"
      ],
      "execution_count": 184,
      "outputs": [
        {
          "output_type": "execute_result",
          "data": {
            "text/plain": [
              "NaN                                                         88434\n",
              "Incident to Arrest                                           1290\n",
              "Probable Cause                                                924\n",
              "Inventory                                                     219\n",
              "Reasonable Suspicion                                          214\n",
              "Protective Frisk                                              164\n",
              "Incident to Arrest,Inventory                                  123\n",
              "Incident to Arrest,Probable Cause                             100\n",
              "Probable Cause,Reasonable Suspicion                            54\n",
              "Incident to Arrest,Inventory,Probable Cause                    35\n",
              "Probable Cause,Protective Frisk                                35\n",
              "Incident to Arrest,Protective Frisk                            33\n",
              "Inventory,Probable Cause                                       25\n",
              "Protective Frisk,Reasonable Suspicion                          19\n",
              "Incident to Arrest,Inventory,Protective Frisk                  18\n",
              "Incident to Arrest,Probable Cause,Protective Frisk             13\n",
              "Inventory,Protective Frisk                                     12\n",
              "Incident to Arrest,Reasonable Suspicion                         8\n",
              "Probable Cause,Protective Frisk,Reasonable Suspicion            5\n",
              "Incident to Arrest,Probable Cause,Reasonable Suspicion          5\n",
              "Incident to Arrest,Inventory,Reasonable Suspicion               4\n",
              "Inventory,Reasonable Suspicion                                  2\n",
              "Incident to Arrest,Protective Frisk,Reasonable Suspicion        2\n",
              "Inventory,Probable Cause,Reasonable Suspicion                   1\n",
              "Inventory,Protective Frisk,Reasonable Suspicion                 1\n",
              "Inventory,Probable Cause,Protective Frisk                       1\n",
              "Name: search_type, dtype: int64"
            ]
          },
          "metadata": {
            "tags": []
          },
          "execution_count": 184
        }
      ]
    },
    {
      "cell_type": "markdown",
      "metadata": {
        "id": "ByUxxK0400qg"
      },
      "source": [
        "#### Examining the search types\n",
        "There are only five possible values for search_type, which you can see at the top of the value_counts() output: Incident to Arrest, Probable Cause, Inventory, Reasonable Suspicion, and Protective Frisk. But sometimes, multiple values are relevant for a single traffic stop, in which case they're separated by commas. Let's focus on Inventory, meaning searches in which the police took an inventory of the vehicle. Looking at the third line of the value_counts() output, we see 219, which is the number of searches in which Inventory was the only search type. But what if we wanted to know the total number of times in which an inventory was done during a search? We'd also have to include any stops in which Inventory was one of multiple search types. To do this, we'll use a string method."
      ]
    },
    {
      "cell_type": "markdown",
      "metadata": {
        "id": "sKWvYiEb03Tq"
      },
      "source": [
        "#### Searching for a string (1)\n",
        "Back in chapter 1, you used a string method to concatenate two columns. This time, we'll use a string method called <font color = 'green'> __contains()__ </font> that checks whether a string is present in each element of a given column. It returns True if the string is found, and False if it's not found. We also specify na equals False, which tells the contains() method to return False when it finds a missing value in the search_type column. We'll save the results in a new column called inventory.\n",
        "\n",
        "> str.contains() returns True if string is found, False if not found na=False \n",
        "\n",
        "> returns False when it nds a missing value"
      ]
    },
    {
      "cell_type": "code",
      "metadata": {
        "id": "2yUx1UIhrdMe"
      },
      "source": [
        "ri['inventory'] = ri.search_type.str.contains('Inventory', na=False)"
      ],
      "execution_count": 185,
      "outputs": []
    },
    {
      "cell_type": "markdown",
      "metadata": {
        "id": "BB8Ka-xg07k4"
      },
      "source": [
        "#### Searching for a string (2)\n",
        "As expected, the data type of the column is Boolean. To be clear, a True value in this column means that an inventory was done during a search, and a False value means it was not. We can take the sum() of the inventory column to see that an inventory was done during 441 searches. This includes the 219 stops in which Inventory was the only search type, plus additional stops in which Inventory was one of multiple search types."
      ]
    },
    {
      "cell_type": "code",
      "metadata": {
        "colab": {
          "base_uri": "https://localhost:8080/"
        },
        "id": "ldXNsJy0sofw",
        "outputId": "e3ee28aa-a8be-4193-b0f9-5cd0f026d4d7"
      },
      "source": [
        "ri.inventory.sum()"
      ],
      "execution_count": 186,
      "outputs": [
        {
          "output_type": "execute_result",
          "data": {
            "text/plain": [
              "441"
            ]
          },
          "metadata": {
            "tags": []
          },
          "execution_count": 186
        }
      ]
    },
    {
      "cell_type": "markdown",
      "metadata": {
        "id": "4HHcWKNt0-I7"
      },
      "source": [
        "#### Calculating the inventory rate\n",
        "What if we wanted to calculate the percentage of searches which included an inventory? You might think this would be as simple as taking the mean() of the inventory column, and the answer would be about 0.5%. But what's wrong with this calculation? 0.5% is the percentage of all traffic stops which resulted in an inventory, including those stops in which a search was not even done."
      ]
    },
    {
      "cell_type": "code",
      "metadata": {
        "id": "MR9UGZj_1A77",
        "colab": {
          "base_uri": "https://localhost:8080/"
        },
        "outputId": "fc0cbf34-ac7e-43e9-c1b5-0774837da59a"
      },
      "source": [
        "ri.inventory.mean()"
      ],
      "execution_count": 187,
      "outputs": [
        {
          "output_type": "execute_result",
          "data": {
            "text/plain": [
              "0.0048070110419550695"
            ]
          },
          "metadata": {
            "tags": []
          },
          "execution_count": 187
        }
      ]
    },
    {
      "cell_type": "markdown",
      "metadata": {
        "id": "LhsSU0lptQOT"
      },
      "source": [
        "Instead, we first need to filter the DataFrame to only include those rows in which a search was done, and then take the mean() of the inventory column. The correct answer is that 13.3% of searches included an inventory. This is a vastly different result, and it highlights the importance of carefully choosing which rows are relevant before doing a calculation."
      ]
    },
    {
      "cell_type": "code",
      "metadata": {
        "colab": {
          "base_uri": "https://localhost:8080/"
        },
        "id": "C8zLP19ds2xJ",
        "outputId": "44943652-10d7-4e87-c533-d13be6d509c0"
      },
      "source": [
        "search = ri[ri.search_conducted == True]\n",
        "search.inventory.mean()"
      ],
      "execution_count": 188,
      "outputs": [
        {
          "output_type": "execute_result",
          "data": {
            "text/plain": [
              "0.13335349259147264"
            ]
          },
          "metadata": {
            "tags": []
          },
          "execution_count": 188
        }
      ]
    },
    {
      "cell_type": "markdown",
      "metadata": {
        "id": "FpbT4w3aGCQc"
      },
      "source": [
        "## <font color = 'blue'> __Chapter: 3. Visual exploratory data analysis__\n",
        "\n",
        "---\n",
        "\n",
        "Are you more likely to get arrested at a certain time of day? Are drug-related stops on the rise? In this chapter, you will answer these and other questions by analyzing the dataset visually, since plots can help you to understand trends in a way that examining the raw data cannot."
      ]
    },
    {
      "cell_type": "markdown",
      "metadata": {
        "id": "_n-BEgHRGQmT"
      },
      "source": [
        "### __Chapter 3.1: Does time of day affect arrest rate?__\n",
        "---\n",
        "In the last chapter, we used filtering, grouping, and other techniques to answer questions about the traffic stops dataset. In this chapter, you'll explore and analyze the dataset visually using plots."
      ]
    },
    {
      "cell_type": "markdown",
      "metadata": {
        "id": "NfARJE5xGy5h"
      },
      "source": [
        "#### Analyzing datetime data\n",
        "Back in chapter 1, we worked with a small DataFrame of Apple stock prices. We're going to use it here again, but this time it includes two days each from the first three months of 2018. There's also a new column, volume, that displays the number of Apple shares traded that day.\n"
      ]
    },
    {
      "cell_type": "code",
      "metadata": {
        "id": "uyKDdiDjH7Vg"
      },
      "source": [
        "apple = pd.DataFrame()\n",
        "apple['price'] = np.random.randint(170,180,6) + 0.3\n",
        "apple['volume'] = np.random.randint(20567600, 70672800, 6)\n",
        "apple['date_and_time'] = [np.datetime64('2018-01-08 16:00:00'),np.datetime64('2018-01-09 16:00:00'),np.datetime64('2018-02-08 16:00:00'),\n",
        "                          np.datetime64('2018-02-09 16:00:00'),np.datetime64('2018-03-08 16:00:00'),np.datetime64('2018-03-09 16:00:00')]"
      ],
      "execution_count": 189,
      "outputs": []
    },
    {
      "cell_type": "code",
      "metadata": {
        "colab": {
          "base_uri": "https://localhost:8080/",
          "height": 233
        },
        "id": "RQKajLuZJ6BO",
        "outputId": "a01aa76d-ecca-4164-d0a1-a55b3c4b6963"
      },
      "source": [
        "apple"
      ],
      "execution_count": 190,
      "outputs": [
        {
          "output_type": "execute_result",
          "data": {
            "text/html": [
              "<div>\n",
              "<style scoped>\n",
              "    .dataframe tbody tr th:only-of-type {\n",
              "        vertical-align: middle;\n",
              "    }\n",
              "\n",
              "    .dataframe tbody tr th {\n",
              "        vertical-align: top;\n",
              "    }\n",
              "\n",
              "    .dataframe thead th {\n",
              "        text-align: right;\n",
              "    }\n",
              "</style>\n",
              "<table border=\"1\" class=\"dataframe\">\n",
              "  <thead>\n",
              "    <tr style=\"text-align: right;\">\n",
              "      <th></th>\n",
              "      <th>price</th>\n",
              "      <th>volume</th>\n",
              "      <th>date_and_time</th>\n",
              "    </tr>\n",
              "  </thead>\n",
              "  <tbody>\n",
              "    <tr>\n",
              "      <th>0</th>\n",
              "      <td>177.3</td>\n",
              "      <td>56587377</td>\n",
              "      <td>2018-01-08 16:00:00</td>\n",
              "    </tr>\n",
              "    <tr>\n",
              "      <th>1</th>\n",
              "      <td>170.3</td>\n",
              "      <td>45067429</td>\n",
              "      <td>2018-01-09 16:00:00</td>\n",
              "    </tr>\n",
              "    <tr>\n",
              "      <th>2</th>\n",
              "      <td>177.3</td>\n",
              "      <td>64541647</td>\n",
              "      <td>2018-02-08 16:00:00</td>\n",
              "    </tr>\n",
              "    <tr>\n",
              "      <th>3</th>\n",
              "      <td>178.3</td>\n",
              "      <td>64480325</td>\n",
              "      <td>2018-02-09 16:00:00</td>\n",
              "    </tr>\n",
              "    <tr>\n",
              "      <th>4</th>\n",
              "      <td>175.3</td>\n",
              "      <td>56653442</td>\n",
              "      <td>2018-03-08 16:00:00</td>\n",
              "    </tr>\n",
              "    <tr>\n",
              "      <th>5</th>\n",
              "      <td>173.3</td>\n",
              "      <td>55750355</td>\n",
              "      <td>2018-03-09 16:00:00</td>\n",
              "    </tr>\n",
              "  </tbody>\n",
              "</table>\n",
              "</div>"
            ],
            "text/plain": [
              "   price    volume       date_and_time\n",
              "0  177.3  56587377 2018-01-08 16:00:00\n",
              "1  170.3  45067429 2018-01-09 16:00:00\n",
              "2  177.3  64541647 2018-02-08 16:00:00\n",
              "3  178.3  64480325 2018-02-09 16:00:00\n",
              "4  175.3  56653442 2018-03-08 16:00:00\n",
              "5  173.3  55750355 2018-03-09 16:00:00"
            ]
          },
          "metadata": {
            "tags": []
          },
          "execution_count": 190
        }
      ]
    },
    {
      "cell_type": "markdown",
      "metadata": {
        "id": "uhznMFyKG60B"
      },
      "source": [
        "####Accessing datetime attributes (1)\n",
        "You might recall that we converted the date_and_time column to pandas datetime format. Because of datetime format, you actually have access to special date-based attributes via the dt accessor. \n",
        "\n",
        "* For example, you can access the month as an integer by using the dt dot month attribute. There are many other similar attributes available, such as week, dayofweek, hour, minute, and so on."
      ]
    },
    {
      "cell_type": "code",
      "metadata": {
        "colab": {
          "base_uri": "https://localhost:8080/"
        },
        "id": "AZMsxbh4Kn44",
        "outputId": "1975b895-3494-41a3-9436-c41dc174abcb"
      },
      "source": [
        "# month of the date\n",
        "apple.date_and_time.dt.month"
      ],
      "execution_count": 191,
      "outputs": [
        {
          "output_type": "execute_result",
          "data": {
            "text/plain": [
              "0    1\n",
              "1    1\n",
              "2    2\n",
              "3    2\n",
              "4    3\n",
              "5    3\n",
              "Name: date_and_time, dtype: int64"
            ]
          },
          "metadata": {
            "tags": []
          },
          "execution_count": 191
        }
      ]
    },
    {
      "cell_type": "markdown",
      "metadata": {
        "id": "ldyhIRCRG-E7"
      },
      "source": [
        "#### Accessing datetime attributes (2)\n",
        "Similar to our traffic stops dataset, we can set the date_and_time column as the DataFrame index. Because of its data type, it is now a DatetimeIndex. We can still access the same datetime attributes, such as month, and we get the same result as before, but we no longer have to use the dt accessor."
      ]
    },
    {
      "cell_type": "code",
      "metadata": {
        "colab": {
          "base_uri": "https://localhost:8080/",
          "height": 264
        },
        "id": "yD0BJqOrNUZ6",
        "outputId": "84f1371a-a50a-4840-87c6-d137c6d3bbcb"
      },
      "source": [
        "apple.set_index('date_and_time', inplace = True)\n",
        "apple"
      ],
      "execution_count": 192,
      "outputs": [
        {
          "output_type": "execute_result",
          "data": {
            "text/html": [
              "<div>\n",
              "<style scoped>\n",
              "    .dataframe tbody tr th:only-of-type {\n",
              "        vertical-align: middle;\n",
              "    }\n",
              "\n",
              "    .dataframe tbody tr th {\n",
              "        vertical-align: top;\n",
              "    }\n",
              "\n",
              "    .dataframe thead th {\n",
              "        text-align: right;\n",
              "    }\n",
              "</style>\n",
              "<table border=\"1\" class=\"dataframe\">\n",
              "  <thead>\n",
              "    <tr style=\"text-align: right;\">\n",
              "      <th></th>\n",
              "      <th>price</th>\n",
              "      <th>volume</th>\n",
              "    </tr>\n",
              "    <tr>\n",
              "      <th>date_and_time</th>\n",
              "      <th></th>\n",
              "      <th></th>\n",
              "    </tr>\n",
              "  </thead>\n",
              "  <tbody>\n",
              "    <tr>\n",
              "      <th>2018-01-08 16:00:00</th>\n",
              "      <td>177.3</td>\n",
              "      <td>56587377</td>\n",
              "    </tr>\n",
              "    <tr>\n",
              "      <th>2018-01-09 16:00:00</th>\n",
              "      <td>170.3</td>\n",
              "      <td>45067429</td>\n",
              "    </tr>\n",
              "    <tr>\n",
              "      <th>2018-02-08 16:00:00</th>\n",
              "      <td>177.3</td>\n",
              "      <td>64541647</td>\n",
              "    </tr>\n",
              "    <tr>\n",
              "      <th>2018-02-09 16:00:00</th>\n",
              "      <td>178.3</td>\n",
              "      <td>64480325</td>\n",
              "    </tr>\n",
              "    <tr>\n",
              "      <th>2018-03-08 16:00:00</th>\n",
              "      <td>175.3</td>\n",
              "      <td>56653442</td>\n",
              "    </tr>\n",
              "    <tr>\n",
              "      <th>2018-03-09 16:00:00</th>\n",
              "      <td>173.3</td>\n",
              "      <td>55750355</td>\n",
              "    </tr>\n",
              "  </tbody>\n",
              "</table>\n",
              "</div>"
            ],
            "text/plain": [
              "                     price    volume\n",
              "date_and_time                       \n",
              "2018-01-08 16:00:00  177.3  56587377\n",
              "2018-01-09 16:00:00  170.3  45067429\n",
              "2018-02-08 16:00:00  177.3  64541647\n",
              "2018-02-09 16:00:00  178.3  64480325\n",
              "2018-03-08 16:00:00  175.3  56653442\n",
              "2018-03-09 16:00:00  173.3  55750355"
            ]
          },
          "metadata": {
            "tags": []
          },
          "execution_count": 192
        }
      ]
    },
    {
      "cell_type": "code",
      "metadata": {
        "colab": {
          "base_uri": "https://localhost:8080/"
        },
        "id": "TxlKxOAmNuL1",
        "outputId": "7c3ddcab-773c-4904-dd43-b16b8d27f92e"
      },
      "source": [
        "apple.index.month"
      ],
      "execution_count": 193,
      "outputs": [
        {
          "output_type": "execute_result",
          "data": {
            "text/plain": [
              "Int64Index([1, 1, 2, 2, 3, 3], dtype='int64', name='date_and_time')"
            ]
          },
          "metadata": {
            "tags": []
          },
          "execution_count": 193
        }
      ]
    },
    {
      "cell_type": "markdown",
      "metadata": {
        "id": "dqlc9HwWHHYs"
      },
      "source": [
        "#### Calculating the monthly mean price\n",
        "Let's examine the price column of the apple DataFrame. If we wanted to calculate the mean price for all rows, we would simply use the mean() method. But what if we wanted to calculate the mean price for each month? One idea would be to use a groupby() operation, but we can't group by month as a string since it's not a column in the DataFrame. Instead, we would group by apple dot index dot month, and then take the mean() of the price column. This operation outputs a Series, in which the index is the month number and the values are the mean prices. We'll go ahead and save this Series as an object called monthly_price."
      ]
    },
    {
      "cell_type": "code",
      "metadata": {
        "colab": {
          "base_uri": "https://localhost:8080/"
        },
        "id": "L920cWQPNlHt",
        "outputId": "9065ffc7-4d0d-4ed2-e674-0d20aac1d8c6"
      },
      "source": [
        "apple.price.mean()"
      ],
      "execution_count": 194,
      "outputs": [
        {
          "output_type": "execute_result",
          "data": {
            "text/plain": [
              "175.29999999999998"
            ]
          },
          "metadata": {
            "tags": []
          },
          "execution_count": 194
        }
      ]
    },
    {
      "cell_type": "markdown",
      "metadata": {
        "id": "vzFeDYsRHMJ-"
      },
      "source": [
        "#### Plotting the monthly mean price\n",
        "Let's say that we wanted to plot this data in order to visually examine the monthly price trends. We would start by importing matplotlib dot pyplot as plt. Then, we call the plot() method on the monthly_price Series. The default plot for a Series is a line plot, which uses the Series index on the x-axis and the Series values on the y-axis. Finally, we'll label the axes and provide a title for the plot, and then use the show() function to display the plot."
      ]
    },
    {
      "cell_type": "code",
      "metadata": {
        "colab": {
          "base_uri": "https://localhost:8080/"
        },
        "id": "FeuG1kFeN0WD",
        "outputId": "48c0ba99-8530-4725-d7b1-ed916ae45ff2"
      },
      "source": [
        "apple.groupby(apple.index.month).price.mean()"
      ],
      "execution_count": 195,
      "outputs": [
        {
          "output_type": "execute_result",
          "data": {
            "text/plain": [
              "date_and_time\n",
              "1    173.8\n",
              "2    177.8\n",
              "3    174.3\n",
              "Name: price, dtype: float64"
            ]
          },
          "metadata": {
            "tags": []
          },
          "execution_count": 195
        }
      ]
    },
    {
      "cell_type": "code",
      "metadata": {
        "id": "ddkQLyXlN7dy"
      },
      "source": [
        "monthly_price = apple.groupby(apple.index.month).price.mean()"
      ],
      "execution_count": 196,
      "outputs": []
    },
    {
      "cell_type": "markdown",
      "metadata": {
        "id": "9ZWZlb3xHVNA"
      },
      "source": [
        "#### Line plot\n",
        "It's a very simple plot in this case, but you can imagine that with a much larger dataset, this plot could help you to understand the price trends in a way that examining the raw data could not."
      ]
    },
    {
      "cell_type": "code",
      "metadata": {
        "colab": {
          "base_uri": "https://localhost:8080/",
          "height": 294
        },
        "id": "MlQjjVJ5OBpU",
        "outputId": "0985c62b-1812-4645-8f6c-34c3b6de3eb2"
      },
      "source": [
        "monthly_price.plot()\n",
        "plt.ylabel('Month')\n",
        "plt.xlabel('Price')\n",
        "plt.title('Monthly mean stock price for Apple')\n",
        "plt.show()"
      ],
      "execution_count": 197,
      "outputs": [
        {
          "output_type": "display_data",
          "data": {
            "image/png": "[encoded data removed]",
            "text/plain": [
              "<Figure size 432x288 with 1 Axes>"
            ]
          },
          "metadata": {
            "tags": [],
            "needs_background": "light"
          }
        }
      ]
    },
    {
      "cell_type": "markdown",
      "metadata": {
        "id": "d3_UtrpdOEeF"
      },
      "source": [
        "### __Chapter 3.2: Are drug-related stops on the rise?__\n",
        "---\n",
        "\n",
        "In the last section, we created a plot to help us see how a single variable changed over time. In this section, we'll use subplots to help us examine the relationship between two variables over time."
      ]
    },
    {
      "cell_type": "markdown",
      "metadata": {
        "id": "kY1y0osROrZO"
      },
      "source": [
        "#### Resampling the price\n",
        "Let's return to our DataFrame of Apple stock prices. In the last section, we calculated the mean price for each month using a groupby() operation.  "
      ]
    },
    {
      "cell_type": "code",
      "metadata": {
        "colab": {
          "base_uri": "https://localhost:8080/"
        },
        "id": "dtsj4cxCPAdu",
        "outputId": "8b4817bb-0461-445a-9a2f-f90c5fafd1b5"
      },
      "source": [
        "apple.groupby(apple.index.month).price.mean()"
      ],
      "execution_count": 198,
      "outputs": [
        {
          "output_type": "execute_result",
          "data": {
            "text/plain": [
              "date_and_time\n",
              "1    173.8\n",
              "2    177.8\n",
              "3    174.3\n",
              "Name: price, dtype: float64"
            ]
          },
          "metadata": {
            "tags": []
          },
          "execution_count": 198
        }
      ]
    },
    {
      "cell_type": "markdown",
      "metadata": {
        "id": "kRFtpiICPrpe"
      },
      "source": [
        "There's actually an alternative method, known as resampling, that we can use to accomplish the same task. As you might remember from previous courses, resampling is when you change the frequency of your time series observations. In this case, we'll resample the price column by month, represented by the capital letter M, and then chain the mean() method onto the end."
      ]
    },
    {
      "cell_type": "code",
      "metadata": {
        "colab": {
          "base_uri": "https://localhost:8080/"
        },
        "id": "_1RPw04APdW3",
        "outputId": "0de984b5-b4b8-4843-b90e-51ad7005868f"
      },
      "source": [
        "apple.resample('M').price.mean()"
      ],
      "execution_count": 199,
      "outputs": [
        {
          "output_type": "execute_result",
          "data": {
            "text/plain": [
              "date_and_time\n",
              "2018-01-31    173.8\n",
              "2018-02-28    177.8\n",
              "2018-03-31    174.3\n",
              "Freq: M, Name: price, dtype: float64"
            ]
          },
          "metadata": {
            "tags": []
          },
          "execution_count": 199
        }
      ]
    },
    {
      "cell_type": "markdown",
      "metadata": {
        "id": "erdhhqm2Pump"
      },
      "source": [
        "The output is identical to the groupby() operation, except that the index consists of the last day of each month, rather than just the integers 1, 2, and 3."
      ]
    },
    {
      "cell_type": "markdown",
      "metadata": {
        "id": "ZgYGDmMYO1ga"
      },
      "source": [
        "#### Resampling the volume\n",
        "As a reminder, the apple DataFrame also has a volume column that displays the number of Apple shares traded that day. Let's resample that column, to calculate the mean daily volume for each month. "
      ]
    },
    {
      "cell_type": "code",
      "metadata": {
        "colab": {
          "base_uri": "https://localhost:8080/"
        },
        "id": "1PUP57uhP0xM",
        "outputId": "8cf009f8-cd54-4c9f-d6bf-941bbe0a4ea9"
      },
      "source": [
        "apple.volume"
      ],
      "execution_count": 200,
      "outputs": [
        {
          "output_type": "execute_result",
          "data": {
            "text/plain": [
              "date_and_time\n",
              "2018-01-08 16:00:00    56587377\n",
              "2018-01-09 16:00:00    45067429\n",
              "2018-02-08 16:00:00    64541647\n",
              "2018-02-09 16:00:00    64480325\n",
              "2018-03-08 16:00:00    56653442\n",
              "2018-03-09 16:00:00    55750355\n",
              "Name: volume, dtype: int64"
            ]
          },
          "metadata": {
            "tags": []
          },
          "execution_count": 200
        }
      ]
    },
    {
      "cell_type": "code",
      "metadata": {
        "colab": {
          "base_uri": "https://localhost:8080/"
        },
        "id": "IVilmyomP3gq",
        "outputId": "59759f3a-1a81-4f4e-b8c4-a9da86945138"
      },
      "source": [
        "apple.resample('M').volume.mean()"
      ],
      "execution_count": 201,
      "outputs": [
        {
          "output_type": "execute_result",
          "data": {
            "text/plain": [
              "date_and_time\n",
              "2018-01-31    50827403.0\n",
              "2018-02-28    64510986.0\n",
              "2018-03-31    56201898.5\n",
              "Freq: M, Name: volume, dtype: float64"
            ]
          },
          "metadata": {
            "tags": []
          },
          "execution_count": 201
        }
      ]
    },
    {
      "cell_type": "markdown",
      "metadata": {
        "id": "7aMdIZumQGXB"
      },
      "source": [
        "One thing worth noticing is that the output has the same index as the last resampling operation, since both price and volume were resampled at the same frequency."
      ]
    },
    {
      "cell_type": "markdown",
      "metadata": {
        "id": "wwQtp9g8O31p"
      },
      "source": [
        "#### Concatenating price and volume\n",
        "Now that we've resampled both the price and volume data, we're going to combine the results into a single DataFrame so that we can study the relationship between price and volume. First, we'll save the two resampled Series as separate objects. One is called monthly_price and the other is called monthly_volume. "
      ]
    },
    {
      "cell_type": "code",
      "metadata": {
        "id": "rkGi4x0-QKf8"
      },
      "source": [
        "monthly_price = apple.resample('M').price.mean()\n",
        "monthly_volume = apple.resample('M').volume.mean()"
      ],
      "execution_count": 202,
      "outputs": []
    },
    {
      "cell_type": "markdown",
      "metadata": {
        "id": "k1Mgx-vBQasc"
      },
      "source": [
        "Then, we'll combine these two objects using the concat() function, which concatenates pandas objects along a specified axis. In this case, we want them to be combined along the columns axis, meaning that we want them side-by-side. Notice that they aligned along their shared index. We'll save this new DataFrame as an object called monthly."
      ]
    },
    {
      "cell_type": "code",
      "metadata": {
        "id": "GTYJARodQec7"
      },
      "source": [
        "monthly = pd.concat([monthly_price, monthly_volume], axis='columns')"
      ],
      "execution_count": 203,
      "outputs": []
    },
    {
      "cell_type": "markdown",
      "metadata": {
        "id": "W-5N-e8PO6Z0"
      },
      "source": [
        "#### Plotting price and volume (1)\n",
        "To visualize the relationship between price and volume, we simply call the plot() method on the monthly DataFrame. pandas outputs a single line plot in which each line represents one of the two columns. Because it's a single plot, the two lines are sharing both the x and y axes. It makes sense for the x-axis to be shared, since we want to compare price and volume by month. "
      ]
    },
    {
      "cell_type": "code",
      "metadata": {
        "colab": {
          "base_uri": "https://localhost:8080/",
          "height": 320
        },
        "id": "dIVCTJtWQy6Y",
        "outputId": "9dfe64f3-daf1-4821-f7e8-1419b124593d"
      },
      "source": [
        "monthly.plot()"
      ],
      "execution_count": 204,
      "outputs": [
        {
          "output_type": "execute_result",
          "data": {
            "text/plain": [
              "<matplotlib.axes._subplots.AxesSubplot at 0x7f42fbf54278>"
            ]
          },
          "metadata": {
            "tags": []
          },
          "execution_count": 204
        },
        {
          "output_type": "display_data",
          "data": {
            "image/png": "[encoded data removed]",
            "text/plain": [
              "<Figure size 432x288 with 1 Axes>"
            ]
          },
          "metadata": {
            "tags": [],
            "needs_background": "light"
          }
        }
      ]
    },
    {
      "cell_type": "markdown",
      "metadata": {
        "id": "VyoWx6UTWOYf"
      },
      "source": [
        "But sharing the y-axis is problematic, because price and volume are on such different scales: price is in the hundreds, and volume is in the tens of millions, represented by the 1e7 notation at the top of the y-axis. Because of the different scales, we can't actually see the price trend."
      ]
    },
    {
      "cell_type": "markdown",
      "metadata": {
        "id": "FLLK6XvPO9Ce"
      },
      "source": [
        "#### Plotting price and volume (2)\n",
        "The solution to this problem is to set the <font color = 'blue'>__subplots__</font> parameter to True, which results in two separate plots with independent y axes. Now we can clearly see the monthly trends for both price and volume. "
      ]
    },
    {
      "cell_type": "code",
      "metadata": {
        "colab": {
          "base_uri": "https://localhost:8080/",
          "height": 284
        },
        "id": "Rsv4NOdwO_XV",
        "outputId": "bbc812b8-7a5a-4be3-9a2f-44feb7e64534"
      },
      "source": [
        "monthly.plot(subplots = True);"
      ],
      "execution_count": 205,
      "outputs": [
        {
          "output_type": "display_data",
          "data": {
            "image/png": "[encoded data removed]",
            "text/plain": [
              "<Figure size 432x288 with 2 Axes>"
            ]
          },
          "metadata": {
            "tags": [],
            "needs_background": "light"
          }
        }
      ]
    },
    {
      "cell_type": "markdown",
      "metadata": {
        "id": "Yrqt5L-1WfzR"
      },
      "source": [
        "They appear to have an direct relationship, though we wouldn't actually draw that conclusion without having a lot more data."
      ]
    },
    {
      "cell_type": "markdown",
      "metadata": {
        "id": "Ypg969BNXeou"
      },
      "source": [
        "### __Chapter 3.3: What violations are caught in each district__\n",
        "---\n",
        "\n",
        "In the last section, we saw how easy it is to create line plots directly from a DataFrame. Now, we're going to make different types of plots from DataFrames."
      ]
    },
    {
      "cell_type": "markdown",
      "metadata": {
        "id": "K7snzXZ7XqWz"
      },
      "source": [
        "#### Computing a frequency table\n",
        "One pandas function that might be new to you is crosstab(), short for cross-tabulation. To use crosstab(), you pass it two pandas Series that represent categories, and it outputs a frequency table in the form of a DataFrame. You can think of a frequency table as a tally of how many times each combination of values occurs in the dataset. In this case, we passed driver_race and driver_gender to crosstab(), and it tells us how many rows contain each combination of race and gender. For example, 551 Asian female drivers were stopped, which you can verify by filtering the DataFrame and checking the shape. Notice that race is along the index of the DataFrame and gender is along the columns, though you could transpose the DataFrame by reversing the order in which race and gender are passed to crosstab(). Let's go ahead and save the frequency table as an object called table."
      ]
    },
    {
      "cell_type": "code",
      "metadata": {
        "colab": {
          "base_uri": "https://localhost:8080/",
          "height": 233
        },
        "id": "PbrARKCVYS6F",
        "outputId": "71590876-5de1-4b24-bef5-b45a0ea898b8"
      },
      "source": [
        "pd.crosstab(ri.driver_race, ri.driver_gender)"
      ],
      "execution_count": 206,
      "outputs": [
        {
          "output_type": "execute_result",
          "data": {
            "text/html": [
              "<div>\n",
              "<style scoped>\n",
              "    .dataframe tbody tr th:only-of-type {\n",
              "        vertical-align: middle;\n",
              "    }\n",
              "\n",
              "    .dataframe tbody tr th {\n",
              "        vertical-align: top;\n",
              "    }\n",
              "\n",
              "    .dataframe thead th {\n",
              "        text-align: right;\n",
              "    }\n",
              "</style>\n",
              "<table border=\"1\" class=\"dataframe\">\n",
              "  <thead>\n",
              "    <tr style=\"text-align: right;\">\n",
              "      <th>driver_gender</th>\n",
              "      <th>F</th>\n",
              "      <th>M</th>\n",
              "    </tr>\n",
              "    <tr>\n",
              "      <th>driver_race</th>\n",
              "      <th></th>\n",
              "      <th></th>\n",
              "    </tr>\n",
              "  </thead>\n",
              "  <tbody>\n",
              "    <tr>\n",
              "      <th>Asian</th>\n",
              "      <td>551</td>\n",
              "      <td>1838</td>\n",
              "    </tr>\n",
              "    <tr>\n",
              "      <th>Black</th>\n",
              "      <td>2681</td>\n",
              "      <td>9604</td>\n",
              "    </tr>\n",
              "    <tr>\n",
              "      <th>Hispanic</th>\n",
              "      <td>1953</td>\n",
              "      <td>7774</td>\n",
              "    </tr>\n",
              "    <tr>\n",
              "      <th>Other</th>\n",
              "      <td>53</td>\n",
              "      <td>212</td>\n",
              "    </tr>\n",
              "    <tr>\n",
              "      <th>White</th>\n",
              "      <td>18536</td>\n",
              "      <td>43334</td>\n",
              "    </tr>\n",
              "  </tbody>\n",
              "</table>\n",
              "</div>"
            ],
            "text/plain": [
              "driver_gender      F      M\n",
              "driver_race                \n",
              "Asian            551   1838\n",
              "Black           2681   9604\n",
              "Hispanic        1953   7774\n",
              "Other             53    212\n",
              "White          18536  43334"
            ]
          },
          "metadata": {
            "tags": []
          },
          "execution_count": 206
        }
      ]
    },
    {
      "cell_type": "code",
      "metadata": {
        "colab": {
          "base_uri": "https://localhost:8080/"
        },
        "id": "akrq2rwgY1Ak",
        "outputId": "3be65190-dc3c-4e4b-db03-100acc3818aa"
      },
      "source": [
        "ri[(ri.driver_race == 'Asian') & (ri.driver_gender == 'F')].shape"
      ],
      "execution_count": 207,
      "outputs": [
        {
          "output_type": "execute_result",
          "data": {
            "text/plain": [
              "(551, 16)"
            ]
          },
          "metadata": {
            "tags": []
          },
          "execution_count": 207
        }
      ]
    },
    {
      "cell_type": "code",
      "metadata": {
        "id": "OMv8jvucZFjE"
      },
      "source": [
        "table = pd.crosstab(ri.driver_race, ri.driver_gender)"
      ],
      "execution_count": 208,
      "outputs": []
    },
    {
      "cell_type": "markdown",
      "metadata": {
        "id": "yYKr-popX_2t"
      },
      "source": [
        "#### Selecting a DataFrame slice\n",
        "As you might recall from previous courses, the loc accessor allows you to select portions of a DataFrame by label. Given our frequency table, let's pretend we wanted to select the Asian through Hispanic rows only. Using loc, we can extract this slice of the DataFrame by specifying the starting and ending labels, separated by a colon. Let's overwrite our existing table object with this smaller DataFrame."
      ]
    },
    {
      "cell_type": "code",
      "metadata": {
        "id": "k8DkDGuXZLDZ"
      },
      "source": [
        "table = table.loc['Asian':'Hispanic']"
      ],
      "execution_count": 209,
      "outputs": []
    },
    {
      "cell_type": "code",
      "metadata": {
        "colab": {
          "base_uri": "https://localhost:8080/",
          "height": 172
        },
        "id": "y-ZlrCtQZfwM",
        "outputId": "8579a66e-e14b-4fea-e797-e0800e35197e"
      },
      "source": [
        "table"
      ],
      "execution_count": 210,
      "outputs": [
        {
          "output_type": "execute_result",
          "data": {
            "text/html": [
              "<div>\n",
              "<style scoped>\n",
              "    .dataframe tbody tr th:only-of-type {\n",
              "        vertical-align: middle;\n",
              "    }\n",
              "\n",
              "    .dataframe tbody tr th {\n",
              "        vertical-align: top;\n",
              "    }\n",
              "\n",
              "    .dataframe thead th {\n",
              "        text-align: right;\n",
              "    }\n",
              "</style>\n",
              "<table border=\"1\" class=\"dataframe\">\n",
              "  <thead>\n",
              "    <tr style=\"text-align: right;\">\n",
              "      <th>driver_gender</th>\n",
              "      <th>F</th>\n",
              "      <th>M</th>\n",
              "    </tr>\n",
              "    <tr>\n",
              "      <th>driver_race</th>\n",
              "      <th></th>\n",
              "      <th></th>\n",
              "    </tr>\n",
              "  </thead>\n",
              "  <tbody>\n",
              "    <tr>\n",
              "      <th>Asian</th>\n",
              "      <td>551</td>\n",
              "      <td>1838</td>\n",
              "    </tr>\n",
              "    <tr>\n",
              "      <th>Black</th>\n",
              "      <td>2681</td>\n",
              "      <td>9604</td>\n",
              "    </tr>\n",
              "    <tr>\n",
              "      <th>Hispanic</th>\n",
              "      <td>1953</td>\n",
              "      <td>7774</td>\n",
              "    </tr>\n",
              "  </tbody>\n",
              "</table>\n",
              "</div>"
            ],
            "text/plain": [
              "driver_gender     F     M\n",
              "driver_race              \n",
              "Asian           551  1838\n",
              "Black          2681  9604\n",
              "Hispanic       1953  7774"
            ]
          },
          "metadata": {
            "tags": []
          },
          "execution_count": 210
        }
      ]
    },
    {
      "cell_type": "markdown",
      "metadata": {
        "id": "IIQRvTJNYCG0"
      },
      "source": [
        "#### Creating a line plot\n",
        "If we plot the table object, we'll get a line plot by default, in which the index is along the x-axis and each column becomes a line. However, a line plot is not appropriate in this case because it implies a change in time along the x-axis, whereas the x-axis actually represents three distinct categories."
      ]
    },
    {
      "cell_type": "code",
      "metadata": {
        "colab": {
          "base_uri": "https://localhost:8080/",
          "height": 282
        },
        "id": "oE8Qg-s4Zi4R",
        "outputId": "8b454652-692b-411a-adf7-b5407db876f2"
      },
      "source": [
        "table.plot()\n",
        "plt.show()"
      ],
      "execution_count": 211,
      "outputs": [
        {
          "output_type": "display_data",
          "data": {
            "image/png": "[encoded data removed]",
            "text/plain": [
              "<Figure size 432x288 with 1 Axes>"
            ]
          },
          "metadata": {
            "tags": [],
            "needs_background": "light"
          }
        }
      ]
    },
    {
      "cell_type": "markdown",
      "metadata": {
        "id": "cPSvj5XEYEYa"
      },
      "source": [
        "#### Creating a bar plot\n",
        "By specifying kind equals bar, you can create a bar plot, which is much more appropriate than a line plot for comparing categorical data. With this plot, the numbers in our frequency table have been converted to bars for which the height represents the magnitude. Each gender has been assigned a color, and the two gender bars for each race are placed next to one another. The bar plot makes it especially easy to see the gender difference within each race. For all three races, we see that the number of males stopped is far greater than the number of females stopped."
      ]
    },
    {
      "cell_type": "code",
      "metadata": {
        "colab": {
          "base_uri": "https://localhost:8080/",
          "height": 314
        },
        "id": "Omw-deHIZiTO",
        "outputId": "864d0cde-6806-4a25-8afa-05f60a53678d"
      },
      "source": [
        "table.plot(kind = 'bar')\n",
        "plt.show()"
      ],
      "execution_count": 212,
      "outputs": [
        {
          "output_type": "display_data",
          "data": {
            "image/png": "[encoded data removed]",
            "text/plain": [
              "<Figure size 432x288 with 1 Axes>"
            ]
          },
          "metadata": {
            "tags": [],
            "needs_background": "light"
          }
        }
      ]
    },
    {
      "cell_type": "markdown",
      "metadata": {
        "id": "dMiw2b5RYHCD"
      },
      "source": [
        "#### Stacking the bars\n",
        "A variation of the bar plot is the stacked bar plot, which you can generate by adding the argument stacked equals True. For each race, the two gender bars are now stacked on top of one another. The strength of this plot is that it helps you to see the total stops for each race, which was not as obvious when the bars were side-by-side. By emphasizing the totals, however, this plot slightly deemphasizes the individual components of each bar, and makes those components harder to compare against one another. Neither type of bar plot is right or wrong, rather you should choose the plot that best helps to answer the question you're asking."
      ]
    },
    {
      "cell_type": "code",
      "metadata": {
        "colab": {
          "base_uri": "https://localhost:8080/",
          "height": 313
        },
        "id": "8BPzcxwbZ8Az",
        "outputId": "58fad531-5928-4794-8e05-8a4f638985c0"
      },
      "source": [
        "table.plot(kind = 'bar', stacked = True)\n",
        "plt.show()"
      ],
      "execution_count": 213,
      "outputs": [
        {
          "output_type": "display_data",
          "data": {
            "image/png": "[encoded data removed]",
            "text/plain": [
              "<Figure size 432x288 with 1 Axes>"
            ]
          },
          "metadata": {
            "tags": [],
            "needs_background": "light"
          }
        }
      ]
    },
    {
      "cell_type": "markdown",
      "metadata": {
        "id": "rg5M21q9aCs6"
      },
      "source": [
        "### __Chapter 3.4: How long might you be stopped for a violation?__\n",
        "\n",
        "In this section, we'll start by learning how to translate strings into data that can be analyzed numerically, and then we'll learn a few easy ways to improve our plots."
      ]
    },
    {
      "cell_type": "markdown",
      "metadata": {
        "id": "g0bBXmBPaS_S"
      },
      "source": [
        "#### Analyzing an object column\n",
        "\n",
        "Let's return again to our DataFrame of Apple stock prices. A new column called change has been added to the DataFrame. It indicates whether the stock price went up or down compared to the previous trading day. Let's pretend we wanted to calculate how often the price went up. One way to do this would be to create a Boolean column that is True if the price went up, and False otherwise. Then we could easily calculate how often the price went up by taking the mean of the Boolean column. But how would we create this column? The change column has the object data type because it contains strings, and previously we've used the astype() method to convert strings to numbers or Booleans. However, astype() only works when pandas can infer how the conversion should be done, and that's not the case here. We'll need to find a different technique."
      ]
    },
    {
      "cell_type": "code",
      "metadata": {
        "id": "FSTSXdf9aYEv"
      },
      "source": [
        "apple['change'] = ['down','up','up','down','up','up']"
      ],
      "execution_count": 214,
      "outputs": []
    },
    {
      "cell_type": "markdown",
      "metadata": {
        "id": "Cy6JZv0CaZQH"
      },
      "source": [
        "* Create a Boolean column: True if the price went up, and False otherwise\n",
        "* Calculate how oen the price went up by taking the column mean\n"
      ]
    },
    {
      "cell_type": "code",
      "metadata": {
        "colab": {
          "base_uri": "https://localhost:8080/"
        },
        "id": "kpaL_Ke2ae8z",
        "outputId": "d3523a60-41a3-4d3c-dd5e-dfc97000db46"
      },
      "source": [
        "apple.change.dtype"
      ],
      "execution_count": 215,
      "outputs": [
        {
          "output_type": "execute_result",
          "data": {
            "text/plain": [
              "dtype('O')"
            ]
          },
          "metadata": {
            "tags": []
          },
          "execution_count": 215
        }
      ]
    },
    {
      "cell_type": "markdown",
      "metadata": {
        "id": "wg8mkX3kbgxq"
      },
      "source": [
        ".astype() can't be used in this case"
      ]
    },
    {
      "cell_type": "markdown",
      "metadata": {
        "id": "9jAxQI3Vbs6f"
      },
      "source": [
        "#### Mapping one set of values to another\n",
        "When you need to map one set of values to another, you can use the Series map() method. You provide it with a dictionary that maps the values you currently have to the values that you want. In this case, we want to map \"up\" to True and \"down\" to False, so we'll create a dictionary called mapping that specifies this. Then, we'll use the map() method on the change column, pass it the mapping object, and store the result in a new column called is_up. When we print the DataFrame, you'll see that the is_up column contains True when the change column says up, and False when the change column says down. "
      ]
    },
    {
      "cell_type": "code",
      "metadata": {
        "colab": {
          "base_uri": "https://localhost:8080/",
          "height": 264
        },
        "id": "ytwB43vabyZl",
        "outputId": "5c6629fe-b4ca-49d0-ff39-b10771656a75"
      },
      "source": [
        "# Dictionary maps the values you have to the values you want\n",
        "mapping = {'up':True,'down':False}\n",
        "apple['is_up'] = apple.change.map(mapping)\n",
        "apple"
      ],
      "execution_count": 216,
      "outputs": [
        {
          "output_type": "execute_result",
          "data": {
            "text/html": [
              "<div>\n",
              "<style scoped>\n",
              "    .dataframe tbody tr th:only-of-type {\n",
              "        vertical-align: middle;\n",
              "    }\n",
              "\n",
              "    .dataframe tbody tr th {\n",
              "        vertical-align: top;\n",
              "    }\n",
              "\n",
              "    .dataframe thead th {\n",
              "        text-align: right;\n",
              "    }\n",
              "</style>\n",
              "<table border=\"1\" class=\"dataframe\">\n",
              "  <thead>\n",
              "    <tr style=\"text-align: right;\">\n",
              "      <th></th>\n",
              "      <th>price</th>\n",
              "      <th>volume</th>\n",
              "      <th>change</th>\n",
              "      <th>is_up</th>\n",
              "    </tr>\n",
              "    <tr>\n",
              "      <th>date_and_time</th>\n",
              "      <th></th>\n",
              "      <th></th>\n",
              "      <th></th>\n",
              "      <th></th>\n",
              "    </tr>\n",
              "  </thead>\n",
              "  <tbody>\n",
              "    <tr>\n",
              "      <th>2018-01-08 16:00:00</th>\n",
              "      <td>177.3</td>\n",
              "      <td>56587377</td>\n",
              "      <td>down</td>\n",
              "      <td>False</td>\n",
              "    </tr>\n",
              "    <tr>\n",
              "      <th>2018-01-09 16:00:00</th>\n",
              "      <td>170.3</td>\n",
              "      <td>45067429</td>\n",
              "      <td>up</td>\n",
              "      <td>True</td>\n",
              "    </tr>\n",
              "    <tr>\n",
              "      <th>2018-02-08 16:00:00</th>\n",
              "      <td>177.3</td>\n",
              "      <td>64541647</td>\n",
              "      <td>up</td>\n",
              "      <td>True</td>\n",
              "    </tr>\n",
              "    <tr>\n",
              "      <th>2018-02-09 16:00:00</th>\n",
              "      <td>178.3</td>\n",
              "      <td>64480325</td>\n",
              "      <td>down</td>\n",
              "      <td>False</td>\n",
              "    </tr>\n",
              "    <tr>\n",
              "      <th>2018-03-08 16:00:00</th>\n",
              "      <td>175.3</td>\n",
              "      <td>56653442</td>\n",
              "      <td>up</td>\n",
              "      <td>True</td>\n",
              "    </tr>\n",
              "    <tr>\n",
              "      <th>2018-03-09 16:00:00</th>\n",
              "      <td>173.3</td>\n",
              "      <td>55750355</td>\n",
              "      <td>up</td>\n",
              "      <td>True</td>\n",
              "    </tr>\n",
              "  </tbody>\n",
              "</table>\n",
              "</div>"
            ],
            "text/plain": [
              "                     price    volume change  is_up\n",
              "date_and_time                                     \n",
              "2018-01-08 16:00:00  177.3  56587377   down  False\n",
              "2018-01-09 16:00:00  170.3  45067429     up   True\n",
              "2018-02-08 16:00:00  177.3  64541647     up   True\n",
              "2018-02-09 16:00:00  178.3  64480325   down  False\n",
              "2018-03-08 16:00:00  175.3  56653442     up   True\n",
              "2018-03-09 16:00:00  173.3  55750355     up   True"
            ]
          },
          "metadata": {
            "tags": []
          },
          "execution_count": 216
        }
      ]
    },
    {
      "cell_type": "markdown",
      "metadata": {
        "id": "I-a6e2Xdcadv"
      },
      "source": [
        "Now that we have a Boolean column, we can calculate how often the price went up by taking the mean() of that column. The answer is that it went up 66.6% of the time."
      ]
    },
    {
      "cell_type": "code",
      "metadata": {
        "colab": {
          "base_uri": "https://localhost:8080/"
        },
        "id": "3mtxqjsvcOg2",
        "outputId": "7d926e8b-f421-458e-f895-18be1ecc431a"
      },
      "source": [
        "apple.is_up.mean()"
      ],
      "execution_count": 217,
      "outputs": [
        {
          "output_type": "execute_result",
          "data": {
            "text/plain": [
              "0.6666666666666666"
            ]
          },
          "metadata": {
            "tags": []
          },
          "execution_count": 217
        }
      ]
    },
    {
      "cell_type": "markdown",
      "metadata": {
        "id": "f8Bhe_WBcTcj"
      },
      "source": [
        "#### Calculating the search rate\n",
        "Now we're going to return to our DataFrame of traffic stops, and shift to a completely separate topic. Let's say that we wanted to visualize how often searches were performed after each type of violation. We would group by violation, and then take the mean() of search_conducted. This calculates the search_rate for each of the six violation types, and returns a Series that is sorted in alphabetical order by violation. We'll save this as an object named search_rate."
      ]
    },
    {
      "cell_type": "code",
      "metadata": {
        "colab": {
          "base_uri": "https://localhost:8080/",
          "height": 309
        },
        "id": "hh5MDww4e221",
        "outputId": "b7bb29ef-1754-4913-eff5-7f35dd5f8e54"
      },
      "source": [
        "ri.head()"
      ],
      "execution_count": 218,
      "outputs": [
        {
          "output_type": "execute_result",
          "data": {
            "text/html": [
              "<div>\n",
              "<style scoped>\n",
              "    .dataframe tbody tr th:only-of-type {\n",
              "        vertical-align: middle;\n",
              "    }\n",
              "\n",
              "    .dataframe tbody tr th {\n",
              "        vertical-align: top;\n",
              "    }\n",
              "\n",
              "    .dataframe thead th {\n",
              "        text-align: right;\n",
              "    }\n",
              "</style>\n",
              "<table border=\"1\" class=\"dataframe\">\n",
              "  <thead>\n",
              "    <tr style=\"text-align: right;\">\n",
              "      <th></th>\n",
              "      <th>state</th>\n",
              "      <th>stop_date</th>\n",
              "      <th>stop_time</th>\n",
              "      <th>driver_gender</th>\n",
              "      <th>driver_race</th>\n",
              "      <th>violation_raw</th>\n",
              "      <th>violation</th>\n",
              "      <th>search_conducted</th>\n",
              "      <th>search_type</th>\n",
              "      <th>stop_outcome</th>\n",
              "      <th>is_arrested</th>\n",
              "      <th>stop_duration</th>\n",
              "      <th>drugs_related_stop</th>\n",
              "      <th>district</th>\n",
              "      <th>is_arrested_numeric</th>\n",
              "      <th>inventory</th>\n",
              "    </tr>\n",
              "  </thead>\n",
              "  <tbody>\n",
              "    <tr>\n",
              "      <th>0</th>\n",
              "      <td>RI</td>\n",
              "      <td>2005-01-04</td>\n",
              "      <td>12:55</td>\n",
              "      <td>M</td>\n",
              "      <td>White</td>\n",
              "      <td>Equipment/Inspection Violation</td>\n",
              "      <td>Equipment</td>\n",
              "      <td>False</td>\n",
              "      <td>NaN</td>\n",
              "      <td>Citation</td>\n",
              "      <td>False</td>\n",
              "      <td>0-15 Min</td>\n",
              "      <td>False</td>\n",
              "      <td>Zone X4</td>\n",
              "      <td>0.0</td>\n",
              "      <td>False</td>\n",
              "    </tr>\n",
              "    <tr>\n",
              "      <th>1</th>\n",
              "      <td>RI</td>\n",
              "      <td>2005-01-23</td>\n",
              "      <td>23:15</td>\n",
              "      <td>M</td>\n",
              "      <td>White</td>\n",
              "      <td>Speeding</td>\n",
              "      <td>Speeding</td>\n",
              "      <td>False</td>\n",
              "      <td>NaN</td>\n",
              "      <td>Citation</td>\n",
              "      <td>False</td>\n",
              "      <td>0-15 Min</td>\n",
              "      <td>False</td>\n",
              "      <td>Zone K3</td>\n",
              "      <td>0.0</td>\n",
              "      <td>False</td>\n",
              "    </tr>\n",
              "    <tr>\n",
              "      <th>2</th>\n",
              "      <td>RI</td>\n",
              "      <td>2005-02-17</td>\n",
              "      <td>04:15</td>\n",
              "      <td>M</td>\n",
              "      <td>White</td>\n",
              "      <td>Speeding</td>\n",
              "      <td>Speeding</td>\n",
              "      <td>False</td>\n",
              "      <td>NaN</td>\n",
              "      <td>Citation</td>\n",
              "      <td>False</td>\n",
              "      <td>0-15 Min</td>\n",
              "      <td>False</td>\n",
              "      <td>Zone X4</td>\n",
              "      <td>0.0</td>\n",
              "      <td>False</td>\n",
              "    </tr>\n",
              "    <tr>\n",
              "      <th>3</th>\n",
              "      <td>RI</td>\n",
              "      <td>2005-02-20</td>\n",
              "      <td>17:15</td>\n",
              "      <td>M</td>\n",
              "      <td>White</td>\n",
              "      <td>Call for Service</td>\n",
              "      <td>Other</td>\n",
              "      <td>False</td>\n",
              "      <td>NaN</td>\n",
              "      <td>Arrest Driver</td>\n",
              "      <td>True</td>\n",
              "      <td>16-30 Min</td>\n",
              "      <td>False</td>\n",
              "      <td>Zone X1</td>\n",
              "      <td>1.0</td>\n",
              "      <td>False</td>\n",
              "    </tr>\n",
              "    <tr>\n",
              "      <th>4</th>\n",
              "      <td>RI</td>\n",
              "      <td>2005-02-24</td>\n",
              "      <td>01:20</td>\n",
              "      <td>F</td>\n",
              "      <td>White</td>\n",
              "      <td>Speeding</td>\n",
              "      <td>Speeding</td>\n",
              "      <td>False</td>\n",
              "      <td>NaN</td>\n",
              "      <td>Citation</td>\n",
              "      <td>False</td>\n",
              "      <td>0-15 Min</td>\n",
              "      <td>False</td>\n",
              "      <td>Zone X3</td>\n",
              "      <td>0.0</td>\n",
              "      <td>False</td>\n",
              "    </tr>\n",
              "  </tbody>\n",
              "</table>\n",
              "</div>"
            ],
            "text/plain": [
              "  state   stop_date stop_time  ... district is_arrested_numeric inventory\n",
              "0    RI  2005-01-04     12:55  ...  Zone X4                 0.0     False\n",
              "1    RI  2005-01-23     23:15  ...  Zone K3                 0.0     False\n",
              "2    RI  2005-02-17     04:15  ...  Zone X4                 0.0     False\n",
              "3    RI  2005-02-20     17:15  ...  Zone X1                 1.0     False\n",
              "4    RI  2005-02-24     01:20  ...  Zone X3                 0.0     False\n",
              "\n",
              "[5 rows x 16 columns]"
            ]
          },
          "metadata": {
            "tags": []
          },
          "execution_count": 218
        }
      ]
    },
    {
      "cell_type": "code",
      "metadata": {
        "id": "TmkMkdMMe9J0"
      },
      "source": [
        "search_rate = ri.groupby('violation').search_conducted.mean()"
      ],
      "execution_count": 219,
      "outputs": []
    },
    {
      "cell_type": "markdown",
      "metadata": {
        "id": "OZsy63hMfAdC"
      },
      "source": [
        "#### Creating a bar plot\n",
        "To visualize the search rate, we'll create a bar plot since we're comparing the search rate across categories. The violations are displayed on the x-axis, and the search rate is on the y-axis. This plot looks okay, but there are two simple changes we can make that will make this plot more effective."
      ]
    },
    {
      "cell_type": "code",
      "metadata": {
        "colab": {
          "base_uri": "https://localhost:8080/",
          "height": 380
        },
        "id": "dHCSZ7IbfN_X",
        "outputId": "9709df7d-e442-4946-ed3e-820d7719dae0"
      },
      "source": [
        "search_rate.plot(kind = 'bar')"
      ],
      "execution_count": 220,
      "outputs": [
        {
          "output_type": "execute_result",
          "data": {
            "text/plain": [
              "<matplotlib.axes._subplots.AxesSubplot at 0x7f42fbcafcf8>"
            ]
          },
          "metadata": {
            "tags": []
          },
          "execution_count": 220
        },
        {
          "output_type": "display_data",
          "data": {
            "image/png": "[encoded data removed]",
            "text/plain": [
              "<Figure size 432x288 with 1 Axes>"
            ]
          },
          "metadata": {
            "tags": [],
            "needs_background": "light"
          }
        }
      ]
    },
    {
      "cell_type": "markdown",
      "metadata": {
        "id": "Ko_TCCQMfUNs"
      },
      "source": [
        "#### Ordering the bars (1)\n",
        "The first improvement we can make is to order the bars from left to right by size, which will make the plot easier to understand. All we need to do is to use the sort_values() method to sort the search_rate Series in ascending order."
      ]
    },
    {
      "cell_type": "code",
      "metadata": {
        "colab": {
          "base_uri": "https://localhost:8080/"
        },
        "id": "eSWlLv8Nfc-P",
        "outputId": "413f25f7-8aea-4542-cecc-79ff46b9830c"
      },
      "source": [
        "search_rate.sort_values()"
      ],
      "execution_count": 221,
      "outputs": [
        {
          "output_type": "execute_result",
          "data": {
            "text/plain": [
              "violation\n",
              "Speeding               0.021560\n",
              "Seat belt              0.031513\n",
              "Other                  0.045351\n",
              "Moving violation       0.057014\n",
              "Equipment              0.064274\n",
              "Registration/plates    0.093438\n",
              "Name: search_conducted, dtype: float64"
            ]
          },
          "metadata": {
            "tags": []
          },
          "execution_count": 221
        }
      ]
    },
    {
      "cell_type": "markdown",
      "metadata": {
        "id": "BRqIUTxCfnwY"
      },
      "source": [
        "#### Ordering the bars (2)\n",
        "Then, when we call the plot method on the sorted data, the bars are now ordered. This makes it easy to see which violations have the highest and the lowest search rates."
      ]
    },
    {
      "cell_type": "code",
      "metadata": {
        "colab": {
          "base_uri": "https://localhost:8080/",
          "height": 362
        },
        "id": "AYEWGXhDfsIm",
        "outputId": "7d6e0454-41af-438d-ade3-d52a3a41a89f"
      },
      "source": [
        "search_rate.sort_values().plot(kind = 'bar');"
      ],
      "execution_count": 222,
      "outputs": [
        {
          "output_type": "display_data",
          "data": {
            "image/png": "[encoded data removed]",
            "text/plain": [
              "<Figure size 432x288 with 1 Axes>"
            ]
          },
          "metadata": {
            "tags": [],
            "needs_background": "light"
          }
        }
      ]
    },
    {
      "cell_type": "markdown",
      "metadata": {
        "id": "2L22IJ_cf_XS"
      },
      "source": [
        "#### Rotating the bars\n",
        "The second improvement we can make is to change the kind argument from __bar to barh__, which will rotate the bars so that they're horizontal. This makes it much easier to read the labels for each bar."
      ]
    },
    {
      "cell_type": "code",
      "metadata": {
        "colab": {
          "base_uri": "https://localhost:8080/",
          "height": 265
        },
        "id": "IdjLmBxqgI-z",
        "outputId": "f941bd62-abae-4e04-981e-7587d7f9df70"
      },
      "source": [
        "search_rate.sort_values().plot(kind = 'barh');"
      ],
      "execution_count": 223,
      "outputs": [
        {
          "output_type": "display_data",
          "data": {
            "image/png": "[encoded data removed]",
            "text/plain": [
              "<Figure size 432x288 with 1 Axes>"
            ]
          },
          "metadata": {
            "tags": [],
            "needs_background": "light"
          }
        }
      ]
    },
    {
      "cell_type": "code",
      "metadata": {
        "id": "g3Ffx6PeoMyV"
      },
      "source": [
        "ri['stop_datetime'] = ri.stop_date.str.cat(ri.stop_time , sep = ' ')\n",
        "ri['stop_datetime'] = pd.to_datetime(ri.stop_datetime)\n",
        "ri.set_index('stop_datetime',inplace = True)"
      ],
      "execution_count": 224,
      "outputs": []
    },
    {
      "cell_type": "markdown",
      "metadata": {
        "id": "QAvgS1AEgNrJ"
      },
      "source": [
        "## <font color = 'blue'> __Chapter: 4. Analyzing the effect of weather on policing__ </font>\n",
        "---\n",
        "\n",
        "In this chapter, you will use a second dataset to explore the impact of weather conditions on police behavior during traffic stops. You will practice merging and reshaping datasets, assessing whether a data source is trustworthy, working with categorical data, and other advanced skills."
      ]
    },
    {
      "cell_type": "markdown",
      "metadata": {
        "id": "QjC9czigMNYF"
      },
      "source": [
        "### __Chapter: 4.1. Exploring the weather dataset__\n",
        "---\n",
        "In the first three chapters, you analyzed a dataset of traffic stops from the state of Rhode Island. In this chapter, you'll be working with a new dataset to help you determine if weather conditions have an impact on police behavior."
      ]
    },
    {
      "cell_type": "markdown",
      "metadata": {
        "id": "MkMp2TBDMoYE"
      },
      "source": [
        "#### Introduction to the dataset\n",
        "The weather data you'll be using was collected by the National Centers for Environmental Information. Our hypothesis is that weather conditions impact police behavior during traffic stops, so ideally we would look up the historical weather at the location of each stop. However, the traffic stops dataset does not specify stop location, so we're going to use the data from a single weather station near the center of Rhode Island. This is not ideal, but Rhode Island is the smallest US state and so a single station will still give us a general idea of the weather throughout the state."
      ]
    },
    {
      "cell_type": "markdown",
      "metadata": {
        "id": "bXXA2DuAO3Sm"
      },
      "source": [
        "![image.png](data:image/png;base64,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)"
      ]
    },
    {
      "cell_type": "markdown",
      "metadata": {
        "id": "ETI2B48gMupo"
      },
      "source": [
        "#### Examining the columns\n",
        "Let's read the weather dataset into a DataFrame using read_csv(), and then look at the head. You can see that the station column lists the station ID, and there's one row for each date. There are three columns related to temperature, two columns related to wind speed, and 20 columns related to the presence of certain bad weather conditions."
      ]
    },
    {
      "cell_type": "code",
      "metadata": {
        "colab": {
          "base_uri": "https://localhost:8080/",
          "height": 141
        },
        "id": "f6aZl69-QcU_",
        "outputId": "19d3353b-d770-4cae-a5ab-955ea50958d2"
      },
      "source": [
        "weather = pd.read_csv('https://assets.datacamp.com/production/repositories/1497/datasets/02f3fb2d4416d3f6626e1117688e0386784e8e55/weather.csv')\n",
        "weather.head(3)"
      ],
      "execution_count": 225,
      "outputs": [
        {
          "output_type": "execute_result",
          "data": {
            "text/html": [
              "<div>\n",
              "<style scoped>\n",
              "    .dataframe tbody tr th:only-of-type {\n",
              "        vertical-align: middle;\n",
              "    }\n",
              "\n",
              "    .dataframe tbody tr th {\n",
              "        vertical-align: top;\n",
              "    }\n",
              "\n",
              "    .dataframe thead th {\n",
              "        text-align: right;\n",
              "    }\n",
              "</style>\n",
              "<table border=\"1\" class=\"dataframe\">\n",
              "  <thead>\n",
              "    <tr style=\"text-align: right;\">\n",
              "      <th></th>\n",
              "      <th>STATION</th>\n",
              "      <th>DATE</th>\n",
              "      <th>TAVG</th>\n",
              "      <th>TMIN</th>\n",
              "      <th>TMAX</th>\n",
              "      <th>AWND</th>\n",
              "      <th>WSF2</th>\n",
              "      <th>WT01</th>\n",
              "      <th>WT02</th>\n",
              "      <th>WT03</th>\n",
              "      <th>WT04</th>\n",
              "      <th>WT05</th>\n",
              "      <th>WT06</th>\n",
              "      <th>WT07</th>\n",
              "      <th>WT08</th>\n",
              "      <th>WT09</th>\n",
              "      <th>WT10</th>\n",
              "      <th>WT11</th>\n",
              "      <th>WT13</th>\n",
              "      <th>WT14</th>\n",
              "      <th>WT15</th>\n",
              "      <th>WT16</th>\n",
              "      <th>WT17</th>\n",
              "      <th>WT18</th>\n",
              "      <th>WT19</th>\n",
              "      <th>WT21</th>\n",
              "      <th>WT22</th>\n",
              "    </tr>\n",
              "  </thead>\n",
              "  <tbody>\n",
              "    <tr>\n",
              "      <th>0</th>\n",
              "      <td>USW00014765</td>\n",
              "      <td>2005-01-01</td>\n",
              "      <td>44.0</td>\n",
              "      <td>35</td>\n",
              "      <td>53</td>\n",
              "      <td>8.95</td>\n",
              "      <td>25.1</td>\n",
              "      <td>1.0</td>\n",
              "      <td>NaN</td>\n",
              "      <td>NaN</td>\n",
              "      <td>NaN</td>\n",
              "      <td>NaN</td>\n",
              "      <td>NaN</td>\n",
              "      <td>NaN</td>\n",
              "      <td>NaN</td>\n",
              "      <td>NaN</td>\n",
              "      <td>NaN</td>\n",
              "      <td>NaN</td>\n",
              "      <td>1.0</td>\n",
              "      <td>NaN</td>\n",
              "      <td>NaN</td>\n",
              "      <td>NaN</td>\n",
              "      <td>NaN</td>\n",
              "      <td>NaN</td>\n",
              "      <td>NaN</td>\n",
              "      <td>NaN</td>\n",
              "      <td>NaN</td>\n",
              "    </tr>\n",
              "    <tr>\n",
              "      <th>1</th>\n",
              "      <td>USW00014765</td>\n",
              "      <td>2005-01-02</td>\n",
              "      <td>36.0</td>\n",
              "      <td>28</td>\n",
              "      <td>44</td>\n",
              "      <td>9.40</td>\n",
              "      <td>14.1</td>\n",
              "      <td>NaN</td>\n",
              "      <td>NaN</td>\n",
              "      <td>NaN</td>\n",
              "      <td>NaN</td>\n",
              "      <td>NaN</td>\n",
              "      <td>NaN</td>\n",
              "      <td>NaN</td>\n",
              "      <td>NaN</td>\n",
              "      <td>NaN</td>\n",
              "      <td>NaN</td>\n",
              "      <td>NaN</td>\n",
              "      <td>NaN</td>\n",
              "      <td>NaN</td>\n",
              "      <td>NaN</td>\n",
              "      <td>1.0</td>\n",
              "      <td>NaN</td>\n",
              "      <td>1.0</td>\n",
              "      <td>NaN</td>\n",
              "      <td>NaN</td>\n",
              "      <td>NaN</td>\n",
              "    </tr>\n",
              "    <tr>\n",
              "      <th>2</th>\n",
              "      <td>USW00014765</td>\n",
              "      <td>2005-01-03</td>\n",
              "      <td>49.0</td>\n",
              "      <td>44</td>\n",
              "      <td>53</td>\n",
              "      <td>6.93</td>\n",
              "      <td>17.0</td>\n",
              "      <td>1.0</td>\n",
              "      <td>NaN</td>\n",
              "      <td>NaN</td>\n",
              "      <td>NaN</td>\n",
              "      <td>NaN</td>\n",
              "      <td>NaN</td>\n",
              "      <td>NaN</td>\n",
              "      <td>NaN</td>\n",
              "      <td>NaN</td>\n",
              "      <td>NaN</td>\n",
              "      <td>NaN</td>\n",
              "      <td>1.0</td>\n",
              "      <td>NaN</td>\n",
              "      <td>NaN</td>\n",
              "      <td>1.0</td>\n",
              "      <td>NaN</td>\n",
              "      <td>NaN</td>\n",
              "      <td>NaN</td>\n",
              "      <td>NaN</td>\n",
              "      <td>NaN</td>\n",
              "    </tr>\n",
              "  </tbody>\n",
              "</table>\n",
              "</div>"
            ],
            "text/plain": [
              "       STATION        DATE  TAVG  TMIN  TMAX  ...  WT17  WT18  WT19  WT21  WT22\n",
              "0  USW00014765  2005-01-01  44.0    35    53  ...   NaN   NaN   NaN   NaN   NaN\n",
              "1  USW00014765  2005-01-02  36.0    28    44  ...   NaN   1.0   NaN   NaN   NaN\n",
              "2  USW00014765  2005-01-03  49.0    44    53  ...   NaN   NaN   NaN   NaN   NaN\n",
              "\n",
              "[3 rows x 27 columns]"
            ]
          },
          "metadata": {
            "tags": []
          },
          "execution_count": 225
        }
      ]
    },
    {
      "cell_type": "markdown",
      "metadata": {
        "id": "4IT8rq0TQ2tU"
      },
      "source": [
        "* TAVG , TMIN , TMAX : Temperature \n",
        "* AWND , WSF2 : Wind speed\n",
        "* WT01 ... WT22 : Bad weather conditions"
      ]
    },
    {
      "cell_type": "markdown",
      "metadata": {
        "id": "PGEWUfl0Mw69"
      },
      "source": [
        "#### Examining the wind speed\n",
        "Before using a new dataset, it's a good practice to explore the data to check that the values seem reasonable. If you don't find anything unreasonable, then you gain increased confidence that the data is trustworthy. For example, let's take a look at the two columns related to wind speed. \n",
        "\n",
        "* AWND is average wind speed in miles per hour, and \n",
        "* WSF2 is the fastest 2-minute wind speed, meaning the fastest wind speed during any 2-minute period. \n",
        "\n"
      ]
    },
    {
      "cell_type": "code",
      "metadata": {
        "colab": {
          "base_uri": "https://localhost:8080/",
          "height": 202
        },
        "id": "TyztKlv8RpPr",
        "outputId": "7bd937e1-91cd-4da3-d9da-8593942ad67d"
      },
      "source": [
        "weather[['AWND','WSF2']].head()"
      ],
      "execution_count": 226,
      "outputs": [
        {
          "output_type": "execute_result",
          "data": {
            "text/html": [
              "<div>\n",
              "<style scoped>\n",
              "    .dataframe tbody tr th:only-of-type {\n",
              "        vertical-align: middle;\n",
              "    }\n",
              "\n",
              "    .dataframe tbody tr th {\n",
              "        vertical-align: top;\n",
              "    }\n",
              "\n",
              "    .dataframe thead th {\n",
              "        text-align: right;\n",
              "    }\n",
              "</style>\n",
              "<table border=\"1\" class=\"dataframe\">\n",
              "  <thead>\n",
              "    <tr style=\"text-align: right;\">\n",
              "      <th></th>\n",
              "      <th>AWND</th>\n",
              "      <th>WSF2</th>\n",
              "    </tr>\n",
              "  </thead>\n",
              "  <tbody>\n",
              "    <tr>\n",
              "      <th>0</th>\n",
              "      <td>8.95</td>\n",
              "      <td>25.1</td>\n",
              "    </tr>\n",
              "    <tr>\n",
              "      <th>1</th>\n",
              "      <td>9.40</td>\n",
              "      <td>14.1</td>\n",
              "    </tr>\n",
              "    <tr>\n",
              "      <th>2</th>\n",
              "      <td>6.93</td>\n",
              "      <td>17.0</td>\n",
              "    </tr>\n",
              "    <tr>\n",
              "      <th>3</th>\n",
              "      <td>6.93</td>\n",
              "      <td>16.1</td>\n",
              "    </tr>\n",
              "    <tr>\n",
              "      <th>4</th>\n",
              "      <td>7.83</td>\n",
              "      <td>17.0</td>\n",
              "    </tr>\n",
              "  </tbody>\n",
              "</table>\n",
              "</div>"
            ],
            "text/plain": [
              "   AWND  WSF2\n",
              "0  8.95  25.1\n",
              "1  9.40  14.1\n",
              "2  6.93  17.0\n",
              "3  6.93  16.1\n",
              "4  7.83  17.0"
            ]
          },
          "metadata": {
            "tags": []
          },
          "execution_count": 226
        }
      ]
    },
    {
      "cell_type": "markdown",
      "metadata": {
        "id": "pH6ijWkTSDen"
      },
      "source": [
        "We can use the describe() method on these two columns to see summary statistics including the minimum, maximum, and 25th through 75th percentiles."
      ]
    },
    {
      "cell_type": "code",
      "metadata": {
        "colab": {
          "base_uri": "https://localhost:8080/",
          "height": 294
        },
        "id": "yHWsE2LWR3hy",
        "outputId": "30b445dc-0207-4f4e-cc42-b5ba68c8dacd"
      },
      "source": [
        "weather[['AWND','WSF2']].describe()"
      ],
      "execution_count": 227,
      "outputs": [
        {
          "output_type": "execute_result",
          "data": {
            "text/html": [
              "<div>\n",
              "<style scoped>\n",
              "    .dataframe tbody tr th:only-of-type {\n",
              "        vertical-align: middle;\n",
              "    }\n",
              "\n",
              "    .dataframe tbody tr th {\n",
              "        vertical-align: top;\n",
              "    }\n",
              "\n",
              "    .dataframe thead th {\n",
              "        text-align: right;\n",
              "    }\n",
              "</style>\n",
              "<table border=\"1\" class=\"dataframe\">\n",
              "  <thead>\n",
              "    <tr style=\"text-align: right;\">\n",
              "      <th></th>\n",
              "      <th>AWND</th>\n",
              "      <th>WSF2</th>\n",
              "    </tr>\n",
              "  </thead>\n",
              "  <tbody>\n",
              "    <tr>\n",
              "      <th>count</th>\n",
              "      <td>4017.000000</td>\n",
              "      <td>4017.000000</td>\n",
              "    </tr>\n",
              "    <tr>\n",
              "      <th>mean</th>\n",
              "      <td>8.593707</td>\n",
              "      <td>19.274782</td>\n",
              "    </tr>\n",
              "    <tr>\n",
              "      <th>std</th>\n",
              "      <td>3.364601</td>\n",
              "      <td>5.623866</td>\n",
              "    </tr>\n",
              "    <tr>\n",
              "      <th>min</th>\n",
              "      <td>0.220000</td>\n",
              "      <td>4.900000</td>\n",
              "    </tr>\n",
              "    <tr>\n",
              "      <th>25%</th>\n",
              "      <td>6.260000</td>\n",
              "      <td>15.000000</td>\n",
              "    </tr>\n",
              "    <tr>\n",
              "      <th>50%</th>\n",
              "      <td>8.050000</td>\n",
              "      <td>17.900000</td>\n",
              "    </tr>\n",
              "    <tr>\n",
              "      <th>75%</th>\n",
              "      <td>10.290000</td>\n",
              "      <td>21.900000</td>\n",
              "    </tr>\n",
              "    <tr>\n",
              "      <th>max</th>\n",
              "      <td>26.840000</td>\n",
              "      <td>48.100000</td>\n",
              "    </tr>\n",
              "  </tbody>\n",
              "</table>\n",
              "</div>"
            ],
            "text/plain": [
              "              AWND         WSF2\n",
              "count  4017.000000  4017.000000\n",
              "mean      8.593707    19.274782\n",
              "std       3.364601     5.623866\n",
              "min       0.220000     4.900000\n",
              "25%       6.260000    15.000000\n",
              "50%       8.050000    17.900000\n",
              "75%      10.290000    21.900000\n",
              "max      26.840000    48.100000"
            ]
          },
          "metadata": {
            "tags": []
          },
          "execution_count": 227
        }
      ]
    },
    {
      "cell_type": "markdown",
      "metadata": {
        "id": "D_jbMx05Q_UF"
      },
      "source": [
        "Notice that the minimum values are above zero, and the fastest wind speed values are greater than the average wind speed values. Also, the numbers seem reasonable given that they are measured in miles per hour. These are all simple signs that the data is trustworthy."
      ]
    },
    {
      "cell_type": "markdown",
      "metadata": {
        "id": "9CA7e_U3MzU7"
      },
      "source": [
        "#### Creating a box plot\n",
        "Another way to examine these values is with a box plot, by specifying kind equals box when plotting. This is essentially a visual representation of the summary statistics, in that the box represents the 25th through 75th percentiles, and the lines below and above the box represent the minimum and maximum values, excluding the outliers represented by circles. Again, our goal here is simply to validate that the data looks reasonable."
      ]
    },
    {
      "cell_type": "code",
      "metadata": {
        "colab": {
          "base_uri": "https://localhost:8080/",
          "height": 266
        },
        "id": "UrM4yQWsS7uw",
        "outputId": "6480b8c3-4d61-4789-f1c7-6b3557dc13c4"
      },
      "source": [
        "weather[['AWND','WSF2']].plot(kind = 'box')\n",
        "plt.show()"
      ],
      "execution_count": 228,
      "outputs": [
        {
          "output_type": "display_data",
          "data": {
            "image/png": "[encoded data removed]",
            "text/plain": [
              "<Figure size 432x288 with 1 Axes>"
            ]
          },
          "metadata": {
            "tags": [],
            "needs_background": "light"
          }
        }
      ]
    },
    {
      "cell_type": "markdown",
      "metadata": {
        "id": "cuY88e04M23U"
      },
      "source": [
        "#### Creating a histogram (1)\n",
        "It would also be useful to validate that the fastest wind speed values are greater than the average values for every single row. We'll do this by subtracting the average speed from the fastest speed and storing the results in a new column. We'll visualize the new column using a histogram so that we can see its distribution. "
      ]
    },
    {
      "cell_type": "code",
      "metadata": {
        "colab": {
          "base_uri": "https://localhost:8080/",
          "height": 265
        },
        "id": "LDjSOqZFfmRV",
        "outputId": "dac155c6-8970-4594-aed9-326b84b5282b"
      },
      "source": [
        "weather['WDIFF'] = weather.WSF2 - weather.AWND\n",
        "weather.WDIFF.plot(kind = 'hist')\n",
        "plt.show()"
      ],
      "execution_count": 229,
      "outputs": [
        {
          "output_type": "display_data",
          "data": {
            "image/png": "[encoded data removed]",
            "text/plain": [
              "<Figure size 432x288 with 1 Axes>"
            ]
          },
          "metadata": {
            "tags": [],
            "needs_background": "light"
          }
        }
      ]
    },
    {
      "cell_type": "markdown",
      "metadata": {
        "id": "qU27e_KPgA0b"
      },
      "source": [
        "There are no values below zero, which is a good sign. But because there are some extreme values, it's hard to clearly see the shape of the distribution."
      ]
    },
    {
      "cell_type": "markdown",
      "metadata": {
        "id": "VbGM-coTM62e"
      },
      "source": [
        "#### Creating a histogram (2)\n",
        "We can make the shape more clear by changing the number of histogram bins to 20. This creates more narrow bins than the default value of 10. "
      ]
    },
    {
      "cell_type": "code",
      "metadata": {
        "colab": {
          "base_uri": "https://localhost:8080/",
          "height": 265
        },
        "id": "5MEfzBuXgCTu",
        "outputId": "e27919e2-3dd4-4ca9-81ff-6739ec499e60"
      },
      "source": [
        "weather.WDIFF.plot(kind = 'hist',bins = 20)\n",
        "plt.show()"
      ],
      "execution_count": 230,
      "outputs": [
        {
          "output_type": "display_data",
          "data": {
            "image/png": "[encoded data removed]",
            "text/plain": [
              "<Figure size 432x288 with 1 Axes>"
            ]
          },
          "metadata": {
            "tags": [],
            "needs_background": "light"
          }
        }
      ]
    },
    {
      "cell_type": "markdown",
      "metadata": {
        "id": "AgMijsGRgNMq"
      },
      "source": [
        "We can now see that the difference between the fastest and average wind speed values has an approximately normal shape. Many natural phenomena have a normal distribution, and so this shape is another sign that the dataset is trustworthy."
      ]
    },
    {
      "cell_type": "markdown",
      "metadata": {
        "id": "f09R9F_lNCH2"
      },
      "source": [
        "### __Chapter: 4.2. Categorizing the weather__\n",
        "---\n",
        "Now that we've reviewed the weather dataset and concluded that it's a trustworthy source, we can start preparing it for analysis. But first, let's review a few pandas techniques we'll be using."
      ]
    },
    {
      "cell_type": "markdown",
      "metadata": {
        "id": "WTFOZsuKNP-w"
      },
      "source": [
        "#### Selecting a DataFrame slice (1)\n",
        "The weather DataFrame has 4,017 rows and 28 columns. Let's say that we wanted to copy the three temperature columns to a new DataFrame called temp. How might we do this?"
      ]
    },
    {
      "cell_type": "code",
      "metadata": {
        "colab": {
          "base_uri": "https://localhost:8080/"
        },
        "id": "9WrKgwb5gWbm",
        "outputId": "4917d375-6511-4baa-c1a3-19c1df6dad69"
      },
      "source": [
        "weather.shape"
      ],
      "execution_count": 231,
      "outputs": [
        {
          "output_type": "execute_result",
          "data": {
            "text/plain": [
              "(4017, 28)"
            ]
          },
          "metadata": {
            "tags": []
          },
          "execution_count": 231
        }
      ]
    },
    {
      "cell_type": "code",
      "metadata": {
        "colab": {
          "base_uri": "https://localhost:8080/"
        },
        "id": "rUjqH9l4gcb5",
        "outputId": "0abb9d68-35a0-4a31-8aa5-64b702314130"
      },
      "source": [
        "weather.columns"
      ],
      "execution_count": 232,
      "outputs": [
        {
          "output_type": "execute_result",
          "data": {
            "text/plain": [
              "Index(['STATION', 'DATE', 'TAVG', 'TMIN', 'TMAX', 'AWND', 'WSF2', 'WT01',\n",
              "       'WT02', 'WT03', 'WT04', 'WT05', 'WT06', 'WT07', 'WT08', 'WT09', 'WT10',\n",
              "       'WT11', 'WT13', 'WT14', 'WT15', 'WT16', 'WT17', 'WT18', 'WT19', 'WT21',\n",
              "       'WT22', 'WDIFF'],\n",
              "      dtype='object')"
            ]
          },
          "metadata": {
            "tags": []
          },
          "execution_count": 232
        }
      ]
    },
    {
      "cell_type": "markdown",
      "metadata": {
        "id": "5qQjh2pbNS7H"
      },
      "source": [
        "#### Selecting a DataFrame slice (2)\n",
        "You might recall that the loc accessor allows you to extract a DataFrame slice by specifying the starting and ending labels of your desired selection. In this case, \n",
        "\n",
        "* We'll select all rows (represented by the first colon) and \n",
        "* The columns TAVG through TMAX and save them to temp. \n",
        "\n"
      ]
    },
    {
      "cell_type": "code",
      "metadata": {
        "id": "7Bui_829gh_z"
      },
      "source": [
        "temp = weather.loc[:,'TAVG':'TMAX']"
      ],
      "execution_count": 233,
      "outputs": []
    },
    {
      "cell_type": "code",
      "metadata": {
        "colab": {
          "base_uri": "https://localhost:8080/"
        },
        "id": "-9KmYqWRgxmV",
        "outputId": "a2ed3353-eaab-46d3-b8c5-66ac85d22a14"
      },
      "source": [
        "temp.shape"
      ],
      "execution_count": 234,
      "outputs": [
        {
          "output_type": "execute_result",
          "data": {
            "text/plain": [
              "(4017, 3)"
            ]
          },
          "metadata": {
            "tags": []
          },
          "execution_count": 234
        }
      ]
    },
    {
      "cell_type": "markdown",
      "metadata": {
        "id": "L5qzrWXjhLrU"
      },
      "source": [
        "You can see that the temp DataFrame contains all 4,017 rows but just 3 columns. This method is particularly useful when you need to select a large number of columns that are side-by-side."
      ]
    },
    {
      "cell_type": "markdown",
      "metadata": {
        "id": "qWYHsVl-NU1k"
      },
      "source": [
        "#### DataFrame operations\n",
        "Let's take a look at the head of temp. \n",
        "\n",
        "* What would happen if you used the sum() method on the DataFrame? pandas will actually return the sum of each of the three columns. \n",
        "\n",
        "* But what if you wanted to calculate the sum of each row? You can do this by specifying axis equals columns, and you'll see that each value is the sum of the three temperature values in that row. \n"
      ]
    },
    {
      "cell_type": "code",
      "metadata": {
        "colab": {
          "base_uri": "https://localhost:8080/",
          "height": 202
        },
        "id": "x7hYoauQhPuu",
        "outputId": "a58acff2-6326-4f02-d6b8-2c59645cc1af"
      },
      "source": [
        "# head of temp\n",
        "temp.head()"
      ],
      "execution_count": 235,
      "outputs": [
        {
          "output_type": "execute_result",
          "data": {
            "text/html": [
              "<div>\n",
              "<style scoped>\n",
              "    .dataframe tbody tr th:only-of-type {\n",
              "        vertical-align: middle;\n",
              "    }\n",
              "\n",
              "    .dataframe tbody tr th {\n",
              "        vertical-align: top;\n",
              "    }\n",
              "\n",
              "    .dataframe thead th {\n",
              "        text-align: right;\n",
              "    }\n",
              "</style>\n",
              "<table border=\"1\" class=\"dataframe\">\n",
              "  <thead>\n",
              "    <tr style=\"text-align: right;\">\n",
              "      <th></th>\n",
              "      <th>TAVG</th>\n",
              "      <th>TMIN</th>\n",
              "      <th>TMAX</th>\n",
              "    </tr>\n",
              "  </thead>\n",
              "  <tbody>\n",
              "    <tr>\n",
              "      <th>0</th>\n",
              "      <td>44.0</td>\n",
              "      <td>35</td>\n",
              "      <td>53</td>\n",
              "    </tr>\n",
              "    <tr>\n",
              "      <th>1</th>\n",
              "      <td>36.0</td>\n",
              "      <td>28</td>\n",
              "      <td>44</td>\n",
              "    </tr>\n",
              "    <tr>\n",
              "      <th>2</th>\n",
              "      <td>49.0</td>\n",
              "      <td>44</td>\n",
              "      <td>53</td>\n",
              "    </tr>\n",
              "    <tr>\n",
              "      <th>3</th>\n",
              "      <td>42.0</td>\n",
              "      <td>39</td>\n",
              "      <td>45</td>\n",
              "    </tr>\n",
              "    <tr>\n",
              "      <th>4</th>\n",
              "      <td>36.0</td>\n",
              "      <td>28</td>\n",
              "      <td>43</td>\n",
              "    </tr>\n",
              "  </tbody>\n",
              "</table>\n",
              "</div>"
            ],
            "text/plain": [
              "   TAVG  TMIN  TMAX\n",
              "0  44.0    35    53\n",
              "1  36.0    28    44\n",
              "2  49.0    44    53\n",
              "3  42.0    39    45\n",
              "4  36.0    28    43"
            ]
          },
          "metadata": {
            "tags": []
          },
          "execution_count": 235
        }
      ]
    },
    {
      "cell_type": "code",
      "metadata": {
        "colab": {
          "base_uri": "https://localhost:8080/"
        },
        "id": "Es_c0A5AhVIR",
        "outputId": "b919bd91-0111-441b-9f98-1437b424a37e"
      },
      "source": [
        "# use sum method on the data frame\n",
        "temp.sum()"
      ],
      "execution_count": 236,
      "outputs": [
        {
          "output_type": "execute_result",
          "data": {
            "text/plain": [
              "TAVG     63884.0\n",
              "TMIN    174677.0\n",
              "TMAX    246116.0\n",
              "dtype: float64"
            ]
          },
          "metadata": {
            "tags": []
          },
          "execution_count": 236
        }
      ]
    },
    {
      "cell_type": "code",
      "metadata": {
        "colab": {
          "base_uri": "https://localhost:8080/"
        },
        "id": "RSEFJmnbhZH2",
        "outputId": "e90d322f-e2e2-4def-f7ed-37148d48ea04"
      },
      "source": [
        "# calculate the sum of each row\n",
        "temp.sum(axis = 'columns')"
      ],
      "execution_count": 237,
      "outputs": [
        {
          "output_type": "execute_result",
          "data": {
            "text/plain": [
              "0       132.0\n",
              "1       108.0\n",
              "2       146.0\n",
              "3       126.0\n",
              "4       107.0\n",
              "        ...  \n",
              "4012    156.0\n",
              "4013    114.0\n",
              "4014    101.0\n",
              "4015     92.0\n",
              "4016    124.0\n",
              "Length: 4017, dtype: float64"
            ]
          },
          "metadata": {
            "tags": []
          },
          "execution_count": 237
        }
      ]
    },
    {
      "cell_type": "markdown",
      "metadata": {
        "id": "DDHV4TSkhkEm"
      },
      "source": [
        "You may find it confusing that specifying the columns axis leads pandas to calculate row sums. But for mathematical operations, the axis specifies the array dimension that is being aggregated, and aggregating the columns is how you combine the data for each row."
      ]
    },
    {
      "cell_type": "markdown",
      "metadata": {
        "id": "Fo3XxNIWNXFb"
      },
      "source": [
        "#### Mapping one set of values to another\n",
        "Let's return to the traffic stops dataset and the stop_duration column. You might remember that you can map one set of values to another using the Series map() method. "
      ]
    },
    {
      "cell_type": "code",
      "metadata": {
        "colab": {
          "base_uri": "https://localhost:8080/"
        },
        "id": "qCxbvb47iyoq",
        "outputId": "1266420f-8bf7-414c-9f99-44ed502d4a12"
      },
      "source": [
        "ri.stop_duration.unique()"
      ],
      "execution_count": 238,
      "outputs": [
        {
          "output_type": "execute_result",
          "data": {
            "text/plain": [
              "array(['0-15 Min', '16-30 Min', nan, '30+ Min'], dtype=object)"
            ]
          },
          "metadata": {
            "tags": []
          },
          "execution_count": 238
        }
      ]
    },
    {
      "cell_type": "markdown",
      "metadata": {
        "id": "mYGpgoCZj4yJ"
      },
      "source": [
        "In this case, we'll create a dictionary that maps the stop_duration values to the strings short, medium, and long. Then we'll use the map() method to create a column called stop_length. The stop_length column has the object data type since it contains string data."
      ]
    },
    {
      "cell_type": "code",
      "metadata": {
        "colab": {
          "base_uri": "https://localhost:8080/"
        },
        "id": "Hcm2A6EcjaoD",
        "outputId": "f8fd0d6c-79cf-49af-fda2-61eef641d9da"
      },
      "source": [
        "# Dictionary for mapping\n",
        "mapping = {\n",
        "    '0-15 Min':'short',\n",
        "    '16-30 Min':'medium',\n",
        "    '30+ Min':'long'\n",
        "}\n",
        "\n",
        "# stop length\n",
        "ri['stop_length'] = ri.stop_duration.map(mapping)\n",
        "ri.stop_length.dtype"
      ],
      "execution_count": 239,
      "outputs": [
        {
          "output_type": "execute_result",
          "data": {
            "text/plain": [
              "dtype('O')"
            ]
          },
          "metadata": {
            "tags": []
          },
          "execution_count": 239
        }
      ]
    },
    {
      "cell_type": "markdown",
      "metadata": {
        "id": "i2OxfA8aNZ4s"
      },
      "source": [
        "#### Changing data type from object to category (1)\n",
        "Whenever you have an object column with a small number of possible values, as is the case here, you may want to change its data type to category. The main reason to use the category type is that it stores the data more efficiently than the object type. Another reason is that it allows you to specify a logical order for the categories. "
      ]
    },
    {
      "cell_type": "code",
      "metadata": {
        "colab": {
          "base_uri": "https://localhost:8080/"
        },
        "id": "qonnceOfj-03",
        "outputId": "b0cfbb0f-ba53-4a90-b82f-d49c591c3b83"
      },
      "source": [
        "ri.stop_length.unique()"
      ],
      "execution_count": 240,
      "outputs": [
        {
          "output_type": "execute_result",
          "data": {
            "text/plain": [
              "array(['short', 'medium', nan, 'long'], dtype=object)"
            ]
          },
          "metadata": {
            "tags": []
          },
          "execution_count": 240
        }
      ]
    },
    {
      "cell_type": "markdown",
      "metadata": {
        "id": "r1QmVRmRkXAh"
      },
      "source": [
        "> Category type stores the data more efficiently\n",
        "\n",
        "> Allows you to specify a logical order for the categories\n",
        "\n",
        "\n",
        "Before we change the data type of the stop_length Series, we'll use a Series method to calculate its current memory usage, which is over 6 megabytes."
      ]
    },
    {
      "cell_type": "code",
      "metadata": {
        "colab": {
          "base_uri": "https://localhost:8080/"
        },
        "id": "e-NWkjjVkT3T",
        "outputId": "d4a3dfcb-4652-492d-9fff-eb93c93412fb"
      },
      "source": [
        "ri.stop_length.memory_usage(deep=True)"
      ],
      "execution_count": 241,
      "outputs": [
        {
          "output_type": "execute_result",
          "data": {
            "text/plain": [
              "6276330"
            ]
          },
          "metadata": {
            "tags": []
          },
          "execution_count": 241
        }
      ]
    },
    {
      "cell_type": "markdown",
      "metadata": {
        "id": "EoBhSeCRNcy4"
      },
      "source": [
        "#### Changing data type from object to category (2)\n",
        "To change the data type, we first create a Python list called cats that defines the logical order of the categories. "
      ]
    },
    {
      "cell_type": "code",
      "metadata": {
        "id": "hgjI2kcukpcg"
      },
      "source": [
        "cats = ['short', 'medium', 'long']"
      ],
      "execution_count": 242,
      "outputs": []
    },
    {
      "cell_type": "markdown",
      "metadata": {
        "id": "C9iLUYLkktbn"
      },
      "source": [
        "Secound, \n",
        "\n",
        "> First we import the library __categoricalDtype__. \n",
        "\n",
        "> Set the categories to cats and order true then we pass it to the astype"
      ]
    },
    {
      "cell_type": "code",
      "metadata": {
        "id": "CKVCmcLzk22m"
      },
      "source": [
        "# import library\n",
        "from pandas.api.types import CategoricalDtype\n",
        "\n",
        "# set category in CategoricalDtype\n",
        "cat_type = CategoricalDtype(categories=cats, ordered=True)\n",
        "\n",
        "# In last pass it to the astype\n",
        "ri['stop_length'] = ri.stop_length.astype(cat_type)"
      ],
      "execution_count": 243,
      "outputs": []
    },
    {
      "cell_type": "markdown",
      "metadata": {
        "id": "8c_lYSTCNhaC"
      },
      "source": [
        "#### Using ordered categories (1)\n",
        "Let's take a look at the head of this column. \n",
        "\n",
        "In the bottom two lines, you can see that the dtype is now category and the categories are ordered from short to long. \n",
        "\n",
        "Because of the ordering, you can now use comparison operators with this column."
      ]
    },
    {
      "cell_type": "code",
      "metadata": {
        "colab": {
          "base_uri": "https://localhost:8080/"
        },
        "id": "mDnxsSjIoC4O",
        "outputId": "76fc1eb8-0995-4db0-bec1-3365e3f3978b"
      },
      "source": [
        "ri.stop_length.head()"
      ],
      "execution_count": 244,
      "outputs": [
        {
          "output_type": "execute_result",
          "data": {
            "text/plain": [
              "stop_datetime\n",
              "2005-01-04 12:55:00     short\n",
              "2005-01-23 23:15:00     short\n",
              "2005-02-17 04:15:00     short\n",
              "2005-02-20 17:15:00    medium\n",
              "2005-02-24 01:20:00     short\n",
              "Name: stop_length, dtype: category\n",
              "Categories (3, object): ['short' < 'medium' < 'long']"
            ]
          },
          "metadata": {
            "tags": []
          },
          "execution_count": 244
        }
      ]
    },
    {
      "cell_type": "markdown",
      "metadata": {
        "id": "a7MDpM8eNjl_"
      },
      "source": [
        "#### Using ordered categories (2)\n",
        "For example, you can specify that stop_length is greater than short in order to filter the DataFrame to only include medium or long stops. In addition, pandas will automatically sort ordered categories logically rather than alphabetically, which can make the results of a calculation easier to understand."
      ]
    },
    {
      "cell_type": "code",
      "metadata": {
        "colab": {
          "base_uri": "https://localhost:8080/"
        },
        "id": "7CdeaWeGowKo",
        "outputId": "2e88df84-5880-4efb-b679-205ef2ab7953"
      },
      "source": [
        "ri[ri.stop_length > 'short'].shape"
      ],
      "execution_count": 245,
      "outputs": [
        {
          "output_type": "execute_result",
          "data": {
            "text/plain": [
              "(16960, 17)"
            ]
          },
          "metadata": {
            "tags": []
          },
          "execution_count": 245
        }
      ]
    },
    {
      "cell_type": "code",
      "metadata": {
        "colab": {
          "base_uri": "https://localhost:8080/"
        },
        "id": "R55p3Hhuo5JF",
        "outputId": "b4009503-590c-4ba3-9c0d-df948438429c"
      },
      "source": [
        "ri.groupby('stop_length').is_arrested_numeric.mean()"
      ],
      "execution_count": 246,
      "outputs": [
        {
          "output_type": "execute_result",
          "data": {
            "text/plain": [
              "stop_length\n",
              "short     0.013654\n",
              "medium    0.093595\n",
              "long      0.261491\n",
              "Name: is_arrested_numeric, dtype: float64"
            ]
          },
          "metadata": {
            "tags": []
          },
          "execution_count": 246
        }
      ]
    },
    {
      "cell_type": "markdown",
      "metadata": {
        "id": "MXpAlWp7Nlut"
      },
      "source": [
        "### __Chapter: 4.3. Merging datasets__\n",
        "---\n",
        "Now that we've assigned a rating to the weather conditions each day, we need to merge that data with the traffic stop data so that we can analyze the relationship between weather and police behavior. Let's review how to merge two DataFrames."
      ]
    },
    {
      "cell_type": "code",
      "metadata": {
        "id": "uPJ3Dm0WpTq8"
      },
      "source": [
        "apple = pd.DataFrame()\n",
        "apple['date'] = ['2/14/18','2/14/18','2/15/18','2/15/18']\n",
        "apple['time'] = ['9:30','16:00','9:30','16:00']\n",
        "apple['price'] = [163.04,167.37,169.79,172.99]"
      ],
      "execution_count": 247,
      "outputs": []
    },
    {
      "cell_type": "code",
      "metadata": {
        "id": "Re2JPUXsqNQY"
      },
      "source": [
        "apple['date_and_time'] = pd.to_datetime(apple.date.str.cat(apple.time, sep = ' '))"
      ],
      "execution_count": 248,
      "outputs": []
    },
    {
      "cell_type": "code",
      "metadata": {
        "id": "m02xuI_7qphS"
      },
      "source": [
        "apple.set_index('date_and_time',inplace = True)"
      ],
      "execution_count": 249,
      "outputs": []
    },
    {
      "cell_type": "code",
      "metadata": {
        "id": "sVtGAqCEr8jC"
      },
      "source": [
        "high_low = pd.DataFrame()\n",
        "high_low['DATE'] = ['2/14/18','2/15/18','2/16/18']\n",
        "high_low['HIGH'] = [167.54, 173.09, 174.82]\n",
        "high_low['LOW'] = [162.88,169.00,171.77]"
      ],
      "execution_count": 250,
      "outputs": []
    },
    {
      "cell_type": "markdown",
      "metadata": {
        "id": "YC54OSH-Nwvt"
      },
      "source": [
        "#### Preparing the first DataFrame\n",
        "We'll return to the DataFrame of Apple stock prices that we've used throughout the course. This time, the opening price at 9:30 AM and closing price at 4:00 PM are listed for each day in separate rows. Shortly, we're going to merge the apple DataFrame with another DataFrame. Because the index will be lost during the merge, we want to save it by moving it to a DataFrame column. We'll do this by using the reset_index() method and specifying that the operation should occur in place. You can see that date_and_time is now a DataFrame column, and the index is now the default integer index."
      ]
    },
    {
      "cell_type": "code",
      "metadata": {
        "colab": {
          "base_uri": "https://localhost:8080/",
          "height": 202
        },
        "id": "W7-wBIj7qvwH",
        "outputId": "0b4273a9-8bd6-4e6f-a9b8-610cacc74018"
      },
      "source": [
        "apple"
      ],
      "execution_count": 251,
      "outputs": [
        {
          "output_type": "execute_result",
          "data": {
            "text/html": [
              "<div>\n",
              "<style scoped>\n",
              "    .dataframe tbody tr th:only-of-type {\n",
              "        vertical-align: middle;\n",
              "    }\n",
              "\n",
              "    .dataframe tbody tr th {\n",
              "        vertical-align: top;\n",
              "    }\n",
              "\n",
              "    .dataframe thead th {\n",
              "        text-align: right;\n",
              "    }\n",
              "</style>\n",
              "<table border=\"1\" class=\"dataframe\">\n",
              "  <thead>\n",
              "    <tr style=\"text-align: right;\">\n",
              "      <th></th>\n",
              "      <th>date</th>\n",
              "      <th>time</th>\n",
              "      <th>price</th>\n",
              "    </tr>\n",
              "    <tr>\n",
              "      <th>date_and_time</th>\n",
              "      <th></th>\n",
              "      <th></th>\n",
              "      <th></th>\n",
              "    </tr>\n",
              "  </thead>\n",
              "  <tbody>\n",
              "    <tr>\n",
              "      <th>2018-02-14 09:30:00</th>\n",
              "      <td>2/14/18</td>\n",
              "      <td>9:30</td>\n",
              "      <td>163.04</td>\n",
              "    </tr>\n",
              "    <tr>\n",
              "      <th>2018-02-14 16:00:00</th>\n",
              "      <td>2/14/18</td>\n",
              "      <td>16:00</td>\n",
              "      <td>167.37</td>\n",
              "    </tr>\n",
              "    <tr>\n",
              "      <th>2018-02-15 09:30:00</th>\n",
              "      <td>2/15/18</td>\n",
              "      <td>9:30</td>\n",
              "      <td>169.79</td>\n",
              "    </tr>\n",
              "    <tr>\n",
              "      <th>2018-02-15 16:00:00</th>\n",
              "      <td>2/15/18</td>\n",
              "      <td>16:00</td>\n",
              "      <td>172.99</td>\n",
              "    </tr>\n",
              "  </tbody>\n",
              "</table>\n",
              "</div>"
            ],
            "text/plain": [
              "                        date   time   price\n",
              "date_and_time                              \n",
              "2018-02-14 09:30:00  2/14/18   9:30  163.04\n",
              "2018-02-14 16:00:00  2/14/18  16:00  167.37\n",
              "2018-02-15 09:30:00  2/15/18   9:30  169.79\n",
              "2018-02-15 16:00:00  2/15/18  16:00  172.99"
            ]
          },
          "metadata": {
            "tags": []
          },
          "execution_count": 251
        }
      ]
    },
    {
      "cell_type": "code",
      "metadata": {
        "colab": {
          "base_uri": "https://localhost:8080/",
          "height": 172
        },
        "id": "7WFG1vPdq0Uw",
        "outputId": "1d20c338-c2ec-43fb-ba14-44ffe9f8d5ee"
      },
      "source": [
        "apple.reset_index(inplace=True) \n",
        "apple"
      ],
      "execution_count": 252,
      "outputs": [
        {
          "output_type": "execute_result",
          "data": {
            "text/html": [
              "<div>\n",
              "<style scoped>\n",
              "    .dataframe tbody tr th:only-of-type {\n",
              "        vertical-align: middle;\n",
              "    }\n",
              "\n",
              "    .dataframe tbody tr th {\n",
              "        vertical-align: top;\n",
              "    }\n",
              "\n",
              "    .dataframe thead th {\n",
              "        text-align: right;\n",
              "    }\n",
              "</style>\n",
              "<table border=\"1\" class=\"dataframe\">\n",
              "  <thead>\n",
              "    <tr style=\"text-align: right;\">\n",
              "      <th></th>\n",
              "      <th>date_and_time</th>\n",
              "      <th>date</th>\n",
              "      <th>time</th>\n",
              "      <th>price</th>\n",
              "    </tr>\n",
              "  </thead>\n",
              "  <tbody>\n",
              "    <tr>\n",
              "      <th>0</th>\n",
              "      <td>2018-02-14 09:30:00</td>\n",
              "      <td>2/14/18</td>\n",
              "      <td>9:30</td>\n",
              "      <td>163.04</td>\n",
              "    </tr>\n",
              "    <tr>\n",
              "      <th>1</th>\n",
              "      <td>2018-02-14 16:00:00</td>\n",
              "      <td>2/14/18</td>\n",
              "      <td>16:00</td>\n",
              "      <td>167.37</td>\n",
              "    </tr>\n",
              "    <tr>\n",
              "      <th>2</th>\n",
              "      <td>2018-02-15 09:30:00</td>\n",
              "      <td>2/15/18</td>\n",
              "      <td>9:30</td>\n",
              "      <td>169.79</td>\n",
              "    </tr>\n",
              "    <tr>\n",
              "      <th>3</th>\n",
              "      <td>2018-02-15 16:00:00</td>\n",
              "      <td>2/15/18</td>\n",
              "      <td>16:00</td>\n",
              "      <td>172.99</td>\n",
              "    </tr>\n",
              "  </tbody>\n",
              "</table>\n",
              "</div>"
            ],
            "text/plain": [
              "        date_and_time     date   time   price\n",
              "0 2018-02-14 09:30:00  2/14/18   9:30  163.04\n",
              "1 2018-02-14 16:00:00  2/14/18  16:00  167.37\n",
              "2 2018-02-15 09:30:00  2/15/18   9:30  169.79\n",
              "3 2018-02-15 16:00:00  2/15/18  16:00  172.99"
            ]
          },
          "metadata": {
            "tags": []
          },
          "execution_count": 252
        }
      ]
    },
    {
      "cell_type": "markdown",
      "metadata": {
        "id": "hbTd1RfjNzhj"
      },
      "source": [
        "#### Preparing the second DataFrame\n",
        "The second DataFrame we're working with is called high_low, and it contains the highest and lowest prices the Apple stock reached each day. We'd like to include the high data in the apple DataFrame, which we can do by merging the DataFrames. For the merge operation, we only need two columns from high_low: the date column, since it's the column on which the DataFrames will be joined, and the high column, since it's the column of interest. Thus, we'll create a new DataFrame called high that only includes these two columns."
      ]
    },
    {
      "cell_type": "code",
      "metadata": {
        "id": "piXChj2frw9J"
      },
      "source": [
        "high = high_low[['DATE','HIGH']]"
      ],
      "execution_count": 253,
      "outputs": []
    },
    {
      "cell_type": "markdown",
      "metadata": {
        "id": "9VKMjYm_N1sM"
      },
      "source": [
        "#### Merging the DataFrames\n",
        "To merge the apple and high DataFrames, we'll use the pd dot merge() function and save the result as apple_high. Let's review the five arguments. \n",
        "\n",
        "* First, we specified the left and right DataFrames. Apple is defined as left and high is defined as right because we wanted to join the high DataFrame onto the apple DataFrame. \n",
        "\n",
        "* Next, we specified the columns on which to join the DataFrames. Both DataFrames have a column containing the date, but we had to specify them separately because the column name is lowercase in the left DataFrame and uppercase in the right DataFrame. \n",
        "\n",
        "* Finally, we specified the type of join. We used a left join in order to keep all of the rows from the left DataFrame regardless of whether there were matches in the right DataFrame."
      ]
    },
    {
      "cell_type": "code",
      "metadata": {
        "id": "-FFbyoYDsBX5"
      },
      "source": [
        "apple_high = pd.merge(left = apple, right=high, left_on = 'date', right_on = 'DATE', how = 'left')"
      ],
      "execution_count": 254,
      "outputs": []
    },
    {
      "cell_type": "code",
      "metadata": {
        "colab": {
          "base_uri": "https://localhost:8080/",
          "height": 172
        },
        "id": "STxhDgcesh8Q",
        "outputId": "a89c9538-053e-4942-e23f-c319ce40447a"
      },
      "source": [
        "apple_high"
      ],
      "execution_count": 255,
      "outputs": [
        {
          "output_type": "execute_result",
          "data": {
            "text/html": [
              "<div>\n",
              "<style scoped>\n",
              "    .dataframe tbody tr th:only-of-type {\n",
              "        vertical-align: middle;\n",
              "    }\n",
              "\n",
              "    .dataframe tbody tr th {\n",
              "        vertical-align: top;\n",
              "    }\n",
              "\n",
              "    .dataframe thead th {\n",
              "        text-align: right;\n",
              "    }\n",
              "</style>\n",
              "<table border=\"1\" class=\"dataframe\">\n",
              "  <thead>\n",
              "    <tr style=\"text-align: right;\">\n",
              "      <th></th>\n",
              "      <th>date_and_time</th>\n",
              "      <th>date</th>\n",
              "      <th>time</th>\n",
              "      <th>price</th>\n",
              "      <th>DATE</th>\n",
              "      <th>HIGH</th>\n",
              "    </tr>\n",
              "  </thead>\n",
              "  <tbody>\n",
              "    <tr>\n",
              "      <th>0</th>\n",
              "      <td>2018-02-14 09:30:00</td>\n",
              "      <td>2/14/18</td>\n",
              "      <td>9:30</td>\n",
              "      <td>163.04</td>\n",
              "      <td>2/14/18</td>\n",
              "      <td>167.54</td>\n",
              "    </tr>\n",
              "    <tr>\n",
              "      <th>1</th>\n",
              "      <td>2018-02-14 16:00:00</td>\n",
              "      <td>2/14/18</td>\n",
              "      <td>16:00</td>\n",
              "      <td>167.37</td>\n",
              "      <td>2/14/18</td>\n",
              "      <td>167.54</td>\n",
              "    </tr>\n",
              "    <tr>\n",
              "      <th>2</th>\n",
              "      <td>2018-02-15 09:30:00</td>\n",
              "      <td>2/15/18</td>\n",
              "      <td>9:30</td>\n",
              "      <td>169.79</td>\n",
              "      <td>2/15/18</td>\n",
              "      <td>173.09</td>\n",
              "    </tr>\n",
              "    <tr>\n",
              "      <th>3</th>\n",
              "      <td>2018-02-15 16:00:00</td>\n",
              "      <td>2/15/18</td>\n",
              "      <td>16:00</td>\n",
              "      <td>172.99</td>\n",
              "      <td>2/15/18</td>\n",
              "      <td>173.09</td>\n",
              "    </tr>\n",
              "  </tbody>\n",
              "</table>\n",
              "</div>"
            ],
            "text/plain": [
              "        date_and_time     date   time   price     DATE    HIGH\n",
              "0 2018-02-14 09:30:00  2/14/18   9:30  163.04  2/14/18  167.54\n",
              "1 2018-02-14 16:00:00  2/14/18  16:00  167.37  2/14/18  167.54\n",
              "2 2018-02-15 09:30:00  2/15/18   9:30  169.79  2/15/18  173.09\n",
              "3 2018-02-15 16:00:00  2/15/18  16:00  172.99  2/15/18  173.09"
            ]
          },
          "metadata": {
            "tags": []
          },
          "execution_count": 255
        }
      ]
    },
    {
      "cell_type": "markdown",
      "metadata": {
        "id": "Yh7P3-NpsoB4"
      },
      "source": [
        "> left=apple : Le DataFrame \n",
        "\n",
        "> right=high : Right DataFrame \n",
        "\n",
        "> left_on='date' : Key column in left DataFrame \n",
        "\n",
        "> right_on='DATE' : Key column in right DataFrame \n",
        "\n",
        "> how='left' : Type of join"
      ]
    },
    {
      "cell_type": "markdown",
      "metadata": {
        "id": "iE2s5Ah4N4Ex"
      },
      "source": [
        "#### Comparing the DataFrames\n",
        "Let's compare the merged DataFrame with the original two DataFrames. The first four columns of apple_high are identical to apple. The data in the final two columns of apple_high came from the high DataFrame. Because the apple DataFrame contained two rows each from February 14 and 15, the high value of each of those dates appears twice in the apple_high DataFrame. But since the apple DataFrame did not contain any rows from February 16, the February 16 value from the high DataFrame was ignored."
      ]
    },
    {
      "cell_type": "code",
      "metadata": {
        "colab": {
          "base_uri": "https://localhost:8080/",
          "height": 172
        },
        "id": "OL1G_2sHDtMB",
        "outputId": "d5c2067c-b231-49c2-87a1-90e13d865a03"
      },
      "source": [
        "apple_high"
      ],
      "execution_count": 256,
      "outputs": [
        {
          "output_type": "execute_result",
          "data": {
            "text/html": [
              "<div>\n",
              "<style scoped>\n",
              "    .dataframe tbody tr th:only-of-type {\n",
              "        vertical-align: middle;\n",
              "    }\n",
              "\n",
              "    .dataframe tbody tr th {\n",
              "        vertical-align: top;\n",
              "    }\n",
              "\n",
              "    .dataframe thead th {\n",
              "        text-align: right;\n",
              "    }\n",
              "</style>\n",
              "<table border=\"1\" class=\"dataframe\">\n",
              "  <thead>\n",
              "    <tr style=\"text-align: right;\">\n",
              "      <th></th>\n",
              "      <th>date_and_time</th>\n",
              "      <th>date</th>\n",
              "      <th>time</th>\n",
              "      <th>price</th>\n",
              "      <th>DATE</th>\n",
              "      <th>HIGH</th>\n",
              "    </tr>\n",
              "  </thead>\n",
              "  <tbody>\n",
              "    <tr>\n",
              "      <th>0</th>\n",
              "      <td>2018-02-14 09:30:00</td>\n",
              "      <td>2/14/18</td>\n",
              "      <td>9:30</td>\n",
              "      <td>163.04</td>\n",
              "      <td>2/14/18</td>\n",
              "      <td>167.54</td>\n",
              "    </tr>\n",
              "    <tr>\n",
              "      <th>1</th>\n",
              "      <td>2018-02-14 16:00:00</td>\n",
              "      <td>2/14/18</td>\n",
              "      <td>16:00</td>\n",
              "      <td>167.37</td>\n",
              "      <td>2/14/18</td>\n",
              "      <td>167.54</td>\n",
              "    </tr>\n",
              "    <tr>\n",
              "      <th>2</th>\n",
              "      <td>2018-02-15 09:30:00</td>\n",
              "      <td>2/15/18</td>\n",
              "      <td>9:30</td>\n",
              "      <td>169.79</td>\n",
              "      <td>2/15/18</td>\n",
              "      <td>173.09</td>\n",
              "    </tr>\n",
              "    <tr>\n",
              "      <th>3</th>\n",
              "      <td>2018-02-15 16:00:00</td>\n",
              "      <td>2/15/18</td>\n",
              "      <td>16:00</td>\n",
              "      <td>172.99</td>\n",
              "      <td>2/15/18</td>\n",
              "      <td>173.09</td>\n",
              "    </tr>\n",
              "  </tbody>\n",
              "</table>\n",
              "</div>"
            ],
            "text/plain": [
              "        date_and_time     date   time   price     DATE    HIGH\n",
              "0 2018-02-14 09:30:00  2/14/18   9:30  163.04  2/14/18  167.54\n",
              "1 2018-02-14 16:00:00  2/14/18  16:00  167.37  2/14/18  167.54\n",
              "2 2018-02-15 09:30:00  2/15/18   9:30  169.79  2/15/18  173.09\n",
              "3 2018-02-15 16:00:00  2/15/18  16:00  172.99  2/15/18  173.09"
            ]
          },
          "metadata": {
            "tags": []
          },
          "execution_count": 256
        }
      ]
    },
    {
      "cell_type": "code",
      "metadata": {
        "colab": {
          "base_uri": "https://localhost:8080/",
          "height": 172
        },
        "id": "sZgb-WtYDzjk",
        "outputId": "75220660-57fb-4676-e4b6-9bbef70e0606"
      },
      "source": [
        "apple"
      ],
      "execution_count": 257,
      "outputs": [
        {
          "output_type": "execute_result",
          "data": {
            "text/html": [
              "<div>\n",
              "<style scoped>\n",
              "    .dataframe tbody tr th:only-of-type {\n",
              "        vertical-align: middle;\n",
              "    }\n",
              "\n",
              "    .dataframe tbody tr th {\n",
              "        vertical-align: top;\n",
              "    }\n",
              "\n",
              "    .dataframe thead th {\n",
              "        text-align: right;\n",
              "    }\n",
              "</style>\n",
              "<table border=\"1\" class=\"dataframe\">\n",
              "  <thead>\n",
              "    <tr style=\"text-align: right;\">\n",
              "      <th></th>\n",
              "      <th>date_and_time</th>\n",
              "      <th>date</th>\n",
              "      <th>time</th>\n",
              "      <th>price</th>\n",
              "    </tr>\n",
              "  </thead>\n",
              "  <tbody>\n",
              "    <tr>\n",
              "      <th>0</th>\n",
              "      <td>2018-02-14 09:30:00</td>\n",
              "      <td>2/14/18</td>\n",
              "      <td>9:30</td>\n",
              "      <td>163.04</td>\n",
              "    </tr>\n",
              "    <tr>\n",
              "      <th>1</th>\n",
              "      <td>2018-02-14 16:00:00</td>\n",
              "      <td>2/14/18</td>\n",
              "      <td>16:00</td>\n",
              "      <td>167.37</td>\n",
              "    </tr>\n",
              "    <tr>\n",
              "      <th>2</th>\n",
              "      <td>2018-02-15 09:30:00</td>\n",
              "      <td>2/15/18</td>\n",
              "      <td>9:30</td>\n",
              "      <td>169.79</td>\n",
              "    </tr>\n",
              "    <tr>\n",
              "      <th>3</th>\n",
              "      <td>2018-02-15 16:00:00</td>\n",
              "      <td>2/15/18</td>\n",
              "      <td>16:00</td>\n",
              "      <td>172.99</td>\n",
              "    </tr>\n",
              "  </tbody>\n",
              "</table>\n",
              "</div>"
            ],
            "text/plain": [
              "        date_and_time     date   time   price\n",
              "0 2018-02-14 09:30:00  2/14/18   9:30  163.04\n",
              "1 2018-02-14 16:00:00  2/14/18  16:00  167.37\n",
              "2 2018-02-15 09:30:00  2/15/18   9:30  169.79\n",
              "3 2018-02-15 16:00:00  2/15/18  16:00  172.99"
            ]
          },
          "metadata": {
            "tags": []
          },
          "execution_count": 257
        }
      ]
    },
    {
      "cell_type": "code",
      "metadata": {
        "colab": {
          "base_uri": "https://localhost:8080/",
          "height": 141
        },
        "id": "mnbZFJdeD2wB",
        "outputId": "5bf1a5e3-10c3-483f-cfff-870cc946a529"
      },
      "source": [
        "high"
      ],
      "execution_count": 258,
      "outputs": [
        {
          "output_type": "execute_result",
          "data": {
            "text/html": [
              "<div>\n",
              "<style scoped>\n",
              "    .dataframe tbody tr th:only-of-type {\n",
              "        vertical-align: middle;\n",
              "    }\n",
              "\n",
              "    .dataframe tbody tr th {\n",
              "        vertical-align: top;\n",
              "    }\n",
              "\n",
              "    .dataframe thead th {\n",
              "        text-align: right;\n",
              "    }\n",
              "</style>\n",
              "<table border=\"1\" class=\"dataframe\">\n",
              "  <thead>\n",
              "    <tr style=\"text-align: right;\">\n",
              "      <th></th>\n",
              "      <th>DATE</th>\n",
              "      <th>HIGH</th>\n",
              "    </tr>\n",
              "  </thead>\n",
              "  <tbody>\n",
              "    <tr>\n",
              "      <th>0</th>\n",
              "      <td>2/14/18</td>\n",
              "      <td>167.54</td>\n",
              "    </tr>\n",
              "    <tr>\n",
              "      <th>1</th>\n",
              "      <td>2/15/18</td>\n",
              "      <td>173.09</td>\n",
              "    </tr>\n",
              "    <tr>\n",
              "      <th>2</th>\n",
              "      <td>2/16/18</td>\n",
              "      <td>174.82</td>\n",
              "    </tr>\n",
              "  </tbody>\n",
              "</table>\n",
              "</div>"
            ],
            "text/plain": [
              "      DATE    HIGH\n",
              "0  2/14/18  167.54\n",
              "1  2/15/18  173.09\n",
              "2  2/16/18  174.82"
            ]
          },
          "metadata": {
            "tags": []
          },
          "execution_count": 258
        }
      ]
    },
    {
      "cell_type": "markdown",
      "metadata": {
        "id": "LDma1HtaN6go"
      },
      "source": [
        "#### Setting the index\n",
        "Since the merge is complete, we'll set the date_and_time column as the index of the apple_high DataFrame. This replaces the default index and reduces the number of columns to five."
      ]
    },
    {
      "cell_type": "code",
      "metadata": {
        "colab": {
          "base_uri": "https://localhost:8080/",
          "height": 202
        },
        "id": "vvLYDP99ERmt",
        "outputId": "c060a732-f2db-4fea-f395-69e337ae9de9"
      },
      "source": [
        "apple_high.set_index('date_and_time', inplace=True) \n",
        "apple_high"
      ],
      "execution_count": 259,
      "outputs": [
        {
          "output_type": "execute_result",
          "data": {
            "text/html": [
              "<div>\n",
              "<style scoped>\n",
              "    .dataframe tbody tr th:only-of-type {\n",
              "        vertical-align: middle;\n",
              "    }\n",
              "\n",
              "    .dataframe tbody tr th {\n",
              "        vertical-align: top;\n",
              "    }\n",
              "\n",
              "    .dataframe thead th {\n",
              "        text-align: right;\n",
              "    }\n",
              "</style>\n",
              "<table border=\"1\" class=\"dataframe\">\n",
              "  <thead>\n",
              "    <tr style=\"text-align: right;\">\n",
              "      <th></th>\n",
              "      <th>date</th>\n",
              "      <th>time</th>\n",
              "      <th>price</th>\n",
              "      <th>DATE</th>\n",
              "      <th>HIGH</th>\n",
              "    </tr>\n",
              "    <tr>\n",
              "      <th>date_and_time</th>\n",
              "      <th></th>\n",
              "      <th></th>\n",
              "      <th></th>\n",
              "      <th></th>\n",
              "      <th></th>\n",
              "    </tr>\n",
              "  </thead>\n",
              "  <tbody>\n",
              "    <tr>\n",
              "      <th>2018-02-14 09:30:00</th>\n",
              "      <td>2/14/18</td>\n",
              "      <td>9:30</td>\n",
              "      <td>163.04</td>\n",
              "      <td>2/14/18</td>\n",
              "      <td>167.54</td>\n",
              "    </tr>\n",
              "    <tr>\n",
              "      <th>2018-02-14 16:00:00</th>\n",
              "      <td>2/14/18</td>\n",
              "      <td>16:00</td>\n",
              "      <td>167.37</td>\n",
              "      <td>2/14/18</td>\n",
              "      <td>167.54</td>\n",
              "    </tr>\n",
              "    <tr>\n",
              "      <th>2018-02-15 09:30:00</th>\n",
              "      <td>2/15/18</td>\n",
              "      <td>9:30</td>\n",
              "      <td>169.79</td>\n",
              "      <td>2/15/18</td>\n",
              "      <td>173.09</td>\n",
              "    </tr>\n",
              "    <tr>\n",
              "      <th>2018-02-15 16:00:00</th>\n",
              "      <td>2/15/18</td>\n",
              "      <td>16:00</td>\n",
              "      <td>172.99</td>\n",
              "      <td>2/15/18</td>\n",
              "      <td>173.09</td>\n",
              "    </tr>\n",
              "  </tbody>\n",
              "</table>\n",
              "</div>"
            ],
            "text/plain": [
              "                        date   time   price     DATE    HIGH\n",
              "date_and_time                                               \n",
              "2018-02-14 09:30:00  2/14/18   9:30  163.04  2/14/18  167.54\n",
              "2018-02-14 16:00:00  2/14/18  16:00  167.37  2/14/18  167.54\n",
              "2018-02-15 09:30:00  2/15/18   9:30  169.79  2/15/18  173.09\n",
              "2018-02-15 16:00:00  2/15/18  16:00  172.99  2/15/18  173.09"
            ]
          },
          "metadata": {
            "tags": []
          },
          "execution_count": 259
        }
      ]
    },
    {
      "cell_type": "markdown",
      "metadata": {
        "id": "dzEXQj62N9Iv"
      },
      "source": [
        "### __Chapter : 4.4. Does weather affect the arrest rate?__\n",
        "---\n",
        "Now that we've merged the weather and traffic stop data, we can analyze the relationship between weather and police behavior."
      ]
    },
    {
      "cell_type": "markdown",
      "metadata": {
        "id": "xXWzjrFxOTb3"
      },
      "source": [
        "#### Driver gender and vehicle searches\n",
        "In a previous chapter, we investigated the relationship between driver gender and vehicle searches. \n",
        "\n",
        "* First, we calculated the percentage of all stops that led to a search by taking the mean() of the Boolean Series search_conducted. This is called the search rate. \n",
        "\n",
        "* Then, we compared the search rates for male and female drivers by using a groupby() on driver_gender before taking the mean() of search_conducted. We found that male drivers are searched more than twice as often as female drivers."
      ]
    },
    {
      "cell_type": "code",
      "metadata": {
        "colab": {
          "base_uri": "https://localhost:8080/"
        },
        "id": "HxRbVP4jEZe8",
        "outputId": "09166149-2d24-4a8b-b8e2-939121979a3a"
      },
      "source": [
        "ri.search_conducted.mean()"
      ],
      "execution_count": 260,
      "outputs": [
        {
          "output_type": "execute_result",
          "data": {
            "text/plain": [
              "0.03604713268876511"
            ]
          },
          "metadata": {
            "tags": []
          },
          "execution_count": 260
        }
      ]
    },
    {
      "cell_type": "code",
      "metadata": {
        "colab": {
          "base_uri": "https://localhost:8080/"
        },
        "id": "YK4gEu9mEh27",
        "outputId": "24d39aa8-a53f-4cd0-a9cf-aacb0b7d245e"
      },
      "source": [
        "ri.groupby('driver_gender').search_conducted.mean() "
      ],
      "execution_count": 261,
      "outputs": [
        {
          "output_type": "execute_result",
          "data": {
            "text/plain": [
              "driver_gender\n",
              "F    0.019181\n",
              "M    0.045426\n",
              "Name: search_conducted, dtype: float64"
            ]
          },
          "metadata": {
            "tags": []
          },
          "execution_count": 261
        }
      ]
    },
    {
      "cell_type": "markdown",
      "metadata": {
        "id": "qnz7TvE3OXRI"
      },
      "source": [
        "#### Driver gender and vehicle searches\n",
        "Finally, we added violation to the groupby() operation. Our hypothesis was that search rate varies by violation type, and the difference in search rate between males and females is perhaps because they tend to commit different violations. "
      ]
    },
    {
      "cell_type": "code",
      "metadata": {
        "colab": {
          "base_uri": "https://localhost:8080/"
        },
        "id": "sMCM-LnlXt1u",
        "outputId": "241a701f-23f0-442d-b265-fba6fc5f9994"
      },
      "source": [
        "search_rate = ri.groupby(['violation','driver_gender']).search_conducted.mean()\n",
        "search_rate"
      ],
      "execution_count": 263,
      "outputs": [
        {
          "output_type": "execute_result",
          "data": {
            "text/plain": [
              "violation            driver_gender\n",
              "Equipment            F                0.039984\n",
              "                     M                0.071496\n",
              "Moving violation     F                0.039257\n",
              "                     M                0.061524\n",
              "Other                F                0.041018\n",
              "                     M                0.046191\n",
              "Registration/plates  F                0.054924\n",
              "                     M                0.108802\n",
              "Seat belt            F                0.017301\n",
              "                     M                0.035119\n",
              "Speeding             F                0.008309\n",
              "                     M                0.027885\n",
              "Name: search_conducted, dtype: float64"
            ]
          },
          "metadata": {
            "tags": []
          },
          "execution_count": 263
        }
      ]
    },
    {
      "cell_type": "markdown",
      "metadata": {
        "id": "whIgXDthYN7V"
      },
      "source": [
        "The results disproved our hypothesis, because the search rate is higher for males than for females across all violations. This doesn't prove a causal link between gender and vehicles searches, but it does show a correlation."
      ]
    },
    {
      "cell_type": "markdown",
      "metadata": {
        "id": "lTR2SxzfOZYp"
      },
      "source": [
        "#### Examining a multi-indexed Series\n",
        "Let's save the results of the previous operation as new object called search_rate, and print it out again. What type of object is this? It may look like a DataFrame because of its structure, but it's actually a pandas Series that has a MultiIndex. \n",
        "\n",
        "Violation and driver_gender are not columns, rather they're the names of the index levels. You've seen the MultiIndex before in the context of a DataFrame. With a DataFrame, which is normally two dimensions, the MultiIndex adds a third dimension. With a Series, which is normally one dimension, the MultiIndex adds a second dimension."
      ]
    },
    {
      "cell_type": "code",
      "metadata": {
        "colab": {
          "base_uri": "https://localhost:8080/",
          "height": 52
        },
        "id": "Ty090QZmYosG",
        "outputId": "97e8ae78-0e8c-4c5d-801b-07ae9b3d6d5f"
      },
      "source": [
        "display(type(search_rate),type(search_rate.index))"
      ],
      "execution_count": 265,
      "outputs": [
        {
          "output_type": "display_data",
          "data": {
            "text/plain": [
              "pandas.core.series.Series"
            ]
          },
          "metadata": {
            "tags": []
          }
        },
        {
          "output_type": "display_data",
          "data": {
            "text/plain": [
              "pandas.core.indexes.multi.MultiIndex"
            ]
          },
          "metadata": {
            "tags": []
          }
        }
      ]
    },
    {
      "cell_type": "markdown",
      "metadata": {
        "id": "x0xlpTiyObr3"
      },
      "source": [
        "#### Working with a multi-indexed Series\n",
        "Let's print out the search_rate Series again."
      ]
    },
    {
      "cell_type": "code",
      "metadata": {
        "colab": {
          "base_uri": "https://localhost:8080/"
        },
        "id": "BxgOvGjZZO7R",
        "outputId": "ba2a0670-0fa4-4a6f-a433-193a84406d70"
      },
      "source": [
        "search_rate"
      ],
      "execution_count": 267,
      "outputs": [
        {
          "output_type": "execute_result",
          "data": {
            "text/plain": [
              "violation            driver_gender\n",
              "Equipment            F                0.039984\n",
              "                     M                0.071496\n",
              "Moving violation     F                0.039257\n",
              "                     M                0.061524\n",
              "Other                F                0.041018\n",
              "                     M                0.046191\n",
              "Registration/plates  F                0.054924\n",
              "                     M                0.108802\n",
              "Seat belt            F                0.017301\n",
              "                     M                0.035119\n",
              "Speeding             F                0.008309\n",
              "                     M                0.027885\n",
              "Name: search_conducted, dtype: float64"
            ]
          },
          "metadata": {
            "tags": []
          },
          "execution_count": 267
        }
      ]
    },
    {
      "cell_type": "markdown",
      "metadata": {
        "id": "vJYsedMbZRBD"
      },
      "source": [
        "Working with a multi-indexed Series is actually very similar to working with a DataFrame. You can think of the outer index level, violation, as the DataFrame rows, and the inner index level, driver_gender, as the DataFrame columns. For example, we can use the loc accessor to select the Equipment row."
      ]
    },
    {
      "cell_type": "code",
      "metadata": {
        "colab": {
          "base_uri": "https://localhost:8080/"
        },
        "id": "EKWu29yKZHfc",
        "outputId": "09f7f84b-b009-4c5c-83d2-73eb8322498d"
      },
      "source": [
        "search_rate.loc['Equipment']"
      ],
      "execution_count": 266,
      "outputs": [
        {
          "output_type": "execute_result",
          "data": {
            "text/plain": [
              "driver_gender\n",
              "F    0.039984\n",
              "M    0.071496\n",
              "Name: search_conducted, dtype: float64"
            ]
          },
          "metadata": {
            "tags": []
          },
          "execution_count": 266
        }
      ]
    },
    {
      "cell_type": "markdown",
      "metadata": {
        "id": "JQ-aMeebZM11"
      },
      "source": [
        "This returns the search rate by gender for equipment violations only. Or, we can specify the Equipment row and the Male column to select a particular value in the Series."
      ]
    },
    {
      "cell_type": "code",
      "metadata": {
        "colab": {
          "base_uri": "https://localhost:8080/"
        },
        "id": "dRPNHTQmZci3",
        "outputId": "e28430e2-250f-43d1-95be-1658d1d243dd"
      },
      "source": [
        "search_rate.loc['Equipment','M']"
      ],
      "execution_count": 268,
      "outputs": [
        {
          "output_type": "execute_result",
          "data": {
            "text/plain": [
              "0.07149643705463182"
            ]
          },
          "metadata": {
            "tags": []
          },
          "execution_count": 268
        }
      ]
    },
    {
      "cell_type": "markdown",
      "metadata": {
        "id": "a3a0jLd7OeDw"
      },
      "source": [
        "#### Converting a multi-indexed Series to a DataFrame\n",
        "You might think that if a multi-indexed Series is similar to a DataFrame, then there should be a way to convert one to the other. In fact, if you unstack() the search_rate Series, it actually results in a DataFrame. "
      ]
    },
    {
      "cell_type": "code",
      "metadata": {
        "colab": {
          "base_uri": "https://localhost:8080/",
          "height": 264
        },
        "id": "Qy8JuiCwZ3xp",
        "outputId": "60a9b5b2-180a-4dc5-e054-a9f2a89ccd4a"
      },
      "source": [
        "search_rate.unstack()"
      ],
      "execution_count": 270,
      "outputs": [
        {
          "output_type": "execute_result",
          "data": {
            "text/html": [
              "<div>\n",
              "<style scoped>\n",
              "    .dataframe tbody tr th:only-of-type {\n",
              "        vertical-align: middle;\n",
              "    }\n",
              "\n",
              "    .dataframe tbody tr th {\n",
              "        vertical-align: top;\n",
              "    }\n",
              "\n",
              "    .dataframe thead th {\n",
              "        text-align: right;\n",
              "    }\n",
              "</style>\n",
              "<table border=\"1\" class=\"dataframe\">\n",
              "  <thead>\n",
              "    <tr style=\"text-align: right;\">\n",
              "      <th>driver_gender</th>\n",
              "      <th>F</th>\n",
              "      <th>M</th>\n",
              "    </tr>\n",
              "    <tr>\n",
              "      <th>violation</th>\n",
              "      <th></th>\n",
              "      <th></th>\n",
              "    </tr>\n",
              "  </thead>\n",
              "  <tbody>\n",
              "    <tr>\n",
              "      <th>Equipment</th>\n",
              "      <td>0.039984</td>\n",
              "      <td>0.071496</td>\n",
              "    </tr>\n",
              "    <tr>\n",
              "      <th>Moving violation</th>\n",
              "      <td>0.039257</td>\n",
              "      <td>0.061524</td>\n",
              "    </tr>\n",
              "    <tr>\n",
              "      <th>Other</th>\n",
              "      <td>0.041018</td>\n",
              "      <td>0.046191</td>\n",
              "    </tr>\n",
              "    <tr>\n",
              "      <th>Registration/plates</th>\n",
              "      <td>0.054924</td>\n",
              "      <td>0.108802</td>\n",
              "    </tr>\n",
              "    <tr>\n",
              "      <th>Seat belt</th>\n",
              "      <td>0.017301</td>\n",
              "      <td>0.035119</td>\n",
              "    </tr>\n",
              "    <tr>\n",
              "      <th>Speeding</th>\n",
              "      <td>0.008309</td>\n",
              "      <td>0.027885</td>\n",
              "    </tr>\n",
              "  </tbody>\n",
              "</table>\n",
              "</div>"
            ],
            "text/plain": [
              "driver_gender               F         M\n",
              "violation                              \n",
              "Equipment            0.039984  0.071496\n",
              "Moving violation     0.039257  0.061524\n",
              "Other                0.041018  0.046191\n",
              "Registration/plates  0.054924  0.108802\n",
              "Seat belt            0.017301  0.035119\n",
              "Speeding             0.008309  0.027885"
            ]
          },
          "metadata": {
            "tags": []
          },
          "execution_count": 270
        }
      ]
    },
    {
      "cell_type": "code",
      "metadata": {
        "colab": {
          "base_uri": "https://localhost:8080/"
        },
        "id": "Pzb-SpyTaPRw",
        "outputId": "36858e07-9cb3-4c6a-d551-7a5719f4f952"
      },
      "source": [
        "type(search_rate.unstack())"
      ],
      "execution_count": 271,
      "outputs": [
        {
          "output_type": "execute_result",
          "data": {
            "text/plain": [
              "pandas.core.frame.DataFrame"
            ]
          },
          "metadata": {
            "tags": []
          },
          "execution_count": 271
        }
      ]
    },
    {
      "cell_type": "markdown",
      "metadata": {
        "id": "epR2v98cZvCB"
      },
      "source": [
        "This is a useful technique any time you have a Series with a MultiIndex, since you're probably more comfortable manipulating a DataFrame. You might also think that there should be an easy way to create this DataFrame without using a groupby and an unstack."
      ]
    },
    {
      "cell_type": "markdown",
      "metadata": {
        "id": "wVY93dRAOgu5"
      },
      "source": [
        "#### Converting a multi-indexed Series to a DataFrame\n",
        "In fact, you can use a pivot table to produce the exact same DataFrame. \n",
        "* Violation is the index, \n",
        "* driver_gender is the columns, and \n",
        "* The mean of search_conducted is the values. \n",
        "\n",
        "Recall that mean() is the default aggregation function for a pivot table, but you can choose another function instead."
      ]
    },
    {
      "cell_type": "code",
      "metadata": {
        "colab": {
          "base_uri": "https://localhost:8080/",
          "height": 264
        },
        "id": "bkrZurEEOjly",
        "outputId": "bd122b80-6cfe-44bd-b986-81a29f816ec4"
      },
      "source": [
        "ri.pivot_table(index='violation', columns='driver_gender', values = 'search_conducted')"
      ],
      "execution_count": 272,
      "outputs": [
        {
          "output_type": "execute_result",
          "data": {
            "text/html": [
              "<div>\n",
              "<style scoped>\n",
              "    .dataframe tbody tr th:only-of-type {\n",
              "        vertical-align: middle;\n",
              "    }\n",
              "\n",
              "    .dataframe tbody tr th {\n",
              "        vertical-align: top;\n",
              "    }\n",
              "\n",
              "    .dataframe thead th {\n",
              "        text-align: right;\n",
              "    }\n",
              "</style>\n",
              "<table border=\"1\" class=\"dataframe\">\n",
              "  <thead>\n",
              "    <tr style=\"text-align: right;\">\n",
              "      <th>driver_gender</th>\n",
              "      <th>F</th>\n",
              "      <th>M</th>\n",
              "    </tr>\n",
              "    <tr>\n",
              "      <th>violation</th>\n",
              "      <th></th>\n",
              "      <th></th>\n",
              "    </tr>\n",
              "  </thead>\n",
              "  <tbody>\n",
              "    <tr>\n",
              "      <th>Equipment</th>\n",
              "      <td>0.039984</td>\n",
              "      <td>0.071496</td>\n",
              "    </tr>\n",
              "    <tr>\n",
              "      <th>Moving violation</th>\n",
              "      <td>0.039257</td>\n",
              "      <td>0.061524</td>\n",
              "    </tr>\n",
              "    <tr>\n",
              "      <th>Other</th>\n",
              "      <td>0.041018</td>\n",
              "      <td>0.046191</td>\n",
              "    </tr>\n",
              "    <tr>\n",
              "      <th>Registration/plates</th>\n",
              "      <td>0.054924</td>\n",
              "      <td>0.108802</td>\n",
              "    </tr>\n",
              "    <tr>\n",
              "      <th>Seat belt</th>\n",
              "      <td>0.017301</td>\n",
              "      <td>0.035119</td>\n",
              "    </tr>\n",
              "    <tr>\n",
              "      <th>Speeding</th>\n",
              "      <td>0.008309</td>\n",
              "      <td>0.027885</td>\n",
              "    </tr>\n",
              "  </tbody>\n",
              "</table>\n",
              "</div>"
            ],
            "text/plain": [
              "driver_gender               F         M\n",
              "violation                              \n",
              "Equipment            0.039984  0.071496\n",
              "Moving violation     0.039257  0.061524\n",
              "Other                0.041018  0.046191\n",
              "Registration/plates  0.054924  0.108802\n",
              "Seat belt            0.017301  0.035119\n",
              "Speeding             0.008309  0.027885"
            ]
          },
          "metadata": {
            "tags": []
          },
          "execution_count": 272
        }
      ]
    },
    {
      "cell_type": "code",
      "metadata": {
        "id": "20S7gqaGbF36"
      },
      "source": [
        ""
      ],
      "execution_count": null,
      "outputs": []
    }
  ]
}